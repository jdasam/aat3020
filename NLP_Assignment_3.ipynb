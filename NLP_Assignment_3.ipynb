{
 "cells": [
  {
   "attachments": {},
   "cell_type": "markdown",
   "id": "303113a3",
   "metadata": {},
   "source": [
    "# Assignment 3\n",
    "\n",
    "- In this assignment, you will\n",
    "    - 1) implement a Long Short-term Memory (LSTM)\n",
    "    - 2) and fine tune a Language Model\n",
    "- You have to submit your code for Problem 1 as ``Assingment3_{your_student_id}.py``\n",
    "- For the Problem 2, you have to submit a report in pdf and txt file of your training \n",
    "    - Explain why you chose the specific corpus\n",
    "    - Submit some of the interesting examples you made with the fine-tuned model"
   ]
  },
  {
   "cell_type": "code",
   "execution_count": 7,
   "id": "628d37a3",
   "metadata": {},
   "outputs": [],
   "source": [
    "import torch\n",
    "import torch.nn as nn \n",
    "import matplotlib.pyplot as plt\n"
   ]
  },
  {
   "cell_type": "code",
   "execution_count": null,
   "id": "2f388291",
   "metadata": {},
   "outputs": [],
   "source": [
    "# Download Assignment3.py \n",
    "!wget https://raw.githubusercontent.com/jdasam/aat3020/main/NLP_Assignment_3.py"
   ]
  },
  {
   "attachments": {},
   "cell_type": "markdown",
   "id": "9645907e",
   "metadata": {},
   "source": [
    "## Problem 1: Implement an LSTM cell (15 pts)\n",
    "- with only ``nn.Linear``, ``nn.Parameter``, ``torch.sigmoid``, and ``torch.tanh``\n",
    "- The forward propagation of LSTM cell can be represented as below\n",
    "    - $i_t = \\sigma_g(W_ix_t+U_ih_{t-1}+b_i)$\n",
    "    - $f_t = \\sigma_g(W_fx_t+U_fh_{t-1}+b_f) $\n",
    "    - $\\tilde{c}_t = \\sigma_c(W_cx_t+U_ch_{t-1}+b_c)$\n",
    "    - $o_t = \\sigma_g(W_ox_t+U_oh_{t-1}+b_o)$\n",
    "    - $c_t = f_t \\otimes c_{t-1} + i_t\\otimes \\tilde{c}_t$\n",
    "    - $h_t = o_t \\otimes \\sigma_c(c_t)$\n",
    "    - $\\sigma_g$: sigmoid function. use ``torch.sigmoid()`` or ``atensor.sigmoid()``\n",
    "    - $\\sigma_c$: hyperbolic tangent function. use ``torch.tanh()`` or ``atensor.tanh()``\n",
    "    - $\\otimes$ represents Hadamard product (element-wise product)\n",
    "        - It means that even though you are multiplying two matrices, you don't multiply as a \"matrix multiplication\" but as a simple multiplication between each element of two matrices in a same position\n",
    "        - This can be represetned as a simple multiplication like ``atensor * another_tensor`` in ``torch``\n",
    "- where the each variable can be explained as below:\n",
    "    - $x_t\\in\\mathbb{R}^d$: input vector to the LSTM unit\n",
    "    - $h_t\\in(-1,1)^h$: hidden state vector also known as output vector of the LSTM unit\n",
    "    - $c_t \\in \\mathbb{R}^h$: cell state vector\n",
    "    - $W\\in\\mathbb{R}^{h\\times d}, U\\in\\mathbb{R}^{h\\times h}$, and $b\\in\\mathbb{R}^h$: weight matrices and bias vector parameters which need to be learned during training\n",
    "    - $i_t\\in(0,1)^h$: input/update gate's activation vector. $h$ represents size of hidden states\n",
    "    - $f_t\\in(0,1)^h$: forget gate's activation vector\n",
    "    - $\\tilde{c}_t\\in(-1,1)^h$: cell input activation vector\n",
    "    - $o_t\\in(0,1)^h$: output gate's activation vector\n",
    "\n",
    "\n",
    "- You can implement LSTM with 8 ``nn.Linear`` modules, to strictly follow the equations above. But to easily compare your implementation with PyTorch's official LSTM implementation, I recommend you to implement it with only two ``nn.Linear`` modules with each of it has a ``bias=True``\n",
    "    - If you carefully look at the equation, you can find you only need one bias, but torch's official implementation uses two biases to match CuDNN compatibility\n",
    "\n",
    "- Hint:\n",
    "    - $Wx+b$ can be implemented by \n",
    "        - ``layer = nn.Linear(in_features=x.shape[-1], out_features=W.shape[0], bias=True)``\n",
    "        - ``out = layer(x)``\n",
    "    - ``bias_1 + bias_2`` can be regarded as a single bias ``bias_12=bias_1+bias2``\n",
    "        - So it is okay to use two ``nn.Linear`` modules with ``bias=True``\n",
    "        \n",
    "        "
   ]
  },
  {
   "cell_type": "code",
   "execution_count": null,
   "id": "f8b61c5d",
   "metadata": {
    "scrolled": true
   },
   "outputs": [],
   "source": [
    "class MyLSTM(nn.Module):\n",
    "  def __init__(self, input_size: int, hidden_size: int):\n",
    "    super().__init__()\n",
    "    '''\n",
    "    TODO: Define Weights and Bias of a single-layer, uni-directional LSTM\n",
    "    \n",
    "    Arguments\n",
    "      input_size (int): Num dimension of input x. It is represented as `d` in the equations in the explanation part\n",
    "      hidden_size (int): Num dimension of output h. It is represented as `h` in the equations in the explanation part\n",
    "    \n",
    "    Module Definition\n",
    "      self.weight_ih (nn.Linear): Linear layer that combines Weight matrix [W_i | W_f | W_c | W_o] and bias b\n",
    "      self.weight_hh (nn.Linear): Linear layer that combines Weight matrix [U_i | U_f | U_c | U_o] and bias b\n",
    "    \n",
    "    Implementation Condition: To compare your implementation with the torch's official implementation, please strictly follow the explanation above\n",
    "    '''\n",
    "    \n",
    "    self.weight_ih = nn.Linear(in_features=1, out_features=1, bias=True) # TODO: complete this layer by selecting proper in_features and out_features\n",
    "    self.weight_hh = nn.Linear(in_features=1, out_features=1, bias=True) # TODO: complete this layer by selecting proper in_features and out_features\n",
    "    self.hidden_size = hidden_size\n",
    "\n",
    "  def _cal_single_step(self, x_t:torch.Tensor, last_hidden:torch.Tensor, last_cell:torch.Tensor):\n",
    "    '''\n",
    "    Argument:\n",
    "      x_t : input of timestep t. Has a shape of [Num_Batch, Num_input_dim]\n",
    "      last_hidden: hidden state of timestep (t-1). Has a shape of [Num_Batch, Num_hidden_dim]\n",
    "      last_cell: cell state of timestep (t-1). Has a shape of [Num_batch, Num_hidden_dim]\n",
    "      \n",
    "    Output:\n",
    "      updated_hidden (torch.Tensor): hidden state of timestep t. Has a shape of [Num_Batch, Num_hidden_dim]\n",
    "      updated_cell (torch.Tensor): cell state of timestep t. Has a shape of [Num_Batch, Num_hidden_dim]\n",
    "      \n",
    "    TODO: Complete this function using the input arguments and self.weight_ih, self.weight_hh\n",
    "    \n",
    "    '''\n",
    "\n",
    "    \n",
    "    return updated_hidden, updated_cell\n",
    "  \n",
    "  def forward(self, x:torch.Tensor, hidden_and_cell_state:tuple=None):\n",
    "    '''\n",
    "    Argument:\n",
    "      x (torch.Tensor): Input sequence. Has a shape of [Num_Batch, Num_Timestep, Num_input_dim\n",
    "      hidden_and_cell_state (optional, tuple): Hidden state and Cell state of last timestep.\n",
    "      \n",
    "    Return:\n",
    "      output, (last_hidden, last_cell)\n",
    "      Be carefule that you have to return two variables, where the second variable is a tuple of two tensors.\n",
    "      \n",
    "      output (torch.Tensor): Output of LSTM that has a shape of [Batch_Size, Num_Time_Steps, Hidden_State_Size]\n",
    "                             It is the concatenation of output hidden states of every given time steps\n",
    "      last_hidden (torch.Tensor): The hidden state of LSTM after calculating entire time steps. \n",
    "      last_cell (torch.Tensor): LSTM has two types of hidden states, and one is called \"cell state\". \n",
    "      \n",
    "    \n",
    "    TODO: Implement this using a for loop and `self._cal_single_step`.\n",
    "    '''\n",
    "    \n",
    "    # Leave the code below as it is\n",
    "    if hidden_and_cell_state is not None and isinstance(hidden_and_cell_state, tuple):\n",
    "      last_hidden = hidden_and_cell_state[0]\n",
    "      last_cell = hidden_and_cell_state[1]\n",
    "    else:\n",
    "      last_hidden = torch.zeros([x.shape[0], self.hidden_size])\n",
    "      last_cell = torch.zeros([x.shape[0], self.hidden_size])\n",
    "    \n",
    "    '''\n",
    "    Write your code from here\n",
    "    '''\n",
    "    \n",
    "    return output, (last_hidden, last_cell)\n",
    "\n",
    "  \n",
    "input_size = 16\n",
    "hidden_size = 32\n",
    "\n",
    "model = MyLSTM(input_size, hidden_size)"
   ]
  },
  {
   "cell_type": "code",
   "execution_count": null,
   "id": "540d8154",
   "metadata": {},
   "outputs": [],
   "source": [
    "'''\n",
    "Simple test case \n",
    "'''\n",
    "\n",
    "input_size = 16\n",
    "hidden_size = 32\n",
    "\n",
    "model = MyLSTM(input_size, hidden_size)\n",
    "\n",
    "dummy_batch_size = 8\n",
    "dummy_time_steps = 20\n",
    "dummy_input = torch.randn([dummy_batch_size, dummy_time_steps, input_size])\n",
    "\n",
    "output, (last_hidden_state, last_cell_state) = model(dummy_input)\n",
    "\n",
    "assert output.shape[0] == dummy_batch_size, \"0th dimension of output has to be the batch size\"\n",
    "assert output.shape[1] == dummy_time_steps, \"1st dimension of output has to be the time steps\"\n",
    "assert output.shape[2] == hidden_size, \"2nd dimension of output has to be the hidden_size\"\n",
    "\n"
   ]
  },
  {
   "cell_type": "code",
   "execution_count": null,
   "id": "6598b925",
   "metadata": {},
   "outputs": [],
   "source": [
    "'''\n",
    "Your LSTM model has to return same output for the script below \n",
    "'''\n",
    "\n",
    "# Without for loop\n",
    "total_output, (last_hidden_state, last_cell_state) = model(dummy_input)\n",
    "\n",
    "hidden_and_cell_state = (torch.zeros([dummy_batch_size, hidden_size]), torch.zeros([dummy_batch_size, hidden_size]))\n",
    "for i in range(dummy_time_steps):\n",
    "  time_step_output, hidden_and_cell_state = model(dummy_input[:,i:i+1], hidden_and_cell_state)\n",
    "  \n",
    "assert (total_output[:,-1:] == time_step_output).all(), 'The LSTM output has to be equal for sliced input using for-loop'"
   ]
  },
  {
   "cell_type": "code",
   "execution_count": null,
   "id": "ebf4cd83",
   "metadata": {},
   "outputs": [],
   "source": [
    "'''\n",
    "The script below tests whether your implementation returns same output with PyTorch's official LSTM implementation\n",
    "\n",
    "To pass this test, you have to make sure that you are using the weight of `self.weight_hh` and `self.weight_ih` as the same order\n",
    "with the official PyTorch LSTM\n",
    "\n",
    "Be careful on the order of W_i, W_f, W_c, W_o in the combined weight matrix, when you declare your LSTM's forward propagation!\n",
    "\n",
    "self.weight_ih (nn.Linear): Linear layer that combines Weight matrix [W_i | W_f | W_c | W_o] and bias b\n",
    "self.weight_hh (nn.Linear): Linear layer that combines Weight matrix [U_i | U_f | U_c | U_o] and bias b\n",
    "'''\n",
    "\n",
    "\n",
    "lstm_pre_impl = nn.LSTM(input_size, hidden_size, batch_first=True)\n",
    "\n",
    "lstm_pre_impl.weight_hh_l0.data = model.weight_hh.weight.data\n",
    "lstm_pre_impl.bias_hh_l0.data = model.weight_hh.bias.data\n",
    "\n",
    "lstm_pre_impl.weight_ih_l0.data = model.weight_ih.weight.data\n",
    "lstm_pre_impl.bias_ih_l0.data = model.weight_ih.bias.data\n",
    "\n",
    "\n",
    "output, (last_hidden_state, last_cell_state) = model(dummy_input)\n",
    "output_compare, (last_hidden_state_compare, last_cell_state_compare) = lstm_pre_impl(dummy_input)\n",
    "\n",
    "assert torch.allclose(output, output_compare, atol=1e-6), \"The output of LSTM is different\"\n",
    "assert torch.allclose(last_hidden_state, last_hidden_state_compare, atol=1e-6), \"The last hidden state of LSTM is different\"\n",
    "assert torch.allclose(last_cell_state, last_cell_state_compare, atol=1e-6), \"The last cell state of LSTM is different\"\n",
    "\n",
    "print(\"Test passed! Your LSTM implementation returns the exactly same result for PyTorch's official implementation of single-layer uni-directiona LSTM\")"
   ]
  },
  {
   "attachments": {},
   "cell_type": "markdown",
   "id": "1c621952",
   "metadata": {},
   "source": [
    "### Copy and Paste your code to Assignment3.py\n",
    "- Run the code below to check if your implementation is correct"
   ]
  },
  {
   "cell_type": "code",
   "execution_count": null,
   "id": "97a1a13e",
   "metadata": {},
   "outputs": [],
   "source": [
    "!python3 Assignment3.py"
   ]
  },
  {
   "attachments": {},
   "cell_type": "markdown",
   "id": "b53bfcc6",
   "metadata": {},
   "source": [
    "## Problem 2: Fine tune Language model and generate texts (25 pts)\n",
    "- In this problem, we will use ``transformers`` from Hugging Face\n",
    "    - You can download a tokenizer and a pre-trained model from Hugging Face\n",
    "    "
   ]
  },
  {
   "cell_type": "code",
   "execution_count": 1,
   "id": "179fee55",
   "metadata": {},
   "outputs": [
    {
     "name": "stdout",
     "output_type": "stream",
     "text": [
      "/usr/bin/pip:6: DeprecationWarning: pkg_resources is deprecated as an API. See https://setuptools.pypa.io/en/latest/pkg_resources.html\n",
      "  from pkg_resources import load_entry_point\n",
      "Collecting transformers==4.18.0\n",
      "  Downloading transformers-4.18.0-py3-none-any.whl (4.0 MB)\n",
      "\u001b[K     |████████████████████████████████| 4.0 MB 7.7 MB/s eta 0:00:01\n",
      "\u001b[?25hRequirement already satisfied: filelock in /home/teo/.local/lib/python3.8/site-packages (from transformers==4.18.0) (3.13.1)\n",
      "Requirement already satisfied: huggingface-hub<1.0,>=0.1.0 in /home/teo/.local/lib/python3.8/site-packages (from transformers==4.18.0) (0.8.1)\n",
      "Requirement already satisfied: numpy>=1.17 in /usr/local/lib/python3.8/dist-packages (from transformers==4.18.0) (1.22.1)\n",
      "Requirement already satisfied: packaging>=20.0 in /usr/local/lib/python3.8/dist-packages (from transformers==4.18.0) (21.3)\n",
      "Requirement already satisfied: pyyaml>=5.1 in /usr/local/lib/python3.8/dist-packages (from transformers==4.18.0) (6.0)\n",
      "Requirement already satisfied: regex!=2019.12.17 in /home/teo/.local/lib/python3.8/site-packages (from transformers==4.18.0) (2022.7.25)\n",
      "Requirement already satisfied: requests in /usr/lib/python3/dist-packages (from transformers==4.18.0) (2.22.0)\n",
      "Collecting sacremoses\n",
      "  Downloading sacremoses-0.1.1-py3-none-any.whl (897 kB)\n",
      "\u001b[K     |████████████████████████████████| 897 kB 13.8 MB/s eta 0:00:01\n",
      "\u001b[?25hRequirement already satisfied: tokenizers!=0.11.3,<0.13,>=0.11.1 in /home/teo/.local/lib/python3.8/site-packages (from transformers==4.18.0) (0.12.1)\n",
      "Requirement already satisfied: tqdm>=4.27 in /usr/local/lib/python3.8/dist-packages (from transformers==4.18.0) (4.62.3)\n",
      "Requirement already satisfied: typing-extensions>=3.7.4.3 in /usr/local/lib/python3.8/dist-packages (from huggingface-hub<1.0,>=0.1.0->transformers==4.18.0) (4.0.1)\n",
      "Requirement already satisfied: pyparsing!=3.0.5,>=2.0.2 in /usr/local/lib/python3.8/dist-packages (from packaging>=20.0->transformers==4.18.0) (3.0.6)\n",
      "Requirement already satisfied: click in /usr/local/lib/python3.8/dist-packages (from sacremoses->transformers==4.18.0) (8.0.3)\n",
      "Requirement already satisfied: joblib in /usr/local/lib/python3.8/dist-packages (from sacremoses->transformers==4.18.0) (1.1.0)\n",
      "Installing collected packages: sacremoses, transformers\n",
      "Successfully installed sacremoses-0.1.1 transformers-4.18.0\n"
     ]
    }
   ],
   "source": [
    "!pip install transformers==4.18.0"
   ]
  },
  {
   "cell_type": "code",
   "execution_count": 2,
   "id": "73c82f6f",
   "metadata": {},
   "outputs": [
    {
     "data": {
      "application/vnd.jupyter.widget-view+json": {
       "model_id": "11f6c3b5136d4be0a86e7c0e15dc17d1",
       "version_major": 2,
       "version_minor": 0
      },
      "text/plain": [
       "Downloading:   0%|          | 0.00/26.0 [00:00<?, ?B/s]"
      ]
     },
     "metadata": {},
     "output_type": "display_data"
    }
   ],
   "source": [
    "'''\n",
    "This will take some minutes to download the model\n",
    "'''\n",
    "\n",
    "from transformers import AutoTokenizer, AutoModelForCausalLM\n",
    "\n",
    "tokenizer = AutoTokenizer.from_pretrained(\"distilgpt2\")\n",
    "model = AutoModelForCausalLM.from_pretrained(\"distilgpt2\")"
   ]
  },
  {
   "attachments": {},
   "cell_type": "markdown",
   "id": "93806257",
   "metadata": {},
   "source": [
    "## Problem 2-1: Fine-tune the pre-trained Model with your text\n",
    "- The model you just downloaded is pre-trained with huge corpus using GPUs heavily\n",
    "- You can exploit this model for your purpose by fine-tuning the model with a small dataset\n",
    "\n",
    "- **You have to prepare your own `txt` file to use as as a training corpus**\n",
    "    - In your report, describe why you chose this text as a training file\n",
    "        - What did you expect for a model that is fine-tuned with this specific text file?\n",
    "\n",
    "- ``TextSet`` helps to batchify a given corpus of `txt` file\n",
    "    - To fit a corpus into ``TextSet``, you have to put text into a single txt file\n",
    "    - Every line breeak will be replaced with a blank space"
   ]
  },
  {
   "cell_type": "code",
   "execution_count": null,
   "id": "b86fcf22",
   "metadata": {},
   "outputs": [],
   "source": [
    "def read_txt(txt_path):\n",
    "  with open(txt_path, 'r') as f:\n",
    "    txt_string = f.readlines()\n",
    "  return txt_string\n",
    "\n",
    "class TextSet:\n",
    "  def __init__(self, txt_path, tokenizer, batch_len=256):\n",
    "    corpus_string = read_txt(txt_path)\n",
    "    self.text_in_a_string = \"\".join(corpus_string).replace('\\n', ' ')\n",
    "    \n",
    "    self.tokenizer = tokenizer\n",
    "    self.tokenized_corpus = self.tokenizer(self.text_in_a_string)['input_ids']\n",
    "    self.batch_len = batch_len\n",
    "    \n",
    "    self.tokenized_corpus = self.tokenized_corpus[:len(self.tokenized_corpus)//self.batch_len*self.batch_len]\n",
    "    self.corpus_tensor = self._batchify_text()\n",
    "    \n",
    "  def _batchify_text(self):\n",
    "    entire_corpus_tensor = torch.LongTensor(self.tokenized_corpus)\n",
    "    return entire_corpus_tensor.reshape(-1, self.batch_len)\n",
    "    \n",
    "  def __len__(self):\n",
    "    return len(self.corpus_tensor)\n",
    "\n",
    "  def __getitem__(self, idx):\n",
    "    return self.corpus_tensor[idx]\n",
    "\n",
    "'''\n",
    "TODO: select your own txt path\n",
    "'''\n",
    "\n",
    "your_txt_path = \"test.txt\" # select your own txt path\n",
    "train_set = TextSet(your_txt_path, tokenizer, batch_len=256)\n",
    "\n",
    "# The code below will show how the tokenizer convert and reconvert the given text\n",
    "train_set[0], train_set.tokenizer.decode(train_set[0])"
   ]
  },
  {
   "cell_type": "code",
   "execution_count": 10,
   "id": "df7faf00",
   "metadata": {},
   "outputs": [],
   "source": [
    "'''\n",
    "define train_loader\n",
    "'''\n",
    "\n",
    "from torch.utils.data import DataLoader\n",
    "train_set = TextSet(your_txt_path, tokenizer, batch_len=256)\n",
    "\n",
    "train_loader = DataLoader(train_set, batch_size=32, shuffle=True)\n"
   ]
  },
  {
   "cell_type": "markdown",
   "id": "c90a1963",
   "metadata": {},
   "source": [
    "- In your report, briefly explain how this code trains a language model"
   ]
  },
  {
   "cell_type": "code",
   "execution_count": 11,
   "id": "75a72776",
   "metadata": {},
   "outputs": [
    {
     "name": "stderr",
     "output_type": "stream",
     "text": [
      "100%|██████████| 10/10 [01:12<00:00,  7.24s/it]\n"
     ]
    },
    {
     "data": {
      "text/plain": [
       "[<matplotlib.lines.Line2D at 0x7f00463a3a90>]"
      ]
     },
     "execution_count": 11,
     "metadata": {},
     "output_type": "execute_result"
    },
    {
     "data": {
      "image/png": "[encoded data removed]",
      "text/plain": [
       "<Figure size 432x288 with 1 Axes>"
      ]
     },
     "metadata": {
      "needs_background": "light"
     },
     "output_type": "display_data"
    }
   ],
   "source": [
    "from tqdm import tqdm\n",
    "\n",
    "'''\n",
    "Use CUDA (NVIDIA GPU) to train your model\n",
    "'''\n",
    "\n",
    "optimizer = torch.optim.Adam(model.parameters(), lr=1e-4)\n",
    "loss_record = []\n",
    "model.cuda()\n",
    "num_epochs = 10\n",
    "\n",
    "'''\n",
    "In your report, briefly explain how this training loop trains a language model \n",
    "'''\n",
    "for epoch in tqdm(range(num_epochs)):\n",
    "  for batch in train_loader:\n",
    "    out = model(batch.cuda()).logits\n",
    "    out = torch.log_softmax(out, dim=-1)\n",
    "    correct_next_word = batch[:, 1:]\n",
    "    out_flatten = out[:, :-1, :].reshape(-1, out.shape[-1])\n",
    "    correct_next_word = correct_next_word.reshape(-1)\n",
    "\n",
    "    log_prob_of_correct_word = out_flatten[torch.arange(len(correct_next_word)), correct_next_word]\n",
    "\n",
    "    loss = -log_prob_of_correct_word.mean()\n",
    "    loss.backward()\n",
    "\n",
    "    optimizer.step()\n",
    "    optimizer.zero_grad()\n",
    "    loss_record.append(loss.item())\n",
    "    \n",
    "plt.plot(loss_record)"
   ]
  },
  {
   "attachments": {},
   "cell_type": "markdown",
   "id": "7389dcd4",
   "metadata": {},
   "source": [
    "### Problem 2-2: Generate Text with your fine-tuned Model\n",
    "- Here, you have to generate text with the fine-tuned model\n",
    "- You have to provide interesting prompt, that is given as a precedding sequence of token\n",
    "- In your report, introduce interesting examples you have generated\n",
    "    - Why those were interesting\n"
   ]
  },
  {
   "cell_type": "code",
   "execution_count": 12,
   "id": "84d8c1dc",
   "metadata": {},
   "outputs": [],
   "source": [
    "'''\n",
    "Declare generator using HuggingFace library\n",
    "'''\n",
    "from transformers import pipeline, set_seed\n",
    "generator = pipeline('text-generation', model=model, tokenizer=tokenizer, device=0)"
   ]
  },
  {
   "cell_type": "code",
   "execution_count": 14,
   "id": "a43101c8",
   "metadata": {
    "scrolled": true
   },
   "outputs": [
    {
     "name": "stderr",
     "output_type": "stream",
     "text": [
      "Setting `pad_token_id` to `eos_token_id`:50256 for open-end generation.\n"
     ]
    },
    {
     "data": {
      "text/plain": [
       "[{'generated_text': \"Your father, and perhaps he too,' said Gandalf, 'if you look who you are. When you turn to Bilbo, you shall face many temptations, if he comes. And be careful of what you say.'      Bilbo kept Frodo safe for several days, and they remained in Bree-land. Nonetheless, he was a scoundrel. He began to tell oddballs, usually at once, although he now tended to Samwise (often by means\"},\n",
       " {'generated_text': \"Your father was dead. I would help you?'      'Pity, that's all he said.' Then he got up and walked away.      'Who are you?' he asked. 'Old Man Bill Ferny,' answered Merry. 'My cousin Aragorn Ferny, you know best. I used to ask him many questions for years. But when he came back he used to send me off. And that was _I am Baggins.'\"},\n",
       " {'generated_text': \"Your father's only concern, that is is simply the money.' He stopped, as if for good he was not sure. He was not angry.      'And tell me, Gandalf, how old you are?' he asked slowly.      'That is old Bilbo, when he was an old man,' said Gandalf, sitting up and breathing hard, unable to speak. `And how do you know you are the heir of Bilbo's inheritance\"},\n",
       " {'generated_text': \"Your father!' cried Galadriel suddenly lifting up his brows. 'Where can I get my stuff back?'      `Here in the Westfarthing you are our only guest,' said Frodo. `There in the Shire, Master Bilbo, you have been given by Bilbo from your very first visit to the Shire. We shall get it � for there is a heavy burden. But you will also need all the baggage that you bear � all the baggage\"},\n",
       " {'generated_text': \"Your father had often used the name Gandalf after his young life, and now he is leaving the Shire. Though he is content to leave it to the One,' he said, `I desire to leave it entirely._      `Whatever it is that is in Gildor's possession,' he added, `such as he permitted in his own land. The realm of Orthanc is under his rule. Elrond only has it been for this country long, for which\"}]"
      ]
     },
     "execution_count": 14,
     "metadata": {},
     "output_type": "execute_result"
    }
   ],
   "source": [
    "'''\n",
    "Generate sentences using your own prompt and your max legnth\n",
    "\n",
    "'''\n",
    "\n",
    "your_prompt = \"Your father\" # caution: Do not add blank space at the end of the prompt\n",
    "your_max_length = 100\n",
    "your_num_sequences = 5\n",
    "\n",
    "generator(your_prompt, max_length=your_max_length, num_return_sequences=your_num_sequences)"
   ]
  }
 ],
 "metadata": {
  "kernelspec": {
   "display_name": "Python 3 (ipykernel)",
   "language": "python",
   "name": "python3"
  },
  "language_info": {
   "codemirror_mode": {
    "name": "ipython",
    "version": 3
   },
   "file_extension": ".py",
   "mimetype": "text/x-python",
   "name": "python",
   "nbconvert_exporter": "python",
   "pygments_lexer": "ipython3",
   "version": "3.8.10"
  }
 },
 "nbformat": 4,
 "nbformat_minor": 5
}
