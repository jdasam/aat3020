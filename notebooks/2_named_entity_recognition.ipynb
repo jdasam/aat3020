{
  "cells": [
    {
      "cell_type": "markdown",
      "metadata": {
        "id": "view-in-github",
        "colab_type": "text"
      },
      "source": [
        "<a href=\"https://colab.research.google.com/github/jdasam/aat3020/blob/main/notebooks/2_named_entity_recognition.ipynb\" target=\"_parent\"><img src=\"https://colab.research.google.com/assets/colab-badge.svg\" alt=\"Open In Colab\"/></a>"
      ]
    },
    {
      "cell_type": "markdown",
      "metadata": {
        "id": "45a2da87"
      },
      "source": [
        "# Named Entity Recognition\n",
        "- For a given word and its context window, estimate whether the given word is location or not"
      ]
    },
    {
      "cell_type": "markdown",
      "metadata": {
        "id": "11619f5d"
      },
      "source": [
        "# 1. Download dataset\n",
        "- CoNLL2003"
      ]
    },
    {
      "cell_type": "code",
      "execution_count": 1,
      "metadata": {
        "colab": {
          "base_uri": "https://localhost:8080/"
        },
        "id": "10a4faa3",
        "outputId": "589a920a-654c-4ee3-fa18-9a86b47e4889"
      },
      "outputs": [
        {
          "output_type": "stream",
          "name": "stdout",
          "text": [
            "--2024-04-04 06:00:58--  https://data.deepai.org/conll2003.zip\n",
            "Resolving data.deepai.org (data.deepai.org)... 169.150.236.99, 2400:52e0:1a00::1029:1\n",
            "Connecting to data.deepai.org (data.deepai.org)|169.150.236.99|:443... connected.\n",
            "HTTP request sent, awaiting response... 200 OK\n",
            "Length: 982975 (960K) [application/zip]\n",
            "Saving to: ‘conll2003.zip’\n",
            "\n",
            "conll2003.zip       100%[===================>] 959.94K  --.-KB/s    in 0.1s    \n",
            "\n",
            "2024-04-04 06:00:58 (7.32 MB/s) - ‘conll2003.zip’ saved [982975/982975]\n",
            "\n",
            "Archive:  conll2003.zip\n",
            "  inflating: metadata                \n",
            "  inflating: test.txt                \n",
            "  inflating: train.txt               \n",
            "  inflating: valid.txt               \n"
          ]
        }
      ],
      "source": [
        "!wget https://data.deepai.org/conll2003.zip # Download dataset\n",
        "!unzip conll2003.zip # Unzip dataset zip"
      ]
    },
    {
      "cell_type": "markdown",
      "metadata": {
        "id": "7643dde5"
      },
      "source": [
        "## 2. Preprocess Dataset"
      ]
    },
    {
      "cell_type": "code",
      "execution_count": 2,
      "metadata": {
        "colab": {
          "base_uri": "https://localhost:8080/"
        },
        "id": "d31874b2",
        "outputId": "982ac405-c72a-4e50-bc85-0cc7c92eed19"
      },
      "outputs": [
        {
          "output_type": "execute_result",
          "data": {
            "text/plain": [
              "['-DOCSTART- -X- -X- O',\n",
              " '',\n",
              " 'EU NNP B-NP B-ORG',\n",
              " 'rejects VBZ B-VP O',\n",
              " 'German JJ B-NP B-MISC',\n",
              " 'call NN I-NP O',\n",
              " 'to TO B-VP O',\n",
              " 'boycott VB I-VP O',\n",
              " 'British JJ B-NP B-MISC',\n",
              " 'lamb NN I-NP O',\n",
              " '. . O O',\n",
              " '',\n",
              " 'Peter NNP B-NP B-PER',\n",
              " 'Blackburn NNP I-NP I-PER',\n",
              " '',\n",
              " 'BRUSSELS NNP B-NP B-LOC',\n",
              " '1996-08-22 CD I-NP O',\n",
              " '',\n",
              " 'The DT B-NP O',\n",
              " 'European NNP I-NP B-ORG',\n",
              " 'Commission NNP I-NP I-ORG',\n",
              " 'said VBD B-VP O',\n",
              " 'on IN B-PP O',\n",
              " 'Thursday NNP B-NP O',\n",
              " 'it PRP B-NP O',\n",
              " 'disagreed VBD B-VP O',\n",
              " 'with IN B-PP O',\n",
              " 'German JJ B-NP B-MISC',\n",
              " 'advice NN I-NP O',\n",
              " 'to TO B-PP O',\n",
              " 'consumers NNS B-NP O',\n",
              " 'to TO B-VP O',\n",
              " 'shun VB I-VP O',\n",
              " 'British JJ B-NP B-MISC',\n",
              " 'lamb NN I-NP O',\n",
              " 'until IN B-SBAR O',\n",
              " 'scientists NNS B-NP O',\n",
              " 'determine VBP B-VP O',\n",
              " 'whether IN B-SBAR O',\n",
              " 'mad JJ B-NP O',\n",
              " 'cow NN I-NP O',\n",
              " 'disease NN I-NP O',\n",
              " 'can MD B-VP O',\n",
              " 'be VB I-VP O',\n",
              " 'transmitted VBN I-VP O',\n",
              " 'to TO B-PP O',\n",
              " 'sheep NN B-NP O',\n",
              " '. . O O',\n",
              " '',\n",
              " 'Germany NNP B-NP B-LOC',\n",
              " \"'s POS B-NP O\",\n",
              " 'representative NN I-NP O',\n",
              " 'to TO B-PP O',\n",
              " 'the DT B-NP O',\n",
              " 'European NNP I-NP B-ORG',\n",
              " 'Union NNP I-NP I-ORG',\n",
              " \"'s POS B-NP O\",\n",
              " 'veterinary JJ I-NP O',\n",
              " 'committee NN I-NP O',\n",
              " 'Werner NNP I-NP B-PER',\n",
              " 'Zwingmann NNP I-NP I-PER',\n",
              " 'said VBD B-VP O',\n",
              " 'on IN B-PP O',\n",
              " 'Wednesday NNP B-NP O',\n",
              " 'consumers NNS I-NP O',\n",
              " 'should MD B-VP O',\n",
              " 'buy VB I-VP O',\n",
              " 'sheepmeat NN B-NP O',\n",
              " 'from IN B-PP O',\n",
              " 'countries NNS B-NP O']"
            ]
          },
          "metadata": {},
          "execution_count": 2
        }
      ],
      "source": [
        "with open(\"train.txt\") as f:\n",
        "  string = ''.join(f.readlines())\n",
        "dataset = string.split('\\n')\n",
        "\n",
        "dataset[:70]"
      ]
    },
    {
      "cell_type": "code",
      "execution_count": 3,
      "metadata": {
        "colab": {
          "base_uri": "https://localhost:8080/"
        },
        "id": "49e7f34b",
        "outputId": "4d311279-e498-4b36-94d2-ec2934e5a8d5",
        "scrolled": true
      },
      "outputs": [
        {
          "output_type": "execute_result",
          "data": {
            "text/plain": [
              "[['-DOCSTART- -X- -X- O'],\n",
              " ['EU NNP B-NP B-ORG',\n",
              "  'rejects VBZ B-VP O',\n",
              "  'German JJ B-NP B-MISC',\n",
              "  'call NN I-NP O',\n",
              "  'to TO B-VP O',\n",
              "  'boycott VB I-VP O',\n",
              "  'British JJ B-NP B-MISC',\n",
              "  'lamb NN I-NP O',\n",
              "  '. . O O'],\n",
              " ['Peter NNP B-NP B-PER', 'Blackburn NNP I-NP I-PER'],\n",
              " ['BRUSSELS NNP B-NP B-LOC', '1996-08-22 CD I-NP O'],\n",
              " ['The DT B-NP O',\n",
              "  'European NNP I-NP B-ORG',\n",
              "  'Commission NNP I-NP I-ORG',\n",
              "  'said VBD B-VP O',\n",
              "  'on IN B-PP O',\n",
              "  'Thursday NNP B-NP O',\n",
              "  'it PRP B-NP O',\n",
              "  'disagreed VBD B-VP O',\n",
              "  'with IN B-PP O',\n",
              "  'German JJ B-NP B-MISC',\n",
              "  'advice NN I-NP O',\n",
              "  'to TO B-PP O',\n",
              "  'consumers NNS B-NP O',\n",
              "  'to TO B-VP O',\n",
              "  'shun VB I-VP O',\n",
              "  'British JJ B-NP B-MISC',\n",
              "  'lamb NN I-NP O',\n",
              "  'until IN B-SBAR O',\n",
              "  'scientists NNS B-NP O',\n",
              "  'determine VBP B-VP O',\n",
              "  'whether IN B-SBAR O',\n",
              "  'mad JJ B-NP O',\n",
              "  'cow NN I-NP O',\n",
              "  'disease NN I-NP O',\n",
              "  'can MD B-VP O',\n",
              "  'be VB I-VP O',\n",
              "  'transmitted VBN I-VP O',\n",
              "  'to TO B-PP O',\n",
              "  'sheep NN B-NP O',\n",
              "  '. . O O']]"
            ]
          },
          "metadata": {},
          "execution_count": 3
        }
      ],
      "source": [
        "from itertools import groupby\n",
        "\n",
        "dataset_in_sentence = [list(group) for k, group in groupby(dataset, lambda x: x == \"\") if not k]\n",
        "dataset_in_sentence[:5]"
      ]
    },
    {
      "cell_type": "code",
      "execution_count": 4,
      "metadata": {
        "colab": {
          "base_uri": "https://localhost:8080/"
        },
        "id": "65c3dfa8",
        "outputId": "72788b27-5cf4-463f-ec7d-b9f3cbab5f3f"
      },
      "outputs": [
        {
          "output_type": "execute_result",
          "data": {
            "text/plain": [
              "10625"
            ]
          },
          "metadata": {},
          "execution_count": 4
        }
      ],
      "source": [
        "# [len(sentence) for sentence in dataset_in_sentence]\n",
        "filtered_dataset = [sentence for sentence in dataset_in_sentence if len(sentence) > 5]\n",
        "len(filtered_dataset)"
      ]
    },
    {
      "cell_type": "code",
      "source": [
        "filtered_dataset[1000]"
      ],
      "metadata": {
        "colab": {
          "base_uri": "https://localhost:8080/"
        },
        "id": "byACWZiOjr3l",
        "outputId": "1c7d4808-8ab0-4036-c06c-b699047de6a3"
      },
      "execution_count": 5,
      "outputs": [
        {
          "output_type": "execute_result",
          "data": {
            "text/plain": [
              "['\" \" O O',\n",
              " 'I PRP B-NP O',\n",
              " 'think VBP B-VP O',\n",
              " 'this DT B-NP O',\n",
              " 'is VBZ B-VP O',\n",
              " 'a DT B-NP O',\n",
              " 'bad JJ I-NP O',\n",
              " 'beginning NN I-NP O',\n",
              " '. . O O']"
            ]
          },
          "metadata": {},
          "execution_count": 5
        }
      ]
    },
    {
      "cell_type": "code",
      "execution_count": 6,
      "metadata": {
        "colab": {
          "base_uri": "https://localhost:8080/"
        },
        "id": "a1a1714b",
        "outputId": "505ca506-0b48-41f8-fe04-d5661d1c1a99"
      },
      "outputs": [
        {
          "output_type": "stream",
          "name": "stdout",
          "text": [
            "word is EU NNP B-NP B-ORG\n",
            "splitted_word is ['EU', 'NNP', 'B-NP', 'B-ORG']\n",
            "EU B-ORG\n",
            "is organization: True\n",
            "['<pad>', '<pad>', 'EU', 'rejects', 'German']\n",
            "word is rejects VBZ B-VP O\n",
            "splitted_word is ['rejects', 'VBZ', 'B-VP', 'O']\n",
            "rejects O\n",
            "is organization: False\n",
            "['<pad>', 'EU', 'rejects', 'German', 'call']\n",
            "word is German JJ B-NP B-MISC\n",
            "splitted_word is ['German', 'JJ', 'B-NP', 'B-MISC']\n",
            "German B-MISC\n",
            "is organization: False\n",
            "['EU', 'rejects', 'German', 'call', 'to']\n",
            "word is call NN I-NP O\n",
            "splitted_word is ['call', 'NN', 'I-NP', 'O']\n",
            "call O\n",
            "is organization: False\n",
            "['rejects', 'German', 'call', 'to', 'boycott']\n",
            "word is to TO B-VP O\n",
            "splitted_word is ['to', 'TO', 'B-VP', 'O']\n",
            "to O\n",
            "is organization: False\n",
            "['German', 'call', 'to', 'boycott', 'British']\n",
            "word is boycott VB I-VP O\n",
            "splitted_word is ['boycott', 'VB', 'I-VP', 'O']\n",
            "boycott O\n",
            "is organization: False\n",
            "['call', 'to', 'boycott', 'British', 'lamb']\n",
            "word is British JJ B-NP B-MISC\n",
            "splitted_word is ['British', 'JJ', 'B-NP', 'B-MISC']\n",
            "British B-MISC\n",
            "is organization: False\n",
            "['to', 'boycott', 'British', 'lamb', '.']\n",
            "word is lamb NN I-NP O\n",
            "splitted_word is ['lamb', 'NN', 'I-NP', 'O']\n",
            "lamb O\n",
            "is organization: False\n",
            "['boycott', 'British', 'lamb', '.', '<pad>']\n",
            "word is . . O O\n",
            "splitted_word is ['.', '.', 'O', 'O']\n",
            ". O\n",
            "is organization: False\n",
            "['British', 'lamb', '.', '<pad>', '<pad>']\n"
          ]
        }
      ],
      "source": [
        "window_len = 2\n",
        "sentence = filtered_dataset[0]\n",
        "\n",
        "for i, word in enumerate(sentence):\n",
        "  print(f'word is {word}')\n",
        "  splitted_word = word.split(' ')\n",
        "  print(f'splitted_word is {splitted_word}')\n",
        "  center_word = splitted_word[0]\n",
        "  label = splitted_word[-1]\n",
        "  print(center_word, label)\n",
        "  is_organization = label in ['B-ORG', 'I-ORG']\n",
        "  print(f\"is organization: {is_organization}\")\n",
        "\n",
        "  # concatenating with neighboring words\n",
        "\n",
        "  # words in the left\n",
        "  prev_index = max(i - window_len, 0) # clipping minimum to zero\n",
        "  prev_words = sentence[prev_index:i]\n",
        "  prev_words = [word_str.split(' ')[0] for word_str in prev_words] # collect the main word\n",
        "\n",
        "  # print(prev_words)\n",
        "\n",
        "  next_index = i + window_len + 1\n",
        "  next_words = sentence[i+1:next_index]\n",
        "  # next_words = [sentence[next_index] ]\n",
        "  next_words = [word_str.split(' ')[0] for word_str in next_words]\n",
        "\n",
        "  # We have to add padding, if number of prev words or next words are shorter than expected\n",
        "  if len(prev_words) != window_len:\n",
        "    prev_words = ['<pad>'] * (window_len - len(prev_words)) + prev_words\n",
        "\n",
        "  if len(next_words) != window_len:\n",
        "    next_words = next_words + ['<pad>'] * (window_len - len(next_words))\n",
        "\n",
        "  concatenated_words = prev_words + [center_word] + next_words\n",
        "  print(concatenated_words)"
      ]
    },
    {
      "cell_type": "code",
      "source": [
        "def make_window_words_and_label_from_sentence(sentence):\n",
        "  total_output = []\n",
        "  for i, word in enumerate(sentence):\n",
        "    splitted_word = word.split(' ')\n",
        "    center_word = splitted_word[0]\n",
        "    label = splitted_word[-1]\n",
        "    is_organization = label in ['B-ORG', 'I-ORG']\n",
        "\n",
        "    # concatenating with neighboring words\n",
        "\n",
        "    # words in the left\n",
        "    prev_index = max(i - window_len, 0) # clipping minimum to zero\n",
        "    prev_words = sentence[prev_index:i]\n",
        "    prev_words = [word_str.split(' ')[0] for word_str in prev_words] # collect the main word\n",
        "\n",
        "    # print(prev_words)\n",
        "\n",
        "    next_index = i + window_len + 1\n",
        "    next_words = sentence[i+1:next_index]\n",
        "    # next_words = [sentence[next_index] ]\n",
        "    next_words = [word_str.split(' ')[0] for word_str in next_words]\n",
        "\n",
        "    # We have to add padding, if number of prev words or next words are shorter than expected\n",
        "    if len(prev_words) != window_len:\n",
        "      prev_words = ['<pad>'] * (window_len - len(prev_words)) + prev_words\n",
        "\n",
        "    if len(next_words) != window_len:\n",
        "      next_words = next_words + ['<pad>'] * (window_len - len(next_words))\n",
        "\n",
        "    concatenated_words = prev_words + [center_word] + next_words\n",
        "    total_output.append( (concatenated_words, is_organization)  )\n",
        "  return total_output\n",
        "\n",
        "make_window_words_and_label_from_sentence(sentence)\n"
      ],
      "metadata": {
        "colab": {
          "base_uri": "https://localhost:8080/"
        },
        "id": "z1WVzcMGlZoh",
        "outputId": "69288c3f-d476-4d81-a197-658e07679075"
      },
      "execution_count": 7,
      "outputs": [
        {
          "output_type": "execute_result",
          "data": {
            "text/plain": [
              "[(['<pad>', '<pad>', 'EU', 'rejects', 'German'], True),\n",
              " (['<pad>', 'EU', 'rejects', 'German', 'call'], False),\n",
              " (['EU', 'rejects', 'German', 'call', 'to'], False),\n",
              " (['rejects', 'German', 'call', 'to', 'boycott'], False),\n",
              " (['German', 'call', 'to', 'boycott', 'British'], False),\n",
              " (['call', 'to', 'boycott', 'British', 'lamb'], False),\n",
              " (['to', 'boycott', 'British', 'lamb', '.'], False),\n",
              " (['boycott', 'British', 'lamb', '.', '<pad>'], False),\n",
              " (['British', 'lamb', '.', '<pad>', '<pad>'], False)]"
            ]
          },
          "metadata": {},
          "execution_count": 7
        }
      ]
    },
    {
      "cell_type": "code",
      "source": [
        "entire_dataset = [make_window_words_and_label_from_sentence(sentence) for sentence in filtered_dataset ]\n",
        "entire_dataset = [windowed_word for sentence in entire_dataset for windowed_word in sentence]"
      ],
      "metadata": {
        "id": "Ddb7t7PEmHfS"
      },
      "execution_count": 8,
      "outputs": []
    },
    {
      "cell_type": "code",
      "source": [
        "len(entire_dataset)"
      ],
      "metadata": {
        "colab": {
          "base_uri": "https://localhost:8080/"
        },
        "id": "gmQSEfE0mcOc",
        "outputId": "f7e42eed-bdd5-4947-ad1e-46edab22f5e9"
      },
      "execution_count": 9,
      "outputs": [
        {
          "output_type": "execute_result",
          "data": {
            "text/plain": [
              "192587"
            ]
          },
          "metadata": {},
          "execution_count": 9
        }
      ]
    },
    {
      "cell_type": "code",
      "source": [
        "entire_dataset[10000]"
      ],
      "metadata": {
        "colab": {
          "base_uri": "https://localhost:8080/"
        },
        "id": "baTBawNXmg-s",
        "outputId": "df2fc41e-2fdb-4a39-9bef-eee43c634c35"
      },
      "execution_count": 10,
      "outputs": [
        {
          "output_type": "execute_result",
          "data": {
            "text/plain": [
              "(['eight', 'in', 'a', 'row', ','], False)"
            ]
          },
          "metadata": {},
          "execution_count": 10
        }
      ]
    },
    {
      "cell_type": "code",
      "execution_count": 11,
      "metadata": {
        "colab": {
          "base_uri": "https://localhost:8080/"
        },
        "id": "hPO83i3UKV8C",
        "outputId": "4c579bd2-c608-4366-8d67-3b5d368165f2"
      },
      "outputs": [
        {
          "output_type": "stream",
          "name": "stdout",
          "text": [
            "[==================================================] 100.0% 376.1/376.1MB downloaded\n"
          ]
        }
      ],
      "source": [
        "import gensim.downloader\n",
        "\n",
        "wrd2vec = gensim.downloader.load(\"glove-wiki-gigaword-300\")"
      ]
    },
    {
      "cell_type": "code",
      "execution_count": 12,
      "metadata": {
        "colab": {
          "base_uri": "https://localhost:8080/"
        },
        "id": "BtVJXmXnLoN8",
        "outputId": "ad735139-32bd-4dee-a31e-0ad9aab30625"
      },
      "outputs": [
        {
          "output_type": "execute_result",
          "data": {
            "text/plain": [
              "400000"
            ]
          },
          "metadata": {},
          "execution_count": 12
        }
      ],
      "source": [
        "len(wrd2vec)"
      ]
    },
    {
      "cell_type": "code",
      "source": [
        "import numpy as np\n",
        "data_example = entire_dataset[0]\n",
        "word_list, label = data_example\n",
        "\n",
        "# convert list of word in string into a concatenated vector\n",
        "word_list\n",
        "\n",
        "def get_flattened_vector(word_list:list, wrd2vec):\n",
        "  flattened_vec = []\n",
        "  for word in word_list:\n",
        "    word = word.lower()\n",
        "    if word in wrd2vec:\n",
        "      vec = wrd2vec[word]\n",
        "    else:\n",
        "      vec = np.zeros(300)\n",
        "    # print(vec.shape)\n",
        "    flattened_vec.append(vec)\n",
        "  flattened_vec = np.concatenate(flattened_vec)\n",
        "  return flattened_vec\n",
        "\n",
        "get_flattened_vector(word_list, wrd2vec).shape"
      ],
      "metadata": {
        "colab": {
          "base_uri": "https://localhost:8080/"
        },
        "id": "a0VrL0q2mvKB",
        "outputId": "a0ebbc5c-0026-4047-9e65-bd27e123ad06"
      },
      "execution_count": 13,
      "outputs": [
        {
          "output_type": "execute_result",
          "data": {
            "text/plain": [
              "(1500,)"
            ]
          },
          "metadata": {},
          "execution_count": 13
        }
      ]
    },
    {
      "cell_type": "code",
      "source": [],
      "metadata": {
        "id": "vU3qUzW3ps5p"
      },
      "execution_count": 13,
      "outputs": []
    },
    {
      "cell_type": "code",
      "source": [
        "import torch\n",
        "import torch.nn as nn\n",
        "\n",
        "class Classifier(nn.Module):\n",
        "  def __init__(self, input_size, hidden_size, output_size):\n",
        "    super().__init__() # initialize nn.Module first\n",
        "    self.layer1 = nn.Linear(input_size, hidden_size)\n",
        "    self.relu = nn.ReLU()\n",
        "    self.layer2 = nn.Linear(hidden_size, output_size, bias=False)\n",
        "    self.sigmoid = nn.Sigmoid()\n",
        "\n",
        "  def forward(self, x):\n",
        "    h = self.relu(self.layer1(x))\n",
        "    s = self.layer2(h)\n",
        "    out = self.sigmoid(s)\n",
        "    return out.squeeze()\n",
        "\n",
        "input_vec = get_flattened_vector(word_list, wrd2vec)\n",
        "model = Classifier(input_size=1500, hidden_size=47, output_size=1)\n",
        "model(torch.Tensor(input_vec))"
      ],
      "metadata": {
        "colab": {
          "base_uri": "https://localhost:8080/"
        },
        "id": "dQDJ1i5eotZU",
        "outputId": "b11a26eb-714e-4347-9459-85cbe1b00d16"
      },
      "execution_count": 14,
      "outputs": [
        {
          "output_type": "execute_result",
          "data": {
            "text/plain": [
              "tensor(0.5270, grad_fn=<SqueezeBackward0>)"
            ]
          },
          "metadata": {},
          "execution_count": 14
        }
      ]
    },
    {
      "cell_type": "markdown",
      "source": [
        "# Build a Dataset Class"
      ],
      "metadata": {
        "id": "L7hpYlLCuxIm"
      }
    },
    {
      "cell_type": "code",
      "source": [
        "class Dataset:\n",
        "  def __init__(self, txt_fn=\"train.txt\", wrd2vec=None):\n",
        "    text_lines = self.load_txt_and_split(txt_fn)\n",
        "    dataset_in_sentence = self.group_by_sentence(text_lines)\n",
        "    filtered_dataset = [sentence for sentence in dataset_in_sentence if len(sentence) > 5]\n",
        "    entire_dataset = [self.make_window_words_and_label_from_sentence(sentence) for sentence in filtered_dataset ]\n",
        "    self.entire_data = self.flatten_list_of_list(entire_dataset)\n",
        "    # self.wrd2vec = gensim.downloader.load(\"glove-wiki-gigaword-300\")\n",
        "    self.wrd2vec = wrd2vec\n",
        "\n",
        "  @staticmethod\n",
        "  def flatten_list_of_list(list_of_list):\n",
        "    return [y for x in list_of_list for y in x]\n",
        "\n",
        "  @staticmethod\n",
        "  def make_window_words_and_label_from_sentence(sentence):\n",
        "    total_output = []\n",
        "    for i, word in enumerate(sentence):\n",
        "      splitted_word = word.split(' ')\n",
        "      center_word = splitted_word[0]\n",
        "      label = splitted_word[-1]\n",
        "      is_organization = label in ['B-ORG', 'I-ORG']\n",
        "\n",
        "      # concatenating with neighboring words\n",
        "\n",
        "      # words in the left\n",
        "      prev_index = max(i - window_len, 0) # clipping minimum to zero\n",
        "      prev_words = sentence[prev_index:i]\n",
        "      prev_words = [word_str.split(' ')[0] for word_str in prev_words] # collect the main word\n",
        "\n",
        "      # print(prev_words)\n",
        "\n",
        "      next_index = i + window_len + 1\n",
        "      next_words = sentence[i+1:next_index]\n",
        "      # next_words = [sentence[next_index] ]\n",
        "      next_words = [word_str.split(' ')[0] for word_str in next_words]\n",
        "\n",
        "      # We have to add padding, if number of prev words or next words are shorter than expected\n",
        "      if len(prev_words) != window_len:\n",
        "        prev_words = ['<pad>'] * (window_len - len(prev_words)) + prev_words\n",
        "\n",
        "      if len(next_words) != window_len:\n",
        "        next_words = next_words + ['<pad>'] * (window_len - len(next_words))\n",
        "\n",
        "      concatenated_words = prev_words + [center_word] + next_words\n",
        "      total_output.append( (concatenated_words, is_organization)  )\n",
        "    return total_output\n",
        "\n",
        "\n",
        "  @staticmethod\n",
        "  def group_by_sentence(text_lines:list):\n",
        "    return [list(group) for k, group in groupby(text_lines, lambda x: x == \"\") if not k]\n",
        "\n",
        "\n",
        "\n",
        "  @staticmethod\n",
        "  def load_txt_and_split(txt_fn):\n",
        "    with open(txt_fn) as f:\n",
        "      string = ''.join(f.readlines())\n",
        "    dataset = string.split('\\n')\n",
        "    return dataset\n",
        "\n",
        "  def _load_txt_and_split(self, txt_fn=\"train.txt\"):\n",
        "    with open(txt_fn) as f:\n",
        "      string = ''.join(f.readlines())\n",
        "    dataset = string.split('\\n')\n",
        "    return dataset\n",
        "\n",
        "  def __getitem__(self, idx):\n",
        "    data_sample = self.entire_data[idx]\n",
        "    windowed_words, label = data_sample\n",
        "    flattened_vector = self.get_flattened_vector(windowed_words, self.wrd2vec)\n",
        "    return flattened_vector, label\n",
        "\n",
        "  def __len__(self):\n",
        "    return len(self.entire_data)\n",
        "\n",
        "  @staticmethod\n",
        "  def get_flattened_vector(word_list:list, wrd2vec):\n",
        "    flattened_vec = []\n",
        "    for word in word_list:\n",
        "      word = word.lower()\n",
        "      if word in wrd2vec:\n",
        "        vec = wrd2vec[word]\n",
        "      else:\n",
        "        vec = np.zeros(300)\n",
        "      # print(vec.shape)\n",
        "      flattened_vec.append(vec)\n",
        "    flattened_vec = np.concatenate(flattened_vec)\n",
        "    return flattened_vec\n",
        "\n",
        "\n",
        "dataset = Dataset(wrd2vec=wrd2vec)\n",
        "# dataset._load_txt_and_split() # this is how you call class method\n",
        "# Dataset.load_txt_and_split('train.txt') # you can call the staticmethod without making an instance\n",
        "dataset[0]\n"
      ],
      "metadata": {
        "colab": {
          "base_uri": "https://localhost:8080/"
        },
        "id": "o4PtExeIoVkh",
        "outputId": "52e035ee-002a-42ea-d1c4-fad7adb0ec7f"
      },
      "execution_count": 74,
      "outputs": [
        {
          "output_type": "execute_result",
          "data": {
            "text/plain": [
              "(array([ 0.        ,  0.        ,  0.        , ..., -0.19499999,\n",
              "         0.20411   ,  0.35297999]),\n",
              " True)"
            ]
          },
          "metadata": {},
          "execution_count": 74
        }
      ]
    },
    {
      "cell_type": "code",
      "source": [
        "from typing import List, Tuple\n",
        "from torch.utils.data import DataLoader\n",
        "\n",
        "def custom_collate_fn(raw_batch:List[Tuple[np.ndarray, bool]]):\n",
        "  vectors = []\n",
        "  labels = []\n",
        "  for item in raw_batch:\n",
        "    vector, label = item\n",
        "    vectors.append(vector)\n",
        "    labels.append(label)\n",
        "  vectors = np.stack(vectors)\n",
        "  return torch.Tensor(vectors), torch.Tensor(labels)\n",
        "\n",
        "train_loader = DataLoader(dataset, batch_size=3, collate_fn=custom_collate_fn)\n",
        "\n",
        "# for batch in train_loader: # in python, for x in y makes iter(y): iterator of y\n",
        "#   batch\n",
        "#   break\n",
        "# vectors, labels = batch\n",
        "# vectors.shape, labels.shape\n",
        "\n",
        "raw_batch = [dataset[i] for i in range(3)] # this is how dataloader calls its dataset\n",
        "custom_collate_fn(raw_batch) # and it feed this raw_batch to collate_fn\n"
      ],
      "metadata": {
        "id": "WyD4aKwS0P54",
        "outputId": "3b38fbb8-c3ed-415e-99a5-9eccac87bd9a",
        "colab": {
          "base_uri": "https://localhost:8080/"
        }
      },
      "execution_count": 31,
      "outputs": [
        {
          "output_type": "execute_result",
          "data": {
            "text/plain": [
              "(tensor([[ 0.0000,  0.0000,  0.0000,  ..., -0.1950,  0.2041,  0.3530],\n",
              "         [ 0.0000,  0.0000,  0.0000,  ..., -0.2705, -0.1292, -0.0133],\n",
              "         [ 0.5473, -0.2364, -0.2143,  ..., -0.1604,  0.0467, -0.0706]]),\n",
              " tensor([1., 0., 0.]))"
            ]
          },
          "metadata": {},
          "execution_count": 31
        }
      ]
    },
    {
      "cell_type": "code",
      "source": [
        "def get_bce(pred, target, eps=1e-4):\n",
        "  assert pred.shape == target.shape\n",
        "  assert torch.min(pred) >= 0, \"prediction must be output of sigmoid function\"\n",
        "  assert torch.max(pred) <= 1, \"prediction must be output of sigmoid function\"\n",
        "\n",
        "  # BCE loss = - ( y*log(y_hat) + (1-y)*log(1-y_hat))\n",
        "\n",
        "  return -(target * torch.log(pred+eps) + (1-target) * torch.log(1-pred+eps)).mean()\n"
      ],
      "metadata": {
        "id": "cZF_1rQo33fW"
      },
      "execution_count": 69,
      "outputs": []
    },
    {
      "cell_type": "code",
      "source": [
        "from tqdm.auto import tqdm\n",
        "\n",
        "model = Classifier(input_size=1500, hidden_size=64, output_size=1)\n",
        "optimizer = torch.optim.Adam(model.parameters(), lr=1e-3)\n",
        "train_loader = DataLoader(dataset, batch_size=128, collate_fn=custom_collate_fn, shuffle=True)\n",
        "dev = 'cuda'\n",
        "\n",
        "model.to(dev)\n",
        "loss_record = []\n",
        "num_epochs = 5\n",
        "\n",
        "for epoch in range(num_epochs):\n",
        "  for batch in tqdm(train_loader): # in python, for x in y makes iter(y): iterator of y\n",
        "    vectors, labels = batch\n",
        "    vectors, labels = vectors.to(dev), labels.to(dev)\n",
        "    pred = model(vectors)\n",
        "    # calculate the loss\n",
        "    loss = get_bce(pred, labels)\n",
        "    # backpropagate\n",
        "    loss.backward()\n",
        "    # update the parameters\n",
        "    optimizer.step()\n",
        "    # reset the gradient\n",
        "    optimizer.zero_grad()\n",
        "\n",
        "    loss_record.append(loss.item())"
      ],
      "metadata": {
        "id": "zXMvJlDI3OAb",
        "outputId": "c6fcf1e3-b077-462f-e651-f5f998d00865",
        "colab": {
          "base_uri": "https://localhost:8080/",
          "height": 177,
          "referenced_widgets": [
            "57901cbac4df46a9a66ff8ff49d9d0fb",
            "2cb3fb2d69a54206a8e6e97aff03ad38",
            "74d2ae8783da4755a999b27eb5a2a16f",
            "5a8b4b94e67f447fac1afd33c9b1319f",
            "46859c5b653449a09788f9ec029c9524",
            "88e16b53444749eaaba7a805ea25c4ba",
            "2e5ba6aed05a402d911ac38f677245d6",
            "af1d978e9f6341dda08fdde93c0710d8",
            "887986b912f84ef8ae5ad0763dcce711",
            "75b5ee7bb8f841f28fb423360a917283",
            "885a741b7b134e5aa4861c334d886892",
            "9168509c02ed4c71b119c6a7435b6f51",
            "a0f2b53e18694ef2b971366232bc8647",
            "39f1a911331a4158a99e3916aacfbdb2",
            "cf59fe59d6b34f27bf38f5d59df7d82f",
            "e1d4f0df80db43b9b0581424d89d656a",
            "ea34b72ad58a464c9308990588cc4c00",
            "d8f6438242f14bad963746730154bdc7",
            "76588286855b42f994012015a846b477",
            "70fa1c5ef3f8402bb919979706cb931d",
            "e97a509a96bb4471b40bb8c461d1a1a3",
            "322fa2d7f5684a16a8839fb672be1aa8",
            "b9db3f7ccb684655b46236d12f7e5941",
            "f820a71259f947a081966e65460c176e",
            "7e14522846b8421fbf381c48cd521856",
            "cfda8c22ff194407a5dba1b20900e174",
            "cc5189020cac43979f61b1b02c8090b8",
            "42ff4defbf1f4cb8883e1bae69563e60",
            "5664f9414b724c6b9f1ee2f30a4ed05d",
            "255855c87464471db5792e76ff1b2b24",
            "827403d94c024654a09ed4f8132e331d",
            "93f3e3b51d4545d3a0b81744071b6a12",
            "49162ac6951348a4b9bea2c83e57ce77",
            "952dfbcb44064d3db933aa94674e1d91",
            "0d3acb9e13cd403197676a4b9261e551",
            "3ca5cee9694748f38fa6444714583a24",
            "72610c8497db4e1a99dc179ad937145d",
            "956addc9c2174628ac04ab54ebb41b8e",
            "f39aab3677a5453f87d792572798a8bb",
            "acf91b7a83494b3a9a6d871c692ae7ad",
            "107b137b9f6147fc86b4325453c23b1e",
            "081a6cc6a32744d9b5dd9c3f782a136b",
            "f681d88319954fdaa180c6698dcc4335",
            "9106392bf7794bde84ecde48b6e9d812",
            "7541a050580d433e81dc5c1c6f97080d",
            "d605579e4c3b4c5eb4a50c6b18c2c4c4",
            "515cd6a307f8462e8670dc85d3ad7259",
            "1f52d775722847d0a494924f90c01d06",
            "4be5f3b7df1c4c8baab8e4f2e14d1a1d",
            "402ec4d75c6d41f3ad4e67bc81599297",
            "5f1eda25f6534cd3bd3210185c05d07f",
            "8b953cd318474d7caeabf5cf8ce935e4",
            "e94f4867b8af442ab38f47834ce96c08",
            "aec2618544e74b7da03a8fd89c21fcb2",
            "54dc8646ab8f4266808587311ce7c6c5"
          ]
        }
      },
      "execution_count": 70,
      "outputs": [
        {
          "output_type": "display_data",
          "data": {
            "text/plain": [
              "  0%|          | 0/1505 [00:00<?, ?it/s]"
            ],
            "application/vnd.jupyter.widget-view+json": {
              "version_major": 2,
              "version_minor": 0,
              "model_id": "57901cbac4df46a9a66ff8ff49d9d0fb"
            }
          },
          "metadata": {}
        },
        {
          "output_type": "display_data",
          "data": {
            "text/plain": [
              "  0%|          | 0/1505 [00:00<?, ?it/s]"
            ],
            "application/vnd.jupyter.widget-view+json": {
              "version_major": 2,
              "version_minor": 0,
              "model_id": "9168509c02ed4c71b119c6a7435b6f51"
            }
          },
          "metadata": {}
        },
        {
          "output_type": "display_data",
          "data": {
            "text/plain": [
              "  0%|          | 0/1505 [00:00<?, ?it/s]"
            ],
            "application/vnd.jupyter.widget-view+json": {
              "version_major": 2,
              "version_minor": 0,
              "model_id": "b9db3f7ccb684655b46236d12f7e5941"
            }
          },
          "metadata": {}
        },
        {
          "output_type": "display_data",
          "data": {
            "text/plain": [
              "  0%|          | 0/1505 [00:00<?, ?it/s]"
            ],
            "application/vnd.jupyter.widget-view+json": {
              "version_major": 2,
              "version_minor": 0,
              "model_id": "952dfbcb44064d3db933aa94674e1d91"
            }
          },
          "metadata": {}
        },
        {
          "output_type": "display_data",
          "data": {
            "text/plain": [
              "  0%|          | 0/1505 [00:00<?, ?it/s]"
            ],
            "application/vnd.jupyter.widget-view+json": {
              "version_major": 2,
              "version_minor": 0,
              "model_id": "7541a050580d433e81dc5c1c6f97080d"
            }
          },
          "metadata": {}
        }
      ]
    },
    {
      "cell_type": "code",
      "source": [
        "import matplotlib.pyplot as plt\n",
        "plt.plot(loss_record)"
      ],
      "metadata": {
        "id": "8XxKaeOe6Es3",
        "outputId": "a1728212-7684-4920-d969-d4ed77be0802",
        "colab": {
          "base_uri": "https://localhost:8080/",
          "height": 448
        }
      },
      "execution_count": 71,
      "outputs": [
        {
          "output_type": "execute_result",
          "data": {
            "text/plain": [
              "[<matplotlib.lines.Line2D at 0x7dead9bfac50>]"
            ]
          },
          "metadata": {},
          "execution_count": 71
        },
        {
          "output_type": "display_data",
          "data": {
            "text/plain": [
              "<Figure size 640x480 with 1 Axes>"
            ],
            "image/png": "[encoded data removed]"
          },
          "metadata": {}
        }
      ]
    },
    {
      "cell_type": "code",
      "source": [
        "testset = Dataset('test.txt', wrd2vec=wrd2vec)\n",
        "test_loader= DataLoader(testset, batch_size=200, collate_fn=custom_collate_fn)\n",
        "\n",
        "model.eval()\n",
        "for batch in test_loader:\n",
        "  vectors, labels = batch\n",
        "  vectors, labels = vectors.to(dev), labels.to(dev)\n",
        "  pred = model(vectors)\n",
        "  thresholded_pred = pred > 0.1\n",
        "  # thresholded_pred = torch.zeros_like(labels)\n",
        "  num_correct_pred = torch.sum(thresholded_pred == labels)\n",
        "  # acc = num_correct_pred / len(labels)\n",
        "  # print(acc.item())\n",
        "  num_true_positive = torch.sum(thresholded_pred * labels) # a AND b\n",
        "  num_true_gt = torch.sum(labels==1)\n",
        "  print(num_true_positive.item(), num_true_gt.item())\n",
        "# num_correct_pred"
      ],
      "metadata": {
        "id": "8w8-CIf98Gwz",
        "outputId": "e6aae266-b1d1-43a1-f96a-48a9d12ad5ec",
        "colab": {
          "base_uri": "https://localhost:8080/"
        }
      },
      "execution_count": 83,
      "outputs": [
        {
          "output_type": "stream",
          "name": "stdout",
          "text": [
            "0.0 0\n",
            "1.0 1\n",
            "2.0 2\n",
            "0.0 0\n",
            "0.0 0\n",
            "0.0 0\n",
            "0.0 0\n",
            "0.0 0\n",
            "8.0 13\n",
            "11.0 13\n",
            "28.0 33\n",
            "2.0 3\n",
            "3.0 4\n",
            "0.0 0\n",
            "6.0 10\n",
            "2.0 2\n",
            "0.0 0\n",
            "0.0 0\n",
            "1.0 1\n",
            "0.0 0\n",
            "0.0 0\n",
            "0.0 0\n",
            "2.0 5\n",
            "27.0 27\n",
            "19.0 27\n",
            "14.0 17\n",
            "22.0 26\n",
            "35.0 36\n",
            "13.0 22\n",
            "37.0 37\n",
            "40.0 41\n",
            "23.0 23\n",
            "23.0 23\n",
            "16.0 16\n",
            "19.0 24\n",
            "26.0 26\n",
            "14.0 18\n",
            "6.0 7\n",
            "15.0 16\n",
            "15.0 15\n",
            "17.0 17\n",
            "15.0 15\n",
            "4.0 4\n",
            "5.0 5\n",
            "1.0 1\n",
            "17.0 19\n",
            "8.0 9\n",
            "2.0 2\n",
            "4.0 4\n",
            "3.0 3\n",
            "3.0 8\n",
            "15.0 18\n",
            "6.0 6\n",
            "4.0 5\n",
            "5.0 5\n",
            "10.0 13\n",
            "13.0 18\n",
            "9.0 10\n",
            "11.0 18\n",
            "2.0 2\n",
            "2.0 3\n",
            "0.0 0\n",
            "15.0 21\n",
            "3.0 5\n",
            "10.0 10\n",
            "18.0 19\n",
            "12.0 14\n",
            "14.0 19\n",
            "19.0 23\n",
            "16.0 20\n",
            "13.0 14\n",
            "0.0 0\n",
            "0.0 0\n",
            "3.0 3\n",
            "3.0 3\n",
            "9.0 9\n",
            "2.0 2\n",
            "3.0 3\n",
            "0.0 0\n",
            "1.0 1\n",
            "5.0 5\n",
            "0.0 0\n",
            "4.0 12\n",
            "6.0 10\n",
            "4.0 10\n",
            "11.0 13\n",
            "7.0 7\n",
            "5.0 5\n",
            "3.0 7\n",
            "1.0 1\n",
            "0.0 0\n",
            "7.0 8\n",
            "0.0 0\n",
            "4.0 5\n",
            "0.0 2\n",
            "7.0 7\n",
            "0.0 0\n",
            "4.0 5\n",
            "0.0 0\n",
            "8.0 8\n",
            "5.0 10\n",
            "7.0 9\n",
            "3.0 5\n",
            "10.0 14\n",
            "17.0 20\n",
            "17.0 18\n",
            "8.0 10\n",
            "4.0 4\n",
            "10.0 10\n",
            "8.0 8\n",
            "13.0 13\n",
            "7.0 8\n",
            "3.0 3\n",
            "5.0 8\n",
            "4.0 6\n",
            "17.0 18\n",
            "10.0 10\n",
            "5.0 5\n",
            "0.0 1\n",
            "7.0 7\n",
            "5.0 5\n",
            "1.0 5\n",
            "4.0 5\n",
            "15.0 18\n",
            "3.0 7\n",
            "6.0 6\n",
            "8.0 8\n",
            "14.0 15\n",
            "6.0 9\n",
            "8.0 12\n",
            "11.0 11\n",
            "6.0 6\n",
            "1.0 2\n",
            "10.0 15\n",
            "2.0 2\n",
            "7.0 9\n",
            "0.0 0\n",
            "3.0 3\n",
            "6.0 6\n",
            "4.0 4\n",
            "6.0 6\n",
            "6.0 6\n",
            "7.0 7\n",
            "3.0 3\n",
            "4.0 4\n",
            "4.0 5\n",
            "5.0 9\n",
            "0.0 0\n",
            "0.0 0\n",
            "5.0 5\n",
            "5.0 5\n",
            "0.0 3\n",
            "0.0 1\n",
            "3.0 4\n",
            "2.0 4\n",
            "7.0 10\n",
            "10.0 15\n",
            "6.0 7\n",
            "2.0 3\n",
            "3.0 5\n",
            "4.0 5\n",
            "6.0 16\n",
            "13.0 13\n",
            "10.0 16\n",
            "5.0 6\n",
            "14.0 17\n",
            "7.0 9\n",
            "18.0 23\n",
            "9.0 13\n",
            "7.0 13\n",
            "9.0 12\n",
            "10.0 12\n",
            "3.0 3\n",
            "10.0 10\n",
            "6.0 6\n",
            "5.0 5\n",
            "0.0 0\n",
            "0.0 2\n",
            "0.0 0\n",
            "0.0 0\n",
            "0.0 0\n",
            "0.0 0\n",
            "1.0 4\n",
            "1.0 4\n",
            "0.0 7\n",
            "0.0 18\n",
            "0.0 0\n",
            "0.0 0\n",
            "0.0 0\n",
            "0.0 0\n",
            "0.0 0\n",
            "7.0 7\n",
            "20.0 21\n",
            "18.0 19\n",
            "13.0 16\n",
            "26.0 26\n",
            "30.0 30\n",
            "28.0 28\n",
            "28.0 28\n",
            "28.0 28\n",
            "24.0 24\n",
            "30.0 33\n",
            "20.0 22\n",
            "0.0 1\n",
            "4.0 5\n",
            "2.0 2\n",
            "3.0 4\n",
            "0.0 0\n",
            "40.0 41\n",
            "36.0 36\n",
            "21.0 24\n",
            "24.0 28\n",
            "17.0 28\n",
            "7.0 12\n",
            "12.0 14\n",
            "29.0 33\n",
            "13.0 13\n",
            "2.0 2\n"
          ]
        }
      ]
    },
    {
      "cell_type": "markdown",
      "source": [],
      "metadata": {
        "id": "ZeFwtLa28akf"
      }
    },
    {
      "cell_type": "code",
      "source": [
        "# Inference code\n",
        "# test_str = \"students in sogang university are\"\n",
        "test_str = \"studenst are studying in library\"\n",
        "test_words = test_str.split(' ')\n",
        "converted_vector = Dataset.get_flattened_vector(test_words, dataset.wrd2vec)\n",
        "converted_vector = torch.Tensor(converted_vector)\n",
        "model(converted_vector.to(dev))"
      ],
      "metadata": {
        "id": "lcnjh0QN6buk",
        "outputId": "e2e79f02-27e6-4794-eadd-484ff4bc5c6a",
        "colab": {
          "base_uri": "https://localhost:8080/"
        }
      },
      "execution_count": 73,
      "outputs": [
        {
          "output_type": "execute_result",
          "data": {
            "text/plain": [
              "tensor(0.0018, device='cuda:0', grad_fn=<SqueezeBackward0>)"
            ]
          },
          "metadata": {},
          "execution_count": 73
        }
      ]
    },
    {
      "cell_type": "code",
      "source": [
        "labels"
      ],
      "metadata": {
        "id": "uY4issqx41oX",
        "outputId": "c4c7c980-e241-439d-be17-dd2dc9361acc",
        "colab": {
          "base_uri": "https://localhost:8080/"
        }
      },
      "execution_count": 48,
      "outputs": [
        {
          "output_type": "execute_result",
          "data": {
            "text/plain": [
              "tensor([0., 0., 0., 0., 0., 0., 0., 0., 0., 0., 0., 0., 1., 0., 0., 0., 0., 0.,\n",
              "        0., 0., 0., 0., 0., 0., 0., 0., 0., 0., 0., 0., 0., 0.])"
            ]
          },
          "metadata": {},
          "execution_count": 48
        }
      ]
    }
  ],
  "metadata": {
    "accelerator": "GPU",
    "colab": {
      "provenance": [],
      "include_colab_link": true
    },
    "gpuClass": "standard",
    "kernelspec": {
      "display_name": "Python 3 (ipykernel)",
      "language": "python",
      "name": "python3"
    },
    "nbformat": 4,
    "nbformat_minor": 5,
    "widgets": {
      "application/vnd.jupyter.widget-state+json": {
        "57901cbac4df46a9a66ff8ff49d9d0fb": {
          "model_module": "@jupyter-widgets/controls",
          "model_name": "HBoxModel",
          "model_module_version": "1.5.0",
          "state": {
            "_dom_classes": [],
            "_model_module": "@jupyter-widgets/controls",
            "_model_module_version": "1.5.0",
            "_model_name": "HBoxModel",
            "_view_count": null,
            "_view_module": "@jupyter-widgets/controls",
            "_view_module_version": "1.5.0",
            "_view_name": "HBoxView",
            "box_style": "",
            "children": [
              "IPY_MODEL_2cb3fb2d69a54206a8e6e97aff03ad38",
              "IPY_MODEL_74d2ae8783da4755a999b27eb5a2a16f",
              "IPY_MODEL_5a8b4b94e67f447fac1afd33c9b1319f"
            ],
            "layout": "IPY_MODEL_46859c5b653449a09788f9ec029c9524"
          }
        },
        "2cb3fb2d69a54206a8e6e97aff03ad38": {
          "model_module": "@jupyter-widgets/controls",
          "model_name": "HTMLModel",
          "model_module_version": "1.5.0",
          "state": {
            "_dom_classes": [],
            "_model_module": "@jupyter-widgets/controls",
            "_model_module_version": "1.5.0",
            "_model_name": "HTMLModel",
            "_view_count": null,
            "_view_module": "@jupyter-widgets/controls",
            "_view_module_version": "1.5.0",
            "_view_name": "HTMLView",
            "description": "",
            "description_tooltip": null,
            "layout": "IPY_MODEL_88e16b53444749eaaba7a805ea25c4ba",
            "placeholder": "​",
            "style": "IPY_MODEL_2e5ba6aed05a402d911ac38f677245d6",
            "value": "100%"
          }
        },
        "74d2ae8783da4755a999b27eb5a2a16f": {
          "model_module": "@jupyter-widgets/controls",
          "model_name": "FloatProgressModel",
          "model_module_version": "1.5.0",
          "state": {
            "_dom_classes": [],
            "_model_module": "@jupyter-widgets/controls",
            "_model_module_version": "1.5.0",
            "_model_name": "FloatProgressModel",
            "_view_count": null,
            "_view_module": "@jupyter-widgets/controls",
            "_view_module_version": "1.5.0",
            "_view_name": "ProgressView",
            "bar_style": "success",
            "description": "",
            "description_tooltip": null,
            "layout": "IPY_MODEL_af1d978e9f6341dda08fdde93c0710d8",
            "max": 1505,
            "min": 0,
            "orientation": "horizontal",
            "style": "IPY_MODEL_887986b912f84ef8ae5ad0763dcce711",
            "value": 1505
          }
        },
        "5a8b4b94e67f447fac1afd33c9b1319f": {
          "model_module": "@jupyter-widgets/controls",
          "model_name": "HTMLModel",
          "model_module_version": "1.5.0",
          "state": {
            "_dom_classes": [],
            "_model_module": "@jupyter-widgets/controls",
            "_model_module_version": "1.5.0",
            "_model_name": "HTMLModel",
            "_view_count": null,
            "_view_module": "@jupyter-widgets/controls",
            "_view_module_version": "1.5.0",
            "_view_name": "HTMLView",
            "description": "",
            "description_tooltip": null,
            "layout": "IPY_MODEL_75b5ee7bb8f841f28fb423360a917283",
            "placeholder": "​",
            "style": "IPY_MODEL_885a741b7b134e5aa4861c334d886892",
            "value": " 1505/1505 [00:08&lt;00:00, 107.85it/s]"
          }
        },
        "46859c5b653449a09788f9ec029c9524": {
          "model_module": "@jupyter-widgets/base",
          "model_name": "LayoutModel",
          "model_module_version": "1.2.0",
          "state": {
            "_model_module": "@jupyter-widgets/base",
            "_model_module_version": "1.2.0",
            "_model_name": "LayoutModel",
            "_view_count": null,
            "_view_module": "@jupyter-widgets/base",
            "_view_module_version": "1.2.0",
            "_view_name": "LayoutView",
            "align_content": null,
            "align_items": null,
            "align_self": null,
            "border": null,
            "bottom": null,
            "display": null,
            "flex": null,
            "flex_flow": null,
            "grid_area": null,
            "grid_auto_columns": null,
            "grid_auto_flow": null,
            "grid_auto_rows": null,
            "grid_column": null,
            "grid_gap": null,
            "grid_row": null,
            "grid_template_areas": null,
            "grid_template_columns": null,
            "grid_template_rows": null,
            "height": null,
            "justify_content": null,
            "justify_items": null,
            "left": null,
            "margin": null,
            "max_height": null,
            "max_width": null,
            "min_height": null,
            "min_width": null,
            "object_fit": null,
            "object_position": null,
            "order": null,
            "overflow": null,
            "overflow_x": null,
            "overflow_y": null,
            "padding": null,
            "right": null,
            "top": null,
            "visibility": null,
            "width": null
          }
        },
        "88e16b53444749eaaba7a805ea25c4ba": {
          "model_module": "@jupyter-widgets/base",
          "model_name": "LayoutModel",
          "model_module_version": "1.2.0",
          "state": {
            "_model_module": "@jupyter-widgets/base",
            "_model_module_version": "1.2.0",
            "_model_name": "LayoutModel",
            "_view_count": null,
            "_view_module": "@jupyter-widgets/base",
            "_view_module_version": "1.2.0",
            "_view_name": "LayoutView",
            "align_content": null,
            "align_items": null,
            "align_self": null,
            "border": null,
            "bottom": null,
            "display": null,
            "flex": null,
            "flex_flow": null,
            "grid_area": null,
            "grid_auto_columns": null,
            "grid_auto_flow": null,
            "grid_auto_rows": null,
            "grid_column": null,
            "grid_gap": null,
            "grid_row": null,
            "grid_template_areas": null,
            "grid_template_columns": null,
            "grid_template_rows": null,
            "height": null,
            "justify_content": null,
            "justify_items": null,
            "left": null,
            "margin": null,
            "max_height": null,
            "max_width": null,
            "min_height": null,
            "min_width": null,
            "object_fit": null,
            "object_position": null,
            "order": null,
            "overflow": null,
            "overflow_x": null,
            "overflow_y": null,
            "padding": null,
            "right": null,
            "top": null,
            "visibility": null,
            "width": null
          }
        },
        "2e5ba6aed05a402d911ac38f677245d6": {
          "model_module": "@jupyter-widgets/controls",
          "model_name": "DescriptionStyleModel",
          "model_module_version": "1.5.0",
          "state": {
            "_model_module": "@jupyter-widgets/controls",
            "_model_module_version": "1.5.0",
            "_model_name": "DescriptionStyleModel",
            "_view_count": null,
            "_view_module": "@jupyter-widgets/base",
            "_view_module_version": "1.2.0",
            "_view_name": "StyleView",
            "description_width": ""
          }
        },
        "af1d978e9f6341dda08fdde93c0710d8": {
          "model_module": "@jupyter-widgets/base",
          "model_name": "LayoutModel",
          "model_module_version": "1.2.0",
          "state": {
            "_model_module": "@jupyter-widgets/base",
            "_model_module_version": "1.2.0",
            "_model_name": "LayoutModel",
            "_view_count": null,
            "_view_module": "@jupyter-widgets/base",
            "_view_module_version": "1.2.0",
            "_view_name": "LayoutView",
            "align_content": null,
            "align_items": null,
            "align_self": null,
            "border": null,
            "bottom": null,
            "display": null,
            "flex": null,
            "flex_flow": null,
            "grid_area": null,
            "grid_auto_columns": null,
            "grid_auto_flow": null,
            "grid_auto_rows": null,
            "grid_column": null,
            "grid_gap": null,
            "grid_row": null,
            "grid_template_areas": null,
            "grid_template_columns": null,
            "grid_template_rows": null,
            "height": null,
            "justify_content": null,
            "justify_items": null,
            "left": null,
            "margin": null,
            "max_height": null,
            "max_width": null,
            "min_height": null,
            "min_width": null,
            "object_fit": null,
            "object_position": null,
            "order": null,
            "overflow": null,
            "overflow_x": null,
            "overflow_y": null,
            "padding": null,
            "right": null,
            "top": null,
            "visibility": null,
            "width": null
          }
        },
        "887986b912f84ef8ae5ad0763dcce711": {
          "model_module": "@jupyter-widgets/controls",
          "model_name": "ProgressStyleModel",
          "model_module_version": "1.5.0",
          "state": {
            "_model_module": "@jupyter-widgets/controls",
            "_model_module_version": "1.5.0",
            "_model_name": "ProgressStyleModel",
            "_view_count": null,
            "_view_module": "@jupyter-widgets/base",
            "_view_module_version": "1.2.0",
            "_view_name": "StyleView",
            "bar_color": null,
            "description_width": ""
          }
        },
        "75b5ee7bb8f841f28fb423360a917283": {
          "model_module": "@jupyter-widgets/base",
          "model_name": "LayoutModel",
          "model_module_version": "1.2.0",
          "state": {
            "_model_module": "@jupyter-widgets/base",
            "_model_module_version": "1.2.0",
            "_model_name": "LayoutModel",
            "_view_count": null,
            "_view_module": "@jupyter-widgets/base",
            "_view_module_version": "1.2.0",
            "_view_name": "LayoutView",
            "align_content": null,
            "align_items": null,
            "align_self": null,
            "border": null,
            "bottom": null,
            "display": null,
            "flex": null,
            "flex_flow": null,
            "grid_area": null,
            "grid_auto_columns": null,
            "grid_auto_flow": null,
            "grid_auto_rows": null,
            "grid_column": null,
            "grid_gap": null,
            "grid_row": null,
            "grid_template_areas": null,
            "grid_template_columns": null,
            "grid_template_rows": null,
            "height": null,
            "justify_content": null,
            "justify_items": null,
            "left": null,
            "margin": null,
            "max_height": null,
            "max_width": null,
            "min_height": null,
            "min_width": null,
            "object_fit": null,
            "object_position": null,
            "order": null,
            "overflow": null,
            "overflow_x": null,
            "overflow_y": null,
            "padding": null,
            "right": null,
            "top": null,
            "visibility": null,
            "width": null
          }
        },
        "885a741b7b134e5aa4861c334d886892": {
          "model_module": "@jupyter-widgets/controls",
          "model_name": "DescriptionStyleModel",
          "model_module_version": "1.5.0",
          "state": {
            "_model_module": "@jupyter-widgets/controls",
            "_model_module_version": "1.5.0",
            "_model_name": "DescriptionStyleModel",
            "_view_count": null,
            "_view_module": "@jupyter-widgets/base",
            "_view_module_version": "1.2.0",
            "_view_name": "StyleView",
            "description_width": ""
          }
        },
        "9168509c02ed4c71b119c6a7435b6f51": {
          "model_module": "@jupyter-widgets/controls",
          "model_name": "HBoxModel",
          "model_module_version": "1.5.0",
          "state": {
            "_dom_classes": [],
            "_model_module": "@jupyter-widgets/controls",
            "_model_module_version": "1.5.0",
            "_model_name": "HBoxModel",
            "_view_count": null,
            "_view_module": "@jupyter-widgets/controls",
            "_view_module_version": "1.5.0",
            "_view_name": "HBoxView",
            "box_style": "",
            "children": [
              "IPY_MODEL_a0f2b53e18694ef2b971366232bc8647",
              "IPY_MODEL_39f1a911331a4158a99e3916aacfbdb2",
              "IPY_MODEL_cf59fe59d6b34f27bf38f5d59df7d82f"
            ],
            "layout": "IPY_MODEL_e1d4f0df80db43b9b0581424d89d656a"
          }
        },
        "a0f2b53e18694ef2b971366232bc8647": {
          "model_module": "@jupyter-widgets/controls",
          "model_name": "HTMLModel",
          "model_module_version": "1.5.0",
          "state": {
            "_dom_classes": [],
            "_model_module": "@jupyter-widgets/controls",
            "_model_module_version": "1.5.0",
            "_model_name": "HTMLModel",
            "_view_count": null,
            "_view_module": "@jupyter-widgets/controls",
            "_view_module_version": "1.5.0",
            "_view_name": "HTMLView",
            "description": "",
            "description_tooltip": null,
            "layout": "IPY_MODEL_ea34b72ad58a464c9308990588cc4c00",
            "placeholder": "​",
            "style": "IPY_MODEL_d8f6438242f14bad963746730154bdc7",
            "value": "100%"
          }
        },
        "39f1a911331a4158a99e3916aacfbdb2": {
          "model_module": "@jupyter-widgets/controls",
          "model_name": "FloatProgressModel",
          "model_module_version": "1.5.0",
          "state": {
            "_dom_classes": [],
            "_model_module": "@jupyter-widgets/controls",
            "_model_module_version": "1.5.0",
            "_model_name": "FloatProgressModel",
            "_view_count": null,
            "_view_module": "@jupyter-widgets/controls",
            "_view_module_version": "1.5.0",
            "_view_name": "ProgressView",
            "bar_style": "success",
            "description": "",
            "description_tooltip": null,
            "layout": "IPY_MODEL_76588286855b42f994012015a846b477",
            "max": 1505,
            "min": 0,
            "orientation": "horizontal",
            "style": "IPY_MODEL_70fa1c5ef3f8402bb919979706cb931d",
            "value": 1505
          }
        },
        "cf59fe59d6b34f27bf38f5d59df7d82f": {
          "model_module": "@jupyter-widgets/controls",
          "model_name": "HTMLModel",
          "model_module_version": "1.5.0",
          "state": {
            "_dom_classes": [],
            "_model_module": "@jupyter-widgets/controls",
            "_model_module_version": "1.5.0",
            "_model_name": "HTMLModel",
            "_view_count": null,
            "_view_module": "@jupyter-widgets/controls",
            "_view_module_version": "1.5.0",
            "_view_name": "HTMLView",
            "description": "",
            "description_tooltip": null,
            "layout": "IPY_MODEL_e97a509a96bb4471b40bb8c461d1a1a3",
            "placeholder": "​",
            "style": "IPY_MODEL_322fa2d7f5684a16a8839fb672be1aa8",
            "value": " 1505/1505 [00:06&lt;00:00, 205.19it/s]"
          }
        },
        "e1d4f0df80db43b9b0581424d89d656a": {
          "model_module": "@jupyter-widgets/base",
          "model_name": "LayoutModel",
          "model_module_version": "1.2.0",
          "state": {
            "_model_module": "@jupyter-widgets/base",
            "_model_module_version": "1.2.0",
            "_model_name": "LayoutModel",
            "_view_count": null,
            "_view_module": "@jupyter-widgets/base",
            "_view_module_version": "1.2.0",
            "_view_name": "LayoutView",
            "align_content": null,
            "align_items": null,
            "align_self": null,
            "border": null,
            "bottom": null,
            "display": null,
            "flex": null,
            "flex_flow": null,
            "grid_area": null,
            "grid_auto_columns": null,
            "grid_auto_flow": null,
            "grid_auto_rows": null,
            "grid_column": null,
            "grid_gap": null,
            "grid_row": null,
            "grid_template_areas": null,
            "grid_template_columns": null,
            "grid_template_rows": null,
            "height": null,
            "justify_content": null,
            "justify_items": null,
            "left": null,
            "margin": null,
            "max_height": null,
            "max_width": null,
            "min_height": null,
            "min_width": null,
            "object_fit": null,
            "object_position": null,
            "order": null,
            "overflow": null,
            "overflow_x": null,
            "overflow_y": null,
            "padding": null,
            "right": null,
            "top": null,
            "visibility": null,
            "width": null
          }
        },
        "ea34b72ad58a464c9308990588cc4c00": {
          "model_module": "@jupyter-widgets/base",
          "model_name": "LayoutModel",
          "model_module_version": "1.2.0",
          "state": {
            "_model_module": "@jupyter-widgets/base",
            "_model_module_version": "1.2.0",
            "_model_name": "LayoutModel",
            "_view_count": null,
            "_view_module": "@jupyter-widgets/base",
            "_view_module_version": "1.2.0",
            "_view_name": "LayoutView",
            "align_content": null,
            "align_items": null,
            "align_self": null,
            "border": null,
            "bottom": null,
            "display": null,
            "flex": null,
            "flex_flow": null,
            "grid_area": null,
            "grid_auto_columns": null,
            "grid_auto_flow": null,
            "grid_auto_rows": null,
            "grid_column": null,
            "grid_gap": null,
            "grid_row": null,
            "grid_template_areas": null,
            "grid_template_columns": null,
            "grid_template_rows": null,
            "height": null,
            "justify_content": null,
            "justify_items": null,
            "left": null,
            "margin": null,
            "max_height": null,
            "max_width": null,
            "min_height": null,
            "min_width": null,
            "object_fit": null,
            "object_position": null,
            "order": null,
            "overflow": null,
            "overflow_x": null,
            "overflow_y": null,
            "padding": null,
            "right": null,
            "top": null,
            "visibility": null,
            "width": null
          }
        },
        "d8f6438242f14bad963746730154bdc7": {
          "model_module": "@jupyter-widgets/controls",
          "model_name": "DescriptionStyleModel",
          "model_module_version": "1.5.0",
          "state": {
            "_model_module": "@jupyter-widgets/controls",
            "_model_module_version": "1.5.0",
            "_model_name": "DescriptionStyleModel",
            "_view_count": null,
            "_view_module": "@jupyter-widgets/base",
            "_view_module_version": "1.2.0",
            "_view_name": "StyleView",
            "description_width": ""
          }
        },
        "76588286855b42f994012015a846b477": {
          "model_module": "@jupyter-widgets/base",
          "model_name": "LayoutModel",
          "model_module_version": "1.2.0",
          "state": {
            "_model_module": "@jupyter-widgets/base",
            "_model_module_version": "1.2.0",
            "_model_name": "LayoutModel",
            "_view_count": null,
            "_view_module": "@jupyter-widgets/base",
            "_view_module_version": "1.2.0",
            "_view_name": "LayoutView",
            "align_content": null,
            "align_items": null,
            "align_self": null,
            "border": null,
            "bottom": null,
            "display": null,
            "flex": null,
            "flex_flow": null,
            "grid_area": null,
            "grid_auto_columns": null,
            "grid_auto_flow": null,
            "grid_auto_rows": null,
            "grid_column": null,
            "grid_gap": null,
            "grid_row": null,
            "grid_template_areas": null,
            "grid_template_columns": null,
            "grid_template_rows": null,
            "height": null,
            "justify_content": null,
            "justify_items": null,
            "left": null,
            "margin": null,
            "max_height": null,
            "max_width": null,
            "min_height": null,
            "min_width": null,
            "object_fit": null,
            "object_position": null,
            "order": null,
            "overflow": null,
            "overflow_x": null,
            "overflow_y": null,
            "padding": null,
            "right": null,
            "top": null,
            "visibility": null,
            "width": null
          }
        },
        "70fa1c5ef3f8402bb919979706cb931d": {
          "model_module": "@jupyter-widgets/controls",
          "model_name": "ProgressStyleModel",
          "model_module_version": "1.5.0",
          "state": {
            "_model_module": "@jupyter-widgets/controls",
            "_model_module_version": "1.5.0",
            "_model_name": "ProgressStyleModel",
            "_view_count": null,
            "_view_module": "@jupyter-widgets/base",
            "_view_module_version": "1.2.0",
            "_view_name": "StyleView",
            "bar_color": null,
            "description_width": ""
          }
        },
        "e97a509a96bb4471b40bb8c461d1a1a3": {
          "model_module": "@jupyter-widgets/base",
          "model_name": "LayoutModel",
          "model_module_version": "1.2.0",
          "state": {
            "_model_module": "@jupyter-widgets/base",
            "_model_module_version": "1.2.0",
            "_model_name": "LayoutModel",
            "_view_count": null,
            "_view_module": "@jupyter-widgets/base",
            "_view_module_version": "1.2.0",
            "_view_name": "LayoutView",
            "align_content": null,
            "align_items": null,
            "align_self": null,
            "border": null,
            "bottom": null,
            "display": null,
            "flex": null,
            "flex_flow": null,
            "grid_area": null,
            "grid_auto_columns": null,
            "grid_auto_flow": null,
            "grid_auto_rows": null,
            "grid_column": null,
            "grid_gap": null,
            "grid_row": null,
            "grid_template_areas": null,
            "grid_template_columns": null,
            "grid_template_rows": null,
            "height": null,
            "justify_content": null,
            "justify_items": null,
            "left": null,
            "margin": null,
            "max_height": null,
            "max_width": null,
            "min_height": null,
            "min_width": null,
            "object_fit": null,
            "object_position": null,
            "order": null,
            "overflow": null,
            "overflow_x": null,
            "overflow_y": null,
            "padding": null,
            "right": null,
            "top": null,
            "visibility": null,
            "width": null
          }
        },
        "322fa2d7f5684a16a8839fb672be1aa8": {
          "model_module": "@jupyter-widgets/controls",
          "model_name": "DescriptionStyleModel",
          "model_module_version": "1.5.0",
          "state": {
            "_model_module": "@jupyter-widgets/controls",
            "_model_module_version": "1.5.0",
            "_model_name": "DescriptionStyleModel",
            "_view_count": null,
            "_view_module": "@jupyter-widgets/base",
            "_view_module_version": "1.2.0",
            "_view_name": "StyleView",
            "description_width": ""
          }
        },
        "b9db3f7ccb684655b46236d12f7e5941": {
          "model_module": "@jupyter-widgets/controls",
          "model_name": "HBoxModel",
          "model_module_version": "1.5.0",
          "state": {
            "_dom_classes": [],
            "_model_module": "@jupyter-widgets/controls",
            "_model_module_version": "1.5.0",
            "_model_name": "HBoxModel",
            "_view_count": null,
            "_view_module": "@jupyter-widgets/controls",
            "_view_module_version": "1.5.0",
            "_view_name": "HBoxView",
            "box_style": "",
            "children": [
              "IPY_MODEL_f820a71259f947a081966e65460c176e",
              "IPY_MODEL_7e14522846b8421fbf381c48cd521856",
              "IPY_MODEL_cfda8c22ff194407a5dba1b20900e174"
            ],
            "layout": "IPY_MODEL_cc5189020cac43979f61b1b02c8090b8"
          }
        },
        "f820a71259f947a081966e65460c176e": {
          "model_module": "@jupyter-widgets/controls",
          "model_name": "HTMLModel",
          "model_module_version": "1.5.0",
          "state": {
            "_dom_classes": [],
            "_model_module": "@jupyter-widgets/controls",
            "_model_module_version": "1.5.0",
            "_model_name": "HTMLModel",
            "_view_count": null,
            "_view_module": "@jupyter-widgets/controls",
            "_view_module_version": "1.5.0",
            "_view_name": "HTMLView",
            "description": "",
            "description_tooltip": null,
            "layout": "IPY_MODEL_42ff4defbf1f4cb8883e1bae69563e60",
            "placeholder": "​",
            "style": "IPY_MODEL_5664f9414b724c6b9f1ee2f30a4ed05d",
            "value": "100%"
          }
        },
        "7e14522846b8421fbf381c48cd521856": {
          "model_module": "@jupyter-widgets/controls",
          "model_name": "FloatProgressModel",
          "model_module_version": "1.5.0",
          "state": {
            "_dom_classes": [],
            "_model_module": "@jupyter-widgets/controls",
            "_model_module_version": "1.5.0",
            "_model_name": "FloatProgressModel",
            "_view_count": null,
            "_view_module": "@jupyter-widgets/controls",
            "_view_module_version": "1.5.0",
            "_view_name": "ProgressView",
            "bar_style": "success",
            "description": "",
            "description_tooltip": null,
            "layout": "IPY_MODEL_255855c87464471db5792e76ff1b2b24",
            "max": 1505,
            "min": 0,
            "orientation": "horizontal",
            "style": "IPY_MODEL_827403d94c024654a09ed4f8132e331d",
            "value": 1505
          }
        },
        "cfda8c22ff194407a5dba1b20900e174": {
          "model_module": "@jupyter-widgets/controls",
          "model_name": "HTMLModel",
          "model_module_version": "1.5.0",
          "state": {
            "_dom_classes": [],
            "_model_module": "@jupyter-widgets/controls",
            "_model_module_version": "1.5.0",
            "_model_name": "HTMLModel",
            "_view_count": null,
            "_view_module": "@jupyter-widgets/controls",
            "_view_module_version": "1.5.0",
            "_view_name": "HTMLView",
            "description": "",
            "description_tooltip": null,
            "layout": "IPY_MODEL_93f3e3b51d4545d3a0b81744071b6a12",
            "placeholder": "​",
            "style": "IPY_MODEL_49162ac6951348a4b9bea2c83e57ce77",
            "value": " 1505/1505 [00:07&lt;00:00, 224.14it/s]"
          }
        },
        "cc5189020cac43979f61b1b02c8090b8": {
          "model_module": "@jupyter-widgets/base",
          "model_name": "LayoutModel",
          "model_module_version": "1.2.0",
          "state": {
            "_model_module": "@jupyter-widgets/base",
            "_model_module_version": "1.2.0",
            "_model_name": "LayoutModel",
            "_view_count": null,
            "_view_module": "@jupyter-widgets/base",
            "_view_module_version": "1.2.0",
            "_view_name": "LayoutView",
            "align_content": null,
            "align_items": null,
            "align_self": null,
            "border": null,
            "bottom": null,
            "display": null,
            "flex": null,
            "flex_flow": null,
            "grid_area": null,
            "grid_auto_columns": null,
            "grid_auto_flow": null,
            "grid_auto_rows": null,
            "grid_column": null,
            "grid_gap": null,
            "grid_row": null,
            "grid_template_areas": null,
            "grid_template_columns": null,
            "grid_template_rows": null,
            "height": null,
            "justify_content": null,
            "justify_items": null,
            "left": null,
            "margin": null,
            "max_height": null,
            "max_width": null,
            "min_height": null,
            "min_width": null,
            "object_fit": null,
            "object_position": null,
            "order": null,
            "overflow": null,
            "overflow_x": null,
            "overflow_y": null,
            "padding": null,
            "right": null,
            "top": null,
            "visibility": null,
            "width": null
          }
        },
        "42ff4defbf1f4cb8883e1bae69563e60": {
          "model_module": "@jupyter-widgets/base",
          "model_name": "LayoutModel",
          "model_module_version": "1.2.0",
          "state": {
            "_model_module": "@jupyter-widgets/base",
            "_model_module_version": "1.2.0",
            "_model_name": "LayoutModel",
            "_view_count": null,
            "_view_module": "@jupyter-widgets/base",
            "_view_module_version": "1.2.0",
            "_view_name": "LayoutView",
            "align_content": null,
            "align_items": null,
            "align_self": null,
            "border": null,
            "bottom": null,
            "display": null,
            "flex": null,
            "flex_flow": null,
            "grid_area": null,
            "grid_auto_columns": null,
            "grid_auto_flow": null,
            "grid_auto_rows": null,
            "grid_column": null,
            "grid_gap": null,
            "grid_row": null,
            "grid_template_areas": null,
            "grid_template_columns": null,
            "grid_template_rows": null,
            "height": null,
            "justify_content": null,
            "justify_items": null,
            "left": null,
            "margin": null,
            "max_height": null,
            "max_width": null,
            "min_height": null,
            "min_width": null,
            "object_fit": null,
            "object_position": null,
            "order": null,
            "overflow": null,
            "overflow_x": null,
            "overflow_y": null,
            "padding": null,
            "right": null,
            "top": null,
            "visibility": null,
            "width": null
          }
        },
        "5664f9414b724c6b9f1ee2f30a4ed05d": {
          "model_module": "@jupyter-widgets/controls",
          "model_name": "DescriptionStyleModel",
          "model_module_version": "1.5.0",
          "state": {
            "_model_module": "@jupyter-widgets/controls",
            "_model_module_version": "1.5.0",
            "_model_name": "DescriptionStyleModel",
            "_view_count": null,
            "_view_module": "@jupyter-widgets/base",
            "_view_module_version": "1.2.0",
            "_view_name": "StyleView",
            "description_width": ""
          }
        },
        "255855c87464471db5792e76ff1b2b24": {
          "model_module": "@jupyter-widgets/base",
          "model_name": "LayoutModel",
          "model_module_version": "1.2.0",
          "state": {
            "_model_module": "@jupyter-widgets/base",
            "_model_module_version": "1.2.0",
            "_model_name": "LayoutModel",
            "_view_count": null,
            "_view_module": "@jupyter-widgets/base",
            "_view_module_version": "1.2.0",
            "_view_name": "LayoutView",
            "align_content": null,
            "align_items": null,
            "align_self": null,
            "border": null,
            "bottom": null,
            "display": null,
            "flex": null,
            "flex_flow": null,
            "grid_area": null,
            "grid_auto_columns": null,
            "grid_auto_flow": null,
            "grid_auto_rows": null,
            "grid_column": null,
            "grid_gap": null,
            "grid_row": null,
            "grid_template_areas": null,
            "grid_template_columns": null,
            "grid_template_rows": null,
            "height": null,
            "justify_content": null,
            "justify_items": null,
            "left": null,
            "margin": null,
            "max_height": null,
            "max_width": null,
            "min_height": null,
            "min_width": null,
            "object_fit": null,
            "object_position": null,
            "order": null,
            "overflow": null,
            "overflow_x": null,
            "overflow_y": null,
            "padding": null,
            "right": null,
            "top": null,
            "visibility": null,
            "width": null
          }
        },
        "827403d94c024654a09ed4f8132e331d": {
          "model_module": "@jupyter-widgets/controls",
          "model_name": "ProgressStyleModel",
          "model_module_version": "1.5.0",
          "state": {
            "_model_module": "@jupyter-widgets/controls",
            "_model_module_version": "1.5.0",
            "_model_name": "ProgressStyleModel",
            "_view_count": null,
            "_view_module": "@jupyter-widgets/base",
            "_view_module_version": "1.2.0",
            "_view_name": "StyleView",
            "bar_color": null,
            "description_width": ""
          }
        },
        "93f3e3b51d4545d3a0b81744071b6a12": {
          "model_module": "@jupyter-widgets/base",
          "model_name": "LayoutModel",
          "model_module_version": "1.2.0",
          "state": {
            "_model_module": "@jupyter-widgets/base",
            "_model_module_version": "1.2.0",
            "_model_name": "LayoutModel",
            "_view_count": null,
            "_view_module": "@jupyter-widgets/base",
            "_view_module_version": "1.2.0",
            "_view_name": "LayoutView",
            "align_content": null,
            "align_items": null,
            "align_self": null,
            "border": null,
            "bottom": null,
            "display": null,
            "flex": null,
            "flex_flow": null,
            "grid_area": null,
            "grid_auto_columns": null,
            "grid_auto_flow": null,
            "grid_auto_rows": null,
            "grid_column": null,
            "grid_gap": null,
            "grid_row": null,
            "grid_template_areas": null,
            "grid_template_columns": null,
            "grid_template_rows": null,
            "height": null,
            "justify_content": null,
            "justify_items": null,
            "left": null,
            "margin": null,
            "max_height": null,
            "max_width": null,
            "min_height": null,
            "min_width": null,
            "object_fit": null,
            "object_position": null,
            "order": null,
            "overflow": null,
            "overflow_x": null,
            "overflow_y": null,
            "padding": null,
            "right": null,
            "top": null,
            "visibility": null,
            "width": null
          }
        },
        "49162ac6951348a4b9bea2c83e57ce77": {
          "model_module": "@jupyter-widgets/controls",
          "model_name": "DescriptionStyleModel",
          "model_module_version": "1.5.0",
          "state": {
            "_model_module": "@jupyter-widgets/controls",
            "_model_module_version": "1.5.0",
            "_model_name": "DescriptionStyleModel",
            "_view_count": null,
            "_view_module": "@jupyter-widgets/base",
            "_view_module_version": "1.2.0",
            "_view_name": "StyleView",
            "description_width": ""
          }
        },
        "952dfbcb44064d3db933aa94674e1d91": {
          "model_module": "@jupyter-widgets/controls",
          "model_name": "HBoxModel",
          "model_module_version": "1.5.0",
          "state": {
            "_dom_classes": [],
            "_model_module": "@jupyter-widgets/controls",
            "_model_module_version": "1.5.0",
            "_model_name": "HBoxModel",
            "_view_count": null,
            "_view_module": "@jupyter-widgets/controls",
            "_view_module_version": "1.5.0",
            "_view_name": "HBoxView",
            "box_style": "",
            "children": [
              "IPY_MODEL_0d3acb9e13cd403197676a4b9261e551",
              "IPY_MODEL_3ca5cee9694748f38fa6444714583a24",
              "IPY_MODEL_72610c8497db4e1a99dc179ad937145d"
            ],
            "layout": "IPY_MODEL_956addc9c2174628ac04ab54ebb41b8e"
          }
        },
        "0d3acb9e13cd403197676a4b9261e551": {
          "model_module": "@jupyter-widgets/controls",
          "model_name": "HTMLModel",
          "model_module_version": "1.5.0",
          "state": {
            "_dom_classes": [],
            "_model_module": "@jupyter-widgets/controls",
            "_model_module_version": "1.5.0",
            "_model_name": "HTMLModel",
            "_view_count": null,
            "_view_module": "@jupyter-widgets/controls",
            "_view_module_version": "1.5.0",
            "_view_name": "HTMLView",
            "description": "",
            "description_tooltip": null,
            "layout": "IPY_MODEL_f39aab3677a5453f87d792572798a8bb",
            "placeholder": "​",
            "style": "IPY_MODEL_acf91b7a83494b3a9a6d871c692ae7ad",
            "value": "100%"
          }
        },
        "3ca5cee9694748f38fa6444714583a24": {
          "model_module": "@jupyter-widgets/controls",
          "model_name": "FloatProgressModel",
          "model_module_version": "1.5.0",
          "state": {
            "_dom_classes": [],
            "_model_module": "@jupyter-widgets/controls",
            "_model_module_version": "1.5.0",
            "_model_name": "FloatProgressModel",
            "_view_count": null,
            "_view_module": "@jupyter-widgets/controls",
            "_view_module_version": "1.5.0",
            "_view_name": "ProgressView",
            "bar_style": "success",
            "description": "",
            "description_tooltip": null,
            "layout": "IPY_MODEL_107b137b9f6147fc86b4325453c23b1e",
            "max": 1505,
            "min": 0,
            "orientation": "horizontal",
            "style": "IPY_MODEL_081a6cc6a32744d9b5dd9c3f782a136b",
            "value": 1505
          }
        },
        "72610c8497db4e1a99dc179ad937145d": {
          "model_module": "@jupyter-widgets/controls",
          "model_name": "HTMLModel",
          "model_module_version": "1.5.0",
          "state": {
            "_dom_classes": [],
            "_model_module": "@jupyter-widgets/controls",
            "_model_module_version": "1.5.0",
            "_model_name": "HTMLModel",
            "_view_count": null,
            "_view_module": "@jupyter-widgets/controls",
            "_view_module_version": "1.5.0",
            "_view_name": "HTMLView",
            "description": "",
            "description_tooltip": null,
            "layout": "IPY_MODEL_f681d88319954fdaa180c6698dcc4335",
            "placeholder": "​",
            "style": "IPY_MODEL_9106392bf7794bde84ecde48b6e9d812",
            "value": " 1505/1505 [00:07&lt;00:00, 164.77it/s]"
          }
        },
        "956addc9c2174628ac04ab54ebb41b8e": {
          "model_module": "@jupyter-widgets/base",
          "model_name": "LayoutModel",
          "model_module_version": "1.2.0",
          "state": {
            "_model_module": "@jupyter-widgets/base",
            "_model_module_version": "1.2.0",
            "_model_name": "LayoutModel",
            "_view_count": null,
            "_view_module": "@jupyter-widgets/base",
            "_view_module_version": "1.2.0",
            "_view_name": "LayoutView",
            "align_content": null,
            "align_items": null,
            "align_self": null,
            "border": null,
            "bottom": null,
            "display": null,
            "flex": null,
            "flex_flow": null,
            "grid_area": null,
            "grid_auto_columns": null,
            "grid_auto_flow": null,
            "grid_auto_rows": null,
            "grid_column": null,
            "grid_gap": null,
            "grid_row": null,
            "grid_template_areas": null,
            "grid_template_columns": null,
            "grid_template_rows": null,
            "height": null,
            "justify_content": null,
            "justify_items": null,
            "left": null,
            "margin": null,
            "max_height": null,
            "max_width": null,
            "min_height": null,
            "min_width": null,
            "object_fit": null,
            "object_position": null,
            "order": null,
            "overflow": null,
            "overflow_x": null,
            "overflow_y": null,
            "padding": null,
            "right": null,
            "top": null,
            "visibility": null,
            "width": null
          }
        },
        "f39aab3677a5453f87d792572798a8bb": {
          "model_module": "@jupyter-widgets/base",
          "model_name": "LayoutModel",
          "model_module_version": "1.2.0",
          "state": {
            "_model_module": "@jupyter-widgets/base",
            "_model_module_version": "1.2.0",
            "_model_name": "LayoutModel",
            "_view_count": null,
            "_view_module": "@jupyter-widgets/base",
            "_view_module_version": "1.2.0",
            "_view_name": "LayoutView",
            "align_content": null,
            "align_items": null,
            "align_self": null,
            "border": null,
            "bottom": null,
            "display": null,
            "flex": null,
            "flex_flow": null,
            "grid_area": null,
            "grid_auto_columns": null,
            "grid_auto_flow": null,
            "grid_auto_rows": null,
            "grid_column": null,
            "grid_gap": null,
            "grid_row": null,
            "grid_template_areas": null,
            "grid_template_columns": null,
            "grid_template_rows": null,
            "height": null,
            "justify_content": null,
            "justify_items": null,
            "left": null,
            "margin": null,
            "max_height": null,
            "max_width": null,
            "min_height": null,
            "min_width": null,
            "object_fit": null,
            "object_position": null,
            "order": null,
            "overflow": null,
            "overflow_x": null,
            "overflow_y": null,
            "padding": null,
            "right": null,
            "top": null,
            "visibility": null,
            "width": null
          }
        },
        "acf91b7a83494b3a9a6d871c692ae7ad": {
          "model_module": "@jupyter-widgets/controls",
          "model_name": "DescriptionStyleModel",
          "model_module_version": "1.5.0",
          "state": {
            "_model_module": "@jupyter-widgets/controls",
            "_model_module_version": "1.5.0",
            "_model_name": "DescriptionStyleModel",
            "_view_count": null,
            "_view_module": "@jupyter-widgets/base",
            "_view_module_version": "1.2.0",
            "_view_name": "StyleView",
            "description_width": ""
          }
        },
        "107b137b9f6147fc86b4325453c23b1e": {
          "model_module": "@jupyter-widgets/base",
          "model_name": "LayoutModel",
          "model_module_version": "1.2.0",
          "state": {
            "_model_module": "@jupyter-widgets/base",
            "_model_module_version": "1.2.0",
            "_model_name": "LayoutModel",
            "_view_count": null,
            "_view_module": "@jupyter-widgets/base",
            "_view_module_version": "1.2.0",
            "_view_name": "LayoutView",
            "align_content": null,
            "align_items": null,
            "align_self": null,
            "border": null,
            "bottom": null,
            "display": null,
            "flex": null,
            "flex_flow": null,
            "grid_area": null,
            "grid_auto_columns": null,
            "grid_auto_flow": null,
            "grid_auto_rows": null,
            "grid_column": null,
            "grid_gap": null,
            "grid_row": null,
            "grid_template_areas": null,
            "grid_template_columns": null,
            "grid_template_rows": null,
            "height": null,
            "justify_content": null,
            "justify_items": null,
            "left": null,
            "margin": null,
            "max_height": null,
            "max_width": null,
            "min_height": null,
            "min_width": null,
            "object_fit": null,
            "object_position": null,
            "order": null,
            "overflow": null,
            "overflow_x": null,
            "overflow_y": null,
            "padding": null,
            "right": null,
            "top": null,
            "visibility": null,
            "width": null
          }
        },
        "081a6cc6a32744d9b5dd9c3f782a136b": {
          "model_module": "@jupyter-widgets/controls",
          "model_name": "ProgressStyleModel",
          "model_module_version": "1.5.0",
          "state": {
            "_model_module": "@jupyter-widgets/controls",
            "_model_module_version": "1.5.0",
            "_model_name": "ProgressStyleModel",
            "_view_count": null,
            "_view_module": "@jupyter-widgets/base",
            "_view_module_version": "1.2.0",
            "_view_name": "StyleView",
            "bar_color": null,
            "description_width": ""
          }
        },
        "f681d88319954fdaa180c6698dcc4335": {
          "model_module": "@jupyter-widgets/base",
          "model_name": "LayoutModel",
          "model_module_version": "1.2.0",
          "state": {
            "_model_module": "@jupyter-widgets/base",
            "_model_module_version": "1.2.0",
            "_model_name": "LayoutModel",
            "_view_count": null,
            "_view_module": "@jupyter-widgets/base",
            "_view_module_version": "1.2.0",
            "_view_name": "LayoutView",
            "align_content": null,
            "align_items": null,
            "align_self": null,
            "border": null,
            "bottom": null,
            "display": null,
            "flex": null,
            "flex_flow": null,
            "grid_area": null,
            "grid_auto_columns": null,
            "grid_auto_flow": null,
            "grid_auto_rows": null,
            "grid_column": null,
            "grid_gap": null,
            "grid_row": null,
            "grid_template_areas": null,
            "grid_template_columns": null,
            "grid_template_rows": null,
            "height": null,
            "justify_content": null,
            "justify_items": null,
            "left": null,
            "margin": null,
            "max_height": null,
            "max_width": null,
            "min_height": null,
            "min_width": null,
            "object_fit": null,
            "object_position": null,
            "order": null,
            "overflow": null,
            "overflow_x": null,
            "overflow_y": null,
            "padding": null,
            "right": null,
            "top": null,
            "visibility": null,
            "width": null
          }
        },
        "9106392bf7794bde84ecde48b6e9d812": {
          "model_module": "@jupyter-widgets/controls",
          "model_name": "DescriptionStyleModel",
          "model_module_version": "1.5.0",
          "state": {
            "_model_module": "@jupyter-widgets/controls",
            "_model_module_version": "1.5.0",
            "_model_name": "DescriptionStyleModel",
            "_view_count": null,
            "_view_module": "@jupyter-widgets/base",
            "_view_module_version": "1.2.0",
            "_view_name": "StyleView",
            "description_width": ""
          }
        },
        "7541a050580d433e81dc5c1c6f97080d": {
          "model_module": "@jupyter-widgets/controls",
          "model_name": "HBoxModel",
          "model_module_version": "1.5.0",
          "state": {
            "_dom_classes": [],
            "_model_module": "@jupyter-widgets/controls",
            "_model_module_version": "1.5.0",
            "_model_name": "HBoxModel",
            "_view_count": null,
            "_view_module": "@jupyter-widgets/controls",
            "_view_module_version": "1.5.0",
            "_view_name": "HBoxView",
            "box_style": "",
            "children": [
              "IPY_MODEL_d605579e4c3b4c5eb4a50c6b18c2c4c4",
              "IPY_MODEL_515cd6a307f8462e8670dc85d3ad7259",
              "IPY_MODEL_1f52d775722847d0a494924f90c01d06"
            ],
            "layout": "IPY_MODEL_4be5f3b7df1c4c8baab8e4f2e14d1a1d"
          }
        },
        "d605579e4c3b4c5eb4a50c6b18c2c4c4": {
          "model_module": "@jupyter-widgets/controls",
          "model_name": "HTMLModel",
          "model_module_version": "1.5.0",
          "state": {
            "_dom_classes": [],
            "_model_module": "@jupyter-widgets/controls",
            "_model_module_version": "1.5.0",
            "_model_name": "HTMLModel",
            "_view_count": null,
            "_view_module": "@jupyter-widgets/controls",
            "_view_module_version": "1.5.0",
            "_view_name": "HTMLView",
            "description": "",
            "description_tooltip": null,
            "layout": "IPY_MODEL_402ec4d75c6d41f3ad4e67bc81599297",
            "placeholder": "​",
            "style": "IPY_MODEL_5f1eda25f6534cd3bd3210185c05d07f",
            "value": "100%"
          }
        },
        "515cd6a307f8462e8670dc85d3ad7259": {
          "model_module": "@jupyter-widgets/controls",
          "model_name": "FloatProgressModel",
          "model_module_version": "1.5.0",
          "state": {
            "_dom_classes": [],
            "_model_module": "@jupyter-widgets/controls",
            "_model_module_version": "1.5.0",
            "_model_name": "FloatProgressModel",
            "_view_count": null,
            "_view_module": "@jupyter-widgets/controls",
            "_view_module_version": "1.5.0",
            "_view_name": "ProgressView",
            "bar_style": "success",
            "description": "",
            "description_tooltip": null,
            "layout": "IPY_MODEL_8b953cd318474d7caeabf5cf8ce935e4",
            "max": 1505,
            "min": 0,
            "orientation": "horizontal",
            "style": "IPY_MODEL_e94f4867b8af442ab38f47834ce96c08",
            "value": 1505
          }
        },
        "1f52d775722847d0a494924f90c01d06": {
          "model_module": "@jupyter-widgets/controls",
          "model_name": "HTMLModel",
          "model_module_version": "1.5.0",
          "state": {
            "_dom_classes": [],
            "_model_module": "@jupyter-widgets/controls",
            "_model_module_version": "1.5.0",
            "_model_name": "HTMLModel",
            "_view_count": null,
            "_view_module": "@jupyter-widgets/controls",
            "_view_module_version": "1.5.0",
            "_view_name": "HTMLView",
            "description": "",
            "description_tooltip": null,
            "layout": "IPY_MODEL_aec2618544e74b7da03a8fd89c21fcb2",
            "placeholder": "​",
            "style": "IPY_MODEL_54dc8646ab8f4266808587311ce7c6c5",
            "value": " 1505/1505 [00:07&lt;00:00, 226.74it/s]"
          }
        },
        "4be5f3b7df1c4c8baab8e4f2e14d1a1d": {
          "model_module": "@jupyter-widgets/base",
          "model_name": "LayoutModel",
          "model_module_version": "1.2.0",
          "state": {
            "_model_module": "@jupyter-widgets/base",
            "_model_module_version": "1.2.0",
            "_model_name": "LayoutModel",
            "_view_count": null,
            "_view_module": "@jupyter-widgets/base",
            "_view_module_version": "1.2.0",
            "_view_name": "LayoutView",
            "align_content": null,
            "align_items": null,
            "align_self": null,
            "border": null,
            "bottom": null,
            "display": null,
            "flex": null,
            "flex_flow": null,
            "grid_area": null,
            "grid_auto_columns": null,
            "grid_auto_flow": null,
            "grid_auto_rows": null,
            "grid_column": null,
            "grid_gap": null,
            "grid_row": null,
            "grid_template_areas": null,
            "grid_template_columns": null,
            "grid_template_rows": null,
            "height": null,
            "justify_content": null,
            "justify_items": null,
            "left": null,
            "margin": null,
            "max_height": null,
            "max_width": null,
            "min_height": null,
            "min_width": null,
            "object_fit": null,
            "object_position": null,
            "order": null,
            "overflow": null,
            "overflow_x": null,
            "overflow_y": null,
            "padding": null,
            "right": null,
            "top": null,
            "visibility": null,
            "width": null
          }
        },
        "402ec4d75c6d41f3ad4e67bc81599297": {
          "model_module": "@jupyter-widgets/base",
          "model_name": "LayoutModel",
          "model_module_version": "1.2.0",
          "state": {
            "_model_module": "@jupyter-widgets/base",
            "_model_module_version": "1.2.0",
            "_model_name": "LayoutModel",
            "_view_count": null,
            "_view_module": "@jupyter-widgets/base",
            "_view_module_version": "1.2.0",
            "_view_name": "LayoutView",
            "align_content": null,
            "align_items": null,
            "align_self": null,
            "border": null,
            "bottom": null,
            "display": null,
            "flex": null,
            "flex_flow": null,
            "grid_area": null,
            "grid_auto_columns": null,
            "grid_auto_flow": null,
            "grid_auto_rows": null,
            "grid_column": null,
            "grid_gap": null,
            "grid_row": null,
            "grid_template_areas": null,
            "grid_template_columns": null,
            "grid_template_rows": null,
            "height": null,
            "justify_content": null,
            "justify_items": null,
            "left": null,
            "margin": null,
            "max_height": null,
            "max_width": null,
            "min_height": null,
            "min_width": null,
            "object_fit": null,
            "object_position": null,
            "order": null,
            "overflow": null,
            "overflow_x": null,
            "overflow_y": null,
            "padding": null,
            "right": null,
            "top": null,
            "visibility": null,
            "width": null
          }
        },
        "5f1eda25f6534cd3bd3210185c05d07f": {
          "model_module": "@jupyter-widgets/controls",
          "model_name": "DescriptionStyleModel",
          "model_module_version": "1.5.0",
          "state": {
            "_model_module": "@jupyter-widgets/controls",
            "_model_module_version": "1.5.0",
            "_model_name": "DescriptionStyleModel",
            "_view_count": null,
            "_view_module": "@jupyter-widgets/base",
            "_view_module_version": "1.2.0",
            "_view_name": "StyleView",
            "description_width": ""
          }
        },
        "8b953cd318474d7caeabf5cf8ce935e4": {
          "model_module": "@jupyter-widgets/base",
          "model_name": "LayoutModel",
          "model_module_version": "1.2.0",
          "state": {
            "_model_module": "@jupyter-widgets/base",
            "_model_module_version": "1.2.0",
            "_model_name": "LayoutModel",
            "_view_count": null,
            "_view_module": "@jupyter-widgets/base",
            "_view_module_version": "1.2.0",
            "_view_name": "LayoutView",
            "align_content": null,
            "align_items": null,
            "align_self": null,
            "border": null,
            "bottom": null,
            "display": null,
            "flex": null,
            "flex_flow": null,
            "grid_area": null,
            "grid_auto_columns": null,
            "grid_auto_flow": null,
            "grid_auto_rows": null,
            "grid_column": null,
            "grid_gap": null,
            "grid_row": null,
            "grid_template_areas": null,
            "grid_template_columns": null,
            "grid_template_rows": null,
            "height": null,
            "justify_content": null,
            "justify_items": null,
            "left": null,
            "margin": null,
            "max_height": null,
            "max_width": null,
            "min_height": null,
            "min_width": null,
            "object_fit": null,
            "object_position": null,
            "order": null,
            "overflow": null,
            "overflow_x": null,
            "overflow_y": null,
            "padding": null,
            "right": null,
            "top": null,
            "visibility": null,
            "width": null
          }
        },
        "e94f4867b8af442ab38f47834ce96c08": {
          "model_module": "@jupyter-widgets/controls",
          "model_name": "ProgressStyleModel",
          "model_module_version": "1.5.0",
          "state": {
            "_model_module": "@jupyter-widgets/controls",
            "_model_module_version": "1.5.0",
            "_model_name": "ProgressStyleModel",
            "_view_count": null,
            "_view_module": "@jupyter-widgets/base",
            "_view_module_version": "1.2.0",
            "_view_name": "StyleView",
            "bar_color": null,
            "description_width": ""
          }
        },
        "aec2618544e74b7da03a8fd89c21fcb2": {
          "model_module": "@jupyter-widgets/base",
          "model_name": "LayoutModel",
          "model_module_version": "1.2.0",
          "state": {
            "_model_module": "@jupyter-widgets/base",
            "_model_module_version": "1.2.0",
            "_model_name": "LayoutModel",
            "_view_count": null,
            "_view_module": "@jupyter-widgets/base",
            "_view_module_version": "1.2.0",
            "_view_name": "LayoutView",
            "align_content": null,
            "align_items": null,
            "align_self": null,
            "border": null,
            "bottom": null,
            "display": null,
            "flex": null,
            "flex_flow": null,
            "grid_area": null,
            "grid_auto_columns": null,
            "grid_auto_flow": null,
            "grid_auto_rows": null,
            "grid_column": null,
            "grid_gap": null,
            "grid_row": null,
            "grid_template_areas": null,
            "grid_template_columns": null,
            "grid_template_rows": null,
            "height": null,
            "justify_content": null,
            "justify_items": null,
            "left": null,
            "margin": null,
            "max_height": null,
            "max_width": null,
            "min_height": null,
            "min_width": null,
            "object_fit": null,
            "object_position": null,
            "order": null,
            "overflow": null,
            "overflow_x": null,
            "overflow_y": null,
            "padding": null,
            "right": null,
            "top": null,
            "visibility": null,
            "width": null
          }
        },
        "54dc8646ab8f4266808587311ce7c6c5": {
          "model_module": "@jupyter-widgets/controls",
          "model_name": "DescriptionStyleModel",
          "model_module_version": "1.5.0",
          "state": {
            "_model_module": "@jupyter-widgets/controls",
            "_model_module_version": "1.5.0",
            "_model_name": "DescriptionStyleModel",
            "_view_count": null,
            "_view_module": "@jupyter-widgets/base",
            "_view_module_version": "1.2.0",
            "_view_name": "StyleView",
            "description_width": ""
          }
        }
      }
    }
  },
  "nbformat": 4,
  "nbformat_minor": 0
}