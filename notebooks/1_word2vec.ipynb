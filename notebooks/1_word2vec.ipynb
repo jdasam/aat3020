{
  "cells": [
    {
      "cell_type": "markdown",
      "metadata": {
        "id": "view-in-github",
        "colab_type": "text"
      },
      "source": [
        "<a href=\"https://colab.research.google.com/github/jdasam/aat3020/blob/main/notebooks/1_word2vec.ipynb\" target=\"_parent\"><img src=\"https://colab.research.google.com/assets/colab-badge.svg\" alt=\"Open In Colab\"/></a>"
      ]
    },
    {
      "cell_type": "code",
      "execution_count": 1,
      "metadata": {
        "id": "L9BA5Lg2QRMr"
      },
      "outputs": [],
      "source": [
        "import torch\n",
        "import torch.nn as nn\n",
        "import string\n"
      ]
    },
    {
      "cell_type": "code",
      "execution_count": 2,
      "metadata": {
        "colab": {
          "base_uri": "https://localhost:8080/"
        },
        "id": "tEaaz_s0QRMs",
        "outputId": "342c4377-555e-4801-92c4-dc1bff2afb11"
      },
      "outputs": [
        {
          "output_type": "stream",
          "name": "stdout",
          "text": [
            "--2024-03-19 06:24:03--  https://raw.githubusercontent.com/amephraim/nlp/master/texts/J.%20K.%20Rowling%20-%20Harry%20Potter%201%20-%20Sorcerer's%20Stone.txt\n",
            "Resolving raw.githubusercontent.com (raw.githubusercontent.com)... 185.199.108.133, 185.199.109.133, 185.199.110.133, ...\n",
            "Connecting to raw.githubusercontent.com (raw.githubusercontent.com)|185.199.108.133|:443... connected.\n",
            "HTTP request sent, awaiting response... 200 OK\n",
            "Length: 439742 (429K) [text/plain]\n",
            "Saving to: ‘J. K. Rowling - Harry Potter 1 - Sorcerer's Stone.txt’\n",
            "\n",
            "J. K. Rowling - Har 100%[===================>] 429.44K  --.-KB/s    in 0.04s   \n",
            "\n",
            "2024-03-19 06:24:03 (11.6 MB/s) - ‘J. K. Rowling - Harry Potter 1 - Sorcerer's Stone.txt’ saved [439742/439742]\n",
            "\n"
          ]
        }
      ],
      "source": [
        "!wget \"https://raw.githubusercontent.com/amephraim/nlp/master/texts/J.%20K.%20Rowling%20-%20Harry%20Potter%201%20-%20Sorcerer's%20Stone.txt\"\n"
      ]
    },
    {
      "cell_type": "code",
      "execution_count": 3,
      "metadata": {
        "id": "CUsXJYlIQRMs"
      },
      "outputs": [],
      "source": [
        "def remove_punctuation(x):\n",
        "  return x.translate(''.maketrans('', '', string.punctuation))\n",
        "\n",
        "def make_tokenized_corpus(corpus):\n",
        "  out= [ [y.lower() for y in remove_punctuation(sentence).split(' ') if y] for sentence in corpus]\n",
        "  return [x for x in out if x!=[]]\n"
      ]
    },
    {
      "cell_type": "code",
      "execution_count": 4,
      "metadata": {
        "id": "Ry1o-F-bQRMs"
      },
      "outputs": [],
      "source": [
        "with open(\"J. K. Rowling - Harry Potter 1 - Sorcerer's Stone.txt\", 'r') as f:\n",
        "  strings = f.readlines()\n",
        "sample_text = \"\".join(strings).replace('\\n', ' ').replace('Mr.', 'mr').replace('Mrs.', 'mrs').split('. ')\n"
      ]
    },
    {
      "cell_type": "code",
      "execution_count": 5,
      "metadata": {
        "colab": {
          "base_uri": "https://localhost:8080/"
        },
        "id": "Ne-pUaxSQRMs",
        "outputId": "2ec3352f-563b-406e-f2b6-055d20c83e23"
      },
      "outputs": [
        {
          "output_type": "stream",
          "name": "stdout",
          "text": [
            "['they', 'were', 'the', 'last', 'people', 'youd', 'expect', 'to', 'be', 'involved', 'in', 'anything', 'strange', 'or', 'mysterious', 'because', 'they', 'just', 'didnt', 'hold', 'with', 'such', 'nonsense']\n"
          ]
        }
      ],
      "source": [
        "corpus = make_tokenized_corpus(sample_text)\n",
        "print(corpus[1]) # Corpus is a list of list of strings (words)"
      ]
    },
    {
      "cell_type": "code",
      "execution_count": 6,
      "metadata": {
        "colab": {
          "base_uri": "https://localhost:8080/"
        },
        "id": "rv-VvzzXkAnZ",
        "outputId": "faba6793-1736-44f9-f764-b5c7a7f0b6a1"
      },
      "outputs": [
        {
          "output_type": "execute_result",
          "data": {
            "text/plain": [
              "['they',\n",
              " 'were',\n",
              " 'the',\n",
              " 'last',\n",
              " 'people',\n",
              " 'youd',\n",
              " 'expect',\n",
              " 'to',\n",
              " 'be',\n",
              " 'involved',\n",
              " 'in',\n",
              " 'anything',\n",
              " 'strange',\n",
              " 'or',\n",
              " 'mysterious',\n",
              " 'because',\n",
              " 'they',\n",
              " 'just',\n",
              " 'didnt',\n",
              " 'hold',\n",
              " 'with',\n",
              " 'such',\n",
              " 'nonsense']"
            ]
          },
          "metadata": {},
          "execution_count": 6
        }
      ],
      "source": [
        "from copy import copy\n",
        "copy(corpus[1])"
      ]
    },
    {
      "cell_type": "code",
      "execution_count": 7,
      "metadata": {
        "colab": {
          "base_uri": "https://localhost:8080/"
        },
        "id": "-UxJwTAacWfP",
        "outputId": "9f4e47dc-7c75-454c-c603-26bcd064de20"
      },
      "outputs": [
        {
          "output_type": "stream",
          "name": "stderr",
          "text": [
            "100%|██████████| 4682/4682 [00:00<00:00, 6980.62it/s]\n"
          ]
        },
        {
          "output_type": "execute_result",
          "data": {
            "text/plain": [
              "282372"
            ]
          },
          "metadata": {},
          "execution_count": 7
        }
      ],
      "source": [
        "from tqdm import tqdm\n",
        "\n",
        "sample_sentence = ['they', 'were', 'the', 'last', 'people', 'youd', 'expect', 'to', 'be', 'involved', 'in', 'anything', 'strange', 'or', 'mysterious', 'because', 'they', 'just', 'didnt', 'hold', 'with', 'such', 'nonsense']\n",
        "\n",
        "word_idx = 7\n",
        "window_size = 2\n",
        "selected_center_word = sample_sentence[word_idx]\n",
        "\n",
        "word_pairs = []\n",
        "\n",
        "for sample_sentence in tqdm(corpus): # tqdm shows the progress bar of for loop\n",
        "  for word_idx, word in enumerate(sample_sentence):\n",
        "    for context_idx in range(-window_size, window_size+1):\n",
        "      if context_idx == 0: continue\n",
        "      context_word_idx = word_idx + context_idx\n",
        "      if context_word_idx >= len(sample_sentence) or context_word_idx < 0: continue\n",
        "      # print(context_idx, context_word_idx, sample_sentence[word_idx], sample_sentence[context_word_idx])\n",
        "      word_pair = [word, sample_sentence[context_word_idx]]\n",
        "      word_pairs.append(word_pair)\n",
        "len(word_pairs)"
      ]
    },
    {
      "cell_type": "code",
      "execution_count": 8,
      "metadata": {
        "colab": {
          "base_uri": "https://localhost:8080/"
        },
        "id": "BxcnHM7egR2o",
        "outputId": "253c9e22-f45b-40e7-af30-b26a3557731e"
      },
      "outputs": [
        {
          "output_type": "execute_result",
          "data": {
            "text/plain": [
              "['mixing', 'dudley']"
            ]
          },
          "metadata": {},
          "execution_count": 8
        }
      ],
      "source": [
        "word_pairs[1000]"
      ]
    },
    {
      "cell_type": "code",
      "execution_count": 9,
      "metadata": {
        "id": "htinJiMPkkRE",
        "outputId": "88bdf756-c2ee-412a-a625-2c240da0323b",
        "colab": {
          "base_uri": "https://localhost:8080/"
        }
      },
      "outputs": [
        {
          "output_type": "stream",
          "name": "stdout",
          "text": [
            "['harry', 'potter', 'and', 'the', 'sorcerers', 'stone', 'chapter', 'one', 'the', 'boy', 'who', 'lived', 'mr', 'and', 'mrs', 'dursley', 'of', 'number', 'four', 'privet', 'drive', 'were', 'proud', 'to', 'say', 'that', 'they', 'were', 'perfectly', 'normal', 'thank', 'you', 'very', 'much', 'they', 'were', 'the', 'last', 'people', 'youd', 'expect', 'to', 'be', 'involved', 'in', 'anything', 'strange', 'or', 'mysterious', 'because', 'they', 'just', 'didnt', 'hold', 'with', 'such', 'nonsense', 'mr', 'dursley', 'was', 'the', 'director', 'of', 'a', 'firm', 'called', 'grunnings', 'which', 'made', 'drills', 'he', 'was', 'a', 'big', 'beefy', 'man', 'with', 'hardly', 'any', 'neck', 'although', 'he', 'did', 'have', 'a', 'very', 'large', 'mustache', 'mrs', 'dursley', 'was', 'thin', 'and', 'blonde', 'and', 'had', 'nearly', 'twice', 'the', 'usual']\n"
          ]
        }
      ],
      "source": [
        "# we have to make vocabulary\n",
        "\n",
        "total_words = []\n",
        "for sentence in corpus:\n",
        "  # print(sentence)\n",
        "  for word in sentence:\n",
        "    total_words.append(word)\n",
        "\n",
        "print(total_words[:100])\n",
        "# for a in corpus:\n",
        "#   for b in a:\n",
        "#     c.append(b)\n",
        "# always use proper variable name"
      ]
    },
    {
      "cell_type": "code",
      "execution_count": 10,
      "metadata": {
        "id": "ERBFCjeslgDe",
        "outputId": "eda56394-f13b-4896-d2f9-6f052a48935f",
        "colab": {
          "base_uri": "https://localhost:8080/"
        }
      },
      "outputs": [
        {
          "output_type": "stream",
          "name": "stdout",
          "text": [
            "77597 6038\n",
            "{'forget', 'hammering', 'scuffles', 'shaves', 'slamming', 'patchwork', 'alchemist', 'blundering', 'elephant', 'flashing', 'pinched', 'pleaded', 'glimmered', 'telephone', 'grinned', 'onward', 'refused', 'spose', 'planets', 'contrary', 'stammered', 'dangers', 'midst', 'paws', 'glancing', 'pocketed', 'sightings', 'build', 'mail', 'jewelbright', 'runnin', 'tuesday', 'latest', 'dressed', 'steal', 'swish', 'stopped', 'knee', 'swallowed', 'grubby', 'core', 'slight', 'stoat', 'cursed', 'blurted', 'gryffindors', 'lemon', 'sped', 'gloomily', 'sacrifices', 'immediately', 'annoying', 'startofterm', 'frantically', 'dive', 'empty', 'selfish', 'circus', 'difference', 'hopefully', 'winged', 'yes', 'anytime', 'creepers', 'floated', 'toothless', 'warn', 'excited', 'surrounded', 'crowded', 'rumbled', 'baseball', 'tunnel', 'weigh', 'gar', 'returned', 'lisa', 'jealous', 'clue', 'four', 'moment', 'ttell', 'rippled', 'hunger', 'tearing', 'surprise', 'tent', 'slumped', 'waste', 'both', 'finish', 'trip', 'opened', 'merrily', 'quill', 'scraping', 'sirius', 'impatiently', 'accidentally', 'twentysix', 'halfmoon', 'containing', 'join', 'horribly', 'dishes', 'hoggy', 'hags', 'blushed', 'erupted', 'rapping', 'goggle', 'stars', 'insulted', 'crisis', 'norbert', 'nighttime', 'thered', 'weathers', 'languages', 'my', 'meet', 'devon', 'forced', 'local', 'mane', 'silkily', 'themselves', 'whiskers', 'curses', 'smoother', 'oliver', 'fail', 'wolfsbane', 'cafru', 'tied', 'became', 'banner', 'summat', 'witchcraft', 'careful', 'wasnt', 'men', 'urgent', 'awarding', 'dried', 'exam', 'grand', 'give', 'dying', 'hired', 'leaning', 'isle', 'sec', 'agree', 'gun', 'fist', 'seeing', 'barons', 'processor', 'ushered', 'thieves', '90', 'disgusting', 'ireland', 'crockford', 'enough', 'pelt', 'delighted', 'bodyguards', 'filch', 'plotting', 'leaky', 'might', 'pattern', 'seared', 'advice', 'shelf', 'short', 'rid', 'she', 'conductor', 'faltered', 'upturned', 'hedwig', 'admired', 'popular', 'bearing', 'smelly', 'spawn', 'flow', 'billowing', 'lover', 'open', 'office', 'zoomed', 'man', 'ceased', 'scoop', 'jerking', 'tight', 'meddling', 'bun', 'sickle', 'behind', 'swooping', 'nibble', 'earths', 'dress', 'sound', 'alohomora', 'assistant', 'awaits', 'boot', 'smeltings', 'goblet', 'kissed', 'duster', 'okay', 'mightve', 'scabbets', 'insult', 'ticked', 'smallest', 'icecold', 'sprinting', 'scraped', 'gotten', 'again', 'teeth', 'cared', 'halfpast', 'over', 'dogs', 'manage', 'stuff', 'houses', 'backed', 'cups', 'swimming', 'asphodel', 'buck', 'nicer', 'tellin', 'losing', 'birds', 'replied', 'smarter', 'photographs', 'braver', 'rob', 'flitting', 'owner', 'liquids', 'seaweed', 'woven', 'utter', 'scroll', 'prove', 'fouled', 'brilliantly', 'mention', 'bit', 'shoulders', 'scooted', 'oldest', 'driveway', 'damaged', 'malade', 'waffle', 'ignore', 'told', 'rather', 'squeal', 'scabbers', 'werent', 'chest', 'alchemy', 'chf', 'voldemorts', 'chasers', 'topmost', 'sniffy', 'charlies', 'towered', 'broomstick', 'cruel', 'lap', 'wall', 'positive', 'protect', 'feelings', 'spectators', 'thousand', 'round', 'distinctly', 'outside', 'reminds', 'silent', 'skulking', 'wingardium', 'paisley', 'cereal', 'bunch', 'roaming', 'find', 'busy', 'heave', 'limp', 'amuse', 'doorway', 'trembled', 'wriggled', 'infusion', 'directions', 'quailed', 'eye', 'work', 'sad', 'childhood', 'reeled', 'snare', 'practicing', 'sn', 'annoy', 'deans', 'no', 'wight', 'spring', 'spot', 'paving', 'pointy', 'marked', 'recited', 'faintest', 'weighing', 'scales', 'squashed', 'referees', 'remembers', 'broadly', 'incredible', 'gibber', 'checkup', 'beg', 'upper', 'bid', 'five', 'blowing', 'collapsed', 'scratchy', 'results', 'dashing', 'cackle', 'theyve', 'corridors', 'volume', 'sidled', 'scowl', 'hundred', 'unlocked', 'sherry', 'protected', 'fan', 'mmyself', 'prodding', 'discuss', 'admiring', 'basket', 'warty', 'watched', 'crashing', 'horrorstruck', 'mercy', 'alibis', 'mancrushing', 'reply', 'helicopters', 'rows', 'clambered', 'disappear', 'metal', 'friar', 'raised', 'sore', 'dinner', 'humbertos', 'bald', 'buried', 'developments', 'dormitory', 'confused', 'erised', 'wet', 'rock', 'marges', 'throw', 'monday', 'undred', 'brilliant', 'thunder', 'genius', 'reveal', 'collecting', 'algie', 'calls', 'yell', 'monster', 'ttto', 'fred', 'trolls', 'motion', 'discovery', 'problem', 'currently', 'mine', 'here', 'tries', 'sugar', 'wandering', 'sport', 'harry', 'bounded', 'anyones', 'hocus', 'chasing', 'shining', 'youngest', 'spluttered', 'road', 'mans', 'waffling', 'streaked', 'hagrids', 'bewitched', 'versus', 'wizard', 'cauldron', 'will', 'children', 'seizing', 'slipping', 'sign', 'father', 'stage', 'destiny', 'fork', 'berserk', 'firsties', 'blame', 'eat', 'thief', 'meantime', 'unlike', 'fight', 'parties', 'overshadowed', 'stamps', 'fair', 'beechwood', 'student', 'hamburger', 'while', 'cases', 'ferociously', 'ministry', 'creeping', 'tell', 'start', 'dustcolored', 'sorcerers', 'vaults', 'violently', 'tweak', 'lamplike', 'forgets', 'rounded', 'sitting', 'curiously', 'thirtysix', 'big', 'bitter', 'palomino', 'riders', 'hurried', 'third', 'games', 'alternative', 'honest', 'staying', 'carrots', 'trowels', 'tub', 'arguments', 'boom', 'lunged', 'finnigan', 'good', 'note', 'darkness', 'roots', 'pulling', 'disapproving', 'untouched', 'visit', 'hides', 'thankyou', 'sppose', 'spinning', 'nudged', 'lizards', 'pomfrey', 'whinging', 'shaking', 'nosy', 'surprised', 'wave', 'sandy', 'remote', 'gloatingly', 'rotted', 'meanin', 'dads', 'sausage', 'portraits', 'demanded', 'sun', 'palace', 'angrily', 'identical', 'tarts', 'dislike', 'flyin', 'plant', 'creepy', 'potters', 'largest', 'tune', 'wake', 'fortunately', 'believed', 'lifting', 'came', 'stories', 'positions', 'seamus', 'swipe', 'admirers', 'deal', 'rivers', 'parted', 'personal', 'trifle', 'rebellions', 'violet', 'weve', 'deserves', 'spectacularly', 'clock', 'halloween', 'instructions', 'weasley', 'families', 'talent', 'legendary', 'myseff', 'astonishing', 'normal', 'lecturin', 'stain', 'package', 'help', 'fourposter', 'dudleykins', 'hufflepuffis', 'faithful', 'thunderous', 'soon', 'ingredients', 'flaming', 'rare', 'cap', 'blank', 'advanced', '17', 'moonlight', 'nervous', 'drawback', 'pause', 'cracked', 'clap', 'banell', 'exasperated', 'dribbling', 'watchin', 'evenings', 'growled', 'rowboat', 'pity', 'headmaster', 'scene', 'old', 'thud', 'pouring', 'scowling', 'parents', 'echoed', 'flocking', 'victims', 'sizzling', 'georges', 'delight', 'posts', 'figure', 'middle', 'disliked', 'difficult', 'grab', 'tearful', 'fences', 'finished', 'dad', 'how', 'worlds', 'helping', 'answering', 'granger', 'wit', 'slow', 'bang', 'cccant', 'blaise', 'skipping', 'pawed', 'case', 'whirled', 'greeted', 'cooked', 'stammering', 'slytherin\\twould', 'stung', 'millicent', 'wilderlooking', 'friendly', 'malfoyll', 'gloomylooking', 'wildlooking', 'bricks', 'sweeping', 'trophy', 'shapes', 'garden', 'steak', 'outofbounds', 'terms', 'painfully', 'werewolf', 'seat', 'cork', 'droned', 'mum', 'pick', 'works', 'until', 'queen', 'spoils', 'singled', 'stacks', 'sneezed', 'now', 'springy', 'snuffbox', 'albus', 'skin', 'longing', 'strained', 'merely', 'seize', 'turned', 'past', 'silently', 'liking', 'cheerful', 'vanishing', 'rooms', 'thanks', 'been', 'stomping', 'jim', 'casually', 'th', 'elses', 'than', 'livingroom', 'whatve', 'sorc', 'poke', 'combination', 'sleepless', 'term', 'overcoat', 'madly', 'oddly', 'stay', 'quidditch', 'mended', 'only', 'longer', 'possibly', 'loomed', 'expected', 'depressing', 'band', 'figg', 'tinge', 'feel', 'failed', 'firsthand', 'ron', 'bumped', 'windows', 'whove', 'played', 'flickered', 'mcgonagall', 'barbers', 'almost', 'full', 'special', 'wishing', 'stained', 'diggle', 'malfoy\\tstill', 'burning', 'threw', 'exciting', 'pavement', 'damp', 'tape', 'havin', 'excuses', 'chalk', 'hey', 'hope', 'rocks', 'destroyed', 'braced', 'vanish', 'behavior', 'relief', 'griphook', 'times', 'saved', 'notes', 'firstyear', 'haircuts', 'chewed', 'basic', 'kinda', 'west', 'morning', 'mysteriously', 'gulped', 'end', 'fault', 'cake', 'helmeted', 'sleeves', 'feast', 'house', 'ceiling', 'cackled', 'transfixed', 'sleek', 'bully', 'shhh', 'unwrap', 'torn', 'tap', 'bleaaargh', 'enchantments', 'downstairs', 'jigger', 'impressively', 'flanks', 'susan', 'duel', 'takes', 'odd', 'twentyfour', 'tone', 'answer', 'skidding', 'acreeping', 'spilling', 'disappointment', 'stinking', 'unpleasant', 'restricted', 'pearlywhite', 'classrooms', 'touching', 'askin', 'neither', 'blasted', 'yells', 'make', 'arent', 'paler', 'continued', 'peace', 'yerselves', 'earned', 'tripping', 'passes', 'lurking', 'youknowwhos', 'page', 'flooded', 'birthday', 'faithfully', 'also', 'boiled', 'computer', 'slain', 'players', 'roared', 'belt', 'yehd', 'hood', 'arrangements', 'mingled', 'flitwick', 'black', 'duddydums', 'furiously', 'lie', 'food', 'compartments', 'dampen', 'show', 'ankles', 'carpet', 'takin', 'all', 'spposed', 'bullets', 'oooooh', 'oyt', 'pythons', 'watch', 'roll', 'galloping', 'showers', 'teapot', 'mauve', 'along', 'proper', 'stuffed', 'pppoor', 'woods', 'leviosa', 'harness', 'spectacular', 'secret', 'wantin', 'arrival', 'net', 'less', 'bonnet', 'dumbled', 'favored', 'countercurse', 'furniture', 'found', 'tunnels', 'shhhh', 'ghostie', 'smile', 'notable', 'able', 'confed', 'winked', 'given', 'killed', 'swelled', 'goat', 'twigs', 'behead', 'there', 'direction', 'gorilla', 'sickles', 'lighter', 'bless', 'walking', 'television', 'quicker', 'line', 'loaded', 'carpets', 'detention', 'dota', 'flick', 'heaving', 'hem', 'loudest', 'prevent', 'falling', 'nine', 'tail', 'properly', 'eeylops', 'practice', 'accept', 'aargh', 'curious', 'unfortunately', 'portrait', 'johnson', 'track', 'fall', 'neat', 'certainly', 'return', 'nnothing', 'steadied', 'smoke', 'carts', 'silence', 'fetchin', 'ajar', 'bludgers', 'flailing', 'armchair', 'feet', 'newspaper', 'company', 'approached', 'marble', 'sardine', 'angel', 'wheedled', 'slinking', 'crowd', 'reckon', 'wonder', 'luck', 'stiffily', 'heart', 'hengist', 'spiny', 'overgrown', 'scissors', 'corned', 'knickerbockers', 'league', 'tyke', 'hooch', 'boils', 'knocked', 'slam', 'doorbell', 'drone', 'lumps', 'bobbing', 'me', 'beetles', 'jewels', 'inscription', 'meal', 'tick', 'flint', 'stupidly', 'pawn', 'probably', 'drinking', 'hid', 'sleeping', 'below', 'receiver', 'woman', 'definitely', 'spend', 'minuscule', 'popkin', 'turrets', 'trains', 'hermionell', 'normally', 'older', 'envelope', 'bagshot', 'budge', 'paint', 'day', 'hoodlums', 'bound', 'tightlipped', 'poisonous', 'entering', 'passed', 'rocketed', 'fateful', 'puddings', 'reflections', 'cobras', 'torches', 'grin', 'countercurses', 'sleepiness', 'steered', 'burn', 'supporting', 'sigh', 'pelted', 'clinging', 'statues', 'pair', 'nope', 'pocket', 'split', 'shocked', 'turkey', 'sobbed', 'seen', 'bendy', 'tailcoats', 'knuts', 'selfprotection', 'immortal', 'measuring', 'puts', 'particularly', 'rainbow', 'stitch', 'shakeem', 'boring', 'boarded', 'trick', 'dropped', 'speaking', 'argus', 'brandnew', 'heaved', 'dennis', 'ought', 'shout', 'cracker', 'faster', 'railway', 'scooping', 'dunderheads', 'geroff', 'whiteblond', 'overhearing', 'dry', 'refereeing', 'unblinkingly', 'hair', 'icing', 'precious', 'shortcuts', 'omen', 'rocket', 'engraved', 'birthdays', 'helped', 'bundle', 'dudley', 'stronger', 'overtake', 'tall', 'slotted', 'dursleys', 'instinct', 'goodll', 'achieve', 'spying', 'stale', 'carelessly', 'faint', 'shock', 'clutched', 'spasm', 'sweater', 'restless', 'huge', 'bread', 'relatives', 'disgusted', 'ccant', 'eggs', 'titles', 'blinded', 'goldenbrown', 'picked', 'pieces', 'tore', 'flashy', 'cheating', 'goose', 'didn', 'shelling', 'message', 'polkiss', 'mahogany', 'proud', 'choking', 'bc', 'pellets', 'dragon', 'walls', 'paracelsus', 'swore', 'sent', 'further', 'oughta', 'laughter', 'obviously', 'foul', 'purplefaced', 'bawling', 'cheering', 'its', 'whap', 'stupidest', 'service', 'those', 'raising', 'memorize', 'desperately', 'nimbus', 'circled', 'have', 'song', 'tried', 'however', 'jam', 'thing', 'helplessly', 'viridian', 'math', 'coming', 'edging', 'bats', 'lingering', 'or', 'herbology', 'ignored', 'cans', 'paced', 'low', 'playing', 'stare', 'luggage', 'specially', 'slowly', 'tidier', 'leglocker', 'doorknob', 'daylight', 'oooooooh', 'spent', 'glue', 'hold', 'peoples', 'becoming', 'inched', 'knew', 'sofa', 'fir', 'run', 'flowered', 'swept', 'bowed', 'ollivander', 'music', 'beautiful', 'dearest', 'beat', 'wanderings', 'vernon', 'hermiones', 'tiptoe', 'sweating', 'beech', 'delayed', 'waddling', 'wed', 'pasties', 'coat', 'happening', 'sincerely', 'b', 'comforting', 'talked', 'haven', 'speeds', 'gingerly', 'mainly', 'where', 'dean', 'rummaged', 'beamed', 'within', 'ruffled', 'easiest', 'dialing', 'evening', 'fang', 'spilled', 'lasted', 'gasp', 'fleet', 'scurried', 'willow', 'art', 'scuttled', 'recognized', 'declared', 'hanger', 'marbles', 'brim', 'reddish', 'fruitcake', 'thursday', 'sixtyfive', 'some', 'liquid', 'rule', 'chase', 'pretend', 'merry', 'taken', 'aha', 'making', 'vision', 'thirdfloor', 'mommy', 'shaggy', 'quivering', 'toys', 'grew', 'wands', 'nonexplodable', 'mouthed', 'long', 'stadium', 'polite', 'tarantula', 'minded', 'livid', 'shouldn', 'gallery', 'mellow', 'worst', 'rip', 'seekers', 'needlesharp', 'arm', 'croaked', 'tut', 'block', 'rest', 'considered', 'celebrating', 'relaxed', 'tortoise', 'grips', 'striding', 'tuft', 'snoozing', 'seventh', 'endofyear', 'minute', 'rickety', 'floor', 'flatter', 'greasy', 'inferno', 'protecting', 'wandwaving', 'fame', 'garlic', 'sneeze', 'else', 'candy', 'globes', 'chimed', 'trot', 'jerked', 'ways', 'screech', 'merlin', 'hotly', 'word', 'planned', 'walnut', 'hero', 'necessary', 'guards', 'edged', 'contains', 'gotta', 'cakes', 'courage', 'breakfast', 'cantve', 'trouble', 'cold', 'sp', 'lessened', 'funeral', 'edges', 'petunia', 'anyway', 'rot', 'abnormal', 'speedy', 'kiss', 'white', 'shoulder', 'tiny', 'bright', 'wrenched', 'eels', 'shook', 'badly', 'terry', 'dumbledorell', 'doi', 'yorkshire', 'worry', 'shouldve', 'existed', 'barn', 'postage', 'percy', 'sinking', 'whimper', 'forge', 'sheep', 'seven', 'fortytwo', 'injured', 'raisins', 'shade', 'sheer', 'rise', 'putouter', 'orange', 'gliding', 'starts', 'ggetting', 'flute', 'tosh', 'harder', 'warlocks', 'hurts', 'realized', 'far', 'against', 'sword', 'deeply', 'took', 'crossed', 'towns', 'feeble', 'broke', 'feverishly', 'saying', 'boa', 'team', 'borrow', 'his', 'doorways', 'loose', 'bent', 'partner', 'danger', 'spurt', 'substance', 'acting', 'pheasants', 'moren', 'clenched', 'tightly', 'longbottom', 'roof', 'melt', 'chess', 'sorrowful', 'straps', 'owl', 'credit', 'tendrils', 'dare', 'brocklehurst', 'booger', 'darting', 'pocuss', 'hugged', 'bodied', 'shadows', 'wizened', 'flicked', 'blocks', 'streets', 'fer', 'wax', 'fifty', 'brushed', 'rifle', 'craning', 'grayish', 'heavens', 'shoveling', 'diversion', 'foretold', 'sky', 'balls', 'mid', 'tree', 'counter', 'peered', 'need', 'this', 'curry', 'disappeared', 'wheezed', 'understand', 'blackpool', 'everyones', 'platform', 'moaning', 'mugs', 'depths', 'ambling', 'payin', 'flagged', 'seats', 'await', 'perks', 'says', 'second', 'couldn', 'drafts', 'perhaps', 'insisting', 'theres', 'muffled', 'look', 'blocked', 'engulfed', 'cushion', 'involved', 'youll', 'mines', 'mortis', 'reaching', 'crinkled', 'kidney', 'broom', 'tomatoes', 'made', 'victory', 's', 'glumly', 'cried', 'cats', 'prince', 'shrieked', 'freak', 'missing', 'tucked', 'history', 'eyeglasses', 'unicorns', 'lines', 'shrieking', 'badge', 'stream', 'porridge', 'peas', 'writer', 'tabby', 'insist', 'beginning', 'bloodred', 'lanterns', 'to', 'dumbledores', 'murmur', 'hogwarts', 'strong', 'footstool', 'forbidden', 'fluff', 'jabbed', 'sleep', 'pounding', 'am', 'burns', 'bouncing', 'murmured', 'ah', 'growls', 'bandaged', 'transparent', 'towers', 'lower', 'crooked', 'among', 'sssorry', 'ronald', 'exploded', 'traffic', 'greasily', 'slay', 'tongue', 'senses', 'wrong', 'say', 'majorca', 'advised', 'ninth', 'delights', 'bonnets', 'stared', 'offered', 'address', 'mule', 'wizardin', 'codswallop', 'saving', 'powders', 'watered', 'can', 'sniffing', 'wears', 'year', 'obvious', 'captain', 'fourlegged', 'weirdest', 'draw', 'surprising', 'alarm', 'rising', 'quirtell', 'decent', 'puffed', 'toad', 'breathlessly', 'bark', 'reminding', 'lives', 'course', 'destined', 'corridor', 'suit', 'meanwhile', 'opera', 'fried', 'surname', 'hams', 'seek', 'ended', 'mustve', 'ridgeback', 'roughly', 'possible', 'specimen', 'banged', 'sinister', 'gasped', 'bedrooms', 'banging', 'are', 'trailed', 'picking', 'punch', 'directing', 'crackpot', 'gently', 'singsong', 'muttered', 'about', 'sighed', 'scuse', 'matches', 'choose', 'sink', 'truthful', 'whatre', 'international', 'peevess', 'sounds', 'parcel', 'thankful', 'money', 'upon', 'ye', 'fine', 'sunday', 'pleasure', 'forgive', 'crisply', 'packages', 'personally', 'hush', 'joke', 'worried', 'jump', 'gulp', 'mentionin', 'getting', 'large', 'august', 'poltergeist', 'attacked', 'moans', 'flutter', 'malkin', 'gran', 'believes', 'tumbling', 'town', 'thats', 'believe', 'calmly', 'nerve', 'creatures', 'bottles', 'tuck', 'followers', 'straw', 'wrapped', 'idiot', 'righthanded', 'hebridean', 'bundled', 'wheres', 'butter', 'loud', 'collapsible', 'funny', 'cheek', 'spinner', 'steam', 'explain', 'golden', 'em', 'excitedly', 'wins', 'blinking', 'gordon', 'hiding', 'percyd', 'informed', 'confusing', 'humans', 'their', 'malfoys', 'sideways', 'witches', 'brown', 'several', 'nasty', 'barely', 'string', 'bursting', 'wildly', 'extremely', 'cross', 'lot', 'y', 'malfay', 'concern', 'tables', 'hurriedly', 'natural', 'bars', 'tend', 'plays', 'sweet', 'shrieks', 'gate', 'throwing', 'wherere', 'smarmy', 'suspected', 'produced', 'telescope', 'waitin', 'basketball', 'another', 'wish', 'urged', 'enemies', 'pay', 'beadyeyed', 'daisies', 'dawn', 'differentcolored', 'strengthened', 'painful', 'nostrils', 'doing', 'somehow', 'crazy', 'tufts', 'tallest', 'drooled', 'stood', 'stench', 'cringed', 'stroke', 'everywhere', 'boxes', 'lumbered', 'confiscated', 'disgruntled', 'fixedly', 'baskets', 'checked', 'hairs', 'step', 'skyward', 'defenseless', 'thirteen', 'lowered', 'snapes', 'slapping', 'realizing', 'lunchtime', 'speared', 'steamrollered', 'papers', 'heavy', 'centaur', 'explosion', 'a', 'lace', 'eclairs', 'roars', 'gamekeeping', 'cause', 'hed', 'closer', 'bucket', 'messin', 'ticket', 'chessboard', 'broomsticks', 'keep', 'fascinated', 'woodcroft', 'wounded', 'discussing', 'tickling', 'restaurants', 'shinin', 'socks', 'fix', 'winggardium', 'got', 'sorting', 'thank', 'scamander', 'choice', 'amazement', 'stranger', 'prickle', 'dinnertime', 'leaned', 'twisted', 'shutting', 'brary', 'twelvefoot', 'years', 'kettle', 'pelts', 'stopping', '4', 'savage', 'journey', 'piles', 'binns', 'delivered', 'schooland', 'gleefully', 'gray', 'beating', 'leaving', 'love', 'phoenixes', 'risk', 'glad', 'passing', 'beef', 'fright', 'longed', 'meters', 'changing', 'agreed', 'wroughtiron', 'afterward', 'trudged', 'grandfather', 'escape', 'cornflakes', 'rummaging', 'bike', 'grangers', 'sinks', 'suits', 'locomotor', 'pains', 'owls', 'spotted', 'chivalry', 'nosie', 'mustnt', 'video', 'shack', 'advancing', 'chair', 'relation', 'candies', 'unfortunate', 'sounding', 'dentists', 'being', 'spotting', 'dodge', 'cmere', 'because', 'trained', 'lastminute', 'draconis', 'which', 'punished', 'best', 'rubeus', 'tidy', 'ahead', 'were', 'beastie', 'botts', 'rang', 'alas', 'hole', 'bar', 'familys', 'laws', 'story', 'mastered', 'gold', 'spectacles', 'flop', 'judging', 'loathed', 'leaked', 'sooner', 'chappie', 'discoveries', 'twanging', 'pockets', 'golf', 'sapphires', 'jokes', 'asking', 'briskly', 'rattle', 'started', 'thatll', 'holds', 'experts', 'ii', 'troublesome', 'swooped', 'concerned', 'someone', 'promisin', 'mustached', 'resist', 'tasted', 'silverblue', 'quite', 'mckinnons', 'lips', 'percent', 'extraordinary', 'jog', 'whenever', 'shooting', 'ridiculous', 'stormy', 'letters', 'glittering', 'drinker', 'hardly', 'calming', 'armchairs', 'grunnion', 'warned', 'scruff', 'supposed', 'transfer', 'somethin', 'upward', 'fries', 'impossible', 'wheel', 'bbut', 'lunch', 'stranded', 'hurtling', 'wondering', 'either', 'opinion', 'sob', 'unused', 'carefully', 'alarming', 'smashed', 'squashy', 'city', 'coulda', 'minds', 'paces', 'fluid', 'boastful', 'paying', 'background', 'arrow', 'beginners', 'cat', 'carousel', 'centuries', 'lining', 'club', 'expecting', 'catches', 'dears', 'cleverness', 'buttered', 'fun', 'norriss', 'breathe', 'perenelle', 'easy', 'atop', 'collected', 'needin', 'frightening', 'tantrum', 'inside', 'repeated', 'upside', 'angrier', 'licorice', 'dungeon', 'eight', 'waist', 'moan', 'hundreds', 'couple', 'shrilly', 'maniacs', 'cauldrons', 'pelting', 'settling', 'blond', 'whistled', 'certain', 'click', 'sneered', 'sheet', 'vigorously', 'george', 'protection', 'swap', 'ourselves', 'pure', 'finally', 'seems', 'soft', 'party', 'draco', 'soothe', 'snatched', 'cry', 'itd', 'rulebreaking', 'beneath', 'ing', 'clapping', 'received', 'jig', 'rammed', 'threequarters', 'price', 'twinkled', 'aboutface', 'cowering', 'jumpy', 'tricked', 'clothes', 'cup', 'happier', 'calling', 'hogs', 'unpopular', 'fear', 'baggy', 'overtaking', 'removed', 'leather', 'alot', 'pitchblack', 'dunno', 'picture', 'popped', 'privately', 'shifty', 'soul', 'introduced', 'dangling', 'getups', 'horrified', 'owlery', 'mount', 'size', 'seriously', 'lumpy', 'numbers', 'wooden', 'red', 'rigid', 'thanksss', 'jars', 'auntie', 'stalagmite', 'wheezing', 'sc', 'common', 'snored', 'plunged', 'testing', 'puppet', 'pinpricks', 'detest', 'earlier', 'bill', 'grindelwald', 'commanded', 'ruined', 'melted', 'coughed', 'flexible', 'cleared', 'putting', 'joy', 'sharper', 'cracks', 'bidden', 'objects', 'mothers', 'charged', 'was', 'roast', 'fumes', 'nobody', 'information', 'doris', 'goyle', 'needles', 'katie', 'larger', 'bossy', 'nightfall', 'dial', 'heap', 'hagrid', 'violent', 'mar', 'bathilda', 'miserable', 'switching', 'chat', 'firmly', '1473', 'urgently', 'breathed', 'lid', 'clattering', 'visitors', 'uprising', 'strode', 'snowy', 'matter', 'hard', 'stretch', 'bearded', 'sight', 'weeks', 'enclosed', 'mouths', 'rabbitin', 'choked', 'introduce', 'gaunt', 'sheared', 'covers', 'straightened', 'lesson', 'clear', 'griffin', 'caput', 'control', 'wizardry', 'separated', 'points', 'whens', 'winning', 'knitting', 'fingertips', 'smiling', 'trolley', 'checkmate', 'ounce', 'you', 'baby', 'restaurant', 'gregory', 'crybabies', 'bullied', 'narrowly', 'strength', 'drive', 'flies', 'noises', 'blob', 'kings', 'wideeyed', 'perform', 'rubbing', 'miss', 'beaks', 'doubt', 'tentacles', 'splattered', 'pillow', 'cured', 'bertie', 'promised', 'dives', 'revolting', 'avoid', 'fourposters', 'cleansweep', 'gone', 'slowed', 'around', 'emptier', 'pipe', 'smoking', 'sixtyfifth', 'station', 'watching', 'jar', 'kent', 'tired', 'potato', 'happy', 'then', 'different', 'terrible', 'softest', 'gred', 'awake', 'sipped', 'mandy', 'snape', 'exasperation', 'known', 'flooding', 'especially', 'unsettled', 'iron', 'teach', 'sneer', 'bewitching', 'speakin', 'fours', 'weight', 'jackets', 'strange', 'curled', 'scaredlooking', 'these', 'near', 'ruefully', 'many', 'packed', 'begin', 'speak', 'hygienic', 'squeezed', 'scream', 'yourself', 'lee', 'doubled', 'tower', 'yehve', 'write', 'desire', 'cart', 'talk', 'teacher', 'diagonally', 'drifted', 'spots', 'remind', 'sizes', 'door', 'chilly', 'slightest', 'quiet', 'cars', 'audience', 'gradually', 'sprinted', 'use', 'studyin', 'betray', 'dazed', 'happiest', 'painted', 'joined', 'mice', 'pink', 'ensnaring', 'element', 'staggerin', 'slug', 'jus', 'twenty', 'saintly', 'closern', 'jello', 'ours', 'firecracker', 'flamel', 'chops', 'cursing', 'slightly', 'resign', 'grate', 'disappointed', 'announced', 'beware', 'starving', 'meddlin', 'stalking', 'passage', 'milkman', 'compared', 'willing', 'dog', 'reckons', 'harp', 'goodbye', 'loosening', 'insides', 'petrificus', 'frayed', 'stalactites', 'single', 'marmalade', 'liked', 'age', 'lighting', 're', 'neednt', 'choosing', 'blood', 'concentrating', 'pansy', 'grappling', 'knocking', 'stop', 'dwarf', 'nursed', 'nephew', 'corners', 'hind', 'broad', 'occasions', 'inch', 'buckled', 'git', 'flimsy', 'hurtled', 'feeling', 'buckle', 'locker', 'emetic', 'cloudy', 'names', 'students', 'lurch', 'dust', 'beak', 'room', 'walled', 'fidgeted', 'headfirst', 'looptheloops', 'managed', 'jealousy', 'drew', 'typical', 'loyalties', 'woulnt', 'clapped', 'enviously', 'fireworks', 'maze', 'pucey', 'mystry', 'gawked', 'lump', 'son', 'one', 'swelling', 'theyll', 'gloom', 'ducked', 'ollivanders', 'fireplace', 'fabulous', 'wilder', 'oddment', 'object', 'fewer', 'firework', 'lawn', 'bristol', 'spaces', 'much', 'ink', 'yelp', 'blankets', 'value', 'sniff', 'anger', 'tickled', 'treating', 'tom', 'grunnings', 'im', 'downright', 'whose', 'body', 'potatoes', 'clawed', 'remember', 'jot', 'brandy', 'missed', 'copy', 'skies', 'hufflepuffs', 'weekly', 'class', '1637', 'mouth', 'shallows', 'real', 'narrow', 'feels', 'nmat', 'bushy', 'pier', 'librarian', 'reading', 'laden', 'confessed', 'inches', 'punctures', 'duddys', 'biased', 'myself', 'night', 'afford', 'know', 'aaaargh', 'dead', 'strawberry', 'hitch', 'behave', 'chairs', 'markings', 'died', 'paused', 'fuller', 'draught', 'whispering', 'platters', 'daddys', 'march', 'schedules', 'hooded', 'goodun', 'youve', 'ending', 'poured', 'sea', 'goyles', 'smaller', 'highsecurity', 'exercise', 'fourth', 'strangely', 'shouldnt', 'fret', 'whatshername', 'counting', 'firecrackers', 'awkwardly', 'of', 'cartoon', 'pomftey', 'downward', 'began', 'flitwicles', 'wrongly', 'middecember', 'stops', 'fell', 'turns', 'take', 'winding', 'business', 'nonstop', 'praying', 'sagged', 'london', 'buildings', 'pin', 'too', 'send', 'morag', 'courageous', 'struggling', 'three', 'panted', 'burst', 'bell', 'whomustnotbenamed', 'hopeful', 'weasleys', 'owned', 'anothers', 'listen', 'nearby', 'unraveled', 'morgana', 'righthand', 'produces', 'grassy', 'mustache', 'glowing', 'meals', 'phyllida', 'lost', 'ful', 'streak', 'troops', 'lived', 'ping', 'shes', 'pouch', 'happen', 'swarthy', 'grimly', 'veins', 'unseen', 'freeze', 'crushed', 'fathers', 'ebony', 'potions', 'bravo', 'punching', 'hoping', 'exactly', 'mirror', 'endless', 'breeding', 'chatter', 'instruments', 'ice', 'yelps', 'fastenings', 'disturb', 'evil', 'leathercovered', 'beach', 'voldemort', 'unknown', 'caught', 'sobbing', 'shivering', 'sheets', 'during', 'defend', 'built', 'sobs', 'awaiting', 'private', 'sunshine', 'moldy', 'sense', 'oh', 'ruff', 'forevermore', 'differentsized', 'it', 'rub', 'gap', 'fiftytwo', 'pies', 'ruins', 'brains', 'switch', 'whiskery', 'punishing', 'shared', 'grow', 'mouse', 'patient', 'servant', 'tufty', 'putted', 'celebrate', 'smell', 'drawling', 'pass', 'puddin', 'damn', 'ley', 'training', 'warlock', 'suffering', 'theory', 'liar', 'refusing', 'percys', 'doin', 'even', 'streaming', 'expelled', 'potter', 'jordan', 'perched', 'head', 'arts', 'deaths', 'bat', 'monk', 'spirits', 'conduct', 'shields', 'suspended', 'unwelcome', 'determined', 'pleased', 'hoochs', 'branches', 'backward', 'directly', 'cheery', 'seized', 'arriving', 'convince', 'ashamed', 'bowling', 'diagon', 'tulips', 'weave', 'creep', 'frowning', 'arguing', 'shouts', 'tripe', 'beside', 'whizzing', 'fixed', 'necks', 'strawberries', 'sparks', 'following', 'separately', 'notices', 'patting', 'grasping', 'vicious', 'dotted', 'tricks', 'hide', 'imagine', 'greed', 'english', 'grudgingly', 'propped', 'battered', 'be', 'ravenclaw', 'bowl', 'smooth', 'survive', 'checking', 'hadnt', 'anythin', 'firelight', 'though', 'game', 'eager', 'skinny', 'lavender', 'binoculars', 'wham', 'handsome', 'flavor', 'nightmares', 'scented', 'arrows', 'miffed', 'doorstep', 'gorgons', 'cabbage', 'rubbish', 'loyal', 'heads', 'grandmother', 'little', 'excitement', 'stack', 'chased', 'sauce', 'lift', 'knight', 'scratching', 'girls', 'ringing', 'gryffindor', 'recent', 'somethings', 'wing', 'carved', 'bones', 'stupid', 'curly', 'wellknown', 'famous', 'proudly', 'blossoming', 'paraded', 'knowin', 'week', 'waggled', 'foribidden', 'sit', 'anticheating', 'swam', 'tipped', 'kicked', 'forward', 'blocking', 'front', 'species', 'means', 'bewildered', 'husband', 'postcard', 'animal', 'things', 'bridge', 'honestly', 'steeply', 'learn', 'buzz', 'ball', 'goblins', 'broken', 'swiftly', 'oy', 'commit', 'sniveled', 'crouching', 'malcolm', 'harold', 'sniffling', 'pointing', 'tricky', 'bestplayed', 'thump', 'neville', 'quirrells', 'chestnut', 'shove', 'hated', 'poking', 'freezing', 'jammed', 'nof', 'wasn', 'wings', 'nodding', 'crash', 'although', 'fixing', 'deserved', 'kill', 'stove', 'through', 'cunning', 'laugh', 'distracted', 'from', 'imagining', 'beard', 'wanted', 'noticed', 'floors', 'cryin', 'circe', 'explaining', 'wished', 'meeting', 'motorcycle', 'ring', 'lovely', 'dreamily', 'never', 'beaters', 'whisperers', 'breaths', 'pplaces', 'mean', 'at', 'edge', 'blinked', 'grinning', 'pigtails', 'toppled', 'fluffy', 'walk', 'drawn', 'that', 'mightn', 'england', 'sixth', 'sparkling', 'strict', 'turkeys', 'trapdoor', 'nevilles', 'growling', 'rain', 'looked', 'may', 'lanes', 'tightened', 'match', 'doormat', 'improve', 'met', 'ashenfaced', 'crawling', 'toffee', 'disgust', 'sweetums', 'easier', 'reasons', 'quickly', 'mother', 'footsteps', 'rations', 'chilled', 'heaven', 'slice', 'sometimes', 'months', 'try', 'norwegian', 'straining', 'mumbled', 'vanished', 'decorations', 'plan', 'gave', 'cockandbull', 'child', 'finishing', 'flatten', 'wee', 'redheaded', 'horns', 'soccer', 'mystery', 'gets', 'groups', 'kept', 'smiles', 'spider', 'earn', 'youknowwho', 'battle', 'master', 'welcome', 'lucky', 'rasping', 'ronniekins', 'stargazers', 'diggles', 'according', 'nowhere', 'hinge', 'furling', 'thirteenandahalf', 'snoozed', 'newscaster', 'problems', 'howard', 'maple', 'poked', 'bicycle', 'more', 'plump', 'drink', 'hmm', 'bombs', 'rattled', 'nitwit', 'spear', 'fists', 'cinemas', 'sadness', 'surged', 'six', 'cozy', 'card', 'chickened', 'wandered', 'cousin', 'professor', 'hour', 'brothers', 'fat', 'whispered', 'boat', 'scared', 'together', 'worked', 'laughing', 'wizarding', 'sleepily', 'borrowed', 'clicked', 'whole', 'our', 'intently', 'trodden', 'eyebrows', 'hushed', 'cokeworth', 'howled', 'human', 'beats', 'fullygrown', 'passageway', 'rocker', 'spore', 'tennis', 'hummed', 'depended', 'mess', 'uncle', 'grabbed', 'trembling', 'pitch', 'double', 'persuade', 'felt', 'sees', 'puzzlement', 'lend', 'dear', 'places', 'first', 'flourish', 'dirty', '31', 'handy', 'person', 'fierce', 'depressed', 'awarded', 'unsticking', 'patted', 'caughty', 'disappearing', 'poker', 'simple', 'downfall', 'blubber', 'escalator', 'speck', 'highway', 'powers', 'puffing', 'schools', 'potion', 'lately', 'yelled', 'hurting', 'led', 'whisper', 'stalagmites', 'program', 'unbelievable', 'boogers', 'scrambled', 'seemed', 'cliodna', 'own', 'box', 'flight', 'bucking', 'sunlight', 'blinding', 'taking', 'everyone', 'existence', 'we', 'piece', 'beans', 'magic', 'nearer', 'supreme', 'whimpered', 'shouting', 'knock', 'tapping', 'hearts', 'lightest', 'unable', 'smothering', 'wailed', '1945', 'radish', 'shabby', 'facetoface', 'blankly', 'h', 'scrawny', 'delicately', 'shoot', 'firs', 'map', 'grounds', 'throats', 'reserve', 'test', 'thickly', 'chuckle', 'passageways', 'nervously', 'jumped', 'warmth', 'outta', 'snuffling', 'pasty', 'cheeks', 'discovered', 'valuable', 'brokendown', 'waving', 'wouldn', 'daring', 'clamber', 'thanked', 'lets', 'riffraff', 'bag', 'suggested', 'tumbled', 'reliving', 'lose', 'milk', 'chorused', 'filling', 'tears', 'quivered', 'ducks', 'caretaker', 'heavily', 'agony', '2', 'bad', 'deputy', 'piled', 'oddball', 'icy', 'highheeled', 'code', 'vampires', 'frozen', 'used', 'nightmare', 'flamels', 'solutions', 'ladys', 'greek', 'clung', 'folks', 'countryside', 'coals', 'nevertheless', 'capture', 'lied', 'snowball', 'chips', 'set', 'yer', 'druidess', 'contact', 'guide', 'rushed', 'brushing', 'skimming', 'ear', 'asked', 'turban', 'smatter', 'arching', 'jerk', 'weaving', 'bluebell', 'really', 'romania', 'quickwitted', 'cards', 'confusion', 'fading', 'granite', 'equipment', 'pewter', 'street', 'um', 'woolen', 'ceremonys', 'g', 'hat', 'beefy', 'moved', 'stitches', 'goes', 'boots', 'doesnt', 'yerself', 'fond', 'humor', 'aside', 'bananas', 'thus', 'fondly', 'creams', 'hooting', 'stairs', 'boardedup', 'longingly', 'quirrell', 'adalbert', 'snake', 'wider', 'drops', 'scribbled', 'someones', 'entered', 'sniffed', 'anymore', 'password', 'burnt', 'lord', 'selling', 'presents', 'doubted', 'dense', 'blotts', 'messing', 'wherever', 'clearly', 'bred', 'stiffly', 'ruddy', 'dolphins', 'taped', 'younger', 'keepers', 'noiselessly', 'couldnt', 'talking', 'teh', 'wafting', 'shake', 'goods', 'undergrowth', 'scudding', 'ago', 'unbearable', 'sunk', 'woken', 'makers', 'concrete', 'yellowish', 'instantly', 'window', 'flocks', 'sneaking', 'read', 'crabbe', 'searched', 'hovering', 'ordinary', 'galloped', 'reared', 'shakily', 'change', 'bishop', 'appearance', 'gettin', 'oldfashioned', 'loss', 'zooming', 'aloud', 'profit', 'baked', 'sloped', 'scattering', 'hufflepuff', 'correcting', 'opposite', 'knuckle', 'assured', 'darted', 'disagree', 'encouraging', 'easter', 'rooting', 'plowed', 'field', 'shown', 'tie', 'loopy', 'bed', 'jordans', 'slender', 'resident', 'boil', 'sprang', 'home', 'absolutely', 'zoom', 'clearing', 'boys', 'turn', 'rapped', 'today', 'terror', 'halfheartedly', 'hut', 'not', 'umbrella', 'thirst', 'maroon', 'shrill', 'on', 'off', 'abou', 'blacks', 'examining', 'bunches', 'lying', 'copper', 'strangers', 'purple', 'visited', 'crammed', 'eyed', 'hoped', 'plate', 'cough', 'stuttering', 'pretending', 'mimblewimble', 'death', 'swig', 'push', 'afternoon', 'slugs', 'bear', 'finger', 'sprouts', 'firenzes', 'rons', 'velvety', 'pepper', 'moms', 'argument', 'prune', 'slip', 'just', 'sixty', 'secondary', 'fumbling', 'silvery', 'shortly', 'prewetts', 'dormice', 'twist', 'anxiety', 'twig', 'starry', 'serious', 'suspicious', 'flash', 'stoked', 'dodged', 'thumpin', '\\the', 'rescued', 'belong', 'eve', 'earmuffs', 'nosebleed', 'minerva', 'suddenly', 'gateway', 'marcus', 'pages', 'grasped', 'earsplitting', 'laps', 'glowed', 'everybody', 'burnished', 'vapor', 'spinach', 'simply', 'upf', 'bush', 'as', 'thronging', 'stopper', 'flying', 'holidays', 'lurched', 'ouch', 'firstever', 'doors', 'doom', 'comet', 'rugs', 'mimsy', 'relieved', 'under', 'tripped', 'shorter', 'direct', 'wants', 'nerves', 'haaa', 'clamped', 'wrist', 'square', 'gentle', 'whod', 'who', 'folded', 'sleeve', 'holiday', 'freed', 'uneasy', 'keen', 'gleamed', 'stone', 'knights', 'smoked', 'swished', 'spluttering', 'beaverskin', 'youd', 'building', 'untidy', 'filled', 'manner', 'misters', 'want', 'rose', 'thirty', 'begins', 'trees', 'chortled', 'timidly', 'shadowy', 'deafening', 'teams', 'mist', 'childishly', 'bye', 'for', 'vacation', 'taught', 'nneed', 'abbott', 'brazilian', 'emerged', 'smuggle', 'tackling', 'olivers', 'since', 'score', 'learning', 'dursley', 'lights', 'model', 'wondered', 'nose', 'miserably', 'perfect', 'trickling', 'arrivals', 'giving', 'top', 'dedalus', 'hesitated', 'main', 'breathing', 'mugwump', 'kind', 'sliding', 'elbow', 'comb', 'receive', 'crown', 'whacked', 'cant', 'ghost', 'snores', 'brain', 'twitched', 'eerie', 'ride', 'sounded', 'oclock', 'gardens', 'ggot', 'pompously', 'steel', 'grandfathers', 'youknow', 'shelves', 'bringing', 'ornate', 'bills', 'strapping', 'pig', 'christmas', 'repaired', 'astonishment', 'enjoys', 'meant', 'down', 'except', 'slot', 'creaked', 'colder', 'shop', 'ketchup', 'scandal', 'linen', 'air', 'flushed', 'glasses', 'slyly', 'climbing', 'exact', 'glider', 'drove', 'attack', 'mixed', 'jostled', 'tea', 'steps', 'lionfish', 'uncles', 'greeting', 'trust', 'festoons', 'engine', 'innocent', 'chip', 'mouthful', 've', 'talkingto', 'duels', 'shrink', 'wise', 'chances', 'flicking', 'bbbut', 'hatred', 'racket', 'underneath', 'drain', 'unicorn', 'ronan', 'shrank', 'bird', 'tackled', 'badger', 'distance', 'place', 'respect', 'backpack', 'gawking', 'enid', 'side', 'fluffys', 'scar', 'forest', 'flopped', 'knowledge', 'hates', 'wrestle', 'director', 'flitted', 'come', 'toil', 'an', 'peppermint', 'kit', 'bidin', 'landed', 'remorse', 'hocuspocus', 'grief', 'becomes', 'woke', 'windmill', 'dramatically', 'name', 'jobs', 'material', 'monkshood', 'family', 'gaps', 'study', 'mangled', 'marge', 'gain', 'dddark', 'astounding', 'stonewall', 'between', 'mr', 'terence', 'lit', 'nonsense', 'directed', 'exhausted', 'hungry', 'measure', 'squawked', 'creature', 'similar', 'curling', 'toads', 'plainly', 'hollow', 'airily', 'syllable', 'tapestries', 'live', 'irongray', 'tugging', 'sneaked', 'greenhouse', 'bothered', 'count', 'fur', 'hating', 'quaffle', 'forbid', 'freckles', 'shoulda', 'nights', 'would', 'serpent', 'stalactite', 'into', 'shops', 'dumpy', 'trusting', 'bolted', 'ooh', 'deep', 'tags', 'brightly', 'add', 'beet', 'feasts', 'limped', 'howling', 'steep', 'barrels', 'slytherins', 'dozen', 'stormed', 'convention', 'brew', 'secretary', 'pprofessor', 'break', 'keeps', 'glared', 'drowned', 'kids', 'mistaking', 'biggest', 'trash', 'spine', 'paddington', 'bustled', 'quick', 'form', 'interestinglooking', 'sorts', 'dearly', 'examined', 'tingle', 'wheeling', 'whimpering', 'steadily', 'screamed', 'shivered', 'pate', 'charms', 'blast', 'accountant', 'kissing', 'awful', 'going', 'water', 'brazil', 'bitterly', 'selfstirring', 'grumbled', 'circling', 'sudden', 'cantered', 'thicker', 'wont', 'repair', 'gulpin', 'peculiar', 'copying', 'crack', 'glitteryblack', 'heels', 'minister', 'kicking', 'instant', 'across', 'stacked', 'risks', 'wrestled', 'later', 'maybe', 'haircut', 'breezy', 'skinnier', 'headed', 'born', 'startled', 'sports', 'constrictor', 'postman', 'flipped', 'frying', 'branch', 'seating', 'ends', 'dratted', 'pound', 'he', 'sons', 'lingered', 'swapping', 'number', 'waved', 'midair', 'dinky', 'decoration', 'customer', 'hawk', 'wasted', 'tame', 'cupboard', 'raw', 'lightning', 'theyd', 'uniform', 'letting', 'balancing', 'grunt', 'bring', 'pineapple', 'wasters', 'abysmal', 'mumbling', 'ghoulie', 'sensible', 'heartstrings', 'stunt', 'anything', 'vast', 'fast', 'lady', 'happily', 'amazed', 'hand', 'cast', 'steering', 'attract', 'dabbed', 'wonderful', 'phone', 'referee', 'shaped', 'forgetmenot', 'commentary', 'inform', 'pigs', 'peppermints', 'treated', 'land', 'interest', 'cupll', 'cheerfully', 'makes', 'substitutes', 'order', 'easily', 'changed', 'slits', 'reached', 'fluttering', 'lopsided', 'turpin', 'scotch', 'triumphant', 'arsenius', 'galleon', 'shuffled', 'recognize', 'punched', 'midnight', 'sunburn', 'sickening', 'wringing', 'keeper', 'each', 'joking', 'way', 'shoutin', 'lies', 'vault', 'spelled', 'rapidly', 'thought', 'examine', 'terrified', 'softly', 'moons', 'lamb', 'train', 'appeared', 'think', 'aaaaaaaaaargh', 'lighted', 'gravy', 'tremble', 'concentrate', 'drearns', 'driving', 'crashed', 'pictures', 'hell', 'screaming', 'homework', 'insultin', 'pince', 'gritted', 'table', 'horn', 'tearstreaked', 'silver', 'cheered', 'friday', 'having', 'lids', 'angry', 'louder', 'binding', 'st', 'heartstring', 'owe', 'chaser', 'friends', 'emerald', 'fantastic', 'interrupted', 'bronze', 'struck', 'brandished', 'sing', 'fangll', 'swallow', 'gazed', 'kindly', 'gnight', 'whittled', 'pop', 'teaches', 'constrictors', 'moon', 'twin', 'shoved', 'trunk', 'player', 'curl', 'loads', 'stayed', 'cloaked', 'chamber', 'wickedly', 'basics', 'squeaked', 'demand', 'knowing', 'exchange', 'stunned', 'shaken', 'weeds', 'bezoar', 'lined', 'infernal', 'strangelooking', 'peevsie', 'hurry', 'plates', 'halflife', 'hooked', 'stifling', 'spells', 'bludger', 'gaze', 'running', 'row', 'call', 'nuts', 'groan', 'stiff', 'ripping', 'closely', 'streamed', 'lonely', 'session', 'rear', 'nonmagic', 'early', 'burly', 'prowling', 'amigo', 'surrounding', 'touches', 'familiar', 'tells', 'nothin', 'become', 'flickering', 'screams', 'gasps', 'chuckling', 'transform', 'contained', 'banquet', 'smarten', 'positively', 'die', '0', 'signature', 'loved', 'load', 'quarter', 'defeated', 'enemy', 'storm', 'blissfully', 'bonfire', 'barred', 'wait', 'see', 'ronnie', 'looking', 'care', 'hatched', 'crumpets', 'hills', 'vampire', 'egg', 'jinx', 'slid', 'severelooking', 'section', 'homemade', 'tomorrow', 'soared', 'celebrations', 'astronomy', 'swaying', 'roaring', 'forgotten', 'follows', 'practical', 'beds', 'rats', 'singlehanded', 'puff', 'alone', 'nothing', 'sayin', 'shrinking', 'grown', 'complicated', 'shows', 'stuck', 'had', 'hunched', 'mystified', 'whooshing', 'check', 'icicles', 'opening', 'amount', 'bonus', 'emeraldgreen', 'cover', 'doughnut', 'require', 'p', 'drunk', 'ginny', 'darkly', 'hours', 'events', 'if', 'fussing', 'vibrate', 'boredom', 'firenze', 'ststuttering', 'quiver', 'noise', 'dittany', 'ref', 'letter', 'threes', 'ideas', 'shortcut', 'served', 'spite', 'they', 'packing', 'disapprovingly', 'squares', 'prickled', 'effect', 'africa', 'beasts', 'nearsighted', 'asleep', 'snap', 'boiling', 'calm', 'kick', 'bathroom', 'glance', 'september', 'sprout', 'interesting', 'readin', 'wood', 'conducted', 'knowitall', 'stump', 'waiting', 'wipe', 'knees', 'answers', 'leading', 'upset', 'stole', 'coils', 'cloud', 'watering', 'mounting', 'irritably', 'trousers', 'foot', 'celebrity', 'stands', 'needs', 'fortunetelling', 'pinkfaced', 'shiny', 'scurrying', 'waited', 'bend', 'staircases', 'begging', 'stumped', 'lo', 'inky', 'bloody', 'twentyone', 'forgetfulness', 'vain', 'safety', 'gym', 'invisibility', 'showed', 'marshmallows', 'eleven', 'dragging', 'conjured', 'dreamed', 'sneak', 'unusually', 'gambled', 'curse', 'retracing', 'froze', 'refereed', 'misery', 'supple', 'scars', 'taste', 'crate', 'twisting', 'beaming', 'imprecise', 'bulstrode', 'killing', 'pub', 'flame', 'breaks', 'needed', 'chipped', 'trevor', 'heavier', 'simmering', 'award', 'realize', 'horror', 'gentlemans', 'expects', 'purpose', 'mind', 'pressure', 'collect', 'splashes', 'snow', 'sold', 'desks', 'sin', 'peeling', 'de', 'pickled', 'motionless', 'due', 'excuse', 'stand', 'tawny', 'fattenin', 'candles', 'movements', 'finds', 'wild', 'pep', 'completely', 'half', 'riding', 'wrote', 'scruffs', 'flew', 'smiled', 'comets', 'inter', 'replaced', 'steady', 'sternly', 'motorcycles', 'breakin', 'jellylegs', 'pack', 'lawns', 'flump', 'frost', 'express', 'tottering', 'thumping', 'havent', 'bundles', 'rooted', 'mattress', 'remarkably', 'lion', 'leap', 'nastier', 'whispers', 'gift', 'uproar', 'seeker', 'brother', 'compartment', 'including', 'backs', 'drenched', 'kinds', 'smoothly', 'wearing', 'foghorn', 'pupils', 'facedown', 'dumped', 'rumbling', 'daughter', 'fuming', 'sweat', 'ignoring', 'increases', 'mimsyporpington', 'panting', 'wound', 'move', 'oak', 'dashed', 'cheer', 'risky', 'balloon', 'poisons', 'soaring', 'mistake', 'kitchens', 'holly', 'dates', 'yawning', 'strings', 'swayed', 'hairy', 'signed', 'frightenin', 'touched', 'speeding', 'leave', 'rolls', 'chessmen', 'ray', 'doughnuts', 'catcalling', 'ickle', 'school', 'but', 'hitting', 'studying', 'colorcoding', 'knickerbocker', 'suppose', 'stubs', 'future', 'moments', 'young', 'did', 'dark', 'vomitflavored', 'swoop', 'stick', 'elastic', 'deepest', 'belonged', 'heard', 'f', 'belongs', 'saturday', 'bedroom', 'argue', 'parked', 'treble', 'bakers', 'speech', 'slithering', 'spell', 'effort', 'enter', 'chained', 'naturally', 'dangerously', 'claw', 'tenpin', 'ready', 'rumor', 'dull', 'strangled', 'shell', 'breeze', 'closed', 'centaurs', 'looks', 'sailed', 'fatherd', 'expect', 'rested', 'chuckled', 'feed', 'flat', 'somersault', 'heres', 'books', 'classes', 'fifthyear', 'coconut', 'sticking', 'gripped', 'key', 'legs', 'desk', 'outlawed', 'bare', 'nailed', 'patched', 'imagined', 'celebrated', 'women', 'yvonne', 'subjects', 'has', 'dully', 'up', 'slouched', 'life', 'snot', 'slept', 'gonna', 'favorite', 'sprawled', 'hovered', 'waking', 'scrawl', 'bunny', 'penalty', 'shrunk', 'standing', 'playin', 'shimmering', 'jeans', 'walked', 'crossbow', 'cream', 'record', 'brave', 'spreading', 'winter', 'sweets', 'center', 'glass', 'ranting', 'words', 'like', 'dudleys', 'heed', 'uric', 'windowsill', 'wednesday', 'twins', 'outstretched', 'slimy', 'throat', 'ages', 'nag', 'traveled', 'curtains', 'warmer', 'telescopes', 'in', 'shredded', 'hotel', 'owners', 'drift', 'eh', 'weather', 'exploding', 'bolt', 'las', 'higher', 'reflected', 'slowing', 'hammer', 'dwell', 'catching', 'pointed', 'arrived', 'everything', 'lowhanging', 'creeps', 'pajamas', 'rustling', 'delicious', 'flinging', 'poor', 'spokesgoblin', 'new', 'heel', 'arms', 'cranberry', 'slippery', 'freedom', 'bored', 'illegal', 'threatening', 'solid', 'fanatic', 'bank', 'continue', 'least', 'forgot', 'hermione', 'fitted', 'responsible', 'muggle', 'spray', 'bravery', 'tips', 'fit', 'fullgrown', 'leering', 'tugged', 'close', 'fie', 'spoke', 'hall', 'others', 'what', 'coolly', 'health', 'wrists', 'trusted', 'bothering', 'crying', 'embedded', 'stabbing', 'pulled', 'guarding', 'undursleyish', 'figures', 'weak', 'unwrapped', 'somebody', 'mcgonagalls', 'breaking', 'yeah', 'president', '382', 'somefink', 'excellent', 'dripping', 'trying', 'importantly', 'mostly', 'idea', 'lamps', 'dont', 'nah', 'canaryyellow', 'silly', 'remains', 'hunting', 'firm', 'mom', 'bath', 'accepted', 'country', 'rigged', 'parrot', 'yard', 'hop', 'length', 'aff', 'african', 'wind', 'panels', 'glory', 'something', 'bathrobes', 'humbugs', 'coins', 'chattering', 'staring', 'clicking', 'fishy', 'apologized', 'bloke', 'harbor', 'piped', 'classroom', 'staff', 'finest', 'extra', 'mcguffin', 'sticky', 'debt', 'hobby', 'other', 'so', 'plastic', 'fed', 'better', 'dining', 'drop', 'thundered', 'flatly', 'beetle', 'kip', 'railview', 'bravely', 'happens', 'ted', 'moleskin', 'stern', 'threeheaded', 'shuddered', 'yellow', 'clues', 'appear', 'splendid', 'whitefaced', 'whisk', 'hushing', 'filthy', 'mounds', 'pie', 'parking', 'kills', 'mars', 'impatient', 'hobbled', 'masters', 'spinnet', 'fouls', 'bounced', 'stretched', 'flock', 'dancing', 'striped', 'leaves', 'surely', 'do', 'strictly', 'discussion', 'programs', 'screwed', 'brick', 'go', 'hate', 'steeling', 'silk', 'politely', 'shopping', 'grayfaced', 'interfering', 'sleeps', 'listening', 'spindly', 'hasnt', 'book', 'sets', 'watery', 'fought', 'giggled', 'hourglasses', 'magical', 'lean', 'interested', 'rolled', 'goblets', 'proof', 'bodies', 'frantic', 'charm', 'reach', 'remembered', 'dunderhead', 'uncoiling', 'climb', 'clasped', 'peering', 'foodll', 'free', 'fiftyfoot', 'settled', 'safest', 'deadly', 'downpour', 'ever', 'hinges', 'cept', 'hag', 'drumming', 'droobles', 'comin', 'hows', 'shame', 'shape', 'shouted', 'comfort', 'cage', 'teddy', 'wouldnt', 'worrying', 'snout', 'important', 'awkward', 'somewhere', 'idly', 'knack', 'dreadlocks', 'possession', 'pebbles', 'visitor', 'blown', 'beyond', 'itll', 'bought', 'shoo', 'elfric', 'anxiously', 'crush', 'stepped', 'act', 'bloodcurdling', 'skip', 'statue', 'minutes', 'finchfletchley', 'plants', 'discover', 'twelve', 'writing', 'complex', 'separating', 'hopes', 'playfully', 'very', 'saw', 'dusty', 'magnificent', 'folds', 'hang', 'suspect', 'taller', 'wife', 'fifteen', 'mounted', 'sat', 'blew', 'small', 'rice', 'earth', 'perfectly', 'cheap', 'swapped', 'answered', 'resolution', 'path', 'movement', 'limping', 'constantly', 'parvati', 'pale', 'struggled', 'tracks', 'whyd', 'boomed', 'alive', 'powerful', 'smash', 'handknitted', 'job', 'tonight', 'fiftyeight', 'pile', 'displeased', 'farther', 'befuddle', 'swishing', 'sister', 'muffins', 'thick', 'usual', 'frowned', 'type', 'your', 'embers', 'date', 'alley', 'i', 'gringotts', 'snakelike', 't', 'staffroom', 'godrics', 'uncomfortable', 'grinding', 'agrippa', 'refuse', 'grasp', 'blackboard', 'tapdance', 'away', 'forty', 'boats', 'play', 'jetblack', 'nations', 'palms', 'vindictus', 'telling', 'reptile', 'animals', 'madam', 'voices', 'moaned', 'barks', 'stores', 'seventeen', 'summer', 'library', 'lecture', 'orders', 'ivy', 'admirable', 'couldve', 'flared', 'sorta', 'defrosting', 'straying', 'inspectors', 'acted', 'briefcase', 'likely', 'glanced', 'transfigured', 'spat', 'armor', 'question', 'questions', 'everythin', 'macdougal', 'suspicion', 'added', 'crumpled', 'gathering', 'cabbagesmelling', 'revenge', 'suspension', 'tank', 'muggles', 'overheard', 'wideawake', 'suspend', 'explained', 'amid', 'actually', 'coast', 'humming', 'promise', 'days', 'marched', 'grass', 'biscuits', 'nodded', 'bustling', 'pacing', 'dropping', 'killin', 'feared', 'zoo', 'armpit', 'bubbles', 'coffee', 'clutching', 'bowlers', 'mixture', 'don', 'mmm', 'painting', 'poster', 'turnips', 'horse', 'quills', 'askew', 'slammed', 'dragons', 'flavored', 'wand', 'poles', 'barked', 'fungi', 'hoisted', 'multilevel', 'lent', 'atta', 'bags', 'exits', 'collar', 'potionmaking', 'aconite', 'stamp', 'fiftypence', 'leader', 'armed', 'yours', 'babble', 'handful', 'guarded', 'chains', 'deliver', 'insisted', 'listened', 'cheers', 'great', 'aboard', 'trapped', 'fascinating', 'convinced', 'gang', 'public', 'invisible', 'dawned', 'bottom', 'sacked', 'stumbled', 'tremblin', 'most', 'neck', 'galleons', 'ugly', 'shapeless', 'glaring', 'thinking', 'hospital', 'greatest', 'reward', 'wiped', 'cmon', 'affect', 'grumpily', 'wine', 'bewitch', 'shore', 'hannah', 'affairs', 'lotta', 'managing', 'modern', 'toilet', 'left', 'teaching', 'circles', 'force', 'holes', 'route', 'brooms', 'cornered', 'quaver', 'pomfreys', 'thin', 'treacle', 'power', 'platforms', 'seventy', 'yet', 'parts', 'aback', 'lots', 'buy', 'hugging', 'snatch', 'staircase', 'boulder', 'green', 'whoop', 'face', 'science', 'bakery', 'dodges', 'interfere', 'part', 'spoken', 'us', 'birdcage', 'sorry', 'sweaty', 'crunching', 'fastened', 'wines', 'hunt', 'same', 'grunting', 'rage', 'nor', 'swarming', 'speaker', 'image', 'belonging', 'ordered', 'stones', 'blow', 'wizards', 'glided', 'squeak', 'grunted', 'attractive', 'charlie', 'whats', 'outrage', 'floating', 'robe', 'trials', 'tryin', 'clouds', 'unwrapping', 'deserted', 'imagination', 'invented', 'mountains', 'precisely', 'timeout', 'whelk', 'eagle', 'hardfaced', 'batteredlooking', 'hanging', 'waves', 'spun', 'rejoice', 'bin', 'swear', 'blonde', 'fiercely', 'muddy', 'complete', 'swift', 'chocolate', 'hearing', 'banks', 'squeaky', 'when', 'burying', 'howl', 'piers', 'indoors', 'malkins', 'such', 'scribbling', 'van', 'hooted', 'rubber', 'criticizing', 'sneakers', 'thickset', 'desert', 'showing', 'crowds', 'ham', 'wriggles', 'crystal', 'forecast', 'buying', 'emporium', 'hurrying', 'the', 'knot', 'erm', 'heaps', 'symbols', 'mere', 'grade', 'thoughts', 'fasten', 'season', 'slippers', 'chosen', 'secretly', 'astride', 'jupiter', 'stroked', 'spiral', 'torture', 'cara', 'flanked', 'unfolding', 'broomshed', 'heading', 'enraged', 'rich', 'dared', 'doorpost', 'stolen', 'paid', 'reflection', 'rarely', 'swung', 'follow', 'hidden', 'judge', 'pull', 'pursed', 'jacket', 'hatching', 'fudge', 'longestever', 'dived', 'coldly', 'smelled', 'jet', 'sandwiches', 'guessing', 'lazily', 'cows', 'bathrobe', 'dreading', 'kindling', 'cost', 'harrys', 'shed', 'thatthat', 'legged', 'cutting', 'escaping', 'duffers', 'distant', 'gossiped', 'sorcerer', 'sell', 'maps', 'booming', 'cloaks', 'careless', 'cut', 'wig', 'puncture', 'noticing', 'whooped', 'passwords', 'knobbly', 'hot', 'fire', 'monthold', 'fill', 'sallyanne', 'aunt', 'misses', 'board', 'youngsters', 'enclose', 'luminous', 'people', 'list', 'fluttered', 'late', 'denying', 'twinkling', 'troduced', 'dairy', 'flailed', 'sallow', 'ribbon', 'complained', 'stooping', 'parkinson', 'o', 'shuffling', 'quiz', 'behaving', 'tinkling', 'trances', 'clever', 'blue', 'noisy', 'monstrous', 'protective', 'smudged', 'dimpled', 'drawing', 'duties', 'pumpkins', 'brooding', 'fashion', 'bedtime', 'foreheads', 'ghosts', 'awe', 'everyoned', 'exams', 'seeming', 'horses', 'thoughtfully', 'tartan', 'hoops', 'hissing', 'bein', 'footfalls', 'observed', 'prefect', 'twos', 'shant', 'ledgers', 'mistaken', 'stored', 'leaping', 'meself', 'uses', 'stumbling', 'oaf', 'incredibly', 'gloves', 'treat', 'peeves', 'ruffledlooking', 'out', 'emptying', 'loudly', 'safely', 'horny', 'every', 'rush', 'drip', 'thern', 'pliable', 'flap', 'without', 'gales', 'whirl', 'petrified', 'spoil', 'chimney', 'temper', 'vibrating', 'resting', 'dusk', 'porcupine', 'shut', 'ten', 'muttering', 'concen', 'reasonably', 'alongside', 'sharing', 'swearing', 'barrier', 'experience', 'raspberry', 'bulging', 'scrabbling', 'dud', 'nearest', 'counted', 'groped', 'bother', 'ground', 'stuffing', 'treasure', 'scrawled', 'thinner', 'baronll', 'chopped', 'parks', 'ube', 'hit', 'rolling', 'headmistress', 'frog', 'carriages', 'til', 'unless', 'buyin', 'snakes', 'happiness', 'fighting', 'goin', 'crime', 'outstanding', 'sort', 'numbly', 'carry', 'haaaaaa', 'mountain', 'phoning', 'onto', 'facing', 'justin', 'gamekeeper', 'coats', 'slytherin', 'promptly', 'pretended', 'neighbors', 'sides', 'bated', 'toe', 'committing', 'rubies', 'wide', 'blur', 'feathers', 'redder', 'king', 'measured', 'straight', 'wiping', 'pan', 'ribs', 'wheeled', 'tottered', 'struggle', 'nail', 'does', 'placed', 'balloons', 'ones', 'trotting', 'marks', 'poison', 'forgetting', 'fallen', 'snarled', 'tibbles', 'threshold', 'nearly', 'goal', 'hammered', 'tapestry', 'aren', 'peaceful', 'foolish', 'crept', 'pudding', 'enormous', 'fourteen', 'beckoned', 'shall', 'safe', 'handing', 'mantelpiece', 'squealed', 'unexpected', 'pain', 'gallopin', 'impress', 'bitten', 'gangling', 'knuckles', 'already', 'oiled', 'spread', 'curtain', 'is', 'trimble', 'rattling', 'dumbfounded', 'pressed', 'differently', 'sure', 'laughed', 'wear', 'triumph', 'greenhouses', 'noble', 'fancy', 'dyeing', 'speechless', 'panic', 'admirals', 'carried', 'beady', 'point', 'faintly', 'memory', 'written', 'next', 'snatching', 'presenting', 'frame', 'looming', 'youre', 'wellorganized', 'frown', 'crouched', 'sharp', 'explode', 'ran', 'youknowwhat', 'landing', 'reciting', 'with', 'hooves', '1709', 'working', 'high', 'whos', 'toadless', 'fling', 'ropes', 'baruffio', 'noses', 'dirt', 'whatever', 'halfandhalf', 'nails', 'mistakes', 'guilty', 'camera', 'searching', 'hands', 'secrets', 'hissed', 'passersby', 'raise', 'malfoy', 'muscular', 'bullet', 'tangles', 'byebye', 'glistening', 'transport', 'slope', 'lip', 'bites', 'smelting', 'toasting', 'lamp', 'fly', 'sank', 'by', 'share', 'mysterious', 'fires', 'theyre', 'learned', 'sworn', 'crossly', 'clobbered', 'title', 'holding', 'bow', 'handkerchief', 'cane', 'gathered', 'whipped', 'chasin', 'put', 'vacuum', 'rumors', 'belting', 'complain', 'sometime', 'nicholas', 'investigations', 'daily', 'wastepaper', 'pork', 'chapter', 'adrian', 'recorded', 'panicking', 'anyone', 'ceremony', 'clouted', 'fiddling', 'ppick', 'faces', 'before', 'indeed', 'after', 'trunks', 'car', 'welsh', 'swollen', 'hungrily', 'bangs', 'motheaten', 'cigarette', 'cool', 'screeched', 'musty', 'types', 'echoes', 'id', 'flowing', 'happened', 'addressed', 'dream', 'logic', 'right', 'weighed', 'phoenix', 'sunrise', 'courtyard', 'wrinkled', 'mark', 'daddy', 'done', 'guess', 'beauty', 'sucked', 'lessons', 'powdered', 'gum', 'any', 'setting', 'expression', 'greener', 'lily', 'dividing', 'thumbs', 'unluckily', 'charging', 'whisked', 'anxious', 'cobbled', 'pumpkin', 'approve', 'tiptoed', 'mossy', 'rules', 'related', 'usually', 'archway', 'twitching', 'dump', 'often', 'stray', 'changin', 'ambition', 'unseated', 'straightening', 'suggest', 'married', 'view', 'visiting', 'breath', 'pppetunia', 'favor', 'burned', 'unbroken', 'decked', 'shone', 'friendship', 'ptolemy', 'gamekeepers', 'dragged', 'alberic', 'scoring', 'vol', 'strongly', 'spiders', 'whined', 'bacon', 'july', 'squinted', 'garage', 'replacing', 'climbed', 'useful', 'headless', 'peabrain', 'guard', 'chucked', 'improvement', 'wardrobes', 'bigger', 'honor', 'reports', 'moneys', 'sniggered', 'jolt', 'beings', 'decided', 'cracking', 'circumstances', 'dish', 'goshawk', 'turnin', 'toast', 'twentynine', 'norberts', 'sandwich', 'bean', 'isnt', 'joining', 'himself', 'needle', 'trail', 'vacationing', 'bloodiness', 'james', 'youth', 'nagging', 'higgs', 'cabbages', 'wohsi', 'prepared', 'always', 'photos', 'time', 'urgh', 'eagerly', 'favors', 'britain', 'weakly', 'panicked', 'followed', 'werewolves', 'finer', 'hes', 'admitted', 'guardin', 'catch', 'gruffly', 'forests', 'squid', 'smirking', 'tying', 'once', 'win', 'confuse', 'blackhaired', 'savaging', 'ter', 'robes', 'figgs', 'anywhere', 'politer', 'shriveled', 'goblin', 'boarding', 'cloak', 'knows', 'fool', 'thirtyseven', 'security', 'legend', 'whichever', 'tinned', 'wore', 'velvet', 'wristwatch', 'hmmm', 'get', 'bellowed', 'zombie', 'underground', 'weird', 'newt', 'yew', 'month', 'warm', 'dappled', 'him', 'strayed', 'angles', 'friend', 'boy', 'twice', 'pecked', 'darkened', 'drills', 'november', 'wolfing', 'alicia', 'canceled', 'owlfree', 'outlines', 'laid', 'squinting', 'seamuss', 'wristwatches', 'member', 'jinxing', 'delicate', 'gasping', 'thinnest', 'crackers', 'adventure', 'racing', 'er', 'lake', 'ask', 'boaters', 'moving', 'wicked', 'offended', 'mistletoe', 'sundays', 'eating', 'upright', 'keeping', 'search', 'living', 'boarhound', 'widemouthed', 'lullaby', 'gargoyles', 'gives', 'and', 'flames', 'dyeh', 'quentin', 'accidents', 'whistling', 'din', 'nurse', 'supply', 'scrambling', 'relax', 'true', 'pence', 'sizing', 'totalus', 'weatherman', 'hooknosed', 'seeping', 'fingers', 'hatches', 'standard', 'entranced', 'lay', 'tureens', 'zigzagging', 'prefects', 'yehll', 'cannonball', 'wormwood', 'meringue', 'exchanged', 'fortune', 'overhead', 'sahara', 'sandyhaired', 'plenty', 'bounds', 'apart', 'stool', 'drawl', 'meddle', 'feather', 'ward', 'provoked', 'smartly', 'account', 'toilets', 'quietly', 'level', 'alien', 'yawned', 'grubbylooking', 'accident', 'punishments', 'creak', 'bet', 'mummy', 'ache', 'overtook', 'parchment', 'allowed', 'blimey', 'ripped', 'wow', 'century', 'two', 'sausages', 'upstairs', 'slipped', 'pounced', 'colors', 'batty', 'thinks', 'wander', 'council', 'subtle', 'queasy', 'herself', 'piercing', 'light', 'unafraid', 'growyourownwarts', 'snowballs', 'ill', 'grades', 'basking', 'droop', 'huddle', 'mood', 'deliverin', 'dundee', 'longbottoms', 'thrown', 'tangled', 'drinks', 'scratch', 'mutely', 'cure', 'instead', 'remembrall', 'frighten', 'nicolas', 'stretching', 'phials', 'miranda', 'furor', 'desktop', 'likes', 'ha', 'tapped', 'outskirts', 'pushed', 'headlight', 'weirdos', 'scored', 'chose', 'swaggered', 'grip', 'clanging', 'few', 'plain', 'bodybind', 'barking', 'squat', 'random', 'brought', 'angelina', 'furious', 'hi', 'ears', 'scabby', 'defense', 'coward', 'still', 'pppotter', 'shoes', 'misty', 'gaped', 'gleaming', 'chance', 'quilt', 'mixing', 'sloping', 'throughout', 'ravenclaws', 'sleepy', 'massive', 'reported', 'hint', 'sticks', 'handed', 'seal', 'gigantic', 'winds', 'surrey', 'baron', 'snigget', 'glinting', 'raged', 'lookin', 'dungeons', 'flashed', 'nice', 'seventytwo', 'snapped', 'makin', 'hurt', 'astonishingly', 'rope', 'proudest', 'yeh', 'remembering', 'blink', 'clanged', 'yourselves', 'didnt', 'uncertainly', 'afternoons', 'baking', 'ragged', 'notice', 'drooling', 'patil', 'crutches', 'bandages', 'privet', 'forcing', 'rude', 'please', 'bogies', 'gains', 'fade', 'dumbledore', 'save', 'demands', 'eleventh', 'difficulty', 'worth', 'attention', 'tokens', 'bedspread', 'giant', 'tart', 'drag', 'blistering', 'herbs', 'hopped', 'unfair', 'forces', 'stamping', 'nettle', 'ducking', 'let', 'went', 'candlelight', 'whippy', 'zabini', 'hutontherock', 'drafty', 'ravine', 'roar', 'sharply', 'seconds', 'wrestling', 'devils', 'whoever', 'whistle', 'yelling', 'detentions', 'defeat', 'whys', 'nastily', 'forever', 'held', 'stra', 'goodness', 'ive', 'groaned', 'triumphs', 'understood', 'diffrent', 'trailing', 'bus', 'sixteen', 'flung', 'speed', 'snorted', 'proving', 'hats', 'village', 'chicken', 'buzzing', 'said', 'crashes', 'unusual', 'locked', 'argued', 'witch', 'color', 'voicing', 'aaah', 'patch', 'norris', 'cannot', 'grim', 'bungler', 'pierced', 'emptied', 'knowwho', 'viewers', 'teachers', 'harvey', 'wakes', 'neatly', 'bits', 'bite', 'mentioned', 'glittered', 'post', 'wash', 'birdwatchers', 'nettles', 'saliva', 'revenges', 'desserts', 'littie', 'annoyed', 'root', 'horrible', 'troll', 'hullo', 'crikey', 'describing', 'sweltering', 'teabags', 'corner', 'saints', 'rat', 'lead', 'performed', 'covered', 'javelin', 'gown', 'liver', 'hermlone', 'hoarse', 'rags', 'forgettin', 'enjoy', 'thrashing', 'flinched', 'twentieth', 'rabbit', 'towering', 'greatness', 'create', 'should', 'severus', 'mm', 'none', 'movies', 'tens', 'back', 'itself', 'sick', 'subject', 'could', 'taunting', 'miles', 'mad', 'nnot', 'airplane', 'clean', 'fact', 'frogs', 'mighta', 'cliff', 'apothecary', 'threethirty', 'vcr', 'signs', 'swarmin', 'useless', 'present', 'hello', 'vernons', 'sadly', 'ehru', 'lifted', 'eyes', 'dormitories', 'maker', 'muscle', 'glimpse', 'buffalo', 'impressed', 'divebombing', 'why', 'funnylooking', 'donkeys', 'prefer', 'deeper', 'shot', 'shouldnta', 'begun', 'thousands', 'rubbed', 'snitch', 'halt', 'scarlet', 'group', 'championship', 'absurd', 'leapt', 'tourists', 'comfortable', 'flattened', 'ridgebacks', 'well', 'fastest', 'lock', 'seem', 'antidark', 'cornelius', 'hedges', 'stools', 'beater', 'copyin', 'killers', 'glee', 'whom', 'visible', 'redhaired', 'drained', 'goodfornothing', 'newspapers', 'conk', 'horned', 'beast', 'bartender', 'whether', 'kitchen', 'afraid', 'handle', 'using', 'galoshes', 'bane', 'mutter', 'grateful', 'bottle', 'drummed', 'fury', 'singing', 'must', 'acid', 'amber', 'sir', 'shadow', 'tasty', 'pushing', 'starting', 'bbook', 'enjoying', 'stutter', 'skipped', 'fangs', 'weapon', 'pairs', 'apple', 'swishy', 'tights', 'dealer', 'm', 'licking', 'blackness', 'bettie', 'patrolled', 'otherwise', 'them', 'narrowed', 'bletchley', 'poorer', 'dreams', 'wanting', 'voice', 'chipolatas', 'ddont', 'keyhole', 'stomach', 'snoring', 'sending', 'naughty', 'columns', 'reason', 'news', 'called', 'toward', 'applause', 'tighter', 'space', 'ddefense', 'prodded', 'spending', 'frightened', 'staggered', 'li', 'driven', 'commentating', 'desperate', 'sneering', 'pinning', 'punishment', 'cannon', 'roundfaced', 'touch', 'blazing', 'worse', 'hung', 'reminded', 'damage', 'drifting', 'tin', 'frogmarched', 'claws', 'keys', 'somebodys', 'girl', 'finding', 'pickmeup', 'sweaters', 'nick', 'dangerous', 'mirrors', 'teacups', 'blanket', 'nott', 'hear', 'faded', 'darling', 'flattering', 'chooses', 'fields', 'dddont', 'transfiguration', 'crumbling', 'squeeze', 'kid', 'noted', 'caution', 'occurred', 'leaking', 'ate', 'report', 'brass', 'ahern', 'mud', 'decide', 'cloth', 'warning', 'puzzle', 'offhand', 'growing', 'thomas', 'truth', 'mrs', 'press', 'entrance', 'howls', 'her', 'sorted', 'gloomy', 'law', 'surprises', 'truly', 'folk', 'thirtynine', 'widely', 'sunny', 'fitch', 'halfway', 'passages', 'wriggling', 'castle', 'prophet', 'state', 'yesterday', 'carrying', 'last', 'pinned', 'ancient', 'sony', 'grownup', 'pretty', 'football', 'leg', 'earshot', 'funnyshaped', 'paper', 'juicy', 'jumping', 'hangings', 'forehead', 'turning', 'filchs', 'dyou', 'world', '3', 'won', 'stewed', 'tickets', 'unfolded', 'jaws', 'ahem', 'embarrassed', 'therefore', 'bending', 'elixir', 'shriek', 'eaten', 'starved', 'fetch', 'clinking', 'chewing', 'spleens', 'above', '1'}\n"
          ]
        }
      ],
      "source": [
        "# we have to get the \"unique\" item among total words\n",
        "vocab_set = set(total_words)\n",
        "print(len(total_words), len(vocab_set))\n",
        "print(vocab_set)"
      ]
    },
    {
      "cell_type": "code",
      "execution_count": 11,
      "metadata": {
        "id": "fDJNrHdhl_dk",
        "outputId": "5ccdf5fa-edb0-431a-832a-9794012d526c",
        "colab": {
          "base_uri": "https://localhost:8080/"
        }
      },
      "outputs": [
        {
          "output_type": "stream",
          "name": "stdout",
          "text": [
            "['\\the', '0', '1', '1473', '1637', '17', '1709', '1945', '2', '3', '31', '382', '4', '90', 'a', 'aaaaaaaaaargh', 'aaaargh', 'aaah', 'aargh', 'aback', 'abbott', 'able', 'abnormal', 'aboard', 'abou', 'about', 'aboutface', 'above', 'absolutely', 'absurd', 'abysmal', 'accept', 'accepted', 'accident', 'accidentally', 'accidents', 'according', 'account', 'accountant', 'ache', 'achieve', 'acid', 'aconite', 'acreeping', 'across', 'act', 'acted', 'acting', 'actually', 'adalbert', 'add', 'added', 'address', 'addressed', 'admirable', 'admirals', 'admired', 'admirers', 'admiring', 'admitted', 'adrian', 'advanced', 'advancing', 'adventure', 'advice', 'advised', 'aff', 'affairs', 'affect', 'afford', 'afraid', 'africa', 'african', 'after', 'afternoon', 'afternoons', 'afterward', 'again', 'against', 'age', 'ages', 'ago', 'agony', 'agree', 'agreed', 'agrippa', 'ah', 'aha', 'ahead', 'ahem', 'ahern', 'air', 'airily', 'airplane', 'ajar', 'alarm', 'alarming', 'alas', 'alberic', 'albus', 'alchemist', 'alchemy', 'algie', 'alibis', 'alicia', 'alien', 'alive', 'all', 'alley', 'allowed', 'almost', 'alohomora', 'alone', 'along', 'alongside', 'alot', 'aloud', 'already', 'also', 'alternative', 'although', 'always', 'am', 'amazed', 'amazement', 'amber', 'ambition', 'ambling', 'amid', 'amigo', 'among', 'amount', 'amuse', 'an', 'ancient', 'and', 'angel', 'angelina', 'anger', 'angles', 'angrier', 'angrily', 'angry', 'animal', 'animals', 'ankles', 'announced', 'annoy', 'annoyed', 'annoying', 'another', 'anothers', 'answer', 'answered', 'answering', 'answers', 'anticheating', 'antidark', 'anxiety', 'anxious', 'anxiously', 'any', 'anymore', 'anyone', 'anyones', 'anythin', 'anything', 'anytime', 'anyway', 'anywhere', 'apart', 'apologized', 'apothecary', 'appear', 'appearance', 'appeared', 'applause', 'apple', 'approached', 'approve', 'arching', 'archway', 'are', 'aren', 'arent', 'argue', 'argued', 'arguing', 'argument', 'arguments', 'argus', 'arm', 'armchair', 'armchairs', 'armed', 'armor', 'armpit', 'arms', 'around', 'arrangements', 'arrival', 'arrivals', 'arrived', 'arriving', 'arrow', 'arrows', 'arsenius', 'art', 'arts', 'as', 'ashamed', 'ashenfaced', 'aside', 'ask', 'asked', 'askew', 'askin', 'asking', 'asleep', 'asphodel', 'assistant', 'assured', 'astonishing', 'astonishingly', 'astonishment', 'astounding', 'astride', 'astronomy', 'at', 'ate', 'atop', 'atta', 'attack', 'attacked', 'attention', 'attract', 'attractive', 'audience', 'august', 'aunt', 'auntie', 'avoid', 'await', 'awaiting', 'awaits', 'awake', 'award', 'awarded', 'awarding', 'away', 'awe', 'awful', 'awkward', 'awkwardly', 'b', 'babble', 'baby', 'back', 'backed', 'background', 'backpack', 'backs', 'backward', 'bacon', 'bad', 'badge', 'badger', 'badly', 'bag', 'baggy', 'bags', 'bagshot', 'baked', 'bakers', 'bakery', 'baking', 'balancing', 'bald', 'ball', 'balloon', 'balloons', 'balls', 'bananas', 'band', 'bandaged', 'bandages', 'bane', 'banell', 'bang', 'banged', 'banging', 'bangs', 'bank', 'banks', 'banner', 'banquet', 'bar', 'barbers', 'bare', 'barely', 'bark', 'barked', 'barking', 'barks', 'barn', 'baron', 'baronll', 'barons', 'barred', 'barrels', 'barrier', 'bars', 'bartender', 'baruffio', 'baseball', 'basic', 'basics', 'basket', 'basketball', 'baskets', 'basking', 'bat', 'bated', 'bath', 'bathilda', 'bathrobe', 'bathrobes', 'bathroom', 'bats', 'battered', 'batteredlooking', 'battle', 'batty', 'bawling', 'bbbut', 'bbook', 'bbut', 'bc', 'be', 'beach', 'beady', 'beadyeyed', 'beak', 'beaks', 'beamed', 'beaming', 'bean', 'beans', 'bear', 'beard', 'bearded', 'bearing', 'beast', 'beastie', 'beasts', 'beat', 'beater', 'beaters', 'beating', 'beats', 'beautiful', 'beauty', 'beaverskin', 'became', 'because', 'beckoned', 'become', 'becomes', 'becoming', 'bed', 'bedroom', 'bedrooms', 'beds', 'bedspread', 'bedtime', 'beech', 'beechwood', 'beef', 'beefy', 'been', 'beet', 'beetle', 'beetles', 'before', 'befuddle', 'beg', 'began', 'begging', 'begin', 'beginners', 'beginning', 'begins', 'begun', 'behave', 'behaving', 'behavior', 'behead', 'behind', 'bein', 'being', 'beings', 'believe', 'believed', 'believes', 'bell', 'bellowed', 'belong', 'belonged', 'belonging', 'belongs', 'below', 'belt', 'belting', 'bend', 'bending', 'bendy', 'beneath', 'bent', 'berserk', 'bertie', 'beside', 'best', 'bestplayed', 'bet', 'betray', 'better', 'bettie', 'between', 'beware', 'bewildered', 'bewitch', 'bewitched', 'bewitching', 'beyond', 'bezoar', 'biased', 'bicycle', 'bid', 'bidden', 'bidin', 'big', 'bigger', 'biggest', 'bike', 'bill', 'billowing', 'bills', 'bin', 'binding', 'binns', 'binoculars', 'bird', 'birdcage', 'birds', 'birdwatchers', 'birthday', 'birthdays', 'biscuits', 'bishop', 'bit', 'bite', 'bites', 'bits', 'bitten', 'bitter', 'bitterly', 'black', 'blackboard', 'blackhaired', 'blackness', 'blackpool', 'blacks', 'blaise', 'blame', 'blank', 'blanket', 'blankets', 'blankly', 'blast', 'blasted', 'blazing', 'bleaaargh', 'bless', 'bletchley', 'blew', 'blimey', 'blinded', 'blinding', 'blink', 'blinked', 'blinking', 'blissfully', 'blistering', 'blob', 'block', 'blocked', 'blocking', 'blocks', 'bloke', 'blond', 'blonde', 'blood', 'bloodcurdling', 'bloodiness', 'bloodred', 'bloody', 'blossoming', 'blotts', 'blow', 'blowing', 'blown', 'blubber', 'bludger', 'bludgers', 'blue', 'bluebell', 'blundering', 'blur', 'blurted', 'blushed', 'boa', 'board', 'boarded', 'boardedup', 'boarding', 'boarhound', 'boastful', 'boat', 'boaters', 'boats', 'bobbing', 'bodied', 'bodies', 'body', 'bodybind', 'bodyguards', 'bogies', 'boil', 'boiled', 'boiling', 'boils', 'bolt', 'bolted', 'bombs', 'bones', 'bonfire', 'bonnet', 'bonnets', 'bonus', 'booger', 'boogers', 'book', 'books', 'boom', 'boomed', 'booming', 'boot', 'boots', 'bored', 'boredom', 'boring', 'born', 'borrow', 'borrowed', 'bossy', 'both', 'bother', 'bothered', 'bothering', 'bottle', 'bottles', 'bottom', 'botts', 'bought', 'boulder', 'bounced', 'bouncing', 'bound', 'bounded', 'bounds', 'bow', 'bowed', 'bowl', 'bowlers', 'bowling', 'box', 'boxes', 'boy', 'boys', 'braced', 'brain', 'brains', 'branch', 'branches', 'brandished', 'brandnew', 'brandy', 'brary', 'brass', 'brave', 'bravely', 'braver', 'bravery', 'bravo', 'brazil', 'brazilian', 'bread', 'break', 'breakfast', 'breakin', 'breaking', 'breaks', 'breath', 'breathe', 'breathed', 'breathing', 'breathlessly', 'breaths', 'bred', 'breeding', 'breeze', 'breezy', 'brew', 'brick', 'bricks', 'bridge', 'briefcase', 'bright', 'brightly', 'brilliant', 'brilliantly', 'brim', 'bring', 'bringing', 'briskly', 'bristol', 'britain', 'broad', 'broadly', 'brocklehurst', 'broke', 'broken', 'brokendown', 'bronze', 'brooding', 'broom', 'brooms', 'broomshed', 'broomstick', 'broomsticks', 'brother', 'brothers', 'brought', 'brown', 'brushed', 'brushing', 'bubbles', 'buck', 'bucket', 'bucking', 'buckle', 'buckled', 'budge', 'buffalo', 'build', 'building', 'buildings', 'built', 'bulging', 'bullet', 'bullets', 'bullied', 'bully', 'bulstrode', 'bumped', 'bun', 'bunch', 'bunches', 'bundle', 'bundled', 'bundles', 'bungler', 'bunny', 'buried', 'burly', 'burn', 'burned', 'burning', 'burnished', 'burns', 'burnt', 'burst', 'bursting', 'burying', 'bus', 'bush', 'bushy', 'business', 'bustled', 'bustling', 'busy', 'but', 'butter', 'buttered', 'buy', 'buyin', 'buying', 'buzz', 'buzzing', 'by', 'bye', 'byebye', 'cabbage', 'cabbages', 'cabbagesmelling', 'cackle', 'cackled', 'cafru', 'cage', 'cake', 'cakes', 'call', 'called', 'calling', 'calls', 'calm', 'calming', 'calmly', 'came', 'camera', 'can', 'canaryyellow', 'canceled', 'candies', 'candlelight', 'candles', 'candy', 'cane', 'cannon', 'cannonball', 'cannot', 'cans', 'cant', 'cantered', 'cantve', 'cap', 'captain', 'capture', 'caput', 'car', 'cara', 'card', 'cards', 'care', 'cared', 'careful', 'carefully', 'careless', 'carelessly', 'caretaker', 'carousel', 'carpet', 'carpets', 'carriages', 'carried', 'carrots', 'carry', 'carrying', 'cars', 'cart', 'cartoon', 'carts', 'carved', 'case', 'cases', 'cast', 'castle', 'casually', 'cat', 'catcalling', 'catch', 'catches', 'catching', 'cats', 'caught', 'caughty', 'cauldron', 'cauldrons', 'cause', 'caution', 'ccant', 'cccant', 'ceased', 'ceiling', 'celebrate', 'celebrated', 'celebrating', 'celebrations', 'celebrity', 'centaur', 'centaurs', 'center', 'centuries', 'century', 'cept', 'cereal', 'ceremony', 'ceremonys', 'certain', 'certainly', 'chained', 'chains', 'chair', 'chairs', 'chalk', 'chamber', 'championship', 'chance', 'chances', 'change', 'changed', 'changin', 'changing', 'chappie', 'chapter', 'charged', 'charging', 'charlie', 'charlies', 'charm', 'charms', 'chase', 'chased', 'chaser', 'chasers', 'chasin', 'chasing', 'chat', 'chatter', 'chattering', 'cheap', 'cheating', 'check', 'checked', 'checking', 'checkmate', 'checkup', 'cheek', 'cheeks', 'cheer', 'cheered', 'cheerful', 'cheerfully', 'cheering', 'cheers', 'cheery', 'chess', 'chessboard', 'chessmen', 'chest', 'chestnut', 'chewed', 'chewing', 'chf', 'chicken', 'chickened', 'child', 'childhood', 'childishly', 'children', 'chilled', 'chilly', 'chimed', 'chimney', 'chip', 'chipolatas', 'chipped', 'chips', 'chivalry', 'chocolate', 'choice', 'choked', 'choking', 'choose', 'chooses', 'choosing', 'chopped', 'chops', 'chortled', 'chorused', 'chose', 'chosen', 'christmas', 'chucked', 'chuckle', 'chuckled', 'chuckling', 'cigarette', 'cinemas', 'circe', 'circled', 'circles', 'circling', 'circumstances', 'circus', 'city', 'clamber', 'clambered', 'clamped', 'clanged', 'clanging', 'clap', 'clapped', 'clapping', 'clasped', 'class', 'classes', 'classroom', 'classrooms', 'clattering', 'claw', 'clawed', 'claws', 'clean', 'cleansweep', 'clear', 'cleared', 'clearing', 'clearly', 'clenched', 'clever', 'cleverness', 'click', 'clicked', 'clicking', 'cliff', 'climb', 'climbed', 'climbing', 'clinging', 'clinking', 'cliodna', 'cloak', 'cloaked', 'cloaks', 'clobbered', 'clock', 'close', 'closed', 'closely', 'closer', 'closern', 'cloth', 'clothes', 'cloud', 'clouds', 'cloudy', 'clouted', 'club', 'clue', 'clues', 'clung', 'clutched', 'clutching', 'cmere', 'cmon', 'coals', 'coast', 'coat', 'coats', 'cobbled', 'cobras', 'cockandbull', 'coconut', 'code', 'codswallop', 'coffee', 'coils', 'coins', 'cokeworth', 'cold', 'colder', 'coldly', 'collapsed', 'collapsible', 'collar', 'collect', 'collected', 'collecting', 'color', 'colorcoding', 'colors', 'columns', 'comb', 'combination', 'come', 'comet', 'comets', 'comfort', 'comfortable', 'comforting', 'comin', 'coming', 'commanded', 'commentary', 'commentating', 'commit', 'committing', 'common', 'company', 'compared', 'compartment', 'compartments', 'complain', 'complained', 'complete', 'completely', 'complex', 'complicated', 'computer', 'concen', 'concentrate', 'concentrating', 'concern', 'concerned', 'concrete', 'conduct', 'conducted', 'conductor', 'confed', 'confessed', 'confiscated', 'confuse', 'confused', 'confusing', 'confusion', 'conjured', 'conk', 'considered', 'constantly', 'constrictor', 'constrictors', 'contact', 'contained', 'containing', 'contains', 'continue', 'continued', 'contrary', 'control', 'convention', 'convince', 'convinced', 'cooked', 'cool', 'coolly', 'copper', 'copy', 'copyin', 'copying', 'core', 'cork', 'corned', 'cornelius', 'corner', 'cornered', 'corners', 'cornflakes', 'correcting', 'corridor', 'corridors', 'cost', 'cough', 'coughed', 'could', 'coulda', 'couldn', 'couldnt', 'couldve', 'council', 'count', 'counted', 'counter', 'countercurse', 'countercurses', 'counting', 'country', 'countryside', 'couple', 'courage', 'courageous', 'course', 'courtyard', 'cousin', 'cover', 'covered', 'covers', 'coward', 'cowering', 'cows', 'cozy', 'crabbe', 'crack', 'cracked', 'cracker', 'crackers', 'cracking', 'crackpot', 'cracks', 'crammed', 'cranberry', 'craning', 'crash', 'crashed', 'crashes', 'crashing', 'crate', 'crawling', 'crazy', 'creak', 'creaked', 'cream', 'creams', 'create', 'creature', 'creatures', 'credit', 'creep', 'creepers', 'creeping', 'creeps', 'creepy', 'crept', 'cried', 'crikey', 'crime', 'cringed', 'crinkled', 'crisis', 'crisply', 'criticizing', 'croaked', 'crockford', 'crooked', 'cross', 'crossbow', 'crossed', 'crossly', 'crouched', 'crouching', 'crowd', 'crowded', 'crowds', 'crown', 'cruel', 'crumbling', 'crumpets', 'crumpled', 'crunching', 'crush', 'crushed', 'crutches', 'cry', 'crybabies', 'cryin', 'crying', 'crystal', 'cunning', 'cup', 'cupboard', 'cupll', 'cups', 'cure', 'cured', 'curious', 'curiously', 'curl', 'curled', 'curling', 'curly', 'currently', 'curry', 'curse', 'cursed', 'curses', 'cursing', 'curtain', 'curtains', 'cushion', 'customer', 'cut', 'cutting', 'dabbed', 'dad', 'daddy', 'daddys', 'dads', 'daily', 'dairy', 'daisies', 'damage', 'damaged', 'damn', 'damp', 'dampen', 'dancing', 'danger', 'dangerous', 'dangerously', 'dangers', 'dangling', 'dappled', 'dare', 'dared', 'daring', 'dark', 'darkened', 'darkly', 'darkness', 'darling', 'darted', 'darting', 'dashed', 'dashing', 'date', 'dates', 'daughter', 'dawn', 'dawned', 'day', 'daylight', 'days', 'dazed', 'dddark', 'dddont', 'ddefense', 'ddont', 'de', 'dead', 'deadly', 'deafening', 'deal', 'dealer', 'dean', 'deans', 'dear', 'dearest', 'dearly', 'dears', 'death', 'deaths', 'debt', 'decent', 'decide', 'decided', 'decked', 'declared', 'decoration', 'decorations', 'dedalus', 'deep', 'deeper', 'deepest', 'deeply', 'defeat', 'defeated', 'defend', 'defense', 'defenseless', 'definitely', 'defrosting', 'delayed', 'delicate', 'delicately', 'delicious', 'delight', 'delighted', 'delights', 'deliver', 'delivered', 'deliverin', 'demand', 'demanded', 'demands', 'dennis', 'dense', 'dentists', 'denying', 'depended', 'depressed', 'depressing', 'depths', 'deputy', 'describing', 'desert', 'deserted', 'deserved', 'deserves', 'desire', 'desk', 'desks', 'desktop', 'desperate', 'desperately', 'desserts', 'destined', 'destiny', 'destroyed', 'detention', 'detentions', 'determined', 'detest', 'developments', 'devils', 'devon', 'diagon', 'diagonally', 'dial', 'dialing', 'did', 'didn', 'didnt', 'die', 'died', 'difference', 'different', 'differentcolored', 'differently', 'differentsized', 'difficult', 'difficulty', 'diffrent', 'diggle', 'diggles', 'dimpled', 'din', 'dining', 'dinky', 'dinner', 'dinnertime', 'direct', 'directed', 'directing', 'direction', 'directions', 'directly', 'director', 'dirt', 'dirty', 'disagree', 'disappear', 'disappeared', 'disappearing', 'disappointed', 'disappointment', 'disapproving', 'disapprovingly', 'discover', 'discovered', 'discoveries', 'discovery', 'discuss', 'discussing', 'discussion', 'disgruntled', 'disgust', 'disgusted', 'disgusting', 'dish', 'dishes', 'dislike', 'disliked', 'displeased', 'distance', 'distant', 'distinctly', 'distracted', 'disturb', 'dittany', 'dive', 'divebombing', 'dived', 'diversion', 'dives', 'dividing', 'do', 'dodge', 'dodged', 'dodges', 'does', 'doesnt', 'dog', 'dogs', 'doi', 'doin', 'doing', 'dolphins', 'don', 'done', 'donkeys', 'dont', 'doom', 'door', 'doorbell', 'doorknob', 'doormat', 'doorpost', 'doors', 'doorstep', 'doorway', 'doorways', 'doris', 'dormice', 'dormitories', 'dormitory', 'dota', 'dotted', 'double', 'doubled', 'doubt', 'doubted', 'doughnut', 'doughnuts', 'down', 'downfall', 'downpour', 'downright', 'downstairs', 'downward', 'dozen', 'draco', 'draconis', 'drafts', 'drafty', 'drag', 'dragged', 'dragging', 'dragon', 'dragons', 'drain', 'drained', 'dramatically', 'dratted', 'draught', 'draw', 'drawback', 'drawing', 'drawl', 'drawling', 'drawn', 'dreading', 'dreadlocks', 'dream', 'dreamed', 'dreamily', 'dreams', 'drearns', 'drenched', 'dress', 'dressed', 'drew', 'dribbling', 'dried', 'drift', 'drifted', 'drifting', 'drills', 'drink', 'drinker', 'drinking', 'drinks', 'drip', 'dripping', 'drive', 'driven', 'driveway', 'driving', 'drone', 'droned', 'droobles', 'drooled', 'drooling', 'droop', 'drop', 'dropped', 'dropping', 'drops', 'drove', 'drowned', 'druidess', 'drummed', 'drumming', 'drunk', 'dry', 'ducked', 'ducking', 'ducks', 'dud', 'duddydums', 'duddys', 'dudley', 'dudleykins', 'dudleys', 'due', 'duel', 'duels', 'duffers', 'dull', 'dully', 'dumbfounded', 'dumbled', 'dumbledore', 'dumbledorell', 'dumbledores', 'dump', 'dumped', 'dumpy', 'dundee', 'dunderhead', 'dunderheads', 'dungeon', 'dungeons', 'dunno', 'during', 'dursley', 'dursleys', 'dusk', 'dust', 'dustcolored', 'duster', 'dusty', 'duties', 'dwarf', 'dwell', 'dyeh', 'dyeing', 'dying', 'dyou', 'each', 'eager', 'eagerly', 'eagle', 'ear', 'earlier', 'early', 'earmuffs', 'earn', 'earned', 'ears', 'earshot', 'earsplitting', 'earth', 'earths', 'easier', 'easiest', 'easily', 'easter', 'easy', 'eat', 'eaten', 'eating', 'ebony', 'echoed', 'echoes', 'eclairs', 'edge', 'edged', 'edges', 'edging', 'eels', 'eerie', 'eeylops', 'effect', 'effort', 'egg', 'eggs', 'eh', 'ehru', 'eight', 'either', 'elastic', 'elbow', 'element', 'elephant', 'eleven', 'eleventh', 'elfric', 'elixir', 'else', 'elses', 'em', 'embarrassed', 'embedded', 'embers', 'emerald', 'emeraldgreen', 'emerged', 'emetic', 'emporium', 'emptied', 'emptier', 'empty', 'emptying', 'enchantments', 'enclose', 'enclosed', 'encouraging', 'end', 'ended', 'ending', 'endless', 'endofyear', 'ends', 'enemies', 'enemy', 'engine', 'england', 'english', 'engraved', 'engulfed', 'enid', 'enjoy', 'enjoying', 'enjoys', 'enormous', 'enough', 'enraged', 'ensnaring', 'enter', 'entered', 'entering', 'entrance', 'entranced', 'envelope', 'enviously', 'equipment', 'er', 'erised', 'erm', 'erupted', 'escalator', 'escape', 'escaping', 'especially', 'eve', 'even', 'evening', 'evenings', 'events', 'ever', 'every', 'everybody', 'everyone', 'everyoned', 'everyones', 'everythin', 'everything', 'everywhere', 'evil', 'exact', 'exactly', 'exam', 'examine', 'examined', 'examining', 'exams', 'exasperated', 'exasperation', 'excellent', 'except', 'exchange', 'exchanged', 'excited', 'excitedly', 'excitement', 'exciting', 'excuse', 'excuses', 'exercise', 'exhausted', 'existed', 'existence', 'exits', 'expect', 'expected', 'expecting', 'expects', 'expelled', 'experience', 'experts', 'explain', 'explained', 'explaining', 'explode', 'exploded', 'exploding', 'explosion', 'express', 'expression', 'extra', 'extraordinary', 'extremely', 'eye', 'eyebrows', 'eyed', 'eyeglasses', 'eyes', 'f', 'fabulous', 'face', 'facedown', 'faces', 'facetoface', 'facing', 'fact', 'fade', 'faded', 'fading', 'fail', 'failed', 'faint', 'faintest', 'faintly', 'fair', 'faithful', 'faithfully', 'fall', 'fallen', 'falling', 'faltered', 'fame', 'familiar', 'families', 'family', 'familys', 'famous', 'fan', 'fanatic', 'fancy', 'fang', 'fangll', 'fangs', 'fantastic', 'far', 'farther', 'fascinated', 'fascinating', 'fashion', 'fast', 'fasten', 'fastened', 'fastenings', 'faster', 'fastest', 'fat', 'fateful', 'father', 'fatherd', 'fathers', 'fattenin', 'fault', 'favor', 'favored', 'favorite', 'favors', 'fear', 'feared', 'feast', 'feasts', 'feather', 'feathers', 'fed', 'feeble', 'feed', 'feel', 'feeling', 'feelings', 'feels', 'feet', 'fell', 'felt', 'fences', 'fer', 'ferociously', 'festoons', 'fetch', 'fetchin', 'feverishly', 'few', 'fewer', 'fiddling', 'fidgeted', 'fie', 'field', 'fields', 'fierce', 'fiercely', 'fifteen', 'fifthyear', 'fifty', 'fiftyeight', 'fiftyfoot', 'fiftypence', 'fiftytwo', 'figg', 'figgs', 'fight', 'fighting', 'figure', 'figures', 'filch', 'filchs', 'fill', 'filled', 'filling', 'filthy', 'finally', 'finchfletchley', 'find', 'finding', 'finds', 'fine', 'finer', 'finest', 'finger', 'fingers', 'fingertips', 'finish', 'finished', 'finishing', 'finnigan', 'fir', 'fire', 'firecracker', 'firecrackers', 'firelight', 'firenze', 'firenzes', 'fireplace', 'fires', 'firework', 'fireworks', 'firm', 'firmly', 'firs', 'first', 'firstever', 'firsthand', 'firsties', 'firstyear', 'fishy', 'fist', 'fists', 'fit', 'fitch', 'fitted', 'five', 'fix', 'fixed', 'fixedly', 'fixing', 'flagged', 'flailed', 'flailing', 'flame', 'flamel', 'flamels', 'flames', 'flaming', 'flanked', 'flanks', 'flap', 'flared', 'flash', 'flashed', 'flashing', 'flashy', 'flat', 'flatly', 'flatten', 'flattened', 'flatter', 'flattering', 'flavor', 'flavored', 'fleet', 'flew', 'flexible', 'flick', 'flicked', 'flickered', 'flickering', 'flicking', 'flies', 'flight', 'flimsy', 'flinched', 'fling', 'flinging', 'flint', 'flipped', 'flitted', 'flitting', 'flitwick', 'flitwicles', 'floated', 'floating', 'flock', 'flocking', 'flocks', 'flooded', 'flooding', 'floor', 'floors', 'flop', 'flopped', 'flourish', 'flow', 'flowered', 'flowing', 'fluff', 'fluffy', 'fluffys', 'fluid', 'flump', 'flung', 'flushed', 'flute', 'flutter', 'fluttered', 'fluttering', 'fly', 'flyin', 'flying', 'foghorn', 'folded', 'folds', 'folk', 'folks', 'follow', 'followed', 'followers', 'following', 'follows', 'fond', 'fondly', 'food', 'foodll', 'fool', 'foolish', 'foot', 'football', 'footfalls', 'footsteps', 'footstool', 'for', 'forbid', 'forbidden', 'force', 'forced', 'forces', 'forcing', 'forecast', 'forehead', 'foreheads', 'forest', 'forests', 'foretold', 'forever', 'forevermore', 'forge', 'forget', 'forgetfulness', 'forgetmenot', 'forgets', 'forgettin', 'forgetting', 'forgive', 'forgot', 'forgotten', 'foribidden', 'fork', 'form', 'fortunately', 'fortune', 'fortunetelling', 'forty', 'fortytwo', 'forward', 'fought', 'foul', 'fouled', 'fouls', 'found', 'four', 'fourlegged', 'fourposter', 'fourposters', 'fours', 'fourteen', 'fourth', 'frame', 'frantic', 'frantically', 'frayed', 'freak', 'freckles', 'fred', 'free', 'freed', 'freedom', 'freeze', 'freezing', 'fret', 'friar', 'friday', 'fried', 'friend', 'friendly', 'friends', 'friendship', 'fries', 'fright', 'frighten', 'frightened', 'frightenin', 'frightening', 'frog', 'frogmarched', 'frogs', 'from', 'front', 'frost', 'frown', 'frowned', 'frowning', 'froze', 'frozen', 'fruitcake', 'frying', 'fudge', 'ful', 'full', 'fuller', 'fullgrown', 'fullygrown', 'fumbling', 'fumes', 'fuming', 'fun', 'funeral', 'fungi', 'funny', 'funnylooking', 'funnyshaped', 'fur', 'furious', 'furiously', 'furling', 'furniture', 'furor', 'further', 'fury', 'fussing', 'future', 'g', 'gain', 'gains', 'gales', 'galleon', 'galleons', 'gallery', 'galloped', 'gallopin', 'galloping', 'galoshes', 'gambled', 'game', 'gamekeeper', 'gamekeepers', 'gamekeeping', 'games', 'gang', 'gangling', 'gap', 'gaped', 'gaps', 'gar', 'garage', 'garden', 'gardens', 'gargoyles', 'garlic', 'gasp', 'gasped', 'gasping', 'gasps', 'gate', 'gateway', 'gathered', 'gathering', 'gaunt', 'gave', 'gawked', 'gawking', 'gaze', 'gazed', 'genius', 'gentle', 'gentlemans', 'gently', 'george', 'georges', 'geroff', 'get', 'gets', 'gettin', 'getting', 'getups', 'ggetting', 'ggot', 'ghost', 'ghostie', 'ghosts', 'ghoulie', 'giant', 'gibber', 'gift', 'gigantic', 'giggled', 'gingerly', 'ginny', 'girl', 'girls', 'git', 'give', 'given', 'gives', 'giving', 'glad', 'glance', 'glanced', 'glancing', 'glared', 'glaring', 'glass', 'glasses', 'gleamed', 'gleaming', 'glee', 'gleefully', 'glided', 'glider', 'gliding', 'glimmered', 'glimpse', 'glinting', 'glistening', 'glittered', 'glittering', 'glitteryblack', 'gloatingly', 'globes', 'gloom', 'gloomily', 'gloomy', 'gloomylooking', 'glory', 'gloves', 'glowed', 'glowing', 'glue', 'glumly', 'gnight', 'go', 'goal', 'goat', 'goblet', 'goblets', 'goblin', 'goblins', 'godrics', 'goes', 'goggle', 'goin', 'going', 'gold', 'golden', 'goldenbrown', 'golf', 'gone', 'gonna', 'good', 'goodbye', 'goodfornothing', 'goodll', 'goodness', 'goods', 'goodun', 'goose', 'gordon', 'gorgons', 'gorilla', 'goshawk', 'gossiped', 'got', 'gotta', 'gotten', 'gown', 'goyle', 'goyles', 'grab', 'grabbed', 'grade', 'grades', 'gradually', 'gran', 'grand', 'grandfather', 'grandfathers', 'grandmother', 'granger', 'grangers', 'granite', 'grappling', 'grasp', 'grasped', 'grasping', 'grass', 'grassy', 'grate', 'grateful', 'gravy', 'gray', 'grayfaced', 'grayish', 'greasily', 'greasy', 'great', 'greatest', 'greatness', 'gred', 'greed', 'greek', 'green', 'greener', 'greenhouse', 'greenhouses', 'greeted', 'greeting', 'gregory', 'grew', 'grief', 'griffin', 'grim', 'grimly', 'grin', 'grindelwald', 'grinding', 'gringotts', 'grinned', 'grinning', 'grip', 'griphook', 'gripped', 'grips', 'gritted', 'groan', 'groaned', 'groped', 'ground', 'grounds', 'group', 'groups', 'grow', 'growing', 'growled', 'growling', 'growls', 'grown', 'grownup', 'growyourownwarts', 'grubby', 'grubbylooking', 'grudgingly', 'gruffly', 'grumbled', 'grumpily', 'grunnings', 'grunnion', 'grunt', 'grunted', 'grunting', 'gryffindor', 'gryffindors', 'guard', 'guarded', 'guardin', 'guarding', 'guards', 'guess', 'guessing', 'guide', 'guilty', 'gulp', 'gulped', 'gulpin', 'gum', 'gun', 'gym', 'h', 'ha', 'haaa', 'haaaaaa', 'had', 'hadnt', 'hag', 'hagrid', 'hagrids', 'hags', 'hair', 'haircut', 'haircuts', 'hairs', 'hairy', 'half', 'halfandhalf', 'halfheartedly', 'halflife', 'halfmoon', 'halfpast', 'halfway', 'hall', 'halloween', 'halt', 'ham', 'hamburger', 'hammer', 'hammered', 'hammering', 'hams', 'hand', 'handed', 'handful', 'handing', 'handkerchief', 'handknitted', 'handle', 'hands', 'handsome', 'handy', 'hang', 'hanger', 'hanging', 'hangings', 'hannah', 'happen', 'happened', 'happening', 'happens', 'happier', 'happiest', 'happily', 'happiness', 'happy', 'harbor', 'hard', 'harder', 'hardfaced', 'hardly', 'harness', 'harold', 'harp', 'harry', 'harrys', 'harvey', 'has', 'hasnt', 'hat', 'hatched', 'hatches', 'hatching', 'hate', 'hated', 'hates', 'hating', 'hatred', 'hats', 'have', 'haven', 'havent', 'havin', 'having', 'hawk', 'he', 'head', 'headed', 'headfirst', 'heading', 'headless', 'headlight', 'headmaster', 'headmistress', 'heads', 'health', 'heap', 'heaps', 'hear', 'heard', 'hearing', 'heart', 'hearts', 'heartstring', 'heartstrings', 'heave', 'heaved', 'heaven', 'heavens', 'heavier', 'heavily', 'heaving', 'heavy', 'hebridean', 'hed', 'hedges', 'hedwig', 'heed', 'heel', 'heels', 'held', 'helicopters', 'hell', 'hello', 'helmeted', 'help', 'helped', 'helping', 'helplessly', 'hem', 'hengist', 'her', 'herbology', 'herbs', 'here', 'heres', 'hermione', 'hermionell', 'hermiones', 'hermlone', 'hero', 'herself', 'hes', 'hesitated', 'hey', 'hi', 'hid', 'hidden', 'hide', 'hides', 'hiding', 'higgs', 'high', 'higher', 'highheeled', 'highsecurity', 'highway', 'hills', 'him', 'himself', 'hind', 'hinge', 'hinges', 'hint', 'hired', 'his', 'hissed', 'hissing', 'history', 'hit', 'hitch', 'hitting', 'hmm', 'hmmm', 'hoarse', 'hobbled', 'hobby', 'hocus', 'hocuspocus', 'hoggy', 'hogs', 'hogwarts', 'hoisted', 'hold', 'holding', 'holds', 'hole', 'holes', 'holiday', 'holidays', 'hollow', 'holly', 'home', 'homemade', 'homework', 'honest', 'honestly', 'honor', 'hooch', 'hoochs', 'hood', 'hooded', 'hoodlums', 'hooked', 'hooknosed', 'hoops', 'hooted', 'hooting', 'hooves', 'hop', 'hope', 'hoped', 'hopeful', 'hopefully', 'hopes', 'hoping', 'hopped', 'horn', 'horned', 'horns', 'horny', 'horrible', 'horribly', 'horrified', 'horror', 'horrorstruck', 'horse', 'horses', 'hospital', 'hot', 'hotel', 'hotly', 'hour', 'hourglasses', 'hours', 'house', 'houses', 'hovered', 'hovering', 'how', 'howard', 'however', 'howl', 'howled', 'howling', 'howls', 'hows', 'huddle', 'hufflepuff', 'hufflepuffis', 'hufflepuffs', 'huge', 'hugged', 'hugging', 'hullo', 'human', 'humans', 'humbertos', 'humbugs', 'hummed', 'humming', 'humor', 'hunched', 'hundred', 'hundreds', 'hung', 'hunger', 'hungrily', 'hungry', 'hunt', 'hunting', 'hurried', 'hurriedly', 'hurry', 'hurrying', 'hurt', 'hurting', 'hurtled', 'hurtling', 'hurts', 'husband', 'hush', 'hushed', 'hushing', 'hut', 'hutontherock', 'hygienic', 'i', 'ice', 'icecold', 'icicles', 'icing', 'ickle', 'icy', 'id', 'idea', 'ideas', 'identical', 'idiot', 'idly', 'if', 'ignore', 'ignored', 'ignoring', 'ii', 'ill', 'illegal', 'im', 'image', 'imagination', 'imagine', 'imagined', 'imagining', 'immediately', 'immortal', 'impatient', 'impatiently', 'important', 'importantly', 'impossible', 'imprecise', 'impress', 'impressed', 'impressively', 'improve', 'improvement', 'in', 'inch', 'inched', 'inches', 'including', 'increases', 'incredible', 'incredibly', 'indeed', 'indoors', 'infernal', 'inferno', 'inform', 'information', 'informed', 'infusion', 'ing', 'ingredients', 'injured', 'ink', 'inky', 'innocent', 'inscription', 'inside', 'insides', 'insist', 'insisted', 'insisting', 'inspectors', 'instant', 'instantly', 'instead', 'instinct', 'instructions', 'instruments', 'insult', 'insulted', 'insultin', 'intently', 'inter', 'interest', 'interested', 'interesting', 'interestinglooking', 'interfere', 'interfering', 'international', 'interrupted', 'into', 'introduce', 'introduced', 'invented', 'investigations', 'invisibility', 'invisible', 'involved', 'ireland', 'iron', 'irongray', 'irritably', 'is', 'isle', 'isnt', 'it', 'itd', 'itll', 'its', 'itself', 'ive', 'ivy', 'jabbed', 'jacket', 'jackets', 'jam', 'james', 'jammed', 'jar', 'jars', 'javelin', 'jaws', 'jealous', 'jealousy', 'jeans', 'jello', 'jellylegs', 'jerk', 'jerked', 'jerking', 'jet', 'jetblack', 'jewelbright', 'jewels', 'jig', 'jigger', 'jim', 'jinx', 'jinxing', 'job', 'jobs', 'jog', 'johnson', 'join', 'joined', 'joining', 'joke', 'jokes', 'joking', 'jolt', 'jordan', 'jordans', 'jostled', 'jot', 'journey', 'joy', 'judge', 'judging', 'juicy', 'july', 'jump', 'jumped', 'jumping', 'jumpy', 'jupiter', 'jus', 'just', 'justin', 'katie', 'keen', 'keep', 'keeper', 'keepers', 'keeping', 'keeps', 'kent', 'kept', 'ketchup', 'kettle', 'key', 'keyhole', 'keys', 'kick', 'kicked', 'kicking', 'kid', 'kidney', 'kids', 'kill', 'killed', 'killers', 'killin', 'killing', 'kills', 'kind', 'kinda', 'kindling', 'kindly', 'kinds', 'king', 'kings', 'kip', 'kiss', 'kissed', 'kissing', 'kit', 'kitchen', 'kitchens', 'knack', 'knee', 'knees', 'knew', 'knickerbocker', 'knickerbockers', 'knight', 'knights', 'knitting', 'knobbly', 'knock', 'knocked', 'knocking', 'knot', 'know', 'knowin', 'knowing', 'knowitall', 'knowledge', 'known', 'knows', 'knowwho', 'knuckle', 'knuckles', 'knuts', 'lace', 'laden', 'lady', 'ladys', 'laid', 'lake', 'lamb', 'lamp', 'lamplike', 'lamps', 'land', 'landed', 'landing', 'lanes', 'languages', 'lanterns', 'lap', 'laps', 'large', 'larger', 'largest', 'las', 'last', 'lasted', 'lastminute', 'late', 'lately', 'later', 'latest', 'laugh', 'laughed', 'laughing', 'laughter', 'lavender', 'law', 'lawn', 'lawns', 'laws', 'lay', 'lazily', 'lead', 'leader', 'leading', 'league', 'leaked', 'leaking', 'leaky', 'lean', 'leaned', 'leaning', 'leap', 'leaping', 'leapt', 'learn', 'learned', 'learning', 'least', 'leather', 'leathercovered', 'leave', 'leaves', 'leaving', 'lecture', 'lecturin', 'led', 'ledgers', 'lee', 'leering', 'left', 'leg', 'legend', 'legendary', 'legged', 'leglocker', 'legs', 'lemon', 'lend', 'length', 'lent', 'less', 'lessened', 'lesson', 'lessons', 'let', 'lets', 'letter', 'letters', 'letting', 'level', 'leviosa', 'ley', 'li', 'liar', 'librarian', 'library', 'licking', 'licorice', 'lid', 'lids', 'lie', 'lied', 'lies', 'life', 'lift', 'lifted', 'lifting', 'light', 'lighted', 'lighter', 'lightest', 'lighting', 'lightning', 'lights', 'like', 'liked', 'likely', 'likes', 'liking', 'lily', 'limp', 'limped', 'limping', 'line', 'lined', 'linen', 'lines', 'lingered', 'lingering', 'lining', 'lion', 'lionfish', 'lip', 'lips', 'liquid', 'liquids', 'lisa', 'list', 'listen', 'listened', 'listening', 'lit', 'littie', 'little', 'live', 'lived', 'liver', 'lives', 'livid', 'living', 'livingroom', 'lizards', 'lo', 'load', 'loaded', 'loads', 'loathed', 'local', 'lock', 'locked', 'locker', 'locomotor', 'logic', 'london', 'lonely', 'long', 'longbottom', 'longbottoms', 'longed', 'longer', 'longestever', 'longing', 'longingly', 'look', 'looked', 'lookin', 'looking', 'looks', 'loomed', 'looming', 'looptheloops', 'loopy', 'loose', 'loosening', 'lopsided', 'lord', 'lose', 'losing', 'loss', 'lost', 'lot', 'lots', 'lotta', 'loud', 'louder', 'loudest', 'loudly', 'love', 'loved', 'lovely', 'lover', 'low', 'lower', 'lowered', 'lowhanging', 'loyal', 'loyalties', 'luck', 'lucky', 'luggage', 'lullaby', 'lumbered', 'luminous', 'lump', 'lumps', 'lumpy', 'lunch', 'lunchtime', 'lunged', 'lurch', 'lurched', 'lurking', 'lying', 'm', 'macdougal', 'mad', 'madam', 'made', 'madly', 'magic', 'magical', 'magnificent', 'mahogany', 'mail', 'main', 'mainly', 'majorca', 'make', 'maker', 'makers', 'makes', 'makin', 'making', 'malade', 'malcolm', 'malfay', 'malfoy', 'malfoy\\tstill', 'malfoyll', 'malfoys', 'malkin', 'malkins', 'man', 'manage', 'managed', 'managing', 'mancrushing', 'mandy', 'mane', 'mangled', 'maniacs', 'manner', 'mans', 'mantelpiece', 'many', 'map', 'maple', 'maps', 'mar', 'marble', 'marbles', 'march', 'marched', 'marcus', 'marge', 'marges', 'mark', 'marked', 'markings', 'marks', 'marmalade', 'maroon', 'married', 'mars', 'marshmallows', 'massive', 'master', 'mastered', 'masters', 'match', 'matches', 'material', 'math', 'matter', 'mattress', 'mauve', 'may', 'maybe', 'maze', 'mcgonagall', 'mcgonagalls', 'mcguffin', 'mckinnons', 'me', 'meal', 'meals', 'mean', 'meanin', 'means', 'meant', 'meantime', 'meanwhile', 'measure', 'measured', 'measuring', 'meddle', 'meddlin', 'meddling', 'meet', 'meeting', 'mellow', 'melt', 'melted', 'member', 'memorize', 'memory', 'men', 'mended', 'mention', 'mentioned', 'mentionin', 'mercy', 'mere', 'merely', 'meringue', 'merlin', 'merrily', 'merry', 'meself', 'mess', 'message', 'messin', 'messing', 'met', 'metal', 'meters', 'mice', 'mid', 'midair', 'middecember', 'middle', 'midnight', 'midst', 'miffed', 'might', 'mighta', 'mightn', 'mightve', 'miles', 'milk', 'milkman', 'millicent', 'mimblewimble', 'mimsy', 'mimsyporpington', 'mind', 'minded', 'minds', 'mine', 'minerva', 'mines', 'mingled', 'minister', 'ministry', 'minuscule', 'minute', 'minutes', 'miranda', 'mirror', 'mirrors', 'miserable', 'miserably', 'misery', 'miss', 'missed', 'misses', 'missing', 'mist', 'mistake', 'mistaken', 'mistakes', 'mistaking', 'misters', 'mistletoe', 'misty', 'mixed', 'mixing', 'mixture', 'mm', 'mmm', 'mmyself', 'moan', 'moaned', 'moaning', 'moans', 'model', 'modern', 'moldy', 'moleskin', 'mom', 'moment', 'moments', 'mommy', 'moms', 'monday', 'money', 'moneys', 'monk', 'monkshood', 'monster', 'monstrous', 'month', 'monthold', 'months', 'mood', 'moon', 'moonlight', 'moons', 'morag', 'more', 'moren', 'morgana', 'morning', 'mortis', 'mossy', 'most', 'mostly', 'motheaten', 'mother', 'mothers', 'motion', 'motionless', 'motorcycle', 'motorcycles', 'mounds', 'mount', 'mountain', 'mountains', 'mounted', 'mounting', 'mouse', 'mouth', 'mouthed', 'mouthful', 'mouths', 'move', 'moved', 'movement', 'movements', 'movies', 'moving', 'mr', 'mrs', 'much', 'mud', 'muddy', 'muffins', 'muffled', 'muggle', 'muggles', 'mugs', 'mugwump', 'mule', 'multilevel', 'mum', 'mumbled', 'mumbling', 'mummy', 'murmur', 'murmured', 'muscle', 'muscular', 'music', 'must', 'mustache', 'mustached', 'mustnt', 'mustve', 'musty', 'mutely', 'mutter', 'muttered', 'muttering', 'my', 'myseff', 'myself', 'mysterious', 'mysteriously', 'mystery', 'mystified', 'mystry', 'nag', 'nagging', 'nah', 'nail', 'nailed', 'nails', 'name', 'names', 'narrow', 'narrowed', 'narrowly', 'nastier', 'nastily', 'nasty', 'nations', 'natural', 'naturally', 'naughty', 'near', 'nearby', 'nearer', 'nearest', 'nearly', 'nearsighted', 'neat', 'neatly', 'necessary', 'neck', 'necks', 'need', 'needed', 'needin', 'needle', 'needles', 'needlesharp', 'neednt', 'needs', 'neighbors', 'neither', 'nephew', 'nerve', 'nerves', 'nervous', 'nervously', 'net', 'nettle', 'nettles', 'never', 'nevertheless', 'neville', 'nevilles', 'new', 'news', 'newscaster', 'newspaper', 'newspapers', 'newt', 'next', 'nibble', 'nice', 'nicer', 'nicholas', 'nick', 'nicolas', 'night', 'nightfall', 'nightmare', 'nightmares', 'nights', 'nighttime', 'nimbus', 'nine', 'ninth', 'nitwit', 'nmat', 'nneed', 'nnot', 'nnothing', 'no', 'noble', 'nobody', 'nodded', 'nodding', 'nof', 'noise', 'noiselessly', 'noises', 'noisy', 'none', 'nonexplodable', 'nonmagic', 'nonsense', 'nonstop', 'nope', 'nor', 'norbert', 'norberts', 'normal', 'normally', 'norris', 'norriss', 'norwegian', 'nose', 'nosebleed', 'noses', 'nosie', 'nostrils', 'nosy', 'not', 'notable', 'note', 'noted', 'notes', 'nothin', 'nothing', 'notice', 'noticed', 'notices', 'noticing', 'nott', 'november', 'now', 'nowhere', 'nudged', 'number', 'numbers', 'numbly', 'nurse', 'nursed', 'nuts', 'o', 'oaf', 'oak', 'object', 'objects', 'observed', 'obvious', 'obviously', 'occasions', 'occurred', 'oclock', 'odd', 'oddball', 'oddly', 'oddment', 'of', 'off', 'offended', 'offered', 'offhand', 'office', 'often', 'oh', 'oiled', 'okay', 'old', 'older', 'oldest', 'oldfashioned', 'oliver', 'olivers', 'ollivander', 'ollivanders', 'omen', 'on', 'once', 'one', 'ones', 'only', 'onto', 'onward', 'ooh', 'oooooh', 'oooooooh', 'open', 'opened', 'opening', 'opera', 'opinion', 'opposite', 'or', 'orange', 'order', 'ordered', 'orders', 'ordinary', 'ornate', 'other', 'others', 'otherwise', 'ouch', 'ought', 'oughta', 'ounce', 'our', 'ours', 'ourselves', 'out', 'outlawed', 'outlines', 'outofbounds', 'outrage', 'outside', 'outskirts', 'outstanding', 'outstretched', 'outta', 'over', 'overcoat', 'overgrown', 'overhead', 'overheard', 'overhearing', 'overshadowed', 'overtake', 'overtaking', 'overtook', 'owe', 'owl', 'owlery', 'owlfree', 'owls', 'own', 'owned', 'owner', 'owners', 'oy', 'oyt', 'p', 'paced', 'paces', 'pacing', 'pack', 'package', 'packages', 'packed', 'packing', 'paddington', 'page', 'pages', 'paid', 'pain', 'painful', 'painfully', 'pains', 'paint', 'painted', 'painting', 'pair', 'pairs', 'paisley', 'pajamas', 'palace', 'pale', 'paler', 'palms', 'palomino', 'pan', 'panels', 'panic', 'panicked', 'panicking', 'pansy', 'panted', 'panting', 'paper', 'papers', 'paracelsus', 'paraded', 'parcel', 'parchment', 'parents', 'parked', 'parking', 'parkinson', 'parks', 'parrot', 'part', 'parted', 'particularly', 'parties', 'partner', 'parts', 'party', 'parvati', 'pass', 'passage', 'passages', 'passageway', 'passageways', 'passed', 'passersby', 'passes', 'passing', 'password', 'passwords', 'past', 'pasties', 'pasty', 'patch', 'patched', 'patchwork', 'pate', 'path', 'patient', 'patil', 'patrolled', 'patted', 'pattern', 'patting', 'pause', 'paused', 'pavement', 'paving', 'pawed', 'pawn', 'paws', 'pay', 'payin', 'paying', 'peabrain', 'peace', 'peaceful', 'pearlywhite', 'peas', 'pebbles', 'pecked', 'peculiar', 'peeling', 'peered', 'peering', 'peeves', 'peevess', 'peevsie', 'pellets', 'pelt', 'pelted', 'pelting', 'pelts', 'penalty', 'pence', 'people', 'peoples', 'pep', 'pepper', 'peppermint', 'peppermints', 'percent', 'perched', 'percy', 'percyd', 'percys', 'perenelle', 'perfect', 'perfectly', 'perform', 'performed', 'perhaps', 'perks', 'person', 'personal', 'personally', 'persuade', 'petrificus', 'petrified', 'petunia', 'pewter', 'pheasants', 'phials', 'phoenix', 'phoenixes', 'phone', 'phoning', 'photographs', 'photos', 'phyllida', 'pick', 'picked', 'picking', 'pickled', 'pickmeup', 'picture', 'pictures', 'pie', 'piece', 'pieces', 'pier', 'pierced', 'piercing', 'piers', 'pies', 'pig', 'pigs', 'pigtails', 'pile', 'piled', 'piles', 'pillow', 'pin', 'pince', 'pinched', 'pineapple', 'ping', 'pink', 'pinkfaced', 'pinned', 'pinning', 'pinpricks', 'pipe', 'piped', 'pitch', 'pitchblack', 'pity', 'place', 'placed', 'places', 'plain', 'plainly', 'plan', 'planets', 'planned', 'plant', 'plants', 'plastic', 'plate', 'plates', 'platform', 'platforms', 'platters', 'play', 'played', 'player', 'players', 'playfully', 'playin', 'playing', 'plays', 'pleaded', 'please', 'pleased', 'pleasure', 'plenty', 'pliable', 'plotting', 'plowed', 'plump', 'plunged', 'pocket', 'pocketed', 'pockets', 'pocuss', 'point', 'pointed', 'pointing', 'points', 'pointy', 'poison', 'poisonous', 'poisons', 'poke', 'poked', 'poker', 'poking', 'poles', 'polite', 'politely', 'politer', 'polkiss', 'poltergeist', 'pomfrey', 'pomfreys', 'pomftey', 'pompously', 'poor', 'poorer', 'pop', 'popkin', 'popped', 'popular', 'porcupine', 'pork', 'porridge', 'portrait', 'portraits', 'positions', 'positive', 'positively', 'possession', 'possible', 'possibly', 'post', 'postage', 'postcard', 'poster', 'postman', 'posts', 'potato', 'potatoes', 'potion', 'potionmaking', 'potions', 'potter', 'potters', 'pouch', 'pounced', 'pound', 'pounding', 'poured', 'pouring', 'powdered', 'powders', 'power', 'powerful', 'powers', 'ppick', 'pplaces', 'pppetunia', 'pppoor', 'pppotter', 'pprofessor', 'practical', 'practice', 'practicing', 'praying', 'precious', 'precisely', 'prefect', 'prefects', 'prefer', 'prepared', 'present', 'presenting', 'presents', 'president', 'press', 'pressed', 'pressure', 'pretend', 'pretended', 'pretending', 'pretty', 'prevent', 'prewetts', 'price', 'prickle', 'prickled', 'prince', 'private', 'privately', 'privet', 'probably', 'problem', 'problems', 'processor', 'prodded', 'prodding', 'produced', 'produces', 'professor', 'profit', 'program', 'programs', 'promise', 'promised', 'promisin', 'promptly', 'proof', 'proper', 'properly', 'prophet', 'propped', 'protect', 'protected', 'protecting', 'protection', 'protective', 'proud', 'proudest', 'proudly', 'prove', 'proving', 'provoked', 'prowling', 'prune', 'ptolemy', 'pub', 'public', 'pucey', 'puddin', 'pudding', 'puddings', 'puff', 'puffed', 'puffing', 'pull', 'pulled', 'pulling', 'pumpkin', 'pumpkins', 'punch', 'punched', 'punching', 'puncture', 'punctures', 'punished', 'punishing', 'punishment', 'punishments', 'pupils', 'puppet', 'pure', 'purple', 'purplefaced', 'purpose', 'pursed', 'push', 'pushed', 'pushing', 'put', 'putouter', 'puts', 'putted', 'putting', 'puzzle', 'puzzlement', 'pythons', 'quaffle', 'quailed', 'quarter', 'quaver', 'queasy', 'queen', 'quentin', 'question', 'questions', 'quick', 'quicker', 'quickly', 'quickwitted', 'quidditch', 'quiet', 'quietly', 'quill', 'quills', 'quilt', 'quirrell', 'quirrells', 'quirtell', 'quite', 'quiver', 'quivered', 'quivering', 'quiz', 'rabbit', 'rabbitin', 'racing', 'racket', 'radish', 'rage', 'raged', 'ragged', 'rags', 'railview', 'railway', 'rain', 'rainbow', 'raise', 'raised', 'raising', 'raisins', 'rammed', 'ran', 'random', 'rang', 'ranting', 'rapidly', 'rapped', 'rapping', 'rare', 'rarely', 'raspberry', 'rasping', 'rat', 'rather', 'rations', 'rats', 'rattle', 'rattled', 'rattling', 'ravenclaw', 'ravenclaws', 'ravine', 'raw', 'ray', 're', 'reach', 'reached', 'reaching', 'read', 'readin', 'reading', 'ready', 'real', 'realize', 'realized', 'realizing', 'really', 'rear', 'reared', 'reason', 'reasonably', 'reasons', 'rebellions', 'receive', 'received', 'receiver', 'recent', 'recited', 'reciting', 'reckon', 'reckons', 'recognize', 'recognized', 'record', 'recorded', 'red', 'redder', 'reddish', 'redhaired', 'redheaded', 'reeled', 'ref', 'referee', 'refereed', 'refereeing', 'referees', 'reflected', 'reflection', 'reflections', 'refuse', 'refused', 'refusing', 'rejoice', 'related', 'relation', 'relatives', 'relax', 'relaxed', 'relief', 'relieved', 'reliving', 'remains', 'remarkably', 'remember', 'remembered', 'remembering', 'remembers', 'remembrall', 'remind', 'reminded', 'reminding', 'reminds', 'remorse', 'remote', 'removed', 'repair', 'repaired', 'repeated', 'replaced', 'replacing', 'replied', 'reply', 'report', 'reported', 'reports', 'reptile', 'require', 'rescued', 'reserve', 'resident', 'resign', 'resist', 'resolution', 'respect', 'responsible', 'rest', 'restaurant', 'restaurants', 'rested', 'resting', 'restless', 'restricted', 'results', 'retracing', 'return', 'returned', 'reveal', 'revenge', 'revenges', 'revolting', 'reward', 'ribbon', 'ribs', 'rice', 'rich', 'rickety', 'rid', 'ride', 'riders', 'ridgeback', 'ridgebacks', 'ridiculous', 'riding', 'riffraff', 'rifle', 'rigged', 'right', 'righthand', 'righthanded', 'rigid', 'ring', 'ringing', 'rip', 'ripped', 'ripping', 'rippled', 'rise', 'rising', 'risk', 'risks', 'risky', 'rivers', 'road', 'roaming', 'roar', 'roared', 'roaring', 'roars', 'roast', 'rob', 'robe', 'robes', 'rock', 'rocker', 'rocket', 'rocketed', 'rocks', 'roll', 'rolled', 'rolling', 'rolls', 'romania', 'ron', 'ronald', 'ronan', 'ronnie', 'ronniekins', 'rons', 'roof', 'room', 'rooms', 'root', 'rooted', 'rooting', 'roots', 'rope', 'ropes', 'rose', 'rot', 'rotted', 'roughly', 'round', 'rounded', 'roundfaced', 'route', 'row', 'rowboat', 'rows', 'rub', 'rubbed', 'rubber', 'rubbing', 'rubbish', 'rubeus', 'rubies', 'ruddy', 'rude', 'ruefully', 'ruff', 'ruffled', 'ruffledlooking', 'rugs', 'ruined', 'ruins', 'rule', 'rulebreaking', 'rules', 'rumbled', 'rumbling', 'rummaged', 'rummaging', 'rumor', 'rumors', 'run', 'runnin', 'running', 'rush', 'rushed', 'rustling', 's', 'sacked', 'sacrifices', 'sad', 'sadly', 'sadness', 'safe', 'safely', 'safest', 'safety', 'sagged', 'sahara', 'said', 'sailed', 'saintly', 'saints', 'saliva', 'sallow', 'sallyanne', 'same', 'sandwich', 'sandwiches', 'sandy', 'sandyhaired', 'sank', 'sapphires', 'sardine', 'sat', 'saturday', 'sauce', 'sausage', 'sausages', 'savage', 'savaging', 'save', 'saved', 'saving', 'saw', 'say', 'sayin', 'saying', 'says', 'sc', 'scabbers', 'scabbets', 'scabby', 'scales', 'scamander', 'scandal', 'scar', 'scared', 'scaredlooking', 'scarlet', 'scars', 'scattering', 'scene', 'scented', 'schedules', 'school', 'schooland', 'schools', 'science', 'scissors', 'scoop', 'scooping', 'scooted', 'score', 'scored', 'scoring', 'scotch', 'scowl', 'scowling', 'scrabbling', 'scrambled', 'scrambling', 'scraped', 'scraping', 'scratch', 'scratching', 'scratchy', 'scrawl', 'scrawled', 'scrawny', 'scream', 'screamed', 'screaming', 'screams', 'screech', 'screeched', 'screwed', 'scribbled', 'scribbling', 'scroll', 'scruff', 'scruffs', 'scudding', 'scuffles', 'scurried', 'scurrying', 'scuse', 'scuttled', 'sea', 'seal', 'seamus', 'seamuss', 'search', 'searched', 'searching', 'seared', 'season', 'seat', 'seating', 'seats', 'seaweed', 'sec', 'second', 'secondary', 'seconds', 'secret', 'secretary', 'secretly', 'secrets', 'section', 'security', 'see', 'seeing', 'seek', 'seeker', 'seekers', 'seem', 'seemed', 'seeming', 'seems', 'seen', 'seeping', 'sees', 'seize', 'seized', 'seizing', 'selfish', 'selfprotection', 'selfstirring', 'sell', 'selling', 'send', 'sending', 'sense', 'senses', 'sensible', 'sent', 'separated', 'separately', 'separating', 'september', 'serious', 'seriously', 'serpent', 'servant', 'served', 'service', 'session', 'set', 'sets', 'setting', 'settled', 'settling', 'seven', 'seventeen', 'seventh', 'seventy', 'seventytwo', 'several', 'severelooking', 'severus', 'shabby', 'shack', 'shade', 'shadow', 'shadows', 'shadowy', 'shaggy', 'shake', 'shakeem', 'shaken', 'shakily', 'shaking', 'shall', 'shallows', 'shame', 'shant', 'shape', 'shaped', 'shapeless', 'shapes', 'share', 'shared', 'sharing', 'sharp', 'sharper', 'sharply', 'shaves', 'she', 'sheared', 'shed', 'sheep', 'sheer', 'sheet', 'sheets', 'shelf', 'shell', 'shelling', 'shelves', 'sherry', 'shes', 'shhh', 'shhhh', 'shields', 'shifty', 'shimmering', 'shinin', 'shining', 'shiny', 'shivered', 'shivering', 'shock', 'shocked', 'shoes', 'shone', 'shoo', 'shook', 'shoot', 'shooting', 'shop', 'shopping', 'shops', 'shore', 'short', 'shortcut', 'shortcuts', 'shorter', 'shortly', 'shot', 'should', 'shoulda', 'shoulder', 'shoulders', 'shouldn', 'shouldnt', 'shouldnta', 'shouldve', 'shout', 'shouted', 'shoutin', 'shouting', 'shouts', 'shove', 'shoved', 'shoveling', 'show', 'showed', 'showers', 'showing', 'shown', 'shows', 'shrank', 'shredded', 'shriek', 'shrieked', 'shrieking', 'shrieks', 'shrill', 'shrilly', 'shrink', 'shrinking', 'shriveled', 'shrunk', 'shuddered', 'shuffled', 'shuffling', 'shut', 'shutting', 'sick', 'sickening', 'sickle', 'sickles', 'side', 'sides', 'sideways', 'sidled', 'sigh', 'sighed', 'sight', 'sightings', 'sign', 'signature', 'signed', 'signs', 'silence', 'silent', 'silently', 'silk', 'silkily', 'silly', 'silver', 'silverblue', 'silvery', 'similar', 'simmering', 'simple', 'simply', 'sin', 'since', 'sincerely', 'sing', 'singing', 'single', 'singled', 'singlehanded', 'singsong', 'sinister', 'sink', 'sinking', 'sinks', 'sipped', 'sir', 'sirius', 'sister', 'sit', 'sitting', 'six', 'sixteen', 'sixth', 'sixty', 'sixtyfifth', 'sixtyfive', 'size', 'sizes', 'sizing', 'sizzling', 'skidding', 'skies', 'skimming', 'skin', 'skinnier', 'skinny', 'skip', 'skipped', 'skipping', 'skulking', 'sky', 'skyward', 'slain', 'slam', 'slammed', 'slamming', 'slapping', 'slay', 'sleek', 'sleep', 'sleepily', 'sleepiness', 'sleeping', 'sleepless', 'sleeps', 'sleepy', 'sleeve', 'sleeves', 'slender', 'slept', 'slice', 'slid', 'sliding', 'slight', 'slightest', 'slightly', 'slimy', 'slinking', 'slip', 'slipped', 'slippers', 'slippery', 'slipping', 'slithering', 'slits', 'slope', 'sloped', 'sloping', 'slot', 'slotted', 'slouched', 'slow', 'slowed', 'slowing', 'slowly', 'slug', 'slugs', 'slumped', 'slyly', 'slytherin', 'slytherin\\twould', 'slytherins', 'small', 'smaller', 'smallest', 'smarmy', 'smarten', 'smarter', 'smartly', 'smash', 'smashed', 'smatter', 'smell', 'smelled', 'smelly', 'smelting', 'smeltings', 'smile', 'smiled', 'smiles', 'smiling', 'smirking', 'smoke', 'smoked', 'smoking', 'smooth', 'smoother', 'smoothly', 'smothering', 'smudged', 'smuggle', 'sn', 'snake', 'snakelike', 'snakes', 'snap', 'snape', 'snapes', 'snapped', 'snare', 'snarled', 'snatch', 'snatched', 'snatching', 'sneak', 'sneaked', 'sneakers', 'sneaking', 'sneer', 'sneered', 'sneering', 'sneeze', 'sneezed', 'sniff', 'sniffed', 'sniffing', 'sniffling', 'sniffy', 'sniggered', 'snigget', 'snitch', 'sniveled', 'snoozed', 'snoozing', 'snored', 'snores', 'snoring', 'snorted', 'snot', 'snout', 'snow', 'snowball', 'snowballs', 'snowy', 'snuffbox', 'snuffling', 'so', 'soared', 'soaring', 'sob', 'sobbed', 'sobbing', 'sobs', 'soccer', 'socks', 'sofa', 'soft', 'softest', 'softly', 'sold', 'solid', 'solutions', 'some', 'somebody', 'somebodys', 'somefink', 'somehow', 'someone', 'someones', 'somersault', 'somethin', 'something', 'somethings', 'sometime', 'sometimes', 'somewhere', 'son', 'song', 'sons', 'sony', 'soon', 'sooner', 'soothe', 'sorc', 'sorcerer', 'sorcerers', 'sore', 'sorrowful', 'sorry', 'sort', 'sorta', 'sorted', 'sorting', 'sorts', 'soul', 'sound', 'sounded', 'sounding', 'sounds', 'sp', 'space', 'spaces', 'sparkling', 'sparks', 'spasm', 'spat', 'spawn', 'speak', 'speaker', 'speakin', 'speaking', 'spear', 'speared', 'special', 'specially', 'species', 'specimen', 'speck', 'spectacles', 'spectacular', 'spectacularly', 'spectators', 'sped', 'speech', 'speechless', 'speed', 'speeding', 'speeds', 'speedy', 'spell', 'spelled', 'spells', 'spend', 'spending', 'spent', 'spider', 'spiders', 'spilled', 'spilling', 'spinach', 'spindly', 'spine', 'spinner', 'spinnet', 'spinning', 'spiny', 'spiral', 'spirits', 'spite', 'splashes', 'splattered', 'spleens', 'splendid', 'split', 'spluttered', 'spluttering', 'spoil', 'spoils', 'spoke', 'spoken', 'spokesgoblin', 'spore', 'sport', 'sports', 'spose', 'spot', 'spots', 'spotted', 'spotting', 'sppose', 'spposed', 'sprang', 'sprawled', 'spray', 'spread', 'spreading', 'spring', 'springy', 'sprinted', 'sprinting', 'sprout', 'sprouts', 'spun', 'spurt', 'spying', 'square', 'squares', 'squashed', 'squashy', 'squat', 'squawked', 'squeak', 'squeaked', 'squeaky', 'squeal', 'squealed', 'squeeze', 'squeezed', 'squid', 'squinted', 'squinting', 'sssorry', 'st', 'stabbing', 'stack', 'stacked', 'stacks', 'stadium', 'staff', 'staffroom', 'stage', 'staggered', 'staggerin', 'stain', 'stained', 'staircase', 'staircases', 'stairs', 'stalactite', 'stalactites', 'stalagmite', 'stalagmites', 'stale', 'stalking', 'stammered', 'stammering', 'stamp', 'stamping', 'stamps', 'stand', 'standard', 'standing', 'stands', 'stare', 'stared', 'stargazers', 'staring', 'starry', 'stars', 'start', 'started', 'starting', 'startled', 'startofterm', 'starts', 'starved', 'starving', 'state', 'station', 'statue', 'statues', 'stay', 'stayed', 'staying', 'steadied', 'steadily', 'steady', 'steak', 'steal', 'steam', 'steamrollered', 'steel', 'steeling', 'steep', 'steeply', 'steered', 'steering', 'stench', 'step', 'stepped', 'steps', 'stern', 'sternly', 'stewed', 'stick', 'sticking', 'sticks', 'sticky', 'stiff', 'stiffily', 'stiffly', 'stifling', 'still', 'stinking', 'stitch', 'stitches', 'stoat', 'stoked', 'stole', 'stolen', 'stomach', 'stomping', 'stone', 'stones', 'stonewall', 'stood', 'stool', 'stools', 'stooping', 'stop', 'stopped', 'stopper', 'stopping', 'stops', 'stored', 'stores', 'stories', 'storm', 'stormed', 'stormy', 'story', 'stove', 'stra', 'straight', 'straightened', 'straightening', 'strained', 'straining', 'stranded', 'strange', 'strangelooking', 'strangely', 'stranger', 'strangers', 'strangled', 'strapping', 'straps', 'straw', 'strawberries', 'strawberry', 'stray', 'strayed', 'straying', 'streak', 'streaked', 'stream', 'streamed', 'streaming', 'street', 'streets', 'strength', 'strengthened', 'stretch', 'stretched', 'stretching', 'strict', 'strictly', 'striding', 'string', 'strings', 'striped', 'strode', 'stroke', 'stroked', 'strong', 'stronger', 'strongly', 'struck', 'struggle', 'struggled', 'struggling', 'ststuttering', 'stubs', 'stuck', 'student', 'students', 'study', 'studyin', 'studying', 'stuff', 'stuffed', 'stuffing', 'stumbled', 'stumbling', 'stump', 'stumped', 'stung', 'stunned', 'stunt', 'stupid', 'stupidest', 'stupidly', 'stutter', 'stuttering', 'subject', 'subjects', 'substance', 'substitutes', 'subtle', 'such', 'sucked', 'sudden', 'suddenly', 'suffering', 'sugar', 'suggest', 'suggested', 'suit', 'suits', 'summat', 'summer', 'sun', 'sunburn', 'sunday', 'sundays', 'sunk', 'sunlight', 'sunny', 'sunrise', 'sunshine', 'supple', 'supply', 'supporting', 'suppose', 'supposed', 'supreme', 'sure', 'surely', 'surged', 'surname', 'surprise', 'surprised', 'surprises', 'surprising', 'surrey', 'surrounded', 'surrounding', 'survive', 'susan', 'suspect', 'suspected', 'suspend', 'suspended', 'suspension', 'suspicion', 'suspicious', 'swaggered', 'swallow', 'swallowed', 'swam', 'swap', 'swapped', 'swapping', 'swarmin', 'swarming', 'swarthy', 'swayed', 'swaying', 'swear', 'swearing', 'sweat', 'sweater', 'sweaters', 'sweating', 'sweaty', 'sweeping', 'sweet', 'sweets', 'sweetums', 'swelled', 'swelling', 'sweltering', 'swept', 'swift', 'swiftly', 'swig', 'swimming', 'swipe', 'swish', 'swished', 'swishing', 'swishy', 'switch', 'switching', 'swollen', 'swoop', 'swooped', 'swooping', 'sword', 'swore', 'sworn', 'swung', 'syllable', 'symbols', 't', 'tabby', 'table', 'tables', 'tackled', 'tackling', 'tags', 'tail', 'tailcoats', 'take', 'taken', 'takes', 'takin', 'taking', 'talent', 'talk', 'talked', 'talking', 'talkingto', 'tall', 'taller', 'tallest', 'tame', 'tangled', 'tangles', 'tank', 'tantrum', 'tap', 'tapdance', 'tape', 'taped', 'tapestries', 'tapestry', 'tapped', 'tapping', 'tarantula', 'tart', 'tartan', 'tarts', 'taste', 'tasted', 'tasty', 'taught', 'taunting', 'tawny', 'tea', 'teabags', 'teach', 'teacher', 'teachers', 'teaches', 'teaching', 'teacups', 'team', 'teams', 'teapot', 'tearful', 'tearing', 'tears', 'tearstreaked', 'ted', 'teddy', 'teeth', 'teh', 'telephone', 'telescope', 'telescopes', 'television', 'tell', 'tellin', 'telling', 'tells', 'temper', 'ten', 'tend', 'tendrils', 'tennis', 'tenpin', 'tens', 'tent', 'tentacles', 'ter', 'terence', 'term', 'terms', 'terrible', 'terrified', 'terror', 'terry', 'test', 'testing', 'th', 'than', 'thank', 'thanked', 'thankful', 'thanks', 'thanksss', 'thankyou', 'that', 'thatll', 'thats', 'thatthat', 'the', 'their', 'them', 'themselves', 'then', 'theory', 'there', 'thered', 'therefore', 'theres', 'thern', 'these', 'they', 'theyd', 'theyll', 'theyre', 'theyve', 'thick', 'thicker', 'thickly', 'thickset', 'thief', 'thieves', 'thin', 'thing', 'things', 'think', 'thinking', 'thinks', 'thinner', 'thinnest', 'third', 'thirdfloor', 'thirst', 'thirteen', 'thirteenandahalf', 'thirty', 'thirtynine', 'thirtyseven', 'thirtysix', 'this', 'thomas', 'those', 'though', 'thought', 'thoughtfully', 'thoughts', 'thousand', 'thousands', 'thrashing', 'threatening', 'three', 'threeheaded', 'threequarters', 'threes', 'threethirty', 'threshold', 'threw', 'throat', 'throats', 'thronging', 'through', 'throughout', 'throw', 'throwing', 'thrown', 'thud', 'thumbs', 'thump', 'thumpin', 'thumping', 'thunder', 'thundered', 'thunderous', 'thursday', 'thus', 'tibbles', 'tick', 'ticked', 'ticket', 'tickets', 'tickled', 'tickling', 'tidier', 'tidy', 'tie', 'tied', 'tight', 'tightened', 'tighter', 'tightlipped', 'tightly', 'tights', 'til', 'time', 'timeout', 'times', 'timidly', 'tin', 'tinge', 'tingle', 'tinkling', 'tinned', 'tiny', 'tipped', 'tips', 'tiptoe', 'tiptoed', 'tired', 'title', 'titles', 'to', 'toad', 'toadless', 'toads', 'toast', 'toasting', 'today', 'toe', 'toffee', 'together', 'toil', 'toilet', 'toilets', 'tokens', 'told', 'tom', 'tomatoes', 'tomorrow', 'tone', 'tongue', 'tonight', 'too', 'took', 'toothless', 'top', 'topmost', 'toppled', 'torches', 'tore', 'torn', 'tortoise', 'torture', 'tosh', 'totalus', 'tottered', 'tottering', 'touch', 'touched', 'touches', 'touching', 'tourists', 'toward', 'tower', 'towered', 'towering', 'towers', 'town', 'towns', 'toys', 'track', 'tracks', 'traffic', 'trail', 'trailed', 'trailing', 'train', 'trained', 'training', 'trains', 'trances', 'transfer', 'transfiguration', 'transfigured', 'transfixed', 'transform', 'transparent', 'transport', 'trapdoor', 'trapped', 'trash', 'traveled', 'treacle', 'treasure', 'treat', 'treated', 'treating', 'treble', 'tree', 'trees', 'tremble', 'trembled', 'tremblin', 'trembling', 'trevor', 'trials', 'trick', 'tricked', 'trickling', 'tricks', 'tricky', 'tried', 'tries', 'trifle', 'trimble', 'trip', 'tripe', 'tripped', 'tripping', 'triumph', 'triumphant', 'triumphs', 'trodden', 'troduced', 'troll', 'trolley', 'trolls', 'troops', 'trophy', 'trot', 'trotting', 'trouble', 'troublesome', 'trousers', 'trowels', 'trudged', 'true', 'truly', 'trunk', 'trunks', 'trust', 'trusted', 'trusting', 'truth', 'truthful', 'try', 'tryin', 'trying', 'ttell', 'ttto', 'tub', 'tuck', 'tucked', 'tuesday', 'tuft', 'tufts', 'tufty', 'tugged', 'tugging', 'tulips', 'tumbled', 'tumbling', 'tune', 'tunnel', 'tunnels', 'turban', 'tureens', 'turkey', 'turkeys', 'turn', 'turned', 'turnin', 'turning', 'turnips', 'turns', 'turpin', 'turrets', 'tut', 'twanging', 'tweak', 'twelve', 'twelvefoot', 'twentieth', 'twenty', 'twentyfour', 'twentynine', 'twentyone', 'twentysix', 'twice', 'twig', 'twigs', 'twin', 'twinkled', 'twinkling', 'twins', 'twist', 'twisted', 'twisting', 'twitched', 'twitching', 'two', 'twos', 'tying', 'tyke', 'type', 'types', 'typical', 'ube', 'ugly', 'um', 'umbrella', 'unable', 'unafraid', 'unbearable', 'unbelievable', 'unblinkingly', 'unbroken', 'uncertainly', 'uncle', 'uncles', 'uncoiling', 'uncomfortable', 'under', 'underground', 'undergrowth', 'underneath', 'understand', 'understood', 'undred', 'undursleyish', 'uneasy', 'unexpected', 'unfair', 'unfolded', 'unfolding', 'unfortunate', 'unfortunately', 'unicorn', 'unicorns', 'uniform', 'unknown', 'unless', 'unlike', 'unlocked', 'unluckily', 'unpleasant', 'unpopular', 'unraveled', 'unseated', 'unseen', 'unsettled', 'unsticking', 'untidy', 'until', 'untouched', 'unused', 'unusual', 'unusually', 'unwelcome', 'unwrap', 'unwrapped', 'unwrapping', 'up', 'upf', 'upon', 'upper', 'upright', 'uprising', 'uproar', 'upset', 'upside', 'upstairs', 'upturned', 'upward', 'urged', 'urgent', 'urgently', 'urgh', 'uric', 'us', 'use', 'used', 'useful', 'useless', 'uses', 'ushered', 'using', 'usual', 'usually', 'utter', 'vacation', 'vacationing', 'vacuum', 'vain', 'valuable', 'value', 'vampire', 'vampires', 'van', 'vanish', 'vanished', 'vanishing', 'vapor', 'vast', 'vault', 'vaults', 'vcr', 've', 'veins', 'velvet', 'velvety', 'vernon', 'vernons', 'versus', 'very', 'vibrate', 'vibrating', 'vicious', 'victims', 'victory', 'video', 'view', 'viewers', 'vigorously', 'village', 'vindictus', 'violent', 'violently', 'violet', 'viridian', 'visible', 'vision', 'visit', 'visited', 'visiting', 'visitor', 'visitors', 'voice', 'voices', 'voicing', 'vol', 'voldemort', 'voldemorts', 'volume', 'vomitflavored', 'waddling', 'waffle', 'waffling', 'wafting', 'waggled', 'wailed', 'waist', 'wait', 'waited', 'waitin', 'waiting', 'wake', 'wakes', 'waking', 'walk', 'walked', 'walking', 'wall', 'walled', 'walls', 'walnut', 'wand', 'wander', 'wandered', 'wandering', 'wanderings', 'wands', 'wandwaving', 'want', 'wanted', 'wantin', 'wanting', 'wants', 'ward', 'wardrobes', 'warlock', 'warlocks', 'warm', 'warmer', 'warmth', 'warn', 'warned', 'warning', 'warty', 'was', 'wash', 'wasn', 'wasnt', 'waste', 'wasted', 'wastepaper', 'wasters', 'watch', 'watched', 'watchin', 'watching', 'water', 'watered', 'watering', 'watery', 'wave', 'waved', 'waves', 'waving', 'wax', 'way', 'ways', 'we', 'weak', 'weakly', 'weapon', 'wear', 'wearing', 'wears', 'weasley', 'weasleys', 'weather', 'weatherman', 'weathers', 'weave', 'weaving', 'wed', 'wednesday', 'wee', 'weeds', 'week', 'weekly', 'weeks', 'weigh', 'weighed', 'weighing', 'weight', 'weird', 'weirdest', 'weirdos', 'welcome', 'well', 'wellknown', 'wellorganized', 'welsh', 'went', 'were', 'werent', 'werewolf', 'werewolves', 'west', 'wet', 'weve', 'whacked', 'wham', 'whap', 'what', 'whatever', 'whatre', 'whats', 'whatshername', 'whatve', 'wheedled', 'wheel', 'wheeled', 'wheeling', 'wheezed', 'wheezing', 'whelk', 'when', 'whenever', 'whens', 'where', 'wherere', 'wheres', 'wherever', 'whether', 'which', 'whichever', 'while', 'whimper', 'whimpered', 'whimpering', 'whined', 'whinging', 'whipped', 'whippy', 'whirl', 'whirled', 'whisk', 'whisked', 'whiskers', 'whiskery', 'whisper', 'whispered', 'whisperers', 'whispering', 'whispers', 'whistle', 'whistled', 'whistling', 'white', 'whiteblond', 'whitefaced', 'whittled', 'whizzing', 'who', 'whod', 'whoever', 'whole', 'whom', 'whomustnotbenamed', 'whoop', 'whooped', 'whooshing', 'whos', 'whose', 'whove', 'why', 'whyd', 'whys', 'wicked', 'wickedly', 'wide', 'wideawake', 'wideeyed', 'widely', 'widemouthed', 'wider', 'wife', 'wig', 'wight', 'wild', 'wilder', 'wilderlooking', 'wildlooking', 'wildly', 'will', 'willing', 'willow', 'win', 'wind', 'winding', 'windmill', 'window', 'windows', 'windowsill', 'winds', 'wine', 'wines', 'wing', 'wingardium', 'winged', 'winggardium', 'wings', 'winked', 'winning', 'wins', 'winter', 'wipe', 'wiped', 'wiping', 'wise', 'wish', 'wished', 'wishing', 'wit', 'witch', 'witchcraft', 'witches', 'with', 'within', 'without', 'wizard', 'wizardin', 'wizarding', 'wizardry', 'wizards', 'wizened', 'wohsi', 'woke', 'woken', 'wolfing', 'wolfsbane', 'woman', 'women', 'won', 'wonder', 'wondered', 'wonderful', 'wondering', 'wont', 'wood', 'woodcroft', 'wooden', 'woods', 'woolen', 'word', 'words', 'wore', 'work', 'worked', 'working', 'works', 'world', 'worlds', 'wormwood', 'worried', 'worry', 'worrying', 'worse', 'worst', 'worth', 'would', 'wouldn', 'wouldnt', 'woulnt', 'wound', 'wounded', 'woven', 'wow', 'wrapped', 'wrenched', 'wrestle', 'wrestled', 'wrestling', 'wriggled', 'wriggles', 'wriggling', 'wringing', 'wrinkled', 'wrist', 'wrists', 'wristwatch', 'wristwatches', 'write', 'writer', 'writing', 'written', 'wrong', 'wrongly', 'wrote', 'wroughtiron', 'y', 'yard', 'yawned', 'yawning', 'ye', 'yeah', 'year', 'years', 'yeh', 'yehd', 'yehll', 'yehve', 'yell', 'yelled', 'yelling', 'yellow', 'yellowish', 'yells', 'yelp', 'yelps', 'yer', 'yerself', 'yerselves', 'yes', 'yesterday', 'yet', 'yew', 'yorkshire', 'you', 'youd', 'youknow', 'youknowwhat', 'youknowwho', 'youknowwhos', 'youll', 'young', 'younger', 'youngest', 'youngsters', 'your', 'youre', 'yours', 'yourself', 'yourselves', 'youth', 'youve', 'yvonne', 'zabini', 'zigzagging', 'zombie', 'zoo', 'zoom', 'zoomed', 'zooming']\n"
          ]
        }
      ],
      "source": [
        "# this will make error\n",
        "# vocab_set[0] # set is not subscriptable because it has no order\n",
        "\n",
        "vocab = list(vocab_set) # converting set into list, so that we can order the items\n",
        "# sort the liset\n",
        "vocab = sorted(vocab)\n",
        "# vocab.sort()\n",
        "print(vocab)\n"
      ]
    },
    {
      "cell_type": "code",
      "execution_count": 12,
      "metadata": {
        "colab": {
          "base_uri": "https://localhost:8080/"
        },
        "id": "wOkBSjrkmNE4",
        "outputId": "be435d27-99a5-49f9-acce-361048d93fea"
      },
      "outputs": [
        {
          "output_type": "stream",
          "name": "stdout",
          "text": [
            "1701\n"
          ]
        }
      ],
      "source": [
        "# how can we filter the vocab by its frequency?\n",
        "from collections import Counter\n",
        "word_counter = Counter(total_words)\n",
        "# word_counter['hundreds']\n",
        "len(word_counter)\n",
        "\n",
        "# you can use word counter as dictionary\n",
        "# In python dictionary, dict.keys() gives keys, and dict.values() give values,\n",
        "# dict.items() give (key, value)\n",
        "filtered_vocab = []\n",
        "minimum_occur = 5\n",
        "for key, value in word_counter.items():\n",
        "  if value >= minimum_occur:\n",
        "    filtered_vocab.append(key)\n",
        "print(len(filtered_vocab))\n",
        "filtered_vocab.sort() # you must not declare filtered_vocab = filtered_vocab.sort()"
      ]
    },
    {
      "cell_type": "code",
      "execution_count": 13,
      "metadata": {
        "id": "_OQ3xsHFoheU",
        "outputId": "262f0ebc-58f6-446f-a045-666b5fd265f3",
        "colab": {
          "base_uri": "https://localhost:8080/"
        }
      },
      "outputs": [
        {
          "output_type": "stream",
          "name": "stdout",
          "text": [
            "['a', 'able', 'abou', 'about', 'above', 'across', 'added', 'adventure', 'afford', 'afraid', 'after', 'afternoon', 'again', 'against', 'age', 'ages', 'ago', 'agreed', 'ah', 'ahead', 'air', 'albus', 'alive', 'all', 'alley', 'allowed', 'almost', 'alone', 'along', 'already', 'also', 'although', 'always', 'am', 'an', 'and', 'angrily', 'angry', 'animals', 'another', 'answer', 'anxiously', 'any', 'anymore', 'anyone', 'anythin', 'anything', 'anyway', 'anywhere', 'apart', 'appeared', 'archway', 'are', 'arent', 'arm', 'armor', 'arms', 'around', 'arrived', 'arts', 'as', 'ask', 'asked', 'asking', 'asleep', 'at', 'attention', 'aunt', 'awake', 'away', 'baby', 'back', 'backward', 'bacon', 'bad', 'badly', 'bag', 'bald', 'ball', 'balls', 'bane', 'barely', 'barked', 'baron', 'barrier', 'bathroom', 'be', 'beaming', 'beans', 'bear', 'beard', 'became', 'because', 'become', 'becoming', 'bed', 'bedroom', 'been', 'before', 'began', 'behind', 'being', 'believe', 'believed', 'bell', 'bellowed', 'below', 'beneath', 'bent', 'best', 'bet', 'better', 'between', 'bewitched', 'big', 'bike', 'bill', 'bin', 'binoculars', 'birds', 'birthday', 'bit', 'bits', 'black', 'blankets', 'blew', 'blimey', 'blinked', 'blood', 'bloody', 'blown', 'bludger', 'bludgers', 'blue', 'boa', 'board', 'boat', 'boats', 'body', 'book', 'books', 'boots', 'both', 'bottle', 'bottles', 'bottom', 'bought', 'bowed', 'box', 'boy', 'boys', 'branches', 'brass', 'brave', 'break', 'breakfast', 'breaking', 'breath', 'breathe', 'breathing', 'bright', 'brilliant', 'bring', 'bringing', 'broke', 'broken', 'bronze', 'broom', 'brooms', 'broomstick', 'broomsticks', 'brother', 'brothers', 'brought', 'brown', 'bundle', 'burst', 'business', 'busy', 'but', 'buy', 'by', 'cake', 'cakes', 'call', 'called', 'calm', 'came', 'can', 'cant', 'captain', 'car', 'card', 'cards', 'care', 'careful', 'carefully', 'carried', 'carry', 'carrying', 'cart', 'case', 'castle', 'cat', 'catch', 'cats', 'caught', 'cauldron', 'cause', 'ceiling', 'celebrating', 'centaur', 'centaurs', 'certainly', 'chair', 'chamber', 'chance', 'change', 'changed', 'chapter', 'charlie', 'charlies', 'charms', 'chaser', 'chasers', 'cheer', 'cheering', 'cheers', 'chess', 'chessmen', 'chest', 'chocolate', 'christmas', 'chuckled', 'clambered', 'clapped', 'clapping', 'class', 'classes', 'classroom', 'clean', 'clear', 'cleared', 'clearing', 'clearly', 'clicked', 'climbed', 'cloak', 'cloaks', 'close', 'closed', 'closer', 'clothes', 'club', 'clutching', 'coat', 'coins', 'cold', 'collapsed', 'come', 'coming', 'common', 'compartment', 'complain', 'complained', 'completely', 'computer', 'contact', 'control', 'corner', 'corridor', 'corridors', 'could', 'couldnt', 'couple', 'courage', 'course', 'covered', 'crabbe', 'crack', 'crash', 'crate', 'crept', 'cried', 'cross', 'crossbow', 'crossed', 'crowd', 'cry', 'crying', 'cup', 'cupboard', 'curious', 'curiously', 'curse', 'cut', 'dad', 'damp', 'dangerous', 'dare', 'dark', 'darkly', 'darkness', 'day', 'daylight', 'days', 'dead', 'dean', 'dear', 'death', 'decided', 'deep', 'delighted', 'desk', 'desperate', 'detention', 'devils', 'diagon', 'did', 'didnt', 'die', 'died', 'difference', 'different', 'difficult', 'dinner', 'direction', 'disappeared', 'dive', 'dived', 'do', 'does', 'doesnt', 'dog', 'dogs', 'doing', 'don', 'done', 'dont', 'door', 'doors', 'doorway', 'dormitory', 'down', 'draco', 'dragged', 'dragon', 'dragons', 'dream', 'dressed', 'drew', 'drills', 'drink', 'drive', 'drop', 'dropped', 'drove', 'dudley', 'dudleys', 'dumbledore', 'dumbledores', 'dungeons', 'dunno', 'during', 'dursley', 'dursleys', 'dyou', 'each', 'eagerly', 'ear', 'ears', 'earth', 'easily', 'easy', 'eat', 'eating', 'edge', 'egg', 'eggs', 'eh', 'eight', 'either', 'eleven', 'elixir', 'else', 'em', 'empty', 'enchantments', 'end', 'enormous', 'enough', 'entered', 'entrance', 'envelope', 'er', 'erised', 'even', 'evening', 'ever', 'every', 'everybody', 'everyone', 'everything', 'everywhere', 'evil', 'exactly', 'exam', 'exams', 'excellent', 'except', 'excitedly', 'excitement', 'excuse', 'expect', 'expected', 'expelled', 'explain', 'explained', 'exploded', 'extra', 'eye', 'eyes', 'face', 'faces', 'facing', 'fact', 'faded', 'faint', 'fall', 'fallen', 'families', 'family', 'famous', 'fang', 'fangs', 'far', 'fast', 'faster', 'fat', 'father', 'fathers', 'favorite', 'fear', 'feast', 'feather', 'feathers', 'feel', 'feeling', 'feet', 'fell', 'felt', 'fer', 'few', 'field', 'fifty', 'figg', 'fight', 'fighting', 'figure', 'filch', 'filchs', 'filled', 'finally', 'find', 'finding', 'fine', 'fingers', 'finished', 'finnigan', 'fire', 'firenze', 'firs', 'first', 'five', 'fixed', 'flamel', 'flames', 'flash', 'flat', 'flavor', 'flew', 'flint', 'flitwick', 'floating', 'floor', 'fluffy', 'flute', 'fly', 'flying', 'follow', 'followed', 'following', 'food', 'fool', 'foot', 'footsteps', 'for', 'forbidden', 'force', 'forced', 'forehead', 'forest', 'forever', 'forget', 'forgive', 'forgotten', 'forward', 'found', 'four', 'fred', 'free', 'friend', 'friendly', 'friends', 'frightened', 'frog', 'frogs', 'from', 'front', 'full', 'fun', 'funny', 'furious', 'furiously', 'game', 'gamekeeper', 'gang', 'garden', 'gasped', 'gave', 'gently', 'george', 'get', 'gets', 'gettin', 'getting', 'ghost', 'ghosts', 'giant', 'ginny', 'girl', 'girls', 'give', 'given', 'giving', 'glad', 'glass', 'glasses', 'glittering', 'go', 'goal', 'goblin', 'goblins', 'goes', 'going', 'gold', 'golden', 'gone', 'good', 'goodbye', 'got', 'gotta', 'gotten', 'goyle', 'grab', 'grabbed', 'gran', 'granger', 'grass', 'gray', 'great', 'greatest', 'green', 'grew', 'grin', 'gringotts', 'grinned', 'griphook', 'groaned', 'ground', 'grounds', 'growled', 'grunted', 'gryffindor', 'gryffindors', 'guard', 'guarding', 'h', 'had', 'hadnt', 'hagrid', 'hagrids', 'hair', 'half', 'halfway', 'hall', 'halloween', 'halt', 'hand', 'handed', 'handkerchief', 'handle', 'hands', 'hang', 'hanging', 'happen', 'happened', 'happens', 'happily', 'happy', 'hard', 'harder', 'hardly', 'harry', 'harrys', 'has', 'hasnt', 'hat', 'hate', 'hated', 'have', 'havent', 'having', 'he', 'head', 'headless', 'heads', 'hear', 'heard', 'heart', 'heavy', 'hed', 'hedwig', 'held', 'hell', 'help', 'helped', 'her', 'herbology', 'here', 'hermione', 'hermiones', 'herself', 'hes', 'hey', 'hidden', 'hide', 'hiding', 'high', 'higher', 'him', 'himself', 'his', 'hissed', 'history', 'hit', 'hogwarts', 'hold', 'holding', 'hole', 'holidays', 'home', 'homework', 'honestly', 'hooch', 'hoops', 'hope', 'hoping', 'horrible', 'horror', 'hospital', 'hot', 'hour', 'hours', 'house', 'houses', 'how', 'however', 'howling', 'hufflepuff', 'huge', 'human', 'hundred', 'hundreds', 'hung', 'hungry', 'hurried', 'hurry', 'hurrying', 'hurt', 'hurtled', 'hut', 'i', 'ice', 'ickle', 'id', 'idea', 'if', 'ignored', 'ill', 'im', 'imagine', 'imagining', 'important', 'impressed', 'in', 'inches', 'indeed', 'inside', 'instead', 'interested', 'interesting', 'into', 'invisibility', 'invisible', 'involved', 'is', 'isnt', 'it', 'itll', 'its', 'itself', 'ive', 'james', 'jerked', 'job', 'join', 'joined', 'joke', 'joking', 'jordan', 'jump', 'jumped', 'jus', 'just', 'keep', 'keeper', 'keeping', 'kept', 'key', 'keys', 'kicked', 'kid', 'kill', 'killed', 'kind', 'kings', 'kitchen', 'knees', 'knew', 'knight', 'knock', 'knocked', 'knocking', 'know', 'knowing', 'known', 'knows', 'knuts', 'lady', 'lake', 'lamp', 'landed', 'large', 'last', 'late', 'later', 'laugh', 'laughed', 'laughing', 'laughter', 'lay', 'lead', 'leading', 'leaky', 'leaned', 'leaning', 'leapt', 'learn', 'learned', 'least', 'leave', 'leaves', 'leaving', 'led', 'lee', 'left', 'leg', 'legs', 'lemon', 'less', 'lesson', 'lessons', 'let', 'lets', 'letter', 'letters', 'library', 'lie', 'lies', 'life', 'light', 'lightning', 'lights', 'like', 'liked', 'lily', 'line', 'lines', 'lips', 'list', 'listen', 'listening', 'lit', 'little', 'live', 'lived', 'living', 'loads', 'lock', 'locked', 'locker', 'london', 'long', 'longbottom', 'look', 'looked', 'looking', 'looks', 'lose', 'losing', 'lost', 'lot', 'lots', 'loud', 'loudly', 'low', 'lower', 'luck', 'lucky', 'lumpy', 'lurking', 'lying', 'mad', 'madam', 'made', 'magic', 'magical', 'mail', 'make', 'making', 'malfoy', 'malfoys', 'man', 'managed', 'many', 'marble', 'marched', 'marcus', 'mark', 'mars', 'master', 'match', 'matter', 'may', 'maybe', 'mcgonagall', 'mcgonagalls', 'me', 'mean', 'means', 'meant', 'meanwhile', 'meet', 'meeting', 'mention', 'met', 'midair', 'middle', 'midnight', 'might', 'miles', 'mind', 'minds', 'mine', 'ministry', 'minute', 'minutes', 'mirror', 'miserably', 'miss', 'mistake', 'moaned', 'mom', 'moment', 'money', 'mood', 'moon', 'moonlight', 'more', 'morning', 'most', 'mother', 'mothers', 'motorcycle', 'mountain', 'mouth', 'move', 'moved', 'moving', 'mr', 'mrs', 'much', 'muggle', 'muggles', 'mum', 'mumbled', 'murmured', 'music', 'must', 'mustache', 'mustve', 'muttered', 'muttering', 'my', 'myself', 'mysterious', 'nah', 'name', 'names', 'narrow', 'nasty', 'near', 'nearer', 'nearest', 'nearly', 'neat', 'neck', 'need', 'needed', 'needs', 'neither', 'nerve', 'nervous', 'nervously', 'never', 'neville', 'nevilles', 'new', 'news', 'newspaper', 'next', 'nice', 'nicolas', 'night', 'nimbus', 'nine', 'no', 'nobody', 'nodded', 'noise', 'none', 'nor', 'norbert', 'normal', 'norris', 'nose', 'noses', 'nostrils', 'not', 'note', 'notes', 'nothin', 'nothing', 'notice', 'noticed', 'noticing', 'now', 'number', 'o', 'oak', 'obviously', 'oclock', 'odd', 'of', 'off', 'office', 'often', 'oh', 'okay', 'old', 'older', 'ollivander', 'on', 'once', 'one', 'ones', 'only', 'onto', 'open', 'opened', 'opinion', 'opposite', 'or', 'ordinary', 'other', 'others', 'our', 'out', 'outside', 'outta', 'over', 'overhead', 'owl', 'owls', 'own', 'pack', 'package', 'packed', 'pain', 'pair', 'pale', 'panic', 'panted', 'paper', 'parcel', 'parchment', 'parents', 'particularly', 'passageway', 'passed', 'passing', 'past', 'path', 'patil', 'pay', 'peered', 'peering', 'peeves', 'people', 'peoples', 'percy', 'perfect', 'perfectly', 'perhaps', 'person', 'petunia', 'photographs', 'picked', 'piece', 'pieces', 'piers', 'pig', 'pile', 'piled', 'pink', 'pinned', 'place', 'planets', 'plant', 'plastic', 'plates', 'platform', 'platforms', 'play', 'players', 'playing', 'please', 'pleased', 'pocket', 'pockets', 'point', 'pointed', 'pointing', 'points', 'pomfrey', 'poor', 'pop', 'portrait', 'possession', 'possible', 'possibly', 'posts', 'potion', 'potions', 'potter', 'potters', 'power', 'powerful', 'practice', 'prefect', 'prefects', 'present', 'presents', 'pressed', 'pretending', 'pretty', 'privet', 'probably', 'professor', 'proper', 'properly', 'proud', 'pull', 'pulled', 'pulling', 'purple', 'purpose', 'pushed', 'put', 'putting', 'quaffle', 'question', 'questions', 'quick', 'quickly', 'quidditch', 'quiet', 'quietly', 'quills', 'quirrell', 'quirrells', 'quite', 'racing', 'raised', 'ran', 'rang', 'rat', 'rather', 'ravenclaw', 'reached', 'read', 'reading', 'ready', 'real', 'realize', 'realized', 'really', 'reason', 'reckon', 'red', 'reflection', 'relief', 'relieved', 'remember', 'remembered', 'remembrall', 'reminded', 'repeated', 'rest', 'restricted', 'return', 'rid', 'right', 'road', 'roast', 'rob', 'robes', 'rock', 'roll', 'rolled', 'romania', 'ron', 'ronan', 'rons', 'room', 'ropes', 'rose', 'round', 'row', 'rubbish', 'rule', 'rules', 'run', 'running', 'rushed', 'safe', 'safely', 'said', 'same', 'sandwiches', 'sank', 'sat', 'saturday', 'sausages', 'save', 'saved', 'saw', 'say', 'saying', 'says', 'scabbers', 'scar', 'scared', 'scarlet', 'school', 'score', 'scrambled', 'screamed', 'sea', 'seamus', 'seat', 'seats', 'second', 'seconds', 'secret', 'section', 'see', 'seeker', 'seem', 'seemed', 'seems', 'seen', 'seized', 'send', 'sent', 'set', 'seven', 'several', 'severus', 'shadows', 'shake', 'shaking', 'shall', 'share', 'sharp', 'sharply', 'she', 'shed', 'sheets', 'shelves', 'shes', 'shivered', 'shock', 'shocked', 'shook', 'shooting', 'shop', 'shops', 'short', 'shot', 'should', 'shoulder', 'shoulders', 'shouldnt', 'shouted', 'show', 'showed', 'showing', 'shows', 'shrieked', 'shut', 'sick', 'side', 'sighed', 'sight', 'sign', 'silence', 'silent', 'silently', 'silver', 'simply', 'since', 'single', 'sir', 'sister', 'sit', 'sitting', 'six', 'size', 'skin', 'sky', 'slammed', 'sleep', 'slid', 'slightly', 'slipped', 'slithering', 'slowly', 'slytherin', 'slytherins', 'small', 'smell', 'smelting', 'smile', 'smiled', 'smiling', 'smoke', 'snake', 'snape', 'snapes', 'snapped', 'snare', 'snarled', 'snitch', 'snout', 'snowy', 'so', 'soccer', 'socks', 'sofa', 'soft', 'solid', 'some', 'somehow', 'someone', 'somethin', 'something', 'sometimes', 'somewhere', 'son', 'soon', 'sorcerers', 'sorry', 'sort', 'sorting', 'sound', 'sounded', 'sounding', 'sparks', 'speak', 'speaking', 'special', 'sped', 'speed', 'speeding', 'spell', 'spells', 'spent', 'split', 'spoke', 'spot', 'spotted', 'sprang', 'sprinted', 'squinting', 'staircase', 'stairs', 'stand', 'standing', 'stands', 'stare', 'stared', 'staring', 'stars', 'start', 'started', 'starting', 'station', 'stay', 'stayed', 'steal', 'step', 'stepped', 'steps', 'stick', 'sticks', 'still', 'stomach', 'stone', 'stones', 'stood', 'stool', 'stop', 'stopped', 'storm', 'story', 'straight', 'strange', 'strangely', 'stranger', 'street', 'stretched', 'strode', 'struck', 'stuck', 'students', 'study', 'studying', 'stuff', 'stunned', 'stupid', 'such', 'sudden', 'suddenly', 'suggested', 'summat', 'summer', 'sun', 'suppose', 'supposed', 'sure', 'surprise', 'surprised', 'swallowed', 'sweater', 'sweets', 'swooped', 'swung', 'table', 'tables', 'tail', 'take', 'taken', 'taking', 'talk', 'talking', 'tall', 'tap', 'tapped', 'tea', 'teach', 'teacher', 'teachers', 'team', 'teams', 'tears', 'teeth', 'telephone', 'television', 'tell', 'telling', 'ten', 'ter', 'term', 'terrible', 'terrified', 'than', 'thank', 'thanks', 'that', 'thats', 'the', 'their', 'them', 'themselves', 'then', 'there', 'theres', 'these', 'they', 'theyd', 'theyll', 'theyre', 'theyve', 'thick', 'thin', 'thing', 'things', 'think', 'thinking', 'thinks', 'third', 'thirteen', 'thirty', 'this', 'those', 'though', 'thought', 'thousand', 'thousands', 'three', 'threeheaded', 'threequarters', 'threw', 'throat', 'through', 'throw', 'throwing', 'thrown', 'ticket', 'tight', 'tightly', 'time', 'times', 'tiny', 'tired', 'to', 'toad', 'today', 'together', 'toilet', 'told', 'tomorrow', 'tonight', 'too', 'took', 'top', 'touch', 'touched', 'toward', 'tower', 'towering', 'town', 'train', 'training', 'transfiguration', 'trapdoor', 'trash', 'tree', 'trees', 'trembling', 'tried', 'troll', 'trolls', 'trophy', 'trouble', 'true', 'trunk', 'trust', 'truth', 'try', 'trying', 'turban', 'turn', 'turned', 'turning', 'tut', 'twelve', 'twenty', 'twice', 'twin', 'twins', 'twisted', 'twitched', 'two', 'umbrella', 'uncle', 'under', 'underground', 'underneath', 'understand', 'unicorn', 'uniform', 'unless', 'until', 'unusual', 'unwrapped', 'up', 'upset', 'upstairs', 'us', 'use', 'used', 'useful', 'usual', 'usually', 'vanished', 'vault', 'vernon', 'vernons', 'very', 'view', 'visit', 'voice', 'voices', 'vol', 'voldemort', 'voldemorts', 'wait', 'waited', 'waiting', 'wake', 'walk', 'walked', 'walking', 'wall', 'walls', 'wand', 'wandering', 'wands', 'want', 'wanted', 'wanting', 'wants', 'warm', 'warmth', 'warned', 'warning', 'was', 'wasnt', 'watch', 'watched', 'watching', 'water', 'waved', 'waving', 'way', 'ways', 'we', 'weak', 'wearing', 'weasley', 'weasleys', 'wed', 'week', 'weeks', 'welcome', 'well', 'went', 'were', 'werent', 'werewolf', 'weve', 'what', 'whatever', 'whats', 'when', 'where', 'wheres', 'wherever', 'whether', 'which', 'while', 'whisper', 'whispered', 'whistle', 'white', 'who', 'whod', 'whole', 'whos', 'why', 'wide', 'wild', 'will', 'win', 'wind', 'window', 'windows', 'wing', 'wings', 'winked', 'winning', 'wiping', 'wish', 'wished', 'witch', 'witchcraft', 'witches', 'with', 'without', 'wizard', 'wizarding', 'wizardry', 'wizards', 'woke', 'woman', 'won', 'wonder', 'wondered', 'wonderful', 'wondering', 'wont', 'wood', 'wooden', 'woods', 'word', 'words', 'wore', 'work', 'worked', 'working', 'world', 'worried', 'worry', 'worse', 'worst', 'worth', 'would', 'wouldnt', 'wrapped', 'wrist', 'written', 'wrong', 'yeah', 'year', 'years', 'yeh', 'yehll', 'yehve', 'yell', 'yelled', 'yellow', 'yer', 'yes', 'yesterday', 'yet', 'you', 'youd', 'youknowwho', 'youll', 'young', 'youngest', 'your', 'youre', 'yours', 'yourself', 'yourselves', 'youve', 'zoo']\n"
          ]
        }
      ],
      "source": [
        "print(filtered_vocab)"
      ]
    },
    {
      "cell_type": "code",
      "execution_count": 14,
      "metadata": {
        "colab": {
          "base_uri": "https://localhost:8080/"
        },
        "id": "XUS6U7y7opUp",
        "outputId": "6d1b71cd-19c9-48f5-c23b-1b7230fab72d"
      },
      "outputs": [
        {
          "output_type": "stream",
          "name": "stderr",
          "text": [
            "100%|██████████| 282372/282372 [00:10<00:00, 28066.35it/s]\n"
          ]
        }
      ],
      "source": [
        "# Filter the word_pairs using the vocab\n",
        "# word_pairs, filtered_vocab\n",
        "# word_pairs is a list of [word_a, word_b]\n",
        "\n",
        "filtered_pairs = []\n",
        "for pair in tqdm(word_pairs):\n",
        "  word_a, word_b = pair\n",
        "  # word_a = pair[0]\n",
        "  # word_b = pair[1]\n",
        "  # we will include this pair only if both words are in the vocab\n",
        "  if word_a in filtered_vocab and word_b in filtered_vocab:\n",
        "    filtered_pairs.append(pair)\n",
        "\n"
      ]
    },
    {
      "cell_type": "code",
      "execution_count": 15,
      "metadata": {
        "id": "U-o4UucOrcem"
      },
      "outputs": [],
      "source": [
        "# implement same algorithm with list comprehension\n",
        "filtered_pairs = [pair for pair in word_pairs\n",
        "                  if pair[0] in filtered_vocab and pair[1] in filtered_vocab]"
      ]
    },
    {
      "cell_type": "code",
      "execution_count": 16,
      "metadata": {
        "colab": {
          "base_uri": "https://localhost:8080/"
        },
        "id": "Uz_8ch59ps_P",
        "outputId": "4d887a8f-00b0-4781-c57c-7fc7a7cdb3d2"
      },
      "outputs": [
        {
          "output_type": "execute_result",
          "data": {
            "text/plain": [
              "(233046, 282372)"
            ]
          },
          "metadata": {},
          "execution_count": 16
        }
      ],
      "source": [
        "len(filtered_pairs), len(word_pairs)"
      ]
    },
    {
      "cell_type": "code",
      "execution_count": 17,
      "metadata": {
        "colab": {
          "base_uri": "https://localhost:8080/"
        },
        "id": "rmTMaftiqnsA",
        "outputId": "99fdde4e-660b-4a5f-ff42-7c40b1fe0135"
      },
      "outputs": [
        {
          "output_type": "execute_result",
          "data": {
            "text/plain": [
              "['happily', 'she']"
            ]
          },
          "metadata": {},
          "execution_count": 17
        }
      ],
      "source": [
        "filtered_pairs[1000]"
      ]
    },
    {
      "cell_type": "code",
      "execution_count": 18,
      "metadata": {
        "colab": {
          "base_uri": "https://localhost:8080/"
        },
        "id": "VFJfhOznqyi-",
        "outputId": "d5f1c9f5-838c-49bf-eda9-d9bf0bacf067"
      },
      "outputs": [
        {
          "output_type": "stream",
          "name": "stderr",
          "text": [
            "100%|██████████| 233046/233046 [00:07<00:00, 29411.93it/s]\n"
          ]
        },
        {
          "output_type": "execute_result",
          "data": {
            "text/plain": [
              "233046"
            ]
          },
          "metadata": {},
          "execution_count": 18
        }
      ],
      "source": [
        "# convert word into index of vocab\n",
        "filtered_vocab.index('happily')\n",
        "\n",
        "index_pairs = []\n",
        "for word_a, word_b in tqdm(filtered_pairs):\n",
        "  word_a_idx = filtered_vocab.index(word_a)\n",
        "  word_b_idx = filtered_vocab.index(word_b)\n",
        "  index_pairs.append([word_a_idx, word_b_idx])\n",
        "len(index_pairs)"
      ]
    },
    {
      "cell_type": "code",
      "execution_count": 19,
      "metadata": {
        "colab": {
          "base_uri": "https://localhost:8080/",
          "height": 36
        },
        "id": "xDCmtRjgtXAc",
        "outputId": "8c099d5b-8309-4642-a1be-19e39e84dce9"
      },
      "outputs": [
        {
          "output_type": "execute_result",
          "data": {
            "text/plain": [
              "'behind'"
            ],
            "application/vnd.google.colaboratory.intrinsic+json": {
              "type": "string"
            }
          },
          "metadata": {},
          "execution_count": 19
        }
      ],
      "source": [
        "filtered_vocab[100]"
      ]
    },
    {
      "cell_type": "code",
      "execution_count": 20,
      "metadata": {
        "colab": {
          "base_uri": "https://localhost:8080/"
        },
        "id": "2D8n16VitIHP",
        "outputId": "bd40eec9-f594-4fc0-cb44-ae952d2a0e9b"
      },
      "outputs": [
        {
          "output_type": "execute_result",
          "data": {
            "text/plain": [
              "613"
            ]
          },
          "metadata": {},
          "execution_count": 20
        }
      ],
      "source": [
        "# we can make it faster\n",
        "# use dictionary to find the index of string\n",
        "\n",
        "# adict['behind'] = 100\n",
        "# tok2idx = {}\n",
        "# for idx, word in enumerate(filtered_vocab):\n",
        "#   tok2idx[word] = idx # word becomes key, idx becomes value\n",
        "\n",
        "tok2idx = {word: idx for idx, word in enumerate(filtered_vocab)}\n",
        "\n",
        "tok2idx['harry']"
      ]
    },
    {
      "cell_type": "code",
      "execution_count": 21,
      "metadata": {
        "colab": {
          "base_uri": "https://localhost:8080/"
        },
        "id": "utXemuOgt8-o",
        "outputId": "2d6f8fd9-900e-42ef-fbd9-42f88ffddb35"
      },
      "outputs": [
        {
          "output_type": "stream",
          "name": "stderr",
          "text": [
            "100%|██████████| 233046/233046 [00:00<00:00, 310628.17it/s]\n"
          ]
        }
      ],
      "source": [
        "index_pairs = []\n",
        "for word_a, word_b in tqdm(filtered_pairs):\n",
        "  word_a_idx = tok2idx[word_a]\n",
        "  word_b_idx = tok2idx[word_b]\n",
        "  index_pairs.append([word_a_idx, word_b_idx])\n"
      ]
    },
    {
      "cell_type": "code",
      "execution_count": 22,
      "metadata": {
        "colab": {
          "base_uri": "https://localhost:8080/"
        },
        "id": "KgQ_oSNGuZAd",
        "outputId": "afab9ce5-153d-4fff-e7ad-666e8823087a"
      },
      "outputs": [
        {
          "output_type": "execute_result",
          "data": {
            "text/plain": [
              "('harry', 'potter')"
            ]
          },
          "metadata": {},
          "execution_count": 22
        }
      ],
      "source": [
        "# Why we don't need idx2tok?\n",
        "\n",
        "def convert_idx_pairs_to_string(pair):\n",
        "  # pair: [int, int]\n",
        "  idxa, idxb= pair\n",
        "  return filtered_vocab[idxa], filtered_vocab[idxb]\n",
        "convert_idx_pairs_to_string(index_pairs[0])"
      ]
    },
    {
      "cell_type": "code",
      "execution_count": 23,
      "metadata": {
        "colab": {
          "base_uri": "https://localhost:8080/"
        },
        "id": "ygV93qzDu4Ls",
        "outputId": "4de97d3c-f902-4742-c487-3b2282e8dd20"
      },
      "outputs": [
        {
          "output_type": "execute_result",
          "data": {
            "text/plain": [
              "(tensor([[ 0.2593,  0.0433, -0.3650,  ..., -0.5788, -0.5887,  0.5021],\n",
              "         [-0.2646,  0.1540, -0.1650,  ..., -0.2868, -0.4922, -0.1983],\n",
              "         [-0.1987, -0.4532,  0.4043,  ...,  0.1768, -0.2591,  0.0825],\n",
              "         ...,\n",
              "         [ 0.1410, -0.1560,  0.1037,  ..., -0.0827,  0.3122, -0.1455],\n",
              "         [ 0.0421, -0.0257,  0.3115,  ...,  0.0695, -0.1727, -0.0372],\n",
              "         [-0.5766,  0.0908,  0.0406,  ..., -0.2683,  0.1780, -0.5075]]),\n",
              " torch.Size([1701, 8]))"
            ]
          },
          "metadata": {},
          "execution_count": 23
        }
      ],
      "source": [
        "# we have to make random vectors for each word in the vocab\n",
        "# we also have to decide the dimension of the vector\n",
        "\n",
        "dim = 8\n",
        "vocab_size = len(filtered_vocab)\n",
        "\n",
        "word_vectors = torch.randn(vocab_size, dim) / 4\n",
        "word_vectors, word_vectors.shape"
      ]
    },
    {
      "cell_type": "code",
      "execution_count": 24,
      "metadata": {
        "colab": {
          "base_uri": "https://localhost:8080/"
        },
        "id": "vmZcT53rvwW2",
        "outputId": "4c6a2c3d-a8a6-4e30-d801-2f53d6fd2a6f"
      },
      "outputs": [
        {
          "output_type": "stream",
          "name": "stdout",
          "text": [
            "613\n"
          ]
        },
        {
          "output_type": "execute_result",
          "data": {
            "text/plain": [
              "tensor([-0.1886, -0.3664,  0.4148,  0.0823,  0.0359,  0.0883, -0.3901,  0.1089])"
            ]
          },
          "metadata": {},
          "execution_count": 24
        }
      ],
      "source": [
        "# what is the vector for harry?\n",
        "idx_of_harry = tok2idx['harry']\n",
        "print(idx_of_harry)\n",
        "vector_of_harry = word_vectors[idx_of_harry]\n",
        "vector_of_harry"
      ]
    },
    {
      "cell_type": "code",
      "execution_count": 25,
      "metadata": {
        "colab": {
          "base_uri": "https://localhost:8080/"
        },
        "id": "i1qznszMwyTg",
        "outputId": "4bfbbe40-d944-4357-ce0f-e69587b09e82"
      },
      "outputs": [
        {
          "output_type": "execute_result",
          "data": {
            "text/plain": [
              "(['harry', 'potter'], [613, 1085])"
            ]
          },
          "metadata": {},
          "execution_count": 25
        }
      ],
      "source": [
        "filtered_pairs[0], index_pairs[0]"
      ]
    },
    {
      "cell_type": "code",
      "execution_count": 27,
      "metadata": {
        "colab": {
          "base_uri": "https://localhost:8080/"
        },
        "id": "J4bEKFvUxbVv",
        "outputId": "36f5250e-1928-47f9-9d5c-8346b902bbb9"
      },
      "outputs": [
        {
          "output_type": "stream",
          "name": "stdout",
          "text": [
            "tensor([-0.1886, -0.3664,  0.4148,  0.0823,  0.0359,  0.0883, -0.3901,  0.1089])\n",
            "tensor([-0.0130, -0.4857, -0.3152,  0.1525,  0.1740,  0.0398,  0.1330, -0.2225])\n",
            "tensor([ 0.0024,  0.1780, -0.1307,  0.0126,  0.0062,  0.0035, -0.0519, -0.0242])\n",
            "tensor(-0.0041)\n"
          ]
        }
      ],
      "source": [
        "torch.set_printoptions(sci_mode=False)\n",
        "vector_of_potter = word_vectors[tok2idx['potter']]\n",
        "\n",
        "print(vector_of_harry)\n",
        "print(vector_of_potter)\n",
        "print(vector_of_harry * vector_of_potter)\n",
        "print(sum(vector_of_harry * vector_of_potter))"
      ]
    },
    {
      "cell_type": "markdown",
      "metadata": {
        "id": "VaCMWmD6Suhy"
      },
      "source": [
        "## Dot Product\n",
        "- Assume we have two vectors $a$ and $b$.\n",
        "  - $a = [a_1, a_2, a_3, a_4, ..., a_n]$\n",
        "  - $b = [b_1, b_2, b_3, b_4, ..., b_n]$\n",
        "- $a \\cdot b$ = $\\sum _{i=1}^n a_ib_i$  = $a_1b_1 + a_2b_2 + a_3b_3 + a_4b_4 + ... + a_nb_n$\n"
      ]
    },
    {
      "cell_type": "code",
      "execution_count": 28,
      "metadata": {
        "colab": {
          "base_uri": "https://localhost:8080/"
        },
        "id": "gsse-jUrw6c2",
        "outputId": "4eb7ec23-997f-444c-aad0-9d255fa4baa6"
      },
      "outputs": [
        {
          "output_type": "execute_result",
          "data": {
            "text/plain": [
              "tensor(-0.0041)"
            ]
          },
          "metadata": {},
          "execution_count": 28
        }
      ],
      "source": [
        "# calculate P(potter|harry)\n",
        "\n",
        "vector_of_potter = word_vectors[tok2idx['potter']]\n",
        "vector_of_harry, vector_of_potter\n",
        "\n",
        "dot_product_value_between_potter_harry = torch.dot(vector_of_harry, vector_of_potter)\n",
        "dot_product_value_between_potter_harry"
      ]
    },
    {
      "cell_type": "code",
      "execution_count": null,
      "metadata": {
        "id": "wZrLEY36yBNZ"
      },
      "outputs": [],
      "source": [
        "# we can get the dot product value for every other words in the vocab\n",
        "# to get  P(word | harry)\n",
        "word_dot_dict = {}\n",
        "for word in filtered_vocab:\n",
        "  word_vector = word_vectors[tok2idx[word]]\n",
        "  dot_product_value = torch.dot(vector_of_harry, word_vector)\n",
        "  word_dot_dict[word] = dot_product_value.item()\n",
        "\n",
        "word_dot_dict"
      ]
    },
    {
      "cell_type": "code",
      "execution_count": null,
      "metadata": {
        "id": "DQ1PUvuLyv6r"
      },
      "outputs": [],
      "source": [
        "from math import exp\n",
        "# we have to convert our prediction into probability distribution\n",
        "# P(word|harry)\n",
        "# sum of [P(a|harry), ..., P(potter|harry), ... P(ron|harry), ... ] = 1\n",
        "\n",
        "# every probability should be in range (0, 1) (greater than 0, smaller than 1)\n",
        "# this can be handled by taking exponential of dot product values, divided by total sum\n",
        "# This function is called Softmax\n",
        "\n",
        "# Why we use exponential?\n",
        "# Because we want to make every probability in positive range\n",
        "# while preserving the order\n",
        "\n",
        "word_exp_dict = {}\n",
        "sum_exp_value = 0\n",
        "for key, value in word_dot_dict.items(): # item is (key, value)\n",
        "  exp_value = exp(value)\n",
        "  word_exp_dict[key] = exp_value\n",
        "  sum_exp_value += exp_value\n",
        "\n",
        "word_prob_dict = {}\n",
        "for key, value in word_exp_dict.items(): # item is (key, value)\n",
        "  word_prob_dict[key] = value / sum_exp_value\n",
        "\n",
        "word_exp_dict,\n",
        "# print(sum_exp_value)\n",
        "word_prob_dict"
      ]
    },
    {
      "cell_type": "code",
      "source": [
        "word_prob_dict['potter'] #P(potter|harry)"
      ],
      "metadata": {
        "id": "SpXH7RxSbwUO",
        "outputId": "4330b3ef-85ac-4603-d6ec-b3321029f193",
        "colab": {
          "base_uri": "https://localhost:8080/"
        }
      },
      "execution_count": 35,
      "outputs": [
        {
          "output_type": "execute_result",
          "data": {
            "text/plain": [
              "0.0005748288528250344"
            ]
          },
          "metadata": {},
          "execution_count": 35
        }
      ]
    },
    {
      "cell_type": "markdown",
      "metadata": {
        "id": "kKxz9SJhSuhy"
      },
      "source": [
        "## Matrix Multiplication as Dot Product\n",
        "![img](https://mkang32.github.io/images/python/khan_academy_matrix_product.png)"
      ]
    },
    {
      "cell_type": "code",
      "source": [
        "# get dot product result for every word in the vocabulary\n",
        "print(vector_of_harry.shape, word_vectors.shape)\n",
        "\n",
        "# first, make vector_of_harry into matrix format\n",
        "mat_of_harry = vector_of_harry.unsqueeze(0)\n",
        "print(vector_of_harry.shape, mat_of_harry.shape, vector_of_harry, mat_of_harry, )\n",
        "print(word_vectors.T.shape)\n",
        "\n",
        "# do matrix multiplication\n",
        "mm_result = torch.mm(mat_of_harry, word_vectors.T) #mm means matrix multiplication\n",
        "mm_result.shape # (1 x 8) x (8 x 1701) = (1 x 1701)\n"
      ],
      "metadata": {
        "id": "HCFajiDkb44W",
        "outputId": "f43fad71-d9ba-47e2-a9a8-47c8574de9dd",
        "colab": {
          "base_uri": "https://localhost:8080/"
        }
      },
      "execution_count": 44,
      "outputs": [
        {
          "output_type": "stream",
          "name": "stdout",
          "text": [
            "torch.Size([8]) torch.Size([1701, 8])\n",
            "torch.Size([8]) torch.Size([1, 8]) tensor([-0.1886, -0.3664,  0.4148,  0.0823,  0.0359,  0.0883, -0.3901,  0.1089]) tensor([[-0.1886, -0.3664,  0.4148,  0.0823,  0.0359,  0.0883, -0.3901,  0.1089]])\n",
            "torch.Size([8, 1701])\n"
          ]
        },
        {
          "output_type": "execute_result",
          "data": {
            "text/plain": [
              "torch.Size([1, 1701])"
            ]
          },
          "metadata": {},
          "execution_count": 44
        }
      ]
    },
    {
      "cell_type": "code",
      "source": [
        "word_dot_dict['potter'], mm_result[0, tok2idx['potter']].item()\n"
      ],
      "metadata": {
        "id": "S0fiPAGUeijZ",
        "outputId": "54ba7630-e218-4dd9-c67e-d83826080e20",
        "colab": {
          "base_uri": "https://localhost:8080/"
        }
      },
      "execution_count": 48,
      "outputs": [
        {
          "output_type": "execute_result",
          "data": {
            "text/plain": [
              "(-0.004148811101913452, -0.004148811101913452)"
            ]
          },
          "metadata": {},
          "execution_count": 48
        }
      ]
    },
    {
      "cell_type": "code",
      "source": [
        "# convert dot product result into exponential\n",
        "exp_mm_result = torch.exp(mm_result)\n",
        "word_exp_dict['potter'], exp_mm_result[0, tok2idx['potter']].item()\n"
      ],
      "metadata": {
        "id": "5USdps5CfKzq",
        "outputId": "3af57e66-bc46-40b8-f134-bacc8c023614",
        "colab": {
          "base_uri": "https://localhost:8080/"
        }
      },
      "execution_count": 50,
      "outputs": [
        {
          "output_type": "execute_result",
          "data": {
            "text/plain": [
              "(0.9958597833252065, 0.9958598017692566)"
            ]
          },
          "metadata": {},
          "execution_count": 50
        }
      ]
    },
    {
      "cell_type": "code",
      "source": [
        "# get the sum of exponential\n",
        "print(exp_mm_result.shape)\n",
        "sum_exp_mm = torch.sum(exp_mm_result, dim=1)\n",
        "sum_exp_mm"
      ],
      "metadata": {
        "id": "WNq0gqz0fntB",
        "outputId": "ca0a807b-642f-4c73-f8e9-efec4a28180a",
        "colab": {
          "base_uri": "https://localhost:8080/"
        }
      },
      "execution_count": 54,
      "outputs": [
        {
          "output_type": "stream",
          "name": "stdout",
          "text": [
            "torch.Size([1, 1701])\n"
          ]
        },
        {
          "output_type": "execute_result",
          "data": {
            "text/plain": [
              "tensor([1732.4457])"
            ]
          },
          "metadata": {},
          "execution_count": 54
        }
      ]
    },
    {
      "cell_type": "code",
      "source": [
        "# divide exponential value with sum\n",
        "prob_mm = exp_mm_result / sum_exp_mm\n",
        "\n",
        "word_prob_dict['potter'], prob_mm[0, tok2idx['potter']].item()"
      ],
      "metadata": {
        "id": "ruV4_myDgLvG",
        "outputId": "99e8a294-ade6-4054-e43e-bfb970f7a618",
        "colab": {
          "base_uri": "https://localhost:8080/"
        }
      },
      "execution_count": 57,
      "outputs": [
        {
          "output_type": "execute_result",
          "data": {
            "text/plain": [
              "(0.0005748288528250344, 0.0005748288822360337)"
            ]
          },
          "metadata": {},
          "execution_count": 57
        }
      ]
    },
    {
      "cell_type": "code",
      "source": [
        "def get_probs(query_vectors, entire_vectors):\n",
        "  assert query_vectors.ndim == 2\n",
        "  assert entire_vectors.ndim == 2\n",
        "  assert query_vectors.shape[1] == entire_vectors.shape[1], 'each vector size has to match'\n",
        "\n",
        "  mm_result = torch.mm(query_vectors, entire_vectors.T)\n",
        "  exp_value = torch.exp(mm_result)\n",
        "  sum_value = torch.sum(exp_value, dim=1, keepdim=True)\n",
        "  print(exp_value.shape, sum_value.shape)\n",
        "  print(sum_value)\n",
        "  prob = exp_value / sum_value\n",
        "  return prob\n",
        "\n",
        "# get_probs(mat_of_harry, word_vectors)\n",
        "mat_of_harry_potter = torch.stack([vector_of_harry, vector_of_potter], dim=0)\n",
        "print(mat_of_harry_potter.shape)\n",
        "probs = get_probs(mat_of_harry_potter, word_vectors)\n",
        "\n",
        "torch.sum(probs[1, : ]), torch.sum(probs[0, : ])"
      ],
      "metadata": {
        "id": "EF4gutuEgntj",
        "outputId": "26979279-f993-4ea6-e24a-f91fb80b0aa8",
        "colab": {
          "base_uri": "https://localhost:8080/"
        }
      },
      "execution_count": 64,
      "outputs": [
        {
          "output_type": "stream",
          "name": "stdout",
          "text": [
            "torch.Size([2, 8])\n",
            "torch.Size([2, 1701]) torch.Size([2, 1])\n",
            "tensor([[1732.4457],\n",
            "        [1726.2122]])\n"
          ]
        },
        {
          "output_type": "execute_result",
          "data": {
            "text/plain": [
              "(tensor(1.), tensor(1.0000))"
            ]
          },
          "metadata": {},
          "execution_count": 64
        }
      ]
    },
    {
      "cell_type": "code",
      "execution_count": null,
      "metadata": {
        "id": "jK--Pbqge6Tf"
      },
      "outputs": [],
      "source": [
        "word_idx, context_word_idx, len(sample_sentence)"
      ]
    }
  ],
  "metadata": {
    "colab": {
      "provenance": [],
      "include_colab_link": true
    },
    "kernelspec": {
      "display_name": "Python 3",
      "name": "python3"
    },
    "language_info": {
      "name": "python"
    }
  },
  "nbformat": 4,
  "nbformat_minor": 0
}