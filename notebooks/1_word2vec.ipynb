{
  "cells": [
    {
      "cell_type": "markdown",
      "metadata": {
        "id": "view-in-github",
        "colab_type": "text"
      },
      "source": [
        "<a href=\"https://colab.research.google.com/github/jdasam/aat3020/blob/main/notebooks/1_word2vec.ipynb\" target=\"_parent\"><img src=\"https://colab.research.google.com/assets/colab-badge.svg\" alt=\"Open In Colab\"/></a>"
      ]
    },
    {
      "cell_type": "code",
      "execution_count": 1,
      "metadata": {
        "id": "L9BA5Lg2QRMr"
      },
      "outputs": [],
      "source": [
        "import torch\n",
        "import torch.nn as nn\n",
        "import string\n"
      ]
    },
    {
      "cell_type": "code",
      "execution_count": 2,
      "metadata": {
        "colab": {
          "base_uri": "https://localhost:8080/"
        },
        "id": "tEaaz_s0QRMs",
        "outputId": "75c4019c-7003-4280-d257-f66fdafee5a8"
      },
      "outputs": [
        {
          "output_type": "stream",
          "name": "stdout",
          "text": [
            "--2024-03-21 06:03:12--  https://raw.githubusercontent.com/amephraim/nlp/master/texts/J.%20K.%20Rowling%20-%20Harry%20Potter%201%20-%20Sorcerer's%20Stone.txt\n",
            "Resolving raw.githubusercontent.com (raw.githubusercontent.com)... 185.199.108.133, 185.199.109.133, 185.199.110.133, ...\n",
            "Connecting to raw.githubusercontent.com (raw.githubusercontent.com)|185.199.108.133|:443... connected.\n",
            "HTTP request sent, awaiting response... 200 OK\n",
            "Length: 439742 (429K) [text/plain]\n",
            "Saving to: ‘J. K. Rowling - Harry Potter 1 - Sorcerer's Stone.txt’\n",
            "\n",
            "\r          J. K. Row   0%[                    ]       0  --.-KB/s               \rJ. K. Rowling - Har 100%[===================>] 429.44K  --.-KB/s    in 0.006s  \n",
            "\n",
            "2024-03-21 06:03:12 (76.1 MB/s) - ‘J. K. Rowling - Harry Potter 1 - Sorcerer's Stone.txt’ saved [439742/439742]\n",
            "\n"
          ]
        }
      ],
      "source": [
        "!wget \"https://raw.githubusercontent.com/amephraim/nlp/master/texts/J.%20K.%20Rowling%20-%20Harry%20Potter%201%20-%20Sorcerer's%20Stone.txt\"\n"
      ]
    },
    {
      "cell_type": "code",
      "execution_count": 3,
      "metadata": {
        "id": "CUsXJYlIQRMs"
      },
      "outputs": [],
      "source": [
        "def remove_punctuation(x):\n",
        "  return x.translate(''.maketrans('', '', string.punctuation))\n",
        "\n",
        "def make_tokenized_corpus(corpus):\n",
        "  out= [ [y.lower() for y in remove_punctuation(sentence).split(' ') if y] for sentence in corpus]\n",
        "  return [x for x in out if x!=[]]\n"
      ]
    },
    {
      "cell_type": "code",
      "execution_count": 4,
      "metadata": {
        "id": "Ry1o-F-bQRMs"
      },
      "outputs": [],
      "source": [
        "with open(\"J. K. Rowling - Harry Potter 1 - Sorcerer's Stone.txt\", 'r') as f:\n",
        "  strings = f.readlines()\n",
        "sample_text = \"\".join(strings).replace('\\n', ' ').replace('Mr.', 'mr').replace('Mrs.', 'mrs').split('. ')\n"
      ]
    },
    {
      "cell_type": "code",
      "execution_count": 5,
      "metadata": {
        "colab": {
          "base_uri": "https://localhost:8080/"
        },
        "id": "Ne-pUaxSQRMs",
        "outputId": "d98d9325-2f99-426c-fbc1-d59191545f8d"
      },
      "outputs": [
        {
          "output_type": "stream",
          "name": "stdout",
          "text": [
            "['they', 'were', 'the', 'last', 'people', 'youd', 'expect', 'to', 'be', 'involved', 'in', 'anything', 'strange', 'or', 'mysterious', 'because', 'they', 'just', 'didnt', 'hold', 'with', 'such', 'nonsense']\n"
          ]
        }
      ],
      "source": [
        "corpus = make_tokenized_corpus(sample_text)\n",
        "print(corpus[1]) # Corpus is a list of list of strings (words)"
      ]
    },
    {
      "cell_type": "code",
      "execution_count": 6,
      "metadata": {
        "colab": {
          "base_uri": "https://localhost:8080/"
        },
        "id": "rv-VvzzXkAnZ",
        "outputId": "be13effb-db58-4af9-c002-36d9d13c4c87"
      },
      "outputs": [
        {
          "output_type": "execute_result",
          "data": {
            "text/plain": [
              "['they',\n",
              " 'were',\n",
              " 'the',\n",
              " 'last',\n",
              " 'people',\n",
              " 'youd',\n",
              " 'expect',\n",
              " 'to',\n",
              " 'be',\n",
              " 'involved',\n",
              " 'in',\n",
              " 'anything',\n",
              " 'strange',\n",
              " 'or',\n",
              " 'mysterious',\n",
              " 'because',\n",
              " 'they',\n",
              " 'just',\n",
              " 'didnt',\n",
              " 'hold',\n",
              " 'with',\n",
              " 'such',\n",
              " 'nonsense']"
            ]
          },
          "metadata": {},
          "execution_count": 6
        }
      ],
      "source": [
        "from copy import copy\n",
        "copy(corpus[1])"
      ]
    },
    {
      "cell_type": "code",
      "execution_count": 7,
      "metadata": {
        "colab": {
          "base_uri": "https://localhost:8080/"
        },
        "id": "-UxJwTAacWfP",
        "outputId": "e8137441-1d1f-4210-adf3-fd40d17eac76"
      },
      "outputs": [
        {
          "output_type": "stream",
          "name": "stderr",
          "text": [
            "100%|██████████| 4682/4682 [00:00<00:00, 8695.04it/s]\n"
          ]
        },
        {
          "output_type": "execute_result",
          "data": {
            "text/plain": [
              "282372"
            ]
          },
          "metadata": {},
          "execution_count": 7
        }
      ],
      "source": [
        "from tqdm import tqdm\n",
        "\n",
        "sample_sentence = ['they', 'were', 'the', 'last', 'people', 'youd', 'expect', 'to', 'be', 'involved', 'in', 'anything', 'strange', 'or', 'mysterious', 'because', 'they', 'just', 'didnt', 'hold', 'with', 'such', 'nonsense']\n",
        "\n",
        "word_idx = 7\n",
        "window_size = 2\n",
        "selected_center_word = sample_sentence[word_idx]\n",
        "\n",
        "word_pairs = []\n",
        "\n",
        "for sample_sentence in tqdm(corpus): # tqdm shows the progress bar of for loop\n",
        "  for word_idx, word in enumerate(sample_sentence):\n",
        "    for context_idx in range(-window_size, window_size+1):\n",
        "      if context_idx == 0: continue\n",
        "      context_word_idx = word_idx + context_idx\n",
        "      if context_word_idx >= len(sample_sentence) or context_word_idx < 0: continue\n",
        "      # print(context_idx, context_word_idx, sample_sentence[word_idx], sample_sentence[context_word_idx])\n",
        "      word_pair = [word, sample_sentence[context_word_idx]]\n",
        "      word_pairs.append(word_pair)\n",
        "len(word_pairs)"
      ]
    },
    {
      "cell_type": "code",
      "execution_count": 8,
      "metadata": {
        "colab": {
          "base_uri": "https://localhost:8080/"
        },
        "id": "BxcnHM7egR2o",
        "outputId": "287ac42b-c904-40e1-af5e-6be02d4b9983"
      },
      "outputs": [
        {
          "output_type": "execute_result",
          "data": {
            "text/plain": [
              "['mixing', 'dudley']"
            ]
          },
          "metadata": {},
          "execution_count": 8
        }
      ],
      "source": [
        "word_pairs[1000]"
      ]
    },
    {
      "cell_type": "code",
      "execution_count": 9,
      "metadata": {
        "id": "htinJiMPkkRE",
        "outputId": "8accd6ca-3494-4ce0-e0af-0bdb1af3b1cf",
        "colab": {
          "base_uri": "https://localhost:8080/"
        }
      },
      "outputs": [
        {
          "output_type": "stream",
          "name": "stdout",
          "text": [
            "['harry', 'potter', 'and', 'the', 'sorcerers', 'stone', 'chapter', 'one', 'the', 'boy', 'who', 'lived', 'mr', 'and', 'mrs', 'dursley', 'of', 'number', 'four', 'privet', 'drive', 'were', 'proud', 'to', 'say', 'that', 'they', 'were', 'perfectly', 'normal', 'thank', 'you', 'very', 'much', 'they', 'were', 'the', 'last', 'people', 'youd', 'expect', 'to', 'be', 'involved', 'in', 'anything', 'strange', 'or', 'mysterious', 'because', 'they', 'just', 'didnt', 'hold', 'with', 'such', 'nonsense', 'mr', 'dursley', 'was', 'the', 'director', 'of', 'a', 'firm', 'called', 'grunnings', 'which', 'made', 'drills', 'he', 'was', 'a', 'big', 'beefy', 'man', 'with', 'hardly', 'any', 'neck', 'although', 'he', 'did', 'have', 'a', 'very', 'large', 'mustache', 'mrs', 'dursley', 'was', 'thin', 'and', 'blonde', 'and', 'had', 'nearly', 'twice', 'the', 'usual']\n"
          ]
        }
      ],
      "source": [
        "# we have to make vocabulary\n",
        "\n",
        "total_words = []\n",
        "for sentence in corpus:\n",
        "  # print(sentence)\n",
        "  for word in sentence:\n",
        "    total_words.append(word)\n",
        "\n",
        "print(total_words[:100])\n",
        "# for a in corpus:\n",
        "#   for b in a:\n",
        "#     c.append(b)\n",
        "# always use proper variable name"
      ]
    },
    {
      "cell_type": "code",
      "execution_count": 10,
      "metadata": {
        "id": "ERBFCjeslgDe",
        "outputId": "58ad6c53-2776-4e59-91ea-6f1ee9bb25bd",
        "colab": {
          "base_uri": "https://localhost:8080/"
        }
      },
      "outputs": [
        {
          "output_type": "stream",
          "name": "stdout",
          "text": [
            "77597 6038\n",
            "{'bags', 'waiting', 'apologized', 'dratted', 'sword', 'juicy', 'roars', 'money', 'grubby', 'brightly', 'saving', 'pocket', 'pucey', 'leglocker', 'depended', 'skidding', 'payin', 'earned', 'sagged', 'memorize', 'weight', 'gryffindor', 'belonging', 'sunrise', 'pick', 'gun', 'hag', 'madam', 'thrown', 'gingerly', 'sneering', 'weakly', 'changed', 'wicked', 'fences', 'pub', 'dennis', 'gradually', 'flanked', 'disappointed', 'drafty', 'dull', 'covered', 'pretended', 'overtake', 'blossoming', 'myseff', 'malade', 'castle', 'knowing', 'person', 'mckinnons', 'bc', 'zoom', 'credit', 'tells', 'session', 'drawl', 'necessary', 'sister', 'betray', 'wouldn', 'loyal', 'happening', 'dunderhead', 'grudgingly', 'happen', 'turn', 'hidden', 'ideas', 'chatter', 'wailed', 'shhhh', 'mouthed', 'more', 'sleek', 'harbor', 'seamus', 'change', 'bearing', 'diagon', 'petrified', 'spelled', 'furiously', 'unwrap', 'resting', 'boat', 'paler', 'mutely', 'counting', 'wonder', 'knitting', 'says', 'force', 'baronll', 'warlock', 'wizard', 'tallest', 'vacuum', 'intently', 'scrabbling', 'worrying', 'bigger', 'move', 'edged', 'gleamed', 'ube', 'brew', 'beyond', 'outside', 'nott', 'gives', 'refereeing', 'staring', 'dog', 'cared', 'foreheads', 'caretaker', 'dashed', 'lunged', 'yorkshire', 'merry', 'safe', 'cauldron', 'yerselves', 'protection', 'engraved', 'shields', 'redder', 'smoked', 'escalator', 'advice', 'beans', 'feet', 'charging', 'especially', 'sets', 'deputy', 'quilt', 'defend', 'stuffed', 'goldenbrown', 'troduced', 'couldnt', 'moms', 'became', 'stamps', 'prodded', 'before', 'whinging', 'legendary', 'chasing', 'stairs', 'awarding', 'sprawled', 'species', 'taller', 'library', 'burning', 'groaned', 'ordinary', 'keen', 'monk', 'become', 'tripe', 'box', 'bat', 'miss', 'twentysix', 'shabby', 'up', 'frowning', 'stern', 'watchin', 'boots', 'sport', 'startofterm', 'emporium', 'scaredlooking', 'pebbles', 'torches', 'struggled', 'shrunk', 'poor', 'scored', 'promisin', 'creepy', 'ward', 'tearful', 'hearts', 'admirable', 'throats', 'raisins', 'children', 'fastest', 'cheeks', 'puts', 'tomatoes', 'aboutface', 'flickered', 'crikey', 'getups', 'threatening', 'gryffindors', 'ragged', 'presents', 'sight', 'kicked', 'bulstrode', 'magical', 'pheasants', 'wipe', 'swarmin', 'ashenfaced', 'celebrations', 'wheres', 'unfortunately', 'expect', 'rabbit', 'tackling', 'lowhanging', 'excited', 'butter', 'mattress', 'luggage', 'doors', 'howling', 'buried', 'sometimes', 'fork', 'deep', 'dyeh', 'floated', 'suspicion', 'slinking', 'sleeping', 'scruff', 'vacation', 'folks', 'good', 'arts', 'shortly', 'sideways', 'reflection', 'dropped', 'wider', 'jordans', 'fifthyear', 'careless', 'damaged', 'reasonably', 'keys', 'squinting', 'ripping', 'smell', 'oldest', 'portrait', 'trapdoor', 'hags', 'give', 'stones', 'scene', 'pelt', 'locker', 'tiptoed', 'palms', 'group', 'haaa', 'ball', 'sticky', 'lawn', 'aaaargh', 'itll', 'smooth', 'sloped', 'await', 'repaired', 'pomfreys', 'muddy', 'pep', 'stamp', 'everyone', 'balls', 'fields', 'mounted', 'midst', 'droop', 'such', 'senses', 'weighing', 'bishop', 'dislike', 'terror', 'company', 'flocking', 'properly', 'bottle', 'rasping', 'describing', 'hourglasses', 'unfortunate', 'fateful', 'net', 'nick', 'unwrapping', 'upturned', 'scabbets', 'floors', 'nastier', 'emeraldgreen', 'city', 'tall', 'sign', 'fell', 'dive', 'knot', 'talent', 'shoulders', 'weasley', 'an', 'returned', 'snape', 'ickle', 'courtyard', 'earmuffs', 'spray', 'lump', 'comin', 'broken', 'sizing', 'spying', 'lurch', 'nagging', 'delayed', 'nibble', 'title', 'crossbow', 'poker', 'killin', 'cabbagesmelling', 'erupted', 'packed', 'mark', 'arsenius', 'puff', 'substitutes', 'smiles', 'froze', 'obvious', 'presenting', 'rowboat', 'jaws', 'booming', 'shoes', 'sausage', 'sides', 'pewter', 'afford', 'ccant', 'pages', 'saved', 'georges', 'due', 'cooked', 'safely', 'dairy', 'smarter', 'silly', 'suspend', 'heaving', 'correcting', 'or', 'mistletoe', 'oyt', 'revenge', 'leaked', 'nof', 'worst', 'forecast', 't', 'recited', 'percent', 'darling', 'george', 'dangers', 'strength', 'slowed', 'forced', 'tailcoats', 'fatherd', 'music', 'overshadowed', 'compared', 'age', 'soft', 'flatter', 'outrage', 'favors', 'fred', 'slender', 'story', 'leathercovered', 'plastic', 'outta', 'pomfrey', 'chess', 'hate', 'bludgers', 'immortal', 'found', 'newspaper', 'bodies', 'dawned', 'streak', 'shoulda', 'clambered', 'glory', 'egg', 'beginning', 'yells', 'loud', 'scooping', 'lip', 'lessons', 'bundle', 'points', 'nudged', 'fortunately', 'sniff', 'began', 'were', 'squeak', 'shouting', 'greenhouses', 'sheared', 'diggle', 'turban', 'awe', 'somersault', 'sorc', 'enter', 'terms', 'uncomfortable', 'bushy', 'nicer', 'farther', 'moonlight', 'importantly', 'whatshername', 'said', 'seconds', 'directing', 'dappled', 'arrivals', 'fluffys', 'sleep', 'squeaked', 'lingering', 'thatthat', 'fear', 'fixing', 'decent', 'turns', 'piercing', 'impatient', 'service', 'goggle', 'ear', 'oooooh', 'walk', 'so', 'doorknob', 'laughter', 'twisted', 'law', 'ollivander', 'sandyhaired', 'lo', 'bid', 'portraits', 'goodun', 'forget', 'wheel', 'realizing', 'mahogany', 'flitwick', 'nodding', 'werewolves', 'touching', 'twentieth', 'dean', 'questions', 'resident', 'cry', 'swooping', 'coward', 'scroll', 'heaven', 'fiercely', 'curses', 'three', 'flexible', 'fudge', 'hufflepuffs', 'bits', 'mimblewimble', 'boom', 'bought', 'dinner', 'fathers', 'spaces', 'reared', 'wave', 'tell', 'clinging', 'me', 'screamed', 'spoken', 'overhead', 'murmured', 'teacher', 'scuse', 'direct', 'burly', 'thirst', 'league', 'art', 'strong', 'cans', 'flump', 'bridge', 'yelp', 'curly', 'jumpy', 'color', 'photographs', 'sweaters', 'punishments', 'absurd', 'soared', 'welsh', 'telephone', 'fifteen', 'thankyou', 'sweaty', 'kind', 'resign', 'burst', 'heaved', 'director', 'transfiguration', 'makes', 'detest', 'snuffbox', 'pppetunia', 'specimen', 'ronnie', 'century', 'actually', 'rubbish', 'instead', 'youll', 'largest', 'surrounding', 'wardrobes', 'weve', 'gambled', 'displeased', 'whipped', 'incredibly', 'beds', 'bubbles', 'tunnels', 'ruddy', 'pity', 'damn', 'relieved', 'seen', 'craning', 'lives', 'hatching', 'badger', 'feeble', 'claws', 'toe', 'truth', 'potionmaking', 'hams', 'sidled', 'vol', 'stiffily', 'leapt', 'chair', 'slope', 'surprising', 'stormed', 'git', 'hissed', 'calming', 'cheering', 'discussion', 'flocks', 'snap', 'cloak', 'ripped', 'unafraid', 'sausages', 'powders', 'giving', 'rotted', 'perfectly', 'driven', 'incredible', 'nnothing', 'objects', 'spinnet', 'grinned', 'strict', 'numbly', 'anticheating', 'manner', 'paused', 'rigged', 'road', 'contrary', 'boats', 'jim', 'hugged', 'crash', 'introduce', 'natural', 'bowed', 'tosh', 'blankets', 'embers', 'receiver', 'sports', 'gaze', 'goyles', 'beach', 'mcgonagalls', 'hebridean', 'piled', 'go', 'knees', 'swear', 'computer', 'grandfathers', 'replacing', 'triumphs', 'mistakes', 'tangles', 'bidden', 'days', 'right', 'chasin', 'concentrate', 'particularly', 'propped', 'imagining', 'tying', 'pierced', 'albus', 'quills', 'chapter', 'kills', 'softest', 'gran', 'stuffing', 'promised', 'swished', 'new', 'grindelwald', 'cantve', 'effect', 'teacups', 'scales', 'complicated', 'carry', 'infusion', 'circe', 'shriek', 'fingertips', 'hengist', 'occasions', 'stunned', 'happier', 'puzzlement', 'across', 'carousel', 'hmm', 'valuable', 'liquids', 'slytherins', 'whiteblond', 'useless', 'stain', 'chopped', 'blast', 'sounding', 'blundering', 'jello', 'trolls', '1473', 'forgetmenot', 'tent', 'ridgebacks', 'snoring', 'straying', 'warmer', 'longestever', 'cafru', 'apart', 'piece', 'prewetts', 'quaffle', 'paddington', 'known', 'done', 'skin', 'buildings', 'settling', 'rows', 'bite', 'dormitory', 'mastered', 'thinnest', 'hagrid', 'cheating', 'nothin', 'ages', 'chat', 'yellowish', 'summat', 'smashed', 'young', 'ouch', 'directed', 'lucky', 'whatever', 'quickly', 'history', 'blank', 'wizardin', 'overtaking', 'streamed', 'brazil', 'shapes', 'coats', 'took', 'happens', 'whose', 'bound', 'underground', 'hatred', 'sofa', 'piles', 'hammered', 'overgrown', 'spose', 'rations', 'spent', 'normally', 'thus', 'sprout', 'flying', 'pumpkins', 'hint', 'paraded', 'bars', 'terrified', 'bleaaargh', 'kick', 'seeming', 'can', 'needed', 'heed', 'tufts', 'cornered', 'flat', 'spite', 'whenever', 'strawberries', 'dittany', 'everyoned', 'whelk', 'thickly', 'sincerely', 'concern', 'hoped', 'grasp', 'constrictors', 'charlie', 'corridors', 'pitch', 'witch', 'panting', 'must', 'famous', 'picking', 'somefink', 'separately', 'abnormal', 'reckons', 'vindictus', 'game', 'rammed', 'ingredients', 'radish', 'nevertheless', 'uses', 'swung', 'directly', 'lazily', 'problems', 'figure', 'scurrying', 'flooded', 'seeping', 'heart', 'flinched', 'smallest', 'grasped', 'smarmy', 'large', 'strawberry', 'haircuts', 'certain', 'gets', 'movies', 'twentynine', '1', 'anyones', 'drearns', 'bathilda', 'born', 'ignored', 'saturday', 'below', 'tights', 'mauve', 'chortled', 'motionless', 'convention', 'remembered', 'ever', 'baseball', 'barn', 'curious', 'groped', 'swap', 'needle', 'blubber', 'held', 'son', 'unseated', 'lot', 'waking', 'nearsighted', 'traveled', 'ran', 'selling', 'stopper', 'slipped', 'beef', 'member', 'cigarette', 'slid', 'politely', 'games', 'thrashing', 'respect', 'drinking', 'awaiting', 'killed', 'uncle', 'argument', 'being', 'flavored', 'scotch', '17', 'dogs', 'filling', 'balancing', 'soccer', 'clock', 'cushion', 'protecting', 'dragon', 'feathers', 'dropping', 'annoyed', 'bitter', 'train', 'buyin', 'into', 'immediately', 'rivers', 'any', 'skipped', 'collapsible', 'gruffly', 'spoke', 'commentating', 'annoying', 'handsome', 'havin', 'threes', 'hundred', 'stargazers', 'patch', 'after', 'startled', 'gloves', 'morag', 'burnt', 'facedown', 'gently', 'wednesday', 'defrosting', 'sharper', 'b', 'downpour', 'ful', 'unusual', 'bluebell', 'spots', 'bursting', 'through', 'eager', 'readin', 'emetic', 'forge', 'furious', 'lookin', 'wellorganized', 'full', 'black', 'downright', 'longed', 'drop', 'festoons', 'motorcycle', 'foghorn', 'ten', 'swayed', 'rapping', 'surprised', 'colorcoding', 'provoked', 'clasped', 'record', 'about', 'pumpkin', 'unbelievable', 'ask', 'from', 'studying', 'carelessly', 'pier', 'late', 'conductor', 'slippers', 'overhearing', 'ledgers', 'riders', 'discovery', 'fetchin', 'entranced', 'gordon', 'balloon', 'limp', 'inside', 'those', 'sparkling', 'thinner', 'alley', 'tut', 'hardly', 'crammed', 'foolish', 'suggested', 'youknowwho', 'smiling', 'ranting', 'wooden', 'settled', 'flies', 'walnut', 'sun', 'alberic', 'imprecise', 'supply', 'hands', 'important', 'wakes', 'blasted', 'rest', 'lady', 'asking', 'hopped', 'thumbs', 'waggled', 'wrists', 'agreed', 'lunch', 'rude', 'oak', 'itself', 'long', '0', 'lines', 'icing', 'taunting', 'alien', 'indeed', 'nnot', 'rule', 'amuse', 'eeylops', 'railview', 'grunnion', 'flatten', 'powers', 'shoulder', 'woulnt', 'next', 'worth', 'stretch', 'zoo', 'sssorry', 'peering', 'voices', 'usually', 'matter', 'o', 'beats', 'introduced', 'snatching', 'whens', 'hours', 'talk', 'hey', 'there', 'tune', 'swish', 'blocking', 'fastenings', 'hunger', 'cobras', 'whole', 'blocked', 'pretending', 'bolt', 'squat', 'forgetting', 'detention', 'robes', 'spluttering', 'stone', 'wear', 'malkins', 'sneaked', 'friends', 'end', 'ter', 'dursley', 'sleeve', 'brilliantly', 'nervously', 'guessing', 'fewer', 'mixed', 'nimbus', 'memory', 'expression', 'mugwump', 'mad', 'gathered', 'sore', 'speeding', 'whos', 'duels', 'shed', 'rescued', 'fortytwo', 'act', 'thought', 'dudleykins', 'trifle', 'badly', 'crate', 'fault', 'question', 'mouthful', 'tarts', 'ddont', 'nurse', 'wheezed', 'calmly', 'paying', 'ggot', 'ggetting', 'longbottoms', 'weather', 'katie', 'charlies', 'local', 'arguments', 'pineapple', 'beg', 'yelling', 'chuckle', 'crystal', 'raising', 'quiet', 'goose', 'frayed', 'programs', 'undergrowth', 'possibly', 'professor', 'stroked', 'big', 'kids', 'shapeless', 'powdered', 'funeral', 'encouraging', 'glowing', 'did', 'anger', 'thronging', 'untidy', 'truthful', 'anything', 'shrieks', 'smaller', 'shone', 'voldemort', 'goyle', 'secretly', 'footfalls', 'true', '2', 'doing', 'ride', 'mother', 'turkeys', 'ridgeback', 'youd', 'passwords', 'boy', 'knickerbocker', 'skimming', 'scrawny', 'peeling', 'loved', 'exciting', 'subjects', 'gym', 'take', 'able', 'field', 'using', 'warned', 'wafting', 'anythin', 'tore', 'contains', 'crouching', 'breakin', 'difference', 'dribbling', 'nursed', 'baron', 'cowering', 'journey', 'ambling', 'sunshine', 'astonishingly', 'whined', 'bacon', 'riffraff', 'whom', 'damp', 'television', 'mouths', 'laws', 'ajar', 'dumbfounded', 'each', 'inter', 'match', 'grayish', 'shouldve', 'smuggle', 'godrics', 'watery', 'woman', 'burn', 'near', 'alive', 'spindly', 'parties', 'rustling', 'leave', 'toothless', 'scared', 'approve', 'parkinson', 'bend', 'curling', 'past', 'joining', 'horny', 'bathroom', 'spider', 'de', 'shame', 'following', 'lionfish', 'faintly', 'plan', 'lying', 'shrieked', 'sunburn', 'frogs', 'solid', 'round', 'spring', 'jar', 'weigh', 'table', 'classroom', 'parking', 'lift', 'flute', 'fashion', 'grateful', 'doubted', 'eggs', 'sunlight', 'desks', 'swapped', 'wasn', 'impossible', 'mentionin', 'thirtyseven', 'entering', 'listening', 'banging', 'towers', 'frame', 'easiest', 'forgetfulness', 'without', 'roundfaced', 'humming', 'jealous', 'sneeze', 'kicking', 'ronan', 'sending', 'stretched', 'repair', 'wiping', 'kings', 'needles', 'gloom', 'cannon', 'served', 'fat', 'because', 'refusing', 'sold', 'goodll', 'violently', 'makin', 'miffed', 'alongside', 'fur', 'roughly', 'snatch', 'tonight', 'delights', 'oy', 'holes', 'whisked', 'sing', 'patted', 'bravely', 'toward', 'pepper', 'uric', 'riding', 'either', 'coals', 'sailed', 'dared', 'close', 'doin', 'greatest', 'vernons', 'approached', 'split', 'wet', 'peered', 'recorded', 'making', 'tingle', 'unfolding', 'sniffed', 'witchcraft', 'rubeus', 'sound', 'page', 'em', 'teddy', 'lets', 'bullets', 'dreading', 'swoop', 'ceased', 'tripped', 'lecture', 'sweater', 'cover', 'watering', 'convinced', 'postage', 'low', 'hold', 'rarely', 'instructions', 'tumbling', 'looked', 'misters', 'waffling', 'weeks', 'stop', 'sp', 'furor', 'reply', 'firs', 'trick', 'ruins', 'fill', 'pickmeup', 'beaters', 'accept', 'blown', 'shake', 'lastminute', 'solutions', 'greatness', 'timidly', 'prowling', 'boarded', 'angrily', 'value', 'algie', 'brother', 'tottering', 'built', 'visit', 'moans', 'alarm', 'windmill', 'sixteen', 'hagrids', 'cartoon', 'pomftey', 'delighted', 'temper', 'wit', 'clattering', 'maps', 'set', 'fast', 'winged', 'mere', 'aboard', 'tapped', 'beating', 'please', 'arrival', 'grimly', 'boiling', 'basketball', 'dyeing', 'rubber', 'piped', 'station', 'sped', 'dearest', 'obviously', 'opera', 'bundled', 'tyke', 'nightmares', 'within', 'howled', 'grown', 'taking', 'raise', 'interrupted', 'tangled', 'ahead', 'dungeon', 'warning', 'beat', 'equipment', 'personally', 'striped', 'bless', 'delight', 'slytherin\\twould', 'fastened', 'patil', 'whooped', 'behead', 'fond', 'fouls', 'liver', 'studyin', 'removed', 'hides', 'carrots', 'thanked', 'code', 'holidays', 'velvety', 'candles', 'addressed', 'polkiss', 'trailing', 'hunched', 'merrily', 'limping', 'fireworks', 'scratchy', 'put', 'fading', 'thered', 'thomas', 'vampire', 'streets', 'dwarf', 'buttered', 'antidark', 'heard', 'fame', 'subtle', 'visible', 'knowin', 'wrestling', 'interestinglooking', 'hooded', 'living', 'starved', 'carved', 'show', 'continue', 'angry', 'than', 'branches', 'tight', 'gliding', 'colors', 'bending', 'direction', 'among', 'charm', 'bandaged', 'injured', 'poster', 'littie', 'liked', 'pairs', 'gateway', 'voldemorts', 'teabags', 'queasy', 'flattering', 'absolutely', 'books', 'sudden', 'loudest', 'creep', 'herbs', 'search', 'mostly', 'defeated', 'snare', 'arm', 'worried', 'toppled', 'hadnt', 'grubbylooking', 'refuse', 'flinging', 'exasperated', 'tightlipped', 'pppotter', 'joy', 'backs', 'youngsters', 'expecting', 'differentcolored', 'breath', 'seal', 'customer', 'illegal', 'got', 'object', 'cracking', 'pansy', 'mistaking', 'scruffs', 'fluffy', 'clanging', 'some', 'for', 'hufflepuffis', 'lizards', 'cup', 'cackle', 'asleep', 'smoke', 'girls', 'murmur', 'truly', 'parrot', 'oddball', 'sweltering', 'wrist', 'ppick', 'platters', 'championship', 'minutes', 'depressed', 'forehead', 'hiding', 'knuckles', 'wantin', 'maple', 'debt', 'identical', 'gold', 'jolt', 'stare', 'evil', 'brandy', 'helped', 'weirdos', 'sinister', 'steps', 'daring', 'countercurse', 'weighed', 'telling', 'scoop', 'knuckle', 'parted', 'chosen', 'considered', 'paracelsus', 'goblins', 'bean', 'finally', 'stream', 'helplessly', 'adrian', 'blood', 'concerned', 'fluff', 'lose', 'plant', 'supporting', 'chimney', 'ducked', 'bothering', 'case', 'quiz', 'roast', 's', 'drawback', 'which', 'spore', 'twist', 'yerself', 'breeding', 'measured', 'hated', 'ray', 'simmering', 'rickety', 'swimming', 'clean', 'embarrassed', 'sniffling', 'wandering', 'leg', 'forgets', 'here', 'kip', 'trophy', 'serpent', 'rattle', 'pure', 'scowling', 'reach', 'seeker', 'barking', 'order', 'copy', 'triumph', 'wig', 'dodge', 'nail', 'remote', 'unsticking', 'engulfed', 'cringed', 'behaving', 'tweak', 'flick', 'swarming', 'confessed', 'bathrobe', 'purplefaced', 'boarhound', 'bodybind', 'figures', 'grips', 'scattering', 'showing', 'paces', 'splendid', 'trailed', 'youve', 'glasses', 'hermiones', 'schools', 'putouter', 'view', 'find', 'fidgeted', 'diggles', 'bendy', 'swishy', 'bellowed', 'rocket', 'lower', 'vanishing', 'cabbages', 'uncles', 'year', 'first', 'giant', 'finished', 'meringue', 'excuses', 'attack', 'slits', 'scar', 'sneakers', 'flap', 'fit', 'faster', 'snake', 'leader', 'blacks', 'chicken', 'emerald', 'too', 'skulking', 'basket', 'why', 'shouldnt', 'painful', 'dreamily', 'currently', 'rolling', 'attention', 'man', 'prepared', 'dress', 'pigs', 'family', 'stores', 'decorations', 'parks', 'goblets', 'words', 'stra', 'theres', 'visitors', 'disagree', 'slot', 'amid', 'hunt', 'upside', 'wight', 'urgent', 'watch', 'trust', 'soon', 'freckles', 'restricted', 'rushed', 'shallows', 'poisons', 'trained', 'hummed', 'bangs', 'detentions', 'ashamed', 'card', 'sony', 'bodied', 'belting', 'improve', 'peas', 'meanwhile', 'elastic', 'kitchens', 'clamped', 'towns', 'howard', 'haaaaaa', 'trowels', 'longingly', 'hanging', 'wringing', 'hind', 'nervous', 'tie', 'brick', 'punch', 'boaters', 'privately', 'needs', 'racing', 'video', 'praying', 'since', 'spurt', 'working', 'twelve', 'reported', 'watched', 'claw', 'missing', 'bright', 'chose', 'horn', 'squares', 'awkward', 'breakfast', 'shooting', 'awarded', 'many', 'pretty', 'mouth', 'she', 'starving', 'glitteryblack', 'glimpse', 'asked', 'seeing', 'suspicious', 'chorused', 'beneath', 'hannah', 'teeth', 'careful', 'weekly', 'blew', 'thatll', 'goodfornothing', 'bun', 'indoors', 'blur', 'laughing', 'placed', 'tiny', 'postcard', 'arguing', 'tearstreaked', 'glumly', 'heaps', 'pieces', 'bedrooms', 'flickering', 'malfoyll', 'firework', 'offhand', 'doi', 'subject', 'branch', 'thieves', 'if', 'speared', 'ornate', 'ham', 'grew', 'markings', 'master', 'ended', 'shelves', 'smeltings', 'line', 'thanks', 'notice', 'ready', 'shutting', 'fade', 'searched', 'invented', 'fouled', 'ststuttering', 'jot', 'brothers', 'sink', 'mustached', 'least', 'nmat', 'handful', 'noted', 'stopping', 'agrippa', 'husband', 'whittled', 'names', 'halloween', 'quick', 'quirrells', 'inched', 'pair', 'meanin', 'wrinkled', 'sixty', 'cars', 'transform', 'biscuits', 'ping', 'rulebreaking', 'norwegian', 'mm', 'crack', 'centaurs', 'snout', 'keep', 'lumbered', 'nine', 'upset', 'pasties', 'alibis', 'fists', 'troops', 'rice', 'leering', 'shove', 'plump', 'remember', 'greed', 'wormwood', 'railway', 'help', 'stubs', 'tendrils', 'inferno', 'punishment', 'thud', 'inspectors', 'sorts', 'shadowy', 'wohsi', 'misty', 'swaggered', 'dining', 'accident', 'ducks', 'again', 'dried', 'peculiar', 'trip', 'recognize', 'confusion', 'percys', 'pack', 'ropes', 'las', 'exits', 'blimey', 'nerves', 'judging', 'seat', 'health', 'green', 'ring', 'firm', 'galoshes', 'inches', 'kinda', 'eyebrows', 'harp', 'mind', 'camera', 'pleased', 'mmyself', 'practice', 'seized', 'dare', 'kettle', 'creak', 'screech', 'monster', 'happily', 'map', 'norberts', 'brains', 'stared', 'woodcroft', 'surrounded', 'halfmoon', 'straight', 'rather', 'ate', 'bricks', 'scraped', 'else', 'died', 'feed', 'loomed', 'steel', 'isnt', 'cold', 'compartments', 'daddy', 'yellow', 'defeat', 'shiny', 'bossy', 'over', 'tabby', 'sick', 'noises', 'painted', 'groups', 'goshawk', 'centuries', 'havent', 'trials', 'spoils', 'voicing', 'fanatic', 'clamber', 'hall', 'sprinting', 'might', 'cinemas', 'hawk', 'puddin', 'admired', 'increases', 'several', 'gringotts', 'urgh', 'play', 'seventy', 'slug', 'pop', 'puncture', 'whispers', 'willow', 'accountant', 'finger', 'pink', 'knocked', 'shopping', 'their', 'dancing', 'neither', 'dragging', 'steeply', 'curtains', 'insisting', 'suits', 'shrank', 'melt', 'demands', 'typical', 'thinking', 'winning', 'angel', 'clear', 'enemies', 'jam', 'drifting', 'entered', 'noiselessly', 'flimsy', 'few', 'survive', 'f', 'tourists', 'tower', 'whistle', 'smiled', 'buy', 'malkin', 'toasting', 'folk', 'stumbling', 'ive', 'bang', 'sec', 'belt', 'everythin', 'lurched', 'bucket', 'pass', 'boredom', 'rebellions', 'sizes', 'hows', 'smelled', 'darted', 'inform', 'sugar', 'forces', 'captain', 'denying', 'bullied', 'judge', 'precious', 'stopped', 'sniffy', 'ghost', 'dodges', 'hocus', 'hearing', 'sadness', 'lightest', 'straining', 'muscle', 'ivy', 'pudding', 'whomustnotbenamed', 'urged', 'feel', 'tucked', 'letters', 'tawny', 'will', 'live', 'sheets', 'carried', 'wizarding', 'platform', 'handknitted', 'frightened', 'mist', 'eh', 'selfish', 'stops', 'watered', 'hills', 'timeout', 'whirl', 'stray', 'reeled', 'ceremonys', 'dumbledorell', 'deaths', 'brandished', 'whyd', 'wait', 'wrenched', 'cannonball', 'stuck', 'heavily', 'places', 'eight', 'dreadlocks', 'eaten', 'dota', 'wonderful', 'kinds', 'shinin', 'fascinating', 'ahem', 'cant', 'rolled', 'grow', 'sliding', 'nothing', 'speaking', 'nonmagic', 'chained', 'scarlet', 'sin', 'need', 'oddly', 'shouts', 'smoother', 'pawn', 'bettie', 'twinkled', 'slytherin', 'finer', 'tightened', 'board', 'nailed', 'syllable', 'fabulous', 'august', 'rang', 'shredded', 'spectacular', 'slithering', 'ensnaring', 'crouched', 'potter', 'laugh', 'teach', 'flagged', 'glanced', 'wriggled', 'id', 'private', 'dreamed', 'rubbed', 'idly', 'bestplayed', 'greek', 'blushed', 'soaring', 'putting', 'porridge', 'deeper', 'genius', 'faintest', 'sternly', 'thirdfloor', 'grief', 'snored', 'although', 'smoothly', 'toadless', 'helmeted', 'stabbing', 'barrels', 'fighting', 'forbidden', 'bounced', 'breathing', 'fury', 'motion', 'bagshot', 'down', 'laughed', 'nodded', 'writing', 'scribbled', 'sent', 'fancy', 'lumpy', 'drawing', 'gallery', 'horns', 'muggles', 'singsong', 'jacket', 'both', 'stands', 'hangings', 'fierce', 'pockets', 'cost', 'concrete', 'fourteen', 'pacing', 'airily', 'drills', 'sheet', 'unicorns', 'turnips', 'torture', 'pprofessor', 'water', 'wands', 'hurry', 'whoever', 'grasping', 'g', 'pointy', 'pay', 'swelled', 'mountains', 'striding', 'feelings', 'doom', 'sticking', 'front', 'firecrackers', 'marched', 'doorway', 'savaging', 'accidentally', 'stretching', 'hasnt', 'onto', 'restaurants', 'cobbled', 'redheaded', 'blackness', 'higher', 'dumped', 'appeared', 'boulder', 'meet', 'stuff', 'gawking', 'nearly', 'passage', 'deans', 'fiftypence', 'circled', 'swiftly', 'smothering', 'doubled', 'informed', 'flight', 'eclairs', 'pocketed', 'sworn', 'astounding', 'door', 'rage', 'single', 'tipped', 'catching', 'referee', 'ah', 'bike', 'pelting', 'zigzagging', 'smartly', 'hood', 'could', 'grumpily', 'standard', 'given', 'spend', 'free', 'crybabies', 'larger', 'headlight', 'foot', 'tinkling', 'rooting', 'president', 'blocks', 'socks', 'tickled', 'couldve', 'werewolf', 'squeaky', 'staircases', 'hobbled', 'vault', 'goes', 'tulips', 'percy', 'switch', 'snapes', 'somehow', 'child', 'threw', 'wilderlooking', 'barons', 'duster', 'dragged', 'oliver', 'boring', 'staying', 'longer', 'prickle', 'realized', 'knock', 'yelps', 'always', 'assured', 'belongs', 'kid', 'puffed', 'smile', 'aloud', 'whiskers', 'dungeons', 'ghostie', 'malcolm', 'crabbe', 'looking', 'thirtysix', 'gum', 'office', 'feather', 'pig', 'reckon', 'students', 'uncoiling', 'hatches', 'grinding', 'friend', 'wide', 'hobby', 'spells', 'firenzes', 'tentacles', 'instruments', 'grunting', 'beware', 'seem', 'wearing', 'yell', 'snorted', 'july', 'prove', 'believes', 'faint', 'committing', 'hop', 'manage', 'baby', 'weapon', 'searching', 'shhh', 'collected', 'guide', 'behave', 'having', 'chips', 'mounting', 'nice', 'enclosed', 'kill', 'vernon', 'possible', 'hit', 'warlocks', 'cough', 'diagonally', 'brooding', 'fright', 'people', 'halt', 'massive', 'slowly', 'leading', 'lamp', 'bobbing', 'younger', 'jetblack', 'gamekeeping', 'closer', 'becoming', 'crowds', 'also', 'buying', 'spectators', 'disgusting', 'chased', 'sweating', 'breaths', 'around', 'hang', 'pipe', 'fixed', 'shut', 'pains', 'untouched', 'dangling', 'cork', 'otherwise', 'tellin', 'boastful', 'piers', 'secondary', 'mystified', 'ron', 'whod', 'paving', 'now', 'against', 'curl', 'commanded', 'drew', 'gigantic', 'speck', 'weathers', 'disapprovingly', 'relax', 'shadows', 'toast', 'skip', 'dripping', 'trunk', 'pinched', 'swore', 'midnight', 'creatures', 'stranded', 'devils', 'shouldn', 'proudest', 'meddlin', 'tricked', 'alot', 'drawn', 'bonfire', 'extra', 'playin', 'enchantments', 'closely', 'goblin', 'cried', 'basic', 'examined', 'climbing', 'performed', 'upon', 'tom', 'thundered', 'mines', 'spoil', 'completely', 'reading', 'send', 'dial', 'boogers', 'drops', 'jerk', 'rags', 'runnin', 'little', 'tugged', 'elfric', 'unseen', 'bones', 'telescopes', 'player', 'chewed', 'tureens', 'experts', 'divebombing', 'baking', 'certainly', 'gift', 'helicopters', 'dunno', 'his', 'growled', 'repeated', 'phoenix', 'november', 'throat', 'tickling', 'allowed', 'slippery', 'bonnets', 'handle', 'rumor', 'gone', 'punched', 'lights', 'petunia', 'thirtynine', 'liar', 'hoarse', 'sniggered', 'produces', 'paisley', 'wouldnt', 'flourish', 'sickening', 'dates', 'used', 'stumbled', 'fourth', 'bill', 'toads', 'wiped', 'youth', 'sad', 'improvement', 'prefect', 'noticing', 'pleasure', 'hut', 'planets', 'going', 'loudly', 'tree', 'favor', 'disturb', 'according', 'cozy', 'jabbed', 'protected', 'thump', 'rons', 'marble', 'gloatingly', 'chasers', 'shock', 'room', 'missed', 'sneer', 'childhood', 'chuckling', 'icy', 'weave', 'overcoat', 'cause', 'tennis', 'proving', 'way', 'galleon', 'things', 'starts', 'struggling', 'misses', 'playing', 'defenseless', 'peevess', 'knocking', 'wand', 'orange', 'broadly', 'rat', 'sneaking', 'forevermore', 'binding', 'fullgrown', 'choose', 'statue', 'charged', 'breaking', 'begins', 'exchange', 'pan', 'alone', 'singlehanded', 'handing', 'security', 'broke', 'beetle', 'huddle', 'armchairs', 'roaring', 'slowing', 'li', 'middecember', 'results', 'figgs', 'penalty', 'tripping', 'toilet', 'braced', 'cheerful', 'problem', 'brazilian', 'root', 'ruffledlooking', 'horses', 'snapped', 'interested', 'potion', 'processor', 'failed', 'moaning', 'whooshing', 'bombs', 'fiftytwo', 'cards', 'chaser', 'dursleys', 'fie', 'millicent', 'positively', 'peoples', 'guards', 'snores', 'cheer', 'boys', 'mistake', 'lots', 'gray', 'steal', 'puppet', 'twentyfour', 'looming', 'waitin', 'quirrell', 'rules', 'lavender', 'darkened', 'quietly', 'unwelcome', 'lover', 'chip', 'faithful', 'laid', 'nighttime', 'rapidly', 'deserves', 'slam', 'romania', 'trying', 'neatly', 'mum', 'filthy', 'meals', 'crowded', 'saw', 'twanging', 'future', 'popular', 'above', 'bell', 'nettles', 'twigs', 'ink', 'taped', 'opened', 'figg', 'most', 'referees', 'growyourownwarts', 'daisies', 'crooked', 'gasps', 'doesnt', 'grassy', 'snarled', 'broad', 'glad', 'its', 'check', 'dust', 'what', 'fangs', 'silkily', '382', 'paid', 'seared', 'miserable', 'deserted', 'hoisted', 'glinting', 'alarming', 'wound', 'youknowwhos', 'lips', 'silver', 'lid', 'impress', 'harold', 'laden', 'explaining', 'scratch', 'clues', 'thanksss', 'filch', 'screeched', 'existence', 'rare', 'played', 'hullo', 'checkup', 'quidditch', 'dormice', 'plotting', 'international', 'nosy', 'privet', 'curiously', 'care', 'nations', 'calm', 'bletchley', 'save', 'scars', 'jokes', 'reaching', 'wears', 'eagle', 'unfair', 'grab', 'comfort', 'harry', 'anyway', 'horrible', 'warmth', 'concentrating', 'torn', 'land', 'h', 'ollivanders', 'winds', 'pie', 'building', 'harder', 'dudley', 'lived', 'sixtyfifth', 'imagination', 'prophet', 'tags', 'affect', 'explain', 'ginny', 'squinted', 'glimmered', 'wash', 'managed', 'sorted', 'beard', 'marcus', 'pleaded', 'transfer', 'trusted', 'mice', 'saliva', 'have', 'masters', 'hear', 'cruel', 'gorilla', 'palomino', 'weatherman', 'calling', 'september', 'hufflepuff', 'oh', 'perks', 'chivalry', 'crackers', '31', 'fleet', 'unless', 'felt', 'shriveled', 'uneasy', 'fifty', 'married', 'say', 'dawn', 'rooted', 'away', 'lanes', 'commit', 'mysteriously', 'messing', 'pasty', 'usual', 'frighten', 'chance', 'thats', 'impressively', 'council', 'groan', 'prodding', 'interest', 'happiest', 'grappling', 'something', 'monstrous', 'think', 'sorting', 'power', 'convince', 'icicles', 'instantly', 'answered', 'cool', 'cmere', 'wondering', 'price', 'rumors', 'no', 'poorer', 'norriss', 'loose', 'secretary', 'fly', 'exam', 'bustled', 'shakeem', 'enjoying', 'contained', 'teams', 'flipped', 'hamburger', 'nor', 'plate', 'outstretched', 'flitting', 'oldfashioned', 'strained', 'lasted', 'stalactite', 'and', 'reports', 'months', 'shant', 'strapping', 'with', 'grounds', 'fiftyeight', 'awkwardly', 'hairy', 'wingardium', 'woods', 'lit', 'hunting', 'profit', 'account', 'somebody', 'galloped', 'desktop', 'feared', 'draco', 'magic', 'leaning', 'greasily', 'looptheloops', 'rummaged', 'belong', 'drowned', 'puffing', 'note', 'anxiety', 'vibrate', 'kitchen', 'thirteenandahalf', 'post', 'extraordinary', 'proud', 'depths', 'bites', 'sandy', 'overtook', 'threequarters', 'traffic', 'moleskin', 'cannot', 'jerking', 'darting', 'footsteps', 'complete', 'couldn', 'creature', 'dumbledores', 'passages', 'aaaaaaaaaargh', 'eyeglasses', 'rifle', 'followers', 'sightings', 'touched', 'takin', 'marshmallows', 'driveway', 'gaunt', 'abou', 'bear', 'staff', 'die', 'beings', 'spilled', 'clouds', 'dad', 'thirteen', 'ahern', 'pouring', 'winked', 'defense', 'shivering', 'screaming', 'wings', 'nightmare', 'gangling', 'heavier', 'duddydums', 'doorpost', 'brass', 'whether', 'poking', 'anymore', 'grade', 'that', 'classes', 'march', 'depressing', 'jostled', 'expected', 'righthand', 'carefully', 'program', 'shell', 'blinded', 'chewing', 'revenges', 'shes', 'lied', 'eye', 'wideawake', 'sleepiness', 'cleared', 'cheers', 'leaky', 'passes', 'trash', 'smudged', 'suppose', 'use', 'home', 'darkness', 'disappeared', 'bananas', 'meddle', 'insides', 'answering', 'bloodred', 'minded', 'mess', 'see', 'muscular', 'waist', 'writer', 'olivers', 'us', 'buffalo', 'letter', 'lily', 'crockford', 'bonnet', 'cast', 'grinning', 'james', 'bloke', 'holding', 'brooms', 'stick', 'shop', 'jig', 'threshold', 'sense', 'yes', 'helping', 'sacrifices', 'the', 'glared', 'slumped', 'shared', 'cheery', 'while', 'banell', 'ancient', 'blinding', 'meantime', 'express', 'really', 'strings', 'stiffly', 'body', 'sigh', 'aaah', 'beetles', 'tryin', 'compartment', 'unraveled', 'resolution', 'quirtell', 'scissors', 'bored', 'musty', 'stale', 'ones', 'mcguffin', 'vast', 'glass', 'disapproving', 'fruitcake', 'place', 'sea', 'sunk', 'comb', 'frightening', 'mugs', 'enviously', 'askin', 'rigid', 'scrambled', 'safety', 'crazy', 'tied', 'weeds', 'bed', 'moons', 'flash', 'ghosts', 'offended', 'bumped', 'bothered', 'coat', 'crumbling', 'transport', 'warm', 'mount', 'african', 'sharp', 'whiskery', 'youknow', 'steered', 'crush', 'shuffling', 'easier', 'desire', 'melted', 'flint', 'thumpin', 'dangerously', 'coffee', 'clobbered', 'copper', 'english', 'perform', 'shade', 'echoes', 'staircase', 'nettle', 'treat', 'visiting', 'saying', 'marks', 'spiny', 'let', 'painting', 'cloaks', 'signed', 'high', 'gasping', 'befuddle', 'batty', 'blob', 'st', 'mixing', 'protective', 'yer', 'crackpot', 'boxes', 'ends', 'surely', 'righthanded', 'fuller', 'discover', 'window', 'dead', 'upstairs', 'steadied', 'reddish', 'lighter', 'cockandbull', 'speeds', 'hand', 'proudly', 'bewitched', 'hanger', 'ninth', 'cokeworth', 'roof', 'softly', 'miles', 'hotly', 'turkey', 'trodden', 'nearer', 'blonde', 'stalagmites', 'jobs', 'exhausted', 'mistaken', 'undred', 'breathlessly', 'dusty', 'locked', 'team', 'twinkling', 'owl', 'running', 'snoozing', 'stolen', 'squeeze', 'couple', 'forest', 'canaryyellow', 'din', 'opposite', 'sir', 'maze', 'bedspread', 'highheeled', 'am', 'coast', 'pillow', 'sort', 'flooding', 'chase', 'strangers', 'complained', 'moving', 'leap', 'photos', 'plain', 'liking', 'awaits', 'politer', 'marked', 'push', 'dry', 'model', 'pound', 'silvery', 'gasped', 'petrificus', 'wandwaving', 'whizzing', 'best', 'spotting', 'perhaps', 'forgotten', 'others', 'macdougal', 'backward', 'fixedly', 'constrictor', 'latest', 'stiff', 'diversion', 'speed', 'panels', 'hammer', 'speaker', 'shrill', 'wake', 'ignore', 'mentioned', 'boarding', 'victory', 'crumpets', 'beaming', 'drumming', 'oughta', 'funnyshaped', 'proof', 'bidin', 'barbers', 'drive', 'responsible', 'dumbledore', 'comets', 'girl', 'cat', 'pressed', 'keyhole', 'narrowly', 'every', 'commentary', 'dentists', 'theory', 'blackboard', 'filled', 'related', 'centaur', 'goin', 'attacked', 'slip', 'press', 'fist', 'modern', 'freeze', 'parchment', 'tackled', 'wanting', 'burying', 'sat', 'faithfully', 'veins', 'wished', 'lay', 'noses', 'silently', 'youknowwhat', 'wasters', 'sauce', 'columns', 'smatter', 'diffrent', 'moldy', 'arrangements', 'beautiful', 'containing', 'creeps', 'admiring', 'harrys', 'sit', 'reserve', 'cheek', 'thern', 'becomes', 'argus', 'sweet', 'insisted', 'distant', 'worse', 'pictures', 'punishing', 'raspberry', 'chappie', 'necks', 'frozen', 'loosening', 'public', 'unluckily', 'reminds', 'hygienic', 'rubbing', 'stupidly', 'm', 'idea', 'halfway', 'afternoons', 'gaps', 'spluttered', 'stump', 'smash', 'strode', 'made', 'downstairs', 'popped', 'cranberry', 'acting', 'steady', 'positions', 'parents', 'hissing', 'agree', 'rounded', 'halflife', 'elephant', 'suspended', 'armed', 'bats', 'singing', 'sweat', 'nonstop', 'ha', 'stepped', 'swelling', 'expelled', 'arent', 'once', 'carriages', 'fluttered', 'ceremony', 'unicorn', 'toad', 'scurried', 'celebrate', 'wastepaper', 'gulped', 'marge', 'thing', 'um', 'leviosa', 'fight', 'deliver', 'insulted', 'loathed', 'chessboard', 'signature', 'twisting', 'horror', 'broomsticks', 'thunder', 'hooknosed', 'ted', 'thankful', 'flew', 'swift', 'like', 'cupboard', 'sobs', 'swipe', 'enraged', 'adalbert', 'cloth', 'screams', 'tuesday', 'tearing', 'chest', 'reciting', 'blue', 'dinnertime', 'neat', 'moaned', 'drafts', 'produced', 'clearly', 'ignoring', 'hammering', 'nostrils', 'probably', 'huge', 'tongue', 'drained', 'buck', 'write', 'hospital', 'fitted', 'dusk', 'sixth', 'punished', 'exactly', 'mingled', 'saints', 'audience', 'coils', 'wishing', 'wood', 'engine', 'cane', 'chimed', 'sapphires', 'sinking', 'rid', 'fumes', 'toilets', 'hoping', 'ceiling', 'simply', 'chuckled', 'wed', 'bare', 'want', 'charms', 'doorbell', 'auntie', 'killers', 'king', 'botts', 'belonged', 'count', 'edge', 'narrowed', 'relief', 'avoid', 'eleven', 'treasure', 'forgive', 'learned', 'broom', 'slice', 'wizened', 'zombie', 'sniffing', 'break', 'grabbed', 'nerve', 'ireland', 'drag', 'pattern', 'drummed', 'chilly', 'ambition', 'breezy', 'safest', 'lecturin', 'remains', 'witches', 'copying', 'humbertos', 'demanded', 'frown', 'carts', 'drinker', 'hedges', 'get', 'ley', 'bronze', 'row', 'sank', 'fasten', 'stuttering', 'chf', 'clue', 'information', 'closern', 'doris', 'titles', 'spilling', 'waved', 'purple', 'freedom', '90', 'chipolatas', 'sickles', 'throughout', 'motheaten', 'scandal', 'maniacs', 'candlelight', 'splashes', 'mirror', 'square', 'gregory', 'dustcolored', 'far', 'struggle', 'gibber', 'infernal', 'banquet', 'broomstick', 'nearest', 'statues', 'sleepily', 'raged', 'ought', 'alchemy', 'fortunetelling', 'numbers', 'outlawed', 'admitted', 'fir', 'queen', 'corners', 'do', 'shaves', 'kindling', 'anywhere', 'difficult', 'human', 'west', 'ordered', 'goodbye', 'finest', 'seating', 'borrowed', 'binoculars', 'then', 'gallopin', 'brandnew', 'alternative', 'hooting', 'slightly', 'strengthened', 'whimper', 'im', 'wham', 'twelvefoot', 'scented', 'snowballs', 'counted', 'rain', 'unblinkingly', 'other', 'differently', 'contact', 'scraping', 'promptly', 'mane', 'whistled', 'this', 'confuse', 'tried', 'marmalade', 'doorways', 'ache', 'straightened', 'cunning', 'remembers', 'bolted', 'bein', 'umbrella', 'suspension', 'argue', 'yawning', 'sharply', 'airplane', 'quill', 'pitchblack', 'vomitflavored', 'animals', 'fantastic', 'edges', 'early', 'vigorously', 'form', 'vision', 'greasy', 'believe', 'would', 'tuft', 'stand', 'dully', 'spawn', 'lanterns', 'evenings', 'shortcut', 'another', 'didnt', 'just', 'dark', 'baggy', 'risk', 'mightn', 'wizardry', 'fishy', 'six', 'eleventh', 'speedy', 'undursleyish', 'begin', 'unable', 'confed', 'stinking', 'swollen', 'simple', 'draught', 'silence', 'a', 'speech', 'grunt', 'slimy', 'return', 'cracker', 'nosie', 'bank', 'breathed', 'pies', 'plainly', 'drink', 'faltered', 'red', 'vibrating', 'owner', 'knack', 'finding', 'homemade', 'severus', 'peabrain', 'less', 'mimsyporpington', 'gentlemans', 'crowd', 'shimmering', 'unpopular', 'cows', 'hogs', 'training', 'joined', 'precisely', 'heartstrings', 'stove', 'stacked', 'sleepless', 'theyll', 'zabini', 'bounded', 'bulging', 'better', 'where', 'apothecary', 'whap', 'makers', 'visitor', 'droobles', 'muffled', 'scoring', 'paint', 'ravine', 'squashed', 'pythons', 'attract', 'ears', 'restaurant', 'firenze', 'tea', 'lies', 'stooping', 'by', 'uproar', 'monday', 'upright', 'guilty', 'itd', 'blaise', 'whisperers', 'passersby', 'stayed', 'creaked', 'cheered', 'cousin', 'mothers', 'bicycle', 'fiddling', 'vampires', 'confiscated', 'scuffles', 'add', 'recent', 'wellknown', 'rats', 'exams', 'heads', 'remind', 'echoed', 'hundreds', 'trapped', 'unexpected', 'trimble', 'holds', 'astonishing', 'hedwig', 'seriously', 'chops', 'blow', 'share', 'who', 'grownup', 'barred', 'wristwatches', 'sundays', 'entrance', 'inscription', 'interfering', 'disliked', 'coldly', 'dwell', 'fire', 'brushing', 'greener', 'boomed', 'seems', 'tickets', 'threethirty', 'shelf', 'sees', 'drooling', 'glistening', 'destined', 'yawned', 'devon', 'fret', 'answer', 'freezing', 'keeping', 'gettin', 'licking', 'mmm', 'pearlywhite', 'death', 'baskets', 'supposed', 'day', 'uprising', 'chucked', 'boardedup', 'cleverness', 'special', 'steadily', 'seven', 'shaking', 'reasons', 'buzzing', 'meant', 'women', 'fattenin', 'suddenly', 'abysmal', 'mimsy', 'picture', 'bungler', 'freed', 'strongly', 'slipping', 'scabby', 'already', 'funnylooking', 'borrow', 'roar', 'trembling', 'strangled', 'tokens', 'livingroom', 'song', 'spell', 'point', 'naughty', 'stronger', 'drain', 'wounded', 'measuring', 'rattled', 'nah', 'beside', 'dangerous', 'combination', 'wrote', 'steep', 'nuts', 'gown', 'meddling', 'time', 'decked', 'owned', 'barked', 'unsettled', 'cloudy', 'buckle', 'opinion', 'lamps', 'dedalus', 'dramatically', 'gotta', 'sixtyfive', 'jordan', 'britain', 'rainbow', 'shortcuts', 'briskly', 'punctures', 'yet', 'knights', 'daddys', 'maybe', 'sallyanne', 'bow', 'dddont', 'okay', 'odd', 'awful', 'parvati', 'doorstep', 'brushed', 'trains', 'galleons', 'astronomy', 'prefects', 'swig', 'frog', 'zooming', 'report', 'blackpool', 'blink', 'hair', 'deliverin', 'tuck', 'exasperation', 'funny', 'hardfaced', 'straps', 'key', 'snoozed', 'yourselves', 'celebrating', 'distracted', 'sweets', 'homework', 'knowledge', 'rumbling', 'events', 'stoked', 'jellylegs', 'flame', 'feasts', 'kindly', 'budge', 'potatoes', 'years', 'exact', 'polite', 'cage', 'wind', 'supple', 'real', 'shelling', 'tufty', 'majorca', 'trevor', 'adventure', 'secret', 'quivering', 'nastily', 'wrestle', 'closed', 'replaced', 'whimpered', 'finnigan', 'blowing', 'swaying', 'teaching', 'exploding', 'anytime', 'hotel', 'worry', 'bezoar', 'sadly', 'spun', 'fail', 'tottered', 'conducted', 'suit', 'remarkably', 'newspapers', 'spokesgoblin', 'upf', 'facetoface', 'totalus', 'beasts', 'mid', 'easter', 'danger', 'bush', 'friar', 'party', 'pelted', 'gleefully', 'grunnings', 'minute', 'acid', 'gave', 'hushing', 'shocked', 'extremely', 'fallen', 'anyone', 'fuming', 'idiot', 'hermlone', 'sparks', 'ruefully', 'vcr', 'viridian', 'assistant', 'stoat', 'broomshed', 'mutter', 'mirrors', 'snitch', 'mossy', 'caught', 'phyllida', 'decoration', 'walked', 'astride', 'pulling', 'shrieking', 'flop', 'hooted', 'oiled', 'choosing', 'stroke', 'drift', 'pajamas', 'shaggy', 'decide', 'dives', 'back', 'lopsided', 'versus', 'ticked', 'started', 'flowing', 'cheerfully', 'differentsized', 'coolly', 'poltergeist', 'stewed', 'whatre', 'frantically', 'mrs', 'vaults', 'whove', 'keepers', 'sons', 'flutter', 'shorter', 'corner', 'parked', 'scabbers', 'gales', 'flamel', 'folds', 'twin', 'perfect', 'curled', 'colder', 'declared', 'cream', 'part', 'griphook', 'askew', 'neville', 'bottles', 'lamb', 'knowwho', 'handed', 'copyin', 'enclose', 'earsplitting', 'mummy', 'rob', 'deepest', 'forever', 'mans', 'herbology', 'pawed', 'knowitall', 'hoops', 'chairs', 'fussing', 'wrapped', 'in', 'science', 'receive', 'wanted', 'skinnier', 'works', 'marbles', 'minds', 'spread', 'ice', 'victims', 'crashed', 'arriving', 'uniform', 'sloping', 'ye', 'sometime', 'blazing', 'animal', 'leaves', 'grate', 'revolting', 'growing', 'squawked', 'resist', 'chattering', 'robe', 'slyly', 'waffle', 'fling', 'sallow', 'tips', 'thousands', 'flicking', 'hard', 'mumbling', 'moon', 'sherry', 'believed', 'lean', 'whispered', 'answers', 'soothe', 'read', 'eyed', 'werent', 'explode', 'tunnel', 'bane', 'hooch', 'trudged', 'dunderheads', 'canceled', 'looks', 'griffin', 'firstever', 'barks', 'perenelle', 'quarter', 'kissed', 'freak', 'sheer', 'forgot', 'whirled', 'happy', 'morgana', 'aback', 'angelina', 'beefy', 'sooner', 'arrived', 'amazed', 'cupll', 'spinner', 'amigo', 'letting', 'small', 'cmon', 'blurted', 'fours', 'crisply', 'arrows', 'didn', 'unusually', 'speakin', 'message', 'quicker', 'gravy', 'quivered', 'wild', 'underneath', 'tricky', 'forward', 'men', 'squealed', 'job', 'turpin', 'eerie', 'jus', 'dear', 'fetch', 'wander', 'chances', 'daughter', 'hi', 'parts', 'tightly', 'chooses', 'logic', 'lotta', 'dream', 'yard', 'courage', 'grades', 'hooked', 'y', 'class', 'cake', 'grayfaced', 'orders', 'aff', 'appear', 'slamming', 'trickling', 'section', 'climbed', 'lunchtime', 'bald', 'examine', 'liquid', 'screwed', 'flailing', 'mustache', 'rejoice', 'cracked', 'pliable', 'understand', 'tenpin', 'doubt', 'sorrowful', 'twitched', 'reminding', 'band', 'brocklehurst', 'nosebleed', 'strictly', 'counter', 'serious', 'rope', 'whichever', 'lonely', 'excitement', 'thicker', 'ehru', 'bit', 'food', 'drawling', 'steeling', 'hopefully', 'blinked', 'guess', 'bar', 'shouted', 'gathering', 'shouldnta', 'isle', 'noisy', 'heavens', 'van', 'purpose', 'thinks', 'painfully', 'drone', 'scowl', 'cornelius', 'dragons', 'patchwork', 'poles', 'pickled', 'hurt', 'winding', 'frowned', 'voice', 'beauty', 'humans', 'creams', 'horribly', 'wanderings', 'same', 'flitwicles', 'lighted', 'linen', 'beechwood', 'daily', 'stage', 'met', 'dishes', 'flanks', 'sell', 'oclock', 'garage', 'between', 'sneezed', 'has', 'symbols', 'pushing', 'delivered', 'hatched', 'stools', 'arching', 'hope', 'panic', 'tapping', 'widemouthed', 'minerva', 'whacked', 'own', 'halfheartedly', 'mended', 'omen', 'stole', 'stitch', 'squashy', 'listen', 'brim', 'outofbounds', 'watching', 'tricks', 'gossiped', 'fer', 'playfully', 'wriggling', 'milk', 'nowhere', 'swishing', 'movement', 'bartender', 'surrey', 'math', 'swearing', 'wasnt', 'today', 'uncertainly', 'relaxed', 'bedroom', 'flashing', 'admirals', 'them', 'foul', 'desperate', 'is', 'faces', 'shoveling', 'hoodlums', 'doughnuts', 'choked', 'signs', 'win', 'packing', 'fondly', 'fourposters', 'call', 'during', 'stories', 'ttell', 'came', 'come', 'wondered', 'joking', 'rippled', 'surprise', 'ruff', 'monkshood', 'potters', 'putted', 'leaned', 'gate', 'ttto', 'present', 'firecracker', 'racket', 'remembering', 'dirt', 'dumbled', 'enid', 'shoot', 'lamplike', 'tears', 'route', 'bewitch', 'swept', 'cliodna', 'loaded', 'affairs', 'ribs', 'poke', 'topmost', 'yeh', 'pocuss', 'clutching', 'should', 'platforms', 'bring', 'erised', 'humbugs', 'horse', 'loads', 'flitted', 'mixture', 'hem', 'reminded', 'partner', 'quite', 'love', 'steam', 'granite', 'rested', 'paced', 'unused', 'headless', 'needin', 'wrestled', 'hinge', 'protect', 'bullet', 'sob', 'prefer', 'circling', 'wideeyed', 'furniture', 'bird', 'honor', 'hot', 'enormous', 'sleeps', 'sobbing', 'spleens', 'sinks', 'lurking', 'fortune', 'setting', 'barely', 'winter', 'knows', 'jeans', 'honestly', 'fungi', 'unwrapped', 'glancing', 'ebony', 'weak', 'level', 'furling', 'admirers', 'ladys', 'sprang', 'gleaming', 'replied', 'flyin', 'fang', 'as', 'everybody', 'waves', 'substance', 'tinge', 'shifty', '3', 'druidess', 'rapped', 'jump', 'went', 'checked', 'frogmarched', 'boils', 'bowling', 'flopped', 'learn', 'endofyear', 'moment', 'club', 'observed', 'study', 'difficulty', 'growling', 'bearded', 'they', 'sighed', 'lessened', 'afraid', 'aha', 'cracks', 'still', 'smoking', 'widely', 'light', 'rocketed', 'madly', 'stalactites', 'pinned', 'bandages', 'dud', 'peevsie', 'dolphins', 'explosion', 'deadly', 'reflections', 'disgusted', 'afternoon', 'bred', 'sayin', 'roots', 'annoy', 'stung', 'demand', 'rugs', 'beamed', 'notable', 'spectacularly', 'head', 'caput', 'hid', 'granger', 'house', 'awake', 'student', 'wine', 'folded', 'wherere', 'stomach', 'discoveries', 'pause', 'dabbed', 'whippy', 'halfpast', 'rooms', 'breeze', 'sounds', 'stamping', 'imagined', 'emptied', 'battle', 'hurriedly', 'applause', 'africa', 'sweetums', 'jackets', 'examining', 'beaks', 'percyd', 'gap', 'brilliant', 'deafening', 'gar', 'cases', 'alohomora', 'shoutin', 'frightenin', 'chilled', 'glider', 'make', 'onward', 'golf', 'advanced', 'sardine', 'bogies', 'hinges', 'deeply', 'birthdays', 'banged', 'beadyeyed', 'disgust', 'phoenixes', 'cursed', 'dazed', 'ravenclaw', 'stammering', 'pin', 'skies', 'fought', 'luminous', 'bloody', 'hurting', 'second', 'plates', 'amber', 'peppermints', 'strangelooking', 'everyones', 'croaked', 'understood', 'stalking', 'chamber', 'gazed', 'grangers', 'sunday', 'stifling', 'woven', 'acreeping', 'crinkled', 'posts', 'side', 'leaving', 'tone', 'innocent', 'susan', 'don', 'double', 'hung', 'life', 'glided', 'spine', 'ringing', 'tap', 'caughty', 'lemon', 'flames', 'willing', 'tired', 'separated', 'johnson', 'ronniekins', 're', 'crunching', 'celebrated', 'dads', 'scuttled', 'phoning', 'are', 'mortis', 'cauldrons', 'haven', 'invisible', 'wow', 'suggest', 'surname', 'times', 'seaweed', 'likes', 'lumps', 'aren', 'overheard', 'thank', 'jinxing', 'bustling', 'gulp', 'rabbitin', 'poked', 'nights', 'catches', 'puzzle', 'sorry', 'discussing', 'dividing', 'eve', 'glance', 'friday', 'spiders', 'summer', 'postman', 'jumping', 'ticket', 'off', 'miserably', 'mainly', 'triumphant', 'called', 'mouse', 'bath', 'smelting', 'bother', 'silverblue', 'kidney', 'hitch', 'owe', 'firsties', 'hole', 'dived', 'mar', 'complex', 'hed', 'noise', 'duel', 'gred', 'beech', 'seats', 'envelope', 'dirty', 'languages', 'baruffio', 'globes', 'delicately', 'sprinted', 'desk', 'collapsed', 'insultin', 'buckled', 'banner', 'knobbly', 'poured', 'deal', 'bunch', 'jigger', 'keeps', 'guard', 'unpleasant', 'headed', 'control', 'lord', 'seekers', 'twig', 'tremble', 'main', 'hoochs', 'bye', 'battered', 'bouncing', 'lion', 'hat', 'relation', 'wall', 'tracks', 'when', 'quaver', 'blond', 'jewels', 'severelooking', 'sirius', 'cut', 'armor', 'yours', 'highsecurity', 'pinpricks', 'dashing', 'plunged', 'bedtime', 'beady', 'dodged', 'streaming', 'firmly', 'spposed', 'stained', 'knickerbockers', 'tidier', 'vanish', 'flaming', 'heartstring', 'village', 'grunted', 'fix', 'reason', 'experience', 'frantic', 'teh', 'destiny', 'disappearing', 'duffers', 'create', 'yvonne', 'higgs', 'passed', 'glee', 'our', 'lately', 'street', 'toys', 'splattered', 'nicholas', 'scudding', 'stunt', 'strange', 'peeves', 'does', 'bakery', 'clutched', 'night', 'asphodel', 'only', 'nitwit', 'messin', 'yehve', 'hogwarts', 'dimpled', 'date', 'older', 'center', 'eyes', 'loyalties', 'chalk', 'definitely', 'howl', 'berserk', 'stood', 'theyre', 'enjoy', 'tomorrow', 'whisk', 'cackled', 'ounce', 'dormitories', 'staggerin', 'happened', 'him', 'suspected', 'won', 'storm', 'booger', 'cleansweep', 'meal', 'to', 'lovely', 'added', 'announced', 'eels', 'halfandhalf', 'lullaby', 'cornflakes', 'touches', 'morning', 'rocks', 'hocuspocus', 'minister', 'accepted', 'checking', 'loss', 'selfstirring', 'bewitching', 'be', 'written', 'footstool', 'shout', 'circles', 'squeezed', 'howls', 'muttering', 'theyd', 'stored', 'reliving', 'prince', 'seek', 'gritted', 'bludger', 'inky', 'number', 'carrying', 'tapdance', 'told', 'join', 'bowlers', 'tens', 'woken', 'ugly', 'powerful', 'sandwiches', 'hurtled', 'burned', 'meself', 'transparent', 'players', 'follows', 'feeling', 'falling', 'news', 'candies', 'seventh', 'including', 'wont', 'papers', 'transfigured', 'flashed', 'gamekeeper', 'muttered', 'smarten', 'flock', 'thin', 'codswallop', 'fourposter', 'potions', 'mail', 'corridor', 'heap', 'drooled', 'favored', 'doughnut', 'type', 'cccant', 'coughed', 'wickedly', 'rise', 'matches', 'elses', 'england', 'breathe', 'wolfsbane', 'forests', 'nearby', 'sneak', 'icecold', 'trunks', 'tartan', 'th', 'old', 'bills', 'likely', 'porcupine', 'run', 'instinct', 'angrier', 'wing', 'spinach', 'banks', 'horned', 'holiday', 'lake', 'choice', 'getting', 'friendly', 'tortoise', 'donkeys', 'whys', 'savage', 'foretold', 'lock', 'pavement', 'hurrying', 'flamels', 'imagine', 'grim', 'argued', 'countercurses', 'dumpy', 'potato', 'shining', 'p', 'chickened', 'woolen', 'velvet', 'dears', 'image', 'peaceful', 'bonus', 'malfoys', 'face', 'punching', 'smelly', 'spat', 'wax', 'slugs', 'distance', 'worked', 'snigget', 'someones', 'bringing', 'headmistress', 'basics', 'hooves', 'turrets', 'look', 'shook', 'scrawl', 'though', 'unfolded', 'poisonous', 'treacle', 'pinning', 'mule', 'astonishment', 'bbbut', 'shrink', 'fourlegged', 'movements', 'thoughtfully', 'biggest', 'tibbles', 'list', 'goal', 'plays', 'mystery', 'earshot', 'car', 'disappear', 'theyve', 'owlfree', 'changin', 'gonna', 'comforting', 'pate', 'opening', 'faded', 'determined', 'draw', 'wheeling', 'discovered', 'state', 'element', 'knee', 'earlier', 'hovered', 'spectacles', 'bad', 'may', 'two', 'firelight', 'cloud', 'drinks', 'multilevel', 'hermionell', 'escape', 'hoggy', 'candy', 'stalagmite', 'except', 'dying', 'hired', 'slammed', 'slay', 'cats', 'tremblin', 'spreading', 'bravery', 'insist', 'mandy', 'at', 'fingers', 'nevilles', 'discuss', 'blistering', 'wriggles', 'middle', 'peace', 'five', 'geroff', 'nonexplodable', 'pressure', 'sorcerer', 'wore', 'he', 'crossed', 'together', 'wise', 'iron', 'it', 'sickle', 'stormy', 'earth', 'fires', 'nag', 'aconite', 'fangll', 'redhaired', 'spotted', 'award', 'garden', 'coins', 'straightening', 'abbott', 'sacked', 'streaked', 'snow', 'troublesome', 'measure', 'enemy', 'ii', 'specially', 'beast', 'mr', 'grand', 'types', 'gloomily', 'curse', 'fed', 'ruffled', 'begun', 'tables', 'cantered', 'mommy', 'showers', 'carpet', 'speechless', 'out', 'snatched', 'dudleys', 'wildlooking', 'squeal', 'weasleys', 'personal', 'shuffled', 'clapping', 'hushed', 'walking', 'exchanged', 'london', 'arrow', 'nasty', 'shoo', 'moan', 'suffering', 'toil', 'curtain', 'tumbled', '1637', 'thumping', 'pompously', 'blotts', 'childishly', 'therefore', 'livid', 'panted', 'hero', 'lifting', 'himself', 'forgettin', 'terrible', 'meeting', 'muggle', 'neednt', 'distinctly', 'bloodcurdling', 'evening', 'patting', 'snakelike', 'school', 'mountain', 'somethin', 'whisper', 'chocolate', 'investigations', 'empty', 'sensible', 'fireplace', 'clothes', 'length', 'sn', 'squid', 'further', 'youngest', 'horrified', 'metal', 'creeping', 'blinking', 'gamekeepers', 'hello', 'sheep', 'term', 'billowing', 'ribbon', 'staffroom', 'noticed', 'hutontherock', 'glittered', 'require', 'hopeful', 'joke', 'eat', 'frying', 'crime', 'er', 'silent', 'wins', 'delicious', 'birdcage', 'fair', 'terry', 'promise', 'forbid', 'rattling', 'cutting', 'trouble', 'flashy', 'glaring', 'pince', 'finish', 'tighter', 'testing', 'heave', 'planned', 'droned', 'stupid', 'white', 'emerged', 'normal', 'christmas', 'conduct', 'twentyone', 'lead', 'dozen', 'rolls', 'possession', 'taught', 'gain', 'was', 'perched', 'neck', 'scamander', 'finds', 'minuscule', 'crushed', 'existed', 'blissfully', 'clapped', 'circus', 'knew', 'weird', 'nonsense', 'touch', 'twenty', 'handkerchief', 'teapot', 'tart', 'cloaked', 'buzz', 'singled', 'wrong', 'crashes', 'urgently', 'hovering', 'horrorstruck', 'goods', 'tend', 'wristwatch', 'follow', 'gulpin', 'reflected', 'neighbors', 'mention', 'risks', 'moren', 'test', 'finishing', 'til', 'bounds', 'dont', 'moneys', 'spasm', 'panicking', 'burnished', 'embedded', 'killing', 'drove', 'friendship', 'crumpled', '1945', 'greeted', 'haircut', 'instant', 'goblet', 'spear', 'jars', 'under', 'top', 'beastie', 'growls', 'twice', 'roaming', 'delicate', 'swallow', 'dish', 'common', 'fall', 'telescope', 'afterward', 'kiss', 'week', 'stumped', 'thousand', 'not', 'paper', 'malfoy', 'disgruntled', 'bread', 'name', 'half', 'windowsill', 'wants', 'treating', 'refereed', 'raw', 'dump', 'feverishly', 'surprises', 'learning', 'sipped', 'sounded', 'yehd', 'breaks', 'ddefense', 'weaving', 'background', 'fried', 'grandfather', 'gotten', 'tame', 'thickset', 'hell', 'familiar', 'mantelpiece', 'miranda', 'gardens', 'quickwitted', 'patrolled', 'sandwich', 'mean', 'rumbled', 'hurts', 'cryin', 'swam', 'lifted', 'four', 'string', 'destroyed', 'gargoyles', 'smirking', 'humor', 'finchfletchley', 'panicked', 'coconut', 'of', 'load', 'enjoys', 'emptying', 'stomping', 'spiral', 'standing', 'golden', 'woke', 'hungry', 'warn', 'stupidest', 'managing', 'shakily', 'easily', 'complain', 'someone', 'much', 'stitches', 'tick', 'calls', 'yesterday', 'air', 'galloping', 'luck', 'heading', 'hating', 'left', 'ways', 'clearing', 'rose', 'sweeping', 'badge', 'mud', 'tub', 'mightve', 'often', 'crept', 'maroon', 'braver', 'cakes', 'mangled', 'proper', 'stool', 'ptolemy', 'feast', 'gasp', 'duddys', 'waste', 'nneed', 'shaken', 'hurried', 'cart', 'hungrily', 'thunderous', 'bowl', 'lisa', 'batteredlooking', 'stacks', 'unknown', 'doormat', 'skinny', 'legged', 'hugging', 'puddings', 'familys', 'ago', 'grumbled', 'seventytwo', 'prune', 'slain', 'well', 'trousers', 'scrawled', 'alchemist', 'ravenclaws', 'thursday', 'newt', 'zoomed', 'pouch', 'gawked', 'goodness', 'pain', 'frost', 'passageways', 'bbook', 'somebodys', 'knight', 'aunt', 'pecked', 'reward', 'twos', 'excellent', 'acted', 'none', 'flicked', 'bewildered', 'gaped', 'pulled', 'owlery', 'stutter', 'gloomy', 'behavior', 'work', 'countryside', 'oddment', 'behind', 'core', 'unlike', 'floating', 'weirdest', 'occurred', 'baked', 'leaking', 'malfoy\\tstill', 'bodyguards', 'pile', 'mood', 'violet', 'pelts', 'your', 'fun', 'mars', 'motorcycles', 'crown', 'tapestry', 'pointed', 'mounds', 'kit', 'highway', 'selfprotection', 'fitch', 'javelin', 'threeheaded', 'phone', 'beaverskin', 'brary', 'quailed', 'cereal', 'jammed', 'wilder', 'ooh', 'struck', 'corned', 'restless', 'turning', 'briefcase', 'keeper', 'hopes', 'beak', 'had', 'talkingto', 'somethings', 'stammered', 'scrambling', 'throw', 'amount', 'ferociously', 'oooooooh', 'stars', 'clouted', 'lee', 'jog', 'alicia', 'shops', 'drunk', 'ghoulie', 'bundles', 'twitching', 'magnificent', 'towering', 'block', 'cups', 'damage', 'licorice', 'dundee', 'giggled', 'brokendown', 'flowered', 'wheezing', 'conk', 'aargh', 'quentin', 'month', 'headfirst', 'sorcerers', 'heel', 'expects', 'country', 'tries', 'you', 'great', 'bark', 'snowy', 'clicking', 'erm', 'tugging', 'confused', 'biased', 'bucking', 'hush', 'shown', 'cap', 'busy', 'tasted', 'muffins', 'shore', 'lighting', 'worlds', 'pounced', 'tank', 'sniveled', 'foodll', 'how', 'apple', 'excitedly', 'crutches', 'talked', 'crisis', 'talking', 'violent', 'thirty', 'whitefaced', 'comet', 'choking', 'useful', 'taken', 'lining', 'anothers', 'patched', 'lace', 'agony', 'offered', 'desert', 'driving', 'firstyear', 'mancrushing', 'justin', 'steak', 'sticks', 'invisibility', 'suspect', 'lent', 'fan', 'rising', 'whimpering', 'notes', 'throwing', 'scream', 'landed', 'shack', 'persuade', 'wish', 'nicolas', 'troll', 'trot', 'coming', 'brain', 'legend', 'waddling', 'glue', 'yehll', 'sleepy', 'visited', 'mercy', 've', 'pale', 'drifted', 'shrilly', 'cheap', 'norbert', 'jerked', 'hates', 'exploded', 'oaf', 'loopy', 'blanket', 'mumbled', 'wife', 'packages', 'casually', 'towered', 'lap', 'flow', 'yeah', 'ruined', 'fool', 'upper', 'climb', 'ketchup', 'heavy', 'been', 'floor', 'cure', 'caution', 'kept', 'snuffling', 'youre', 'word', 'earn', 'interesting', 'heels', 'creepers', 'scratching', 'drenched', 'vacationing', 'ministry', 'beet', 'slow', 'milkman', 'exercise', 'switching', 'atta', 'collect', 'pinkfaced', 'thick', 'bloodiness', 'football', 'palace', 'irongray', 'whoop', 'soul', 'trail', 'beginners', 'atop', 'passageway', 'stay', 'warty', 'reveal', 'vicious', 'unbearable', 'blackhaired', 'armpit', 'open', 'whispering', 'treated', 'bristol', 'nobody', 'plants', 'dyou', 'slight', 'father', 'hats', 'welcome', 'tape', 'whistling', 'blame', 'practical', 'dreams', 'boil', 'harness', 'quiver', 'celebrity', 'armchair', 'whats', 'dampen', 'covers', 'lawns', 'nope', 'try', 'ground', 'positive', 'skipping', 'earths', 'walled', 'servant', 'clawed', 'hour', 'gripped', 'sppose', 'duties', 'waited', 'wheedled', 'gains', 'lie', 'steering', 'needlesharp', 'bunny', 'seventeen', 'aside', 'trusting', 'reptile', 'nightfall', 'handy', 'excuse', 'guardin', 'swallowed', 'goat', 'crossly', 'families', 'forcing', 'until', 'desperately', 'sunny', 'wherever', 'developments', 'package', 'beater', 'newscaster', 'gnight', 'longbottom', 'achieve', 'surged', 'ours', 'balloons', 'clever', 'birdwatchers', 'shadow', 'trances', 'grin', 'along', 'world', 'jewelbright', 'rock', 'rip', 'straw', 'rush', 'gloomylooking', 'moments', 'eagerly', 'chessmen', 'pointing', 'skyward', 'swooped', 'flung', 'waving', 'wroughtiron', 'endless', 'laps', 'eating', 'tiptoe', 'owners', 'springy', 'lids', 'ushered', 'prickled', 'business', 'slightest', 'downfall', 'angles', 'collar', 'pplaces', 'cursing', 'know', 'thoughts', 'wheeled', 'build', 'alas', 'yew', 'mighta', 'louder', 'schedules', 'turnin', 'wee', 'trolley', 'notices', 'practicing', 'all', 'upward', 'sucked', 'cured', 'clung', 'toffee', 'wizards', 'conjured', 'i', 'mystry', 'blankly', 'town', 'outstanding', 'marges', 'material', 'shall', 'disappointment', 'whatve', 'relatives', 'draconis', 'fact', 'trotting', 'flavor', 'mcgonagall', 'viewers', 'mine', 'directions', 'jinx', 'emptier', 'terence', 'separating', 'leather', 'crying', 'track', 'ill', 'last', 'crashing', 'dinky', 'refused', 'locomotor', 'irritably', 'sc', 'rub', 'password', 'my', 'greeting', 'hairs', 'pence', 'basking', 'collecting', 'trembled', 'wolfing', 'mom', 'turned', 'nails', 'one', 'fries', 'tin', 'lingered', 'slotted', 'bus', 'easy', 'hide', 'dddark', 'twins', 'lesson', 'glittering', 'begging', 'jumped', 'knuts', 'malfay', 'very', 'heres', 'address', 'lined', 'insult', 'limped', 'teachers', 'ankles', 'similar', 'rich', 'popkin', 'ridiculous', 'windows', 'houses', 'shot', 'daylight', 'arms', 'bitterly', 'fluttering', 'rummaging', 'showed', 'transfixed', 'clenched', 'boa', 'nose', 'barrier', 'bent', 'book', 'pushed', 'bottom', 'impressed', 'guarding', 'on', 'scooted', 'outskirts', 'firsthand', 'shape', 'tarantula', 'mustnt', 'holly', 'sleeves', 'misery', 'stack', 'starry', 'snot', 'rear', 'dialing', 'bet', 'third', 'received', 'bravo', 'walls', 'chains', 'coulda', 'binns', 'realize', 'secrets', 'slapping', 'inch', 'seemed', 'honest', 'means', 'everywhere', 'dealer', 'fumbling', 'criticizing', 'bakers', 'desserts', 'ronald', 'attractive', 'unbroken', 'gentle', 'starting', 'explained', 'ending', 'brown', 'unlocked', 'pellets', 'fascinated', 'pppoor', 'sorta', 'slept', 'spirits', 'ourselves', 'darkly', 'involved', 'pigtails', 'passing', 'shuddered', 'thief', 'treble', 'effort', 'catch', 'grandmother', 'feels', 'plowed', 'jupiter', 'chipped', 'pursed', 'swapping', 'steamrollered', 'crawling', 'monthold', 'confusing', 'mustve', 'deserved', 'filchs', 'click', 'elbow', 'favorite', 'bathrobes', 'bin', 'cliff', 'birds', 'everything', 'sharing', 'greenhouse', 'start', 'bawling', 'pounding', 'outlines', 'strangely', 'these', 'changing', 'random', 'recognized', 'hesitated', 'takes', 'circumstances', 'prevent', 'interfere', 'course', 'teaches', 'fine', 'midair', 'bertie', 'catcalling', 'scribbling', 'herself', 'cabbage', 'norris', 'yourself', 'ducking', 'taste', 'decided', 'clinking', 'reached', 'yelled', 'almost', 'seize', 'continued', 'spot', 'phials', 'roll', 'tapestries', 'remorse', 'supreme', 'never', 'carpets', 'impatiently', 'bbut', 'sneered', 'beckoned', 'her', 'shaped', 'merlin', 'tasty', 'backpack', 'strayed', 'edging', 'utter', 'cross', 'raised', 'losing', 'flailed', 'retracing', 'stranger', 'downward', 'sobbed', 'themselves', 'sky', 'chestnut', 'spending', 'clicked', 'lowered', 'burns', 'jet', 'dotted', 'comfortable', 'sahara', 'wrongly', 'stench', 'shoved', 'tail', 'longing', 'snakes', 'however', 'boot', 'clap', 'courageous', 'facing', 'checkmate', 'wines', 'but', 'pupils', 'babble', 'curry', 'hmmm', 'accidents', 'jealousy', 'cara', 'owls', 'step', 'speak', 'lend', 'advancing', 'spinning', 'dressed', 'bunches', 'space', 'guarded', 'anxiously', '\\the', 'escaping', 'anxious', 'vapor', 'we', 'parcel', 'hollow', 'sure', 'pork', 'narrow', 'fullygrown', 'tinned', 'later', 'volume', 'sprouts', '1709', 'poison', 'enough', 'byebye', 'pull', 'picked', 'schooland', 'bag', 'ref', 'bated', 'brought', 'rot', 'silk', 'hurtling', 'led', 'dense', 'noble', 'staggered', 'advised', 'landing', 'season', 'path', 'gang', 'leaping', 'mysterious', 'forty', 'concen', 'vanished', 'dearly', 'different', 'swarthy', 'amazement', 'maker', 'stonewall', 'happiness', 'meters', 'fluid', 'size', 'sitting', 'flared', 'roared', 'score', 'grass', 'snowball', 'even', 'rubies', 'vain', 'legs', 'tidy', 'winggardium', 'mellow', 'flatly', 'pretend', 'shrinking', 'lightning', 'nephew', 'hermione', 'patient', 'glowed', 'wasted', 'classrooms', 'paws', 'foribidden', 'peppermint', 'bully', 'brave', 'backed', 'shivered', 'cept', 'saintly', 'wandered', 'naturally', 'fiftyfoot', 'grip', 'somewhere', 'slouched', 'boiled', 'short', 'kissing', 'myself', 'shows', 'clanged', 'remembrall', 'rocker', 'followed', 'gorgons', 'archway', 'appearance', 'constantly', 'trees', 'tantrum', 'birthday', 'sizzling', 'elixir', 'hitting', 'moved', 'librarian', 'risky', 'wildly', 'capture', 'kent', 'listened', 'flushed', 'lost', 'flattened', 'bitten', 'drip', 'ing', 'merely', 'garlic', 'hes', 'plenty', 'headmaster', '4', 'stadium', 'harvey', 'seamuss', 'seizing'}\n"
          ]
        }
      ],
      "source": [
        "# we have to get the \"unique\" item among total words\n",
        "vocab_set = set(total_words)\n",
        "print(len(total_words), len(vocab_set))\n",
        "print(vocab_set)"
      ]
    },
    {
      "cell_type": "code",
      "execution_count": 11,
      "metadata": {
        "id": "fDJNrHdhl_dk",
        "outputId": "7375114f-b857-4a43-c419-4b82948fd08a",
        "colab": {
          "base_uri": "https://localhost:8080/"
        }
      },
      "outputs": [
        {
          "output_type": "stream",
          "name": "stdout",
          "text": [
            "['\\the', '0', '1', '1473', '1637', '17', '1709', '1945', '2', '3', '31', '382', '4', '90', 'a', 'aaaaaaaaaargh', 'aaaargh', 'aaah', 'aargh', 'aback', 'abbott', 'able', 'abnormal', 'aboard', 'abou', 'about', 'aboutface', 'above', 'absolutely', 'absurd', 'abysmal', 'accept', 'accepted', 'accident', 'accidentally', 'accidents', 'according', 'account', 'accountant', 'ache', 'achieve', 'acid', 'aconite', 'acreeping', 'across', 'act', 'acted', 'acting', 'actually', 'adalbert', 'add', 'added', 'address', 'addressed', 'admirable', 'admirals', 'admired', 'admirers', 'admiring', 'admitted', 'adrian', 'advanced', 'advancing', 'adventure', 'advice', 'advised', 'aff', 'affairs', 'affect', 'afford', 'afraid', 'africa', 'african', 'after', 'afternoon', 'afternoons', 'afterward', 'again', 'against', 'age', 'ages', 'ago', 'agony', 'agree', 'agreed', 'agrippa', 'ah', 'aha', 'ahead', 'ahem', 'ahern', 'air', 'airily', 'airplane', 'ajar', 'alarm', 'alarming', 'alas', 'alberic', 'albus', 'alchemist', 'alchemy', 'algie', 'alibis', 'alicia', 'alien', 'alive', 'all', 'alley', 'allowed', 'almost', 'alohomora', 'alone', 'along', 'alongside', 'alot', 'aloud', 'already', 'also', 'alternative', 'although', 'always', 'am', 'amazed', 'amazement', 'amber', 'ambition', 'ambling', 'amid', 'amigo', 'among', 'amount', 'amuse', 'an', 'ancient', 'and', 'angel', 'angelina', 'anger', 'angles', 'angrier', 'angrily', 'angry', 'animal', 'animals', 'ankles', 'announced', 'annoy', 'annoyed', 'annoying', 'another', 'anothers', 'answer', 'answered', 'answering', 'answers', 'anticheating', 'antidark', 'anxiety', 'anxious', 'anxiously', 'any', 'anymore', 'anyone', 'anyones', 'anythin', 'anything', 'anytime', 'anyway', 'anywhere', 'apart', 'apologized', 'apothecary', 'appear', 'appearance', 'appeared', 'applause', 'apple', 'approached', 'approve', 'arching', 'archway', 'are', 'aren', 'arent', 'argue', 'argued', 'arguing', 'argument', 'arguments', 'argus', 'arm', 'armchair', 'armchairs', 'armed', 'armor', 'armpit', 'arms', 'around', 'arrangements', 'arrival', 'arrivals', 'arrived', 'arriving', 'arrow', 'arrows', 'arsenius', 'art', 'arts', 'as', 'ashamed', 'ashenfaced', 'aside', 'ask', 'asked', 'askew', 'askin', 'asking', 'asleep', 'asphodel', 'assistant', 'assured', 'astonishing', 'astonishingly', 'astonishment', 'astounding', 'astride', 'astronomy', 'at', 'ate', 'atop', 'atta', 'attack', 'attacked', 'attention', 'attract', 'attractive', 'audience', 'august', 'aunt', 'auntie', 'avoid', 'await', 'awaiting', 'awaits', 'awake', 'award', 'awarded', 'awarding', 'away', 'awe', 'awful', 'awkward', 'awkwardly', 'b', 'babble', 'baby', 'back', 'backed', 'background', 'backpack', 'backs', 'backward', 'bacon', 'bad', 'badge', 'badger', 'badly', 'bag', 'baggy', 'bags', 'bagshot', 'baked', 'bakers', 'bakery', 'baking', 'balancing', 'bald', 'ball', 'balloon', 'balloons', 'balls', 'bananas', 'band', 'bandaged', 'bandages', 'bane', 'banell', 'bang', 'banged', 'banging', 'bangs', 'bank', 'banks', 'banner', 'banquet', 'bar', 'barbers', 'bare', 'barely', 'bark', 'barked', 'barking', 'barks', 'barn', 'baron', 'baronll', 'barons', 'barred', 'barrels', 'barrier', 'bars', 'bartender', 'baruffio', 'baseball', 'basic', 'basics', 'basket', 'basketball', 'baskets', 'basking', 'bat', 'bated', 'bath', 'bathilda', 'bathrobe', 'bathrobes', 'bathroom', 'bats', 'battered', 'batteredlooking', 'battle', 'batty', 'bawling', 'bbbut', 'bbook', 'bbut', 'bc', 'be', 'beach', 'beady', 'beadyeyed', 'beak', 'beaks', 'beamed', 'beaming', 'bean', 'beans', 'bear', 'beard', 'bearded', 'bearing', 'beast', 'beastie', 'beasts', 'beat', 'beater', 'beaters', 'beating', 'beats', 'beautiful', 'beauty', 'beaverskin', 'became', 'because', 'beckoned', 'become', 'becomes', 'becoming', 'bed', 'bedroom', 'bedrooms', 'beds', 'bedspread', 'bedtime', 'beech', 'beechwood', 'beef', 'beefy', 'been', 'beet', 'beetle', 'beetles', 'before', 'befuddle', 'beg', 'began', 'begging', 'begin', 'beginners', 'beginning', 'begins', 'begun', 'behave', 'behaving', 'behavior', 'behead', 'behind', 'bein', 'being', 'beings', 'believe', 'believed', 'believes', 'bell', 'bellowed', 'belong', 'belonged', 'belonging', 'belongs', 'below', 'belt', 'belting', 'bend', 'bending', 'bendy', 'beneath', 'bent', 'berserk', 'bertie', 'beside', 'best', 'bestplayed', 'bet', 'betray', 'better', 'bettie', 'between', 'beware', 'bewildered', 'bewitch', 'bewitched', 'bewitching', 'beyond', 'bezoar', 'biased', 'bicycle', 'bid', 'bidden', 'bidin', 'big', 'bigger', 'biggest', 'bike', 'bill', 'billowing', 'bills', 'bin', 'binding', 'binns', 'binoculars', 'bird', 'birdcage', 'birds', 'birdwatchers', 'birthday', 'birthdays', 'biscuits', 'bishop', 'bit', 'bite', 'bites', 'bits', 'bitten', 'bitter', 'bitterly', 'black', 'blackboard', 'blackhaired', 'blackness', 'blackpool', 'blacks', 'blaise', 'blame', 'blank', 'blanket', 'blankets', 'blankly', 'blast', 'blasted', 'blazing', 'bleaaargh', 'bless', 'bletchley', 'blew', 'blimey', 'blinded', 'blinding', 'blink', 'blinked', 'blinking', 'blissfully', 'blistering', 'blob', 'block', 'blocked', 'blocking', 'blocks', 'bloke', 'blond', 'blonde', 'blood', 'bloodcurdling', 'bloodiness', 'bloodred', 'bloody', 'blossoming', 'blotts', 'blow', 'blowing', 'blown', 'blubber', 'bludger', 'bludgers', 'blue', 'bluebell', 'blundering', 'blur', 'blurted', 'blushed', 'boa', 'board', 'boarded', 'boardedup', 'boarding', 'boarhound', 'boastful', 'boat', 'boaters', 'boats', 'bobbing', 'bodied', 'bodies', 'body', 'bodybind', 'bodyguards', 'bogies', 'boil', 'boiled', 'boiling', 'boils', 'bolt', 'bolted', 'bombs', 'bones', 'bonfire', 'bonnet', 'bonnets', 'bonus', 'booger', 'boogers', 'book', 'books', 'boom', 'boomed', 'booming', 'boot', 'boots', 'bored', 'boredom', 'boring', 'born', 'borrow', 'borrowed', 'bossy', 'both', 'bother', 'bothered', 'bothering', 'bottle', 'bottles', 'bottom', 'botts', 'bought', 'boulder', 'bounced', 'bouncing', 'bound', 'bounded', 'bounds', 'bow', 'bowed', 'bowl', 'bowlers', 'bowling', 'box', 'boxes', 'boy', 'boys', 'braced', 'brain', 'brains', 'branch', 'branches', 'brandished', 'brandnew', 'brandy', 'brary', 'brass', 'brave', 'bravely', 'braver', 'bravery', 'bravo', 'brazil', 'brazilian', 'bread', 'break', 'breakfast', 'breakin', 'breaking', 'breaks', 'breath', 'breathe', 'breathed', 'breathing', 'breathlessly', 'breaths', 'bred', 'breeding', 'breeze', 'breezy', 'brew', 'brick', 'bricks', 'bridge', 'briefcase', 'bright', 'brightly', 'brilliant', 'brilliantly', 'brim', 'bring', 'bringing', 'briskly', 'bristol', 'britain', 'broad', 'broadly', 'brocklehurst', 'broke', 'broken', 'brokendown', 'bronze', 'brooding', 'broom', 'brooms', 'broomshed', 'broomstick', 'broomsticks', 'brother', 'brothers', 'brought', 'brown', 'brushed', 'brushing', 'bubbles', 'buck', 'bucket', 'bucking', 'buckle', 'buckled', 'budge', 'buffalo', 'build', 'building', 'buildings', 'built', 'bulging', 'bullet', 'bullets', 'bullied', 'bully', 'bulstrode', 'bumped', 'bun', 'bunch', 'bunches', 'bundle', 'bundled', 'bundles', 'bungler', 'bunny', 'buried', 'burly', 'burn', 'burned', 'burning', 'burnished', 'burns', 'burnt', 'burst', 'bursting', 'burying', 'bus', 'bush', 'bushy', 'business', 'bustled', 'bustling', 'busy', 'but', 'butter', 'buttered', 'buy', 'buyin', 'buying', 'buzz', 'buzzing', 'by', 'bye', 'byebye', 'cabbage', 'cabbages', 'cabbagesmelling', 'cackle', 'cackled', 'cafru', 'cage', 'cake', 'cakes', 'call', 'called', 'calling', 'calls', 'calm', 'calming', 'calmly', 'came', 'camera', 'can', 'canaryyellow', 'canceled', 'candies', 'candlelight', 'candles', 'candy', 'cane', 'cannon', 'cannonball', 'cannot', 'cans', 'cant', 'cantered', 'cantve', 'cap', 'captain', 'capture', 'caput', 'car', 'cara', 'card', 'cards', 'care', 'cared', 'careful', 'carefully', 'careless', 'carelessly', 'caretaker', 'carousel', 'carpet', 'carpets', 'carriages', 'carried', 'carrots', 'carry', 'carrying', 'cars', 'cart', 'cartoon', 'carts', 'carved', 'case', 'cases', 'cast', 'castle', 'casually', 'cat', 'catcalling', 'catch', 'catches', 'catching', 'cats', 'caught', 'caughty', 'cauldron', 'cauldrons', 'cause', 'caution', 'ccant', 'cccant', 'ceased', 'ceiling', 'celebrate', 'celebrated', 'celebrating', 'celebrations', 'celebrity', 'centaur', 'centaurs', 'center', 'centuries', 'century', 'cept', 'cereal', 'ceremony', 'ceremonys', 'certain', 'certainly', 'chained', 'chains', 'chair', 'chairs', 'chalk', 'chamber', 'championship', 'chance', 'chances', 'change', 'changed', 'changin', 'changing', 'chappie', 'chapter', 'charged', 'charging', 'charlie', 'charlies', 'charm', 'charms', 'chase', 'chased', 'chaser', 'chasers', 'chasin', 'chasing', 'chat', 'chatter', 'chattering', 'cheap', 'cheating', 'check', 'checked', 'checking', 'checkmate', 'checkup', 'cheek', 'cheeks', 'cheer', 'cheered', 'cheerful', 'cheerfully', 'cheering', 'cheers', 'cheery', 'chess', 'chessboard', 'chessmen', 'chest', 'chestnut', 'chewed', 'chewing', 'chf', 'chicken', 'chickened', 'child', 'childhood', 'childishly', 'children', 'chilled', 'chilly', 'chimed', 'chimney', 'chip', 'chipolatas', 'chipped', 'chips', 'chivalry', 'chocolate', 'choice', 'choked', 'choking', 'choose', 'chooses', 'choosing', 'chopped', 'chops', 'chortled', 'chorused', 'chose', 'chosen', 'christmas', 'chucked', 'chuckle', 'chuckled', 'chuckling', 'cigarette', 'cinemas', 'circe', 'circled', 'circles', 'circling', 'circumstances', 'circus', 'city', 'clamber', 'clambered', 'clamped', 'clanged', 'clanging', 'clap', 'clapped', 'clapping', 'clasped', 'class', 'classes', 'classroom', 'classrooms', 'clattering', 'claw', 'clawed', 'claws', 'clean', 'cleansweep', 'clear', 'cleared', 'clearing', 'clearly', 'clenched', 'clever', 'cleverness', 'click', 'clicked', 'clicking', 'cliff', 'climb', 'climbed', 'climbing', 'clinging', 'clinking', 'cliodna', 'cloak', 'cloaked', 'cloaks', 'clobbered', 'clock', 'close', 'closed', 'closely', 'closer', 'closern', 'cloth', 'clothes', 'cloud', 'clouds', 'cloudy', 'clouted', 'club', 'clue', 'clues', 'clung', 'clutched', 'clutching', 'cmere', 'cmon', 'coals', 'coast', 'coat', 'coats', 'cobbled', 'cobras', 'cockandbull', 'coconut', 'code', 'codswallop', 'coffee', 'coils', 'coins', 'cokeworth', 'cold', 'colder', 'coldly', 'collapsed', 'collapsible', 'collar', 'collect', 'collected', 'collecting', 'color', 'colorcoding', 'colors', 'columns', 'comb', 'combination', 'come', 'comet', 'comets', 'comfort', 'comfortable', 'comforting', 'comin', 'coming', 'commanded', 'commentary', 'commentating', 'commit', 'committing', 'common', 'company', 'compared', 'compartment', 'compartments', 'complain', 'complained', 'complete', 'completely', 'complex', 'complicated', 'computer', 'concen', 'concentrate', 'concentrating', 'concern', 'concerned', 'concrete', 'conduct', 'conducted', 'conductor', 'confed', 'confessed', 'confiscated', 'confuse', 'confused', 'confusing', 'confusion', 'conjured', 'conk', 'considered', 'constantly', 'constrictor', 'constrictors', 'contact', 'contained', 'containing', 'contains', 'continue', 'continued', 'contrary', 'control', 'convention', 'convince', 'convinced', 'cooked', 'cool', 'coolly', 'copper', 'copy', 'copyin', 'copying', 'core', 'cork', 'corned', 'cornelius', 'corner', 'cornered', 'corners', 'cornflakes', 'correcting', 'corridor', 'corridors', 'cost', 'cough', 'coughed', 'could', 'coulda', 'couldn', 'couldnt', 'couldve', 'council', 'count', 'counted', 'counter', 'countercurse', 'countercurses', 'counting', 'country', 'countryside', 'couple', 'courage', 'courageous', 'course', 'courtyard', 'cousin', 'cover', 'covered', 'covers', 'coward', 'cowering', 'cows', 'cozy', 'crabbe', 'crack', 'cracked', 'cracker', 'crackers', 'cracking', 'crackpot', 'cracks', 'crammed', 'cranberry', 'craning', 'crash', 'crashed', 'crashes', 'crashing', 'crate', 'crawling', 'crazy', 'creak', 'creaked', 'cream', 'creams', 'create', 'creature', 'creatures', 'credit', 'creep', 'creepers', 'creeping', 'creeps', 'creepy', 'crept', 'cried', 'crikey', 'crime', 'cringed', 'crinkled', 'crisis', 'crisply', 'criticizing', 'croaked', 'crockford', 'crooked', 'cross', 'crossbow', 'crossed', 'crossly', 'crouched', 'crouching', 'crowd', 'crowded', 'crowds', 'crown', 'cruel', 'crumbling', 'crumpets', 'crumpled', 'crunching', 'crush', 'crushed', 'crutches', 'cry', 'crybabies', 'cryin', 'crying', 'crystal', 'cunning', 'cup', 'cupboard', 'cupll', 'cups', 'cure', 'cured', 'curious', 'curiously', 'curl', 'curled', 'curling', 'curly', 'currently', 'curry', 'curse', 'cursed', 'curses', 'cursing', 'curtain', 'curtains', 'cushion', 'customer', 'cut', 'cutting', 'dabbed', 'dad', 'daddy', 'daddys', 'dads', 'daily', 'dairy', 'daisies', 'damage', 'damaged', 'damn', 'damp', 'dampen', 'dancing', 'danger', 'dangerous', 'dangerously', 'dangers', 'dangling', 'dappled', 'dare', 'dared', 'daring', 'dark', 'darkened', 'darkly', 'darkness', 'darling', 'darted', 'darting', 'dashed', 'dashing', 'date', 'dates', 'daughter', 'dawn', 'dawned', 'day', 'daylight', 'days', 'dazed', 'dddark', 'dddont', 'ddefense', 'ddont', 'de', 'dead', 'deadly', 'deafening', 'deal', 'dealer', 'dean', 'deans', 'dear', 'dearest', 'dearly', 'dears', 'death', 'deaths', 'debt', 'decent', 'decide', 'decided', 'decked', 'declared', 'decoration', 'decorations', 'dedalus', 'deep', 'deeper', 'deepest', 'deeply', 'defeat', 'defeated', 'defend', 'defense', 'defenseless', 'definitely', 'defrosting', 'delayed', 'delicate', 'delicately', 'delicious', 'delight', 'delighted', 'delights', 'deliver', 'delivered', 'deliverin', 'demand', 'demanded', 'demands', 'dennis', 'dense', 'dentists', 'denying', 'depended', 'depressed', 'depressing', 'depths', 'deputy', 'describing', 'desert', 'deserted', 'deserved', 'deserves', 'desire', 'desk', 'desks', 'desktop', 'desperate', 'desperately', 'desserts', 'destined', 'destiny', 'destroyed', 'detention', 'detentions', 'determined', 'detest', 'developments', 'devils', 'devon', 'diagon', 'diagonally', 'dial', 'dialing', 'did', 'didn', 'didnt', 'die', 'died', 'difference', 'different', 'differentcolored', 'differently', 'differentsized', 'difficult', 'difficulty', 'diffrent', 'diggle', 'diggles', 'dimpled', 'din', 'dining', 'dinky', 'dinner', 'dinnertime', 'direct', 'directed', 'directing', 'direction', 'directions', 'directly', 'director', 'dirt', 'dirty', 'disagree', 'disappear', 'disappeared', 'disappearing', 'disappointed', 'disappointment', 'disapproving', 'disapprovingly', 'discover', 'discovered', 'discoveries', 'discovery', 'discuss', 'discussing', 'discussion', 'disgruntled', 'disgust', 'disgusted', 'disgusting', 'dish', 'dishes', 'dislike', 'disliked', 'displeased', 'distance', 'distant', 'distinctly', 'distracted', 'disturb', 'dittany', 'dive', 'divebombing', 'dived', 'diversion', 'dives', 'dividing', 'do', 'dodge', 'dodged', 'dodges', 'does', 'doesnt', 'dog', 'dogs', 'doi', 'doin', 'doing', 'dolphins', 'don', 'done', 'donkeys', 'dont', 'doom', 'door', 'doorbell', 'doorknob', 'doormat', 'doorpost', 'doors', 'doorstep', 'doorway', 'doorways', 'doris', 'dormice', 'dormitories', 'dormitory', 'dota', 'dotted', 'double', 'doubled', 'doubt', 'doubted', 'doughnut', 'doughnuts', 'down', 'downfall', 'downpour', 'downright', 'downstairs', 'downward', 'dozen', 'draco', 'draconis', 'drafts', 'drafty', 'drag', 'dragged', 'dragging', 'dragon', 'dragons', 'drain', 'drained', 'dramatically', 'dratted', 'draught', 'draw', 'drawback', 'drawing', 'drawl', 'drawling', 'drawn', 'dreading', 'dreadlocks', 'dream', 'dreamed', 'dreamily', 'dreams', 'drearns', 'drenched', 'dress', 'dressed', 'drew', 'dribbling', 'dried', 'drift', 'drifted', 'drifting', 'drills', 'drink', 'drinker', 'drinking', 'drinks', 'drip', 'dripping', 'drive', 'driven', 'driveway', 'driving', 'drone', 'droned', 'droobles', 'drooled', 'drooling', 'droop', 'drop', 'dropped', 'dropping', 'drops', 'drove', 'drowned', 'druidess', 'drummed', 'drumming', 'drunk', 'dry', 'ducked', 'ducking', 'ducks', 'dud', 'duddydums', 'duddys', 'dudley', 'dudleykins', 'dudleys', 'due', 'duel', 'duels', 'duffers', 'dull', 'dully', 'dumbfounded', 'dumbled', 'dumbledore', 'dumbledorell', 'dumbledores', 'dump', 'dumped', 'dumpy', 'dundee', 'dunderhead', 'dunderheads', 'dungeon', 'dungeons', 'dunno', 'during', 'dursley', 'dursleys', 'dusk', 'dust', 'dustcolored', 'duster', 'dusty', 'duties', 'dwarf', 'dwell', 'dyeh', 'dyeing', 'dying', 'dyou', 'each', 'eager', 'eagerly', 'eagle', 'ear', 'earlier', 'early', 'earmuffs', 'earn', 'earned', 'ears', 'earshot', 'earsplitting', 'earth', 'earths', 'easier', 'easiest', 'easily', 'easter', 'easy', 'eat', 'eaten', 'eating', 'ebony', 'echoed', 'echoes', 'eclairs', 'edge', 'edged', 'edges', 'edging', 'eels', 'eerie', 'eeylops', 'effect', 'effort', 'egg', 'eggs', 'eh', 'ehru', 'eight', 'either', 'elastic', 'elbow', 'element', 'elephant', 'eleven', 'eleventh', 'elfric', 'elixir', 'else', 'elses', 'em', 'embarrassed', 'embedded', 'embers', 'emerald', 'emeraldgreen', 'emerged', 'emetic', 'emporium', 'emptied', 'emptier', 'empty', 'emptying', 'enchantments', 'enclose', 'enclosed', 'encouraging', 'end', 'ended', 'ending', 'endless', 'endofyear', 'ends', 'enemies', 'enemy', 'engine', 'england', 'english', 'engraved', 'engulfed', 'enid', 'enjoy', 'enjoying', 'enjoys', 'enormous', 'enough', 'enraged', 'ensnaring', 'enter', 'entered', 'entering', 'entrance', 'entranced', 'envelope', 'enviously', 'equipment', 'er', 'erised', 'erm', 'erupted', 'escalator', 'escape', 'escaping', 'especially', 'eve', 'even', 'evening', 'evenings', 'events', 'ever', 'every', 'everybody', 'everyone', 'everyoned', 'everyones', 'everythin', 'everything', 'everywhere', 'evil', 'exact', 'exactly', 'exam', 'examine', 'examined', 'examining', 'exams', 'exasperated', 'exasperation', 'excellent', 'except', 'exchange', 'exchanged', 'excited', 'excitedly', 'excitement', 'exciting', 'excuse', 'excuses', 'exercise', 'exhausted', 'existed', 'existence', 'exits', 'expect', 'expected', 'expecting', 'expects', 'expelled', 'experience', 'experts', 'explain', 'explained', 'explaining', 'explode', 'exploded', 'exploding', 'explosion', 'express', 'expression', 'extra', 'extraordinary', 'extremely', 'eye', 'eyebrows', 'eyed', 'eyeglasses', 'eyes', 'f', 'fabulous', 'face', 'facedown', 'faces', 'facetoface', 'facing', 'fact', 'fade', 'faded', 'fading', 'fail', 'failed', 'faint', 'faintest', 'faintly', 'fair', 'faithful', 'faithfully', 'fall', 'fallen', 'falling', 'faltered', 'fame', 'familiar', 'families', 'family', 'familys', 'famous', 'fan', 'fanatic', 'fancy', 'fang', 'fangll', 'fangs', 'fantastic', 'far', 'farther', 'fascinated', 'fascinating', 'fashion', 'fast', 'fasten', 'fastened', 'fastenings', 'faster', 'fastest', 'fat', 'fateful', 'father', 'fatherd', 'fathers', 'fattenin', 'fault', 'favor', 'favored', 'favorite', 'favors', 'fear', 'feared', 'feast', 'feasts', 'feather', 'feathers', 'fed', 'feeble', 'feed', 'feel', 'feeling', 'feelings', 'feels', 'feet', 'fell', 'felt', 'fences', 'fer', 'ferociously', 'festoons', 'fetch', 'fetchin', 'feverishly', 'few', 'fewer', 'fiddling', 'fidgeted', 'fie', 'field', 'fields', 'fierce', 'fiercely', 'fifteen', 'fifthyear', 'fifty', 'fiftyeight', 'fiftyfoot', 'fiftypence', 'fiftytwo', 'figg', 'figgs', 'fight', 'fighting', 'figure', 'figures', 'filch', 'filchs', 'fill', 'filled', 'filling', 'filthy', 'finally', 'finchfletchley', 'find', 'finding', 'finds', 'fine', 'finer', 'finest', 'finger', 'fingers', 'fingertips', 'finish', 'finished', 'finishing', 'finnigan', 'fir', 'fire', 'firecracker', 'firecrackers', 'firelight', 'firenze', 'firenzes', 'fireplace', 'fires', 'firework', 'fireworks', 'firm', 'firmly', 'firs', 'first', 'firstever', 'firsthand', 'firsties', 'firstyear', 'fishy', 'fist', 'fists', 'fit', 'fitch', 'fitted', 'five', 'fix', 'fixed', 'fixedly', 'fixing', 'flagged', 'flailed', 'flailing', 'flame', 'flamel', 'flamels', 'flames', 'flaming', 'flanked', 'flanks', 'flap', 'flared', 'flash', 'flashed', 'flashing', 'flashy', 'flat', 'flatly', 'flatten', 'flattened', 'flatter', 'flattering', 'flavor', 'flavored', 'fleet', 'flew', 'flexible', 'flick', 'flicked', 'flickered', 'flickering', 'flicking', 'flies', 'flight', 'flimsy', 'flinched', 'fling', 'flinging', 'flint', 'flipped', 'flitted', 'flitting', 'flitwick', 'flitwicles', 'floated', 'floating', 'flock', 'flocking', 'flocks', 'flooded', 'flooding', 'floor', 'floors', 'flop', 'flopped', 'flourish', 'flow', 'flowered', 'flowing', 'fluff', 'fluffy', 'fluffys', 'fluid', 'flump', 'flung', 'flushed', 'flute', 'flutter', 'fluttered', 'fluttering', 'fly', 'flyin', 'flying', 'foghorn', 'folded', 'folds', 'folk', 'folks', 'follow', 'followed', 'followers', 'following', 'follows', 'fond', 'fondly', 'food', 'foodll', 'fool', 'foolish', 'foot', 'football', 'footfalls', 'footsteps', 'footstool', 'for', 'forbid', 'forbidden', 'force', 'forced', 'forces', 'forcing', 'forecast', 'forehead', 'foreheads', 'forest', 'forests', 'foretold', 'forever', 'forevermore', 'forge', 'forget', 'forgetfulness', 'forgetmenot', 'forgets', 'forgettin', 'forgetting', 'forgive', 'forgot', 'forgotten', 'foribidden', 'fork', 'form', 'fortunately', 'fortune', 'fortunetelling', 'forty', 'fortytwo', 'forward', 'fought', 'foul', 'fouled', 'fouls', 'found', 'four', 'fourlegged', 'fourposter', 'fourposters', 'fours', 'fourteen', 'fourth', 'frame', 'frantic', 'frantically', 'frayed', 'freak', 'freckles', 'fred', 'free', 'freed', 'freedom', 'freeze', 'freezing', 'fret', 'friar', 'friday', 'fried', 'friend', 'friendly', 'friends', 'friendship', 'fries', 'fright', 'frighten', 'frightened', 'frightenin', 'frightening', 'frog', 'frogmarched', 'frogs', 'from', 'front', 'frost', 'frown', 'frowned', 'frowning', 'froze', 'frozen', 'fruitcake', 'frying', 'fudge', 'ful', 'full', 'fuller', 'fullgrown', 'fullygrown', 'fumbling', 'fumes', 'fuming', 'fun', 'funeral', 'fungi', 'funny', 'funnylooking', 'funnyshaped', 'fur', 'furious', 'furiously', 'furling', 'furniture', 'furor', 'further', 'fury', 'fussing', 'future', 'g', 'gain', 'gains', 'gales', 'galleon', 'galleons', 'gallery', 'galloped', 'gallopin', 'galloping', 'galoshes', 'gambled', 'game', 'gamekeeper', 'gamekeepers', 'gamekeeping', 'games', 'gang', 'gangling', 'gap', 'gaped', 'gaps', 'gar', 'garage', 'garden', 'gardens', 'gargoyles', 'garlic', 'gasp', 'gasped', 'gasping', 'gasps', 'gate', 'gateway', 'gathered', 'gathering', 'gaunt', 'gave', 'gawked', 'gawking', 'gaze', 'gazed', 'genius', 'gentle', 'gentlemans', 'gently', 'george', 'georges', 'geroff', 'get', 'gets', 'gettin', 'getting', 'getups', 'ggetting', 'ggot', 'ghost', 'ghostie', 'ghosts', 'ghoulie', 'giant', 'gibber', 'gift', 'gigantic', 'giggled', 'gingerly', 'ginny', 'girl', 'girls', 'git', 'give', 'given', 'gives', 'giving', 'glad', 'glance', 'glanced', 'glancing', 'glared', 'glaring', 'glass', 'glasses', 'gleamed', 'gleaming', 'glee', 'gleefully', 'glided', 'glider', 'gliding', 'glimmered', 'glimpse', 'glinting', 'glistening', 'glittered', 'glittering', 'glitteryblack', 'gloatingly', 'globes', 'gloom', 'gloomily', 'gloomy', 'gloomylooking', 'glory', 'gloves', 'glowed', 'glowing', 'glue', 'glumly', 'gnight', 'go', 'goal', 'goat', 'goblet', 'goblets', 'goblin', 'goblins', 'godrics', 'goes', 'goggle', 'goin', 'going', 'gold', 'golden', 'goldenbrown', 'golf', 'gone', 'gonna', 'good', 'goodbye', 'goodfornothing', 'goodll', 'goodness', 'goods', 'goodun', 'goose', 'gordon', 'gorgons', 'gorilla', 'goshawk', 'gossiped', 'got', 'gotta', 'gotten', 'gown', 'goyle', 'goyles', 'grab', 'grabbed', 'grade', 'grades', 'gradually', 'gran', 'grand', 'grandfather', 'grandfathers', 'grandmother', 'granger', 'grangers', 'granite', 'grappling', 'grasp', 'grasped', 'grasping', 'grass', 'grassy', 'grate', 'grateful', 'gravy', 'gray', 'grayfaced', 'grayish', 'greasily', 'greasy', 'great', 'greatest', 'greatness', 'gred', 'greed', 'greek', 'green', 'greener', 'greenhouse', 'greenhouses', 'greeted', 'greeting', 'gregory', 'grew', 'grief', 'griffin', 'grim', 'grimly', 'grin', 'grindelwald', 'grinding', 'gringotts', 'grinned', 'grinning', 'grip', 'griphook', 'gripped', 'grips', 'gritted', 'groan', 'groaned', 'groped', 'ground', 'grounds', 'group', 'groups', 'grow', 'growing', 'growled', 'growling', 'growls', 'grown', 'grownup', 'growyourownwarts', 'grubby', 'grubbylooking', 'grudgingly', 'gruffly', 'grumbled', 'grumpily', 'grunnings', 'grunnion', 'grunt', 'grunted', 'grunting', 'gryffindor', 'gryffindors', 'guard', 'guarded', 'guardin', 'guarding', 'guards', 'guess', 'guessing', 'guide', 'guilty', 'gulp', 'gulped', 'gulpin', 'gum', 'gun', 'gym', 'h', 'ha', 'haaa', 'haaaaaa', 'had', 'hadnt', 'hag', 'hagrid', 'hagrids', 'hags', 'hair', 'haircut', 'haircuts', 'hairs', 'hairy', 'half', 'halfandhalf', 'halfheartedly', 'halflife', 'halfmoon', 'halfpast', 'halfway', 'hall', 'halloween', 'halt', 'ham', 'hamburger', 'hammer', 'hammered', 'hammering', 'hams', 'hand', 'handed', 'handful', 'handing', 'handkerchief', 'handknitted', 'handle', 'hands', 'handsome', 'handy', 'hang', 'hanger', 'hanging', 'hangings', 'hannah', 'happen', 'happened', 'happening', 'happens', 'happier', 'happiest', 'happily', 'happiness', 'happy', 'harbor', 'hard', 'harder', 'hardfaced', 'hardly', 'harness', 'harold', 'harp', 'harry', 'harrys', 'harvey', 'has', 'hasnt', 'hat', 'hatched', 'hatches', 'hatching', 'hate', 'hated', 'hates', 'hating', 'hatred', 'hats', 'have', 'haven', 'havent', 'havin', 'having', 'hawk', 'he', 'head', 'headed', 'headfirst', 'heading', 'headless', 'headlight', 'headmaster', 'headmistress', 'heads', 'health', 'heap', 'heaps', 'hear', 'heard', 'hearing', 'heart', 'hearts', 'heartstring', 'heartstrings', 'heave', 'heaved', 'heaven', 'heavens', 'heavier', 'heavily', 'heaving', 'heavy', 'hebridean', 'hed', 'hedges', 'hedwig', 'heed', 'heel', 'heels', 'held', 'helicopters', 'hell', 'hello', 'helmeted', 'help', 'helped', 'helping', 'helplessly', 'hem', 'hengist', 'her', 'herbology', 'herbs', 'here', 'heres', 'hermione', 'hermionell', 'hermiones', 'hermlone', 'hero', 'herself', 'hes', 'hesitated', 'hey', 'hi', 'hid', 'hidden', 'hide', 'hides', 'hiding', 'higgs', 'high', 'higher', 'highheeled', 'highsecurity', 'highway', 'hills', 'him', 'himself', 'hind', 'hinge', 'hinges', 'hint', 'hired', 'his', 'hissed', 'hissing', 'history', 'hit', 'hitch', 'hitting', 'hmm', 'hmmm', 'hoarse', 'hobbled', 'hobby', 'hocus', 'hocuspocus', 'hoggy', 'hogs', 'hogwarts', 'hoisted', 'hold', 'holding', 'holds', 'hole', 'holes', 'holiday', 'holidays', 'hollow', 'holly', 'home', 'homemade', 'homework', 'honest', 'honestly', 'honor', 'hooch', 'hoochs', 'hood', 'hooded', 'hoodlums', 'hooked', 'hooknosed', 'hoops', 'hooted', 'hooting', 'hooves', 'hop', 'hope', 'hoped', 'hopeful', 'hopefully', 'hopes', 'hoping', 'hopped', 'horn', 'horned', 'horns', 'horny', 'horrible', 'horribly', 'horrified', 'horror', 'horrorstruck', 'horse', 'horses', 'hospital', 'hot', 'hotel', 'hotly', 'hour', 'hourglasses', 'hours', 'house', 'houses', 'hovered', 'hovering', 'how', 'howard', 'however', 'howl', 'howled', 'howling', 'howls', 'hows', 'huddle', 'hufflepuff', 'hufflepuffis', 'hufflepuffs', 'huge', 'hugged', 'hugging', 'hullo', 'human', 'humans', 'humbertos', 'humbugs', 'hummed', 'humming', 'humor', 'hunched', 'hundred', 'hundreds', 'hung', 'hunger', 'hungrily', 'hungry', 'hunt', 'hunting', 'hurried', 'hurriedly', 'hurry', 'hurrying', 'hurt', 'hurting', 'hurtled', 'hurtling', 'hurts', 'husband', 'hush', 'hushed', 'hushing', 'hut', 'hutontherock', 'hygienic', 'i', 'ice', 'icecold', 'icicles', 'icing', 'ickle', 'icy', 'id', 'idea', 'ideas', 'identical', 'idiot', 'idly', 'if', 'ignore', 'ignored', 'ignoring', 'ii', 'ill', 'illegal', 'im', 'image', 'imagination', 'imagine', 'imagined', 'imagining', 'immediately', 'immortal', 'impatient', 'impatiently', 'important', 'importantly', 'impossible', 'imprecise', 'impress', 'impressed', 'impressively', 'improve', 'improvement', 'in', 'inch', 'inched', 'inches', 'including', 'increases', 'incredible', 'incredibly', 'indeed', 'indoors', 'infernal', 'inferno', 'inform', 'information', 'informed', 'infusion', 'ing', 'ingredients', 'injured', 'ink', 'inky', 'innocent', 'inscription', 'inside', 'insides', 'insist', 'insisted', 'insisting', 'inspectors', 'instant', 'instantly', 'instead', 'instinct', 'instructions', 'instruments', 'insult', 'insulted', 'insultin', 'intently', 'inter', 'interest', 'interested', 'interesting', 'interestinglooking', 'interfere', 'interfering', 'international', 'interrupted', 'into', 'introduce', 'introduced', 'invented', 'investigations', 'invisibility', 'invisible', 'involved', 'ireland', 'iron', 'irongray', 'irritably', 'is', 'isle', 'isnt', 'it', 'itd', 'itll', 'its', 'itself', 'ive', 'ivy', 'jabbed', 'jacket', 'jackets', 'jam', 'james', 'jammed', 'jar', 'jars', 'javelin', 'jaws', 'jealous', 'jealousy', 'jeans', 'jello', 'jellylegs', 'jerk', 'jerked', 'jerking', 'jet', 'jetblack', 'jewelbright', 'jewels', 'jig', 'jigger', 'jim', 'jinx', 'jinxing', 'job', 'jobs', 'jog', 'johnson', 'join', 'joined', 'joining', 'joke', 'jokes', 'joking', 'jolt', 'jordan', 'jordans', 'jostled', 'jot', 'journey', 'joy', 'judge', 'judging', 'juicy', 'july', 'jump', 'jumped', 'jumping', 'jumpy', 'jupiter', 'jus', 'just', 'justin', 'katie', 'keen', 'keep', 'keeper', 'keepers', 'keeping', 'keeps', 'kent', 'kept', 'ketchup', 'kettle', 'key', 'keyhole', 'keys', 'kick', 'kicked', 'kicking', 'kid', 'kidney', 'kids', 'kill', 'killed', 'killers', 'killin', 'killing', 'kills', 'kind', 'kinda', 'kindling', 'kindly', 'kinds', 'king', 'kings', 'kip', 'kiss', 'kissed', 'kissing', 'kit', 'kitchen', 'kitchens', 'knack', 'knee', 'knees', 'knew', 'knickerbocker', 'knickerbockers', 'knight', 'knights', 'knitting', 'knobbly', 'knock', 'knocked', 'knocking', 'knot', 'know', 'knowin', 'knowing', 'knowitall', 'knowledge', 'known', 'knows', 'knowwho', 'knuckle', 'knuckles', 'knuts', 'lace', 'laden', 'lady', 'ladys', 'laid', 'lake', 'lamb', 'lamp', 'lamplike', 'lamps', 'land', 'landed', 'landing', 'lanes', 'languages', 'lanterns', 'lap', 'laps', 'large', 'larger', 'largest', 'las', 'last', 'lasted', 'lastminute', 'late', 'lately', 'later', 'latest', 'laugh', 'laughed', 'laughing', 'laughter', 'lavender', 'law', 'lawn', 'lawns', 'laws', 'lay', 'lazily', 'lead', 'leader', 'leading', 'league', 'leaked', 'leaking', 'leaky', 'lean', 'leaned', 'leaning', 'leap', 'leaping', 'leapt', 'learn', 'learned', 'learning', 'least', 'leather', 'leathercovered', 'leave', 'leaves', 'leaving', 'lecture', 'lecturin', 'led', 'ledgers', 'lee', 'leering', 'left', 'leg', 'legend', 'legendary', 'legged', 'leglocker', 'legs', 'lemon', 'lend', 'length', 'lent', 'less', 'lessened', 'lesson', 'lessons', 'let', 'lets', 'letter', 'letters', 'letting', 'level', 'leviosa', 'ley', 'li', 'liar', 'librarian', 'library', 'licking', 'licorice', 'lid', 'lids', 'lie', 'lied', 'lies', 'life', 'lift', 'lifted', 'lifting', 'light', 'lighted', 'lighter', 'lightest', 'lighting', 'lightning', 'lights', 'like', 'liked', 'likely', 'likes', 'liking', 'lily', 'limp', 'limped', 'limping', 'line', 'lined', 'linen', 'lines', 'lingered', 'lingering', 'lining', 'lion', 'lionfish', 'lip', 'lips', 'liquid', 'liquids', 'lisa', 'list', 'listen', 'listened', 'listening', 'lit', 'littie', 'little', 'live', 'lived', 'liver', 'lives', 'livid', 'living', 'livingroom', 'lizards', 'lo', 'load', 'loaded', 'loads', 'loathed', 'local', 'lock', 'locked', 'locker', 'locomotor', 'logic', 'london', 'lonely', 'long', 'longbottom', 'longbottoms', 'longed', 'longer', 'longestever', 'longing', 'longingly', 'look', 'looked', 'lookin', 'looking', 'looks', 'loomed', 'looming', 'looptheloops', 'loopy', 'loose', 'loosening', 'lopsided', 'lord', 'lose', 'losing', 'loss', 'lost', 'lot', 'lots', 'lotta', 'loud', 'louder', 'loudest', 'loudly', 'love', 'loved', 'lovely', 'lover', 'low', 'lower', 'lowered', 'lowhanging', 'loyal', 'loyalties', 'luck', 'lucky', 'luggage', 'lullaby', 'lumbered', 'luminous', 'lump', 'lumps', 'lumpy', 'lunch', 'lunchtime', 'lunged', 'lurch', 'lurched', 'lurking', 'lying', 'm', 'macdougal', 'mad', 'madam', 'made', 'madly', 'magic', 'magical', 'magnificent', 'mahogany', 'mail', 'main', 'mainly', 'majorca', 'make', 'maker', 'makers', 'makes', 'makin', 'making', 'malade', 'malcolm', 'malfay', 'malfoy', 'malfoy\\tstill', 'malfoyll', 'malfoys', 'malkin', 'malkins', 'man', 'manage', 'managed', 'managing', 'mancrushing', 'mandy', 'mane', 'mangled', 'maniacs', 'manner', 'mans', 'mantelpiece', 'many', 'map', 'maple', 'maps', 'mar', 'marble', 'marbles', 'march', 'marched', 'marcus', 'marge', 'marges', 'mark', 'marked', 'markings', 'marks', 'marmalade', 'maroon', 'married', 'mars', 'marshmallows', 'massive', 'master', 'mastered', 'masters', 'match', 'matches', 'material', 'math', 'matter', 'mattress', 'mauve', 'may', 'maybe', 'maze', 'mcgonagall', 'mcgonagalls', 'mcguffin', 'mckinnons', 'me', 'meal', 'meals', 'mean', 'meanin', 'means', 'meant', 'meantime', 'meanwhile', 'measure', 'measured', 'measuring', 'meddle', 'meddlin', 'meddling', 'meet', 'meeting', 'mellow', 'melt', 'melted', 'member', 'memorize', 'memory', 'men', 'mended', 'mention', 'mentioned', 'mentionin', 'mercy', 'mere', 'merely', 'meringue', 'merlin', 'merrily', 'merry', 'meself', 'mess', 'message', 'messin', 'messing', 'met', 'metal', 'meters', 'mice', 'mid', 'midair', 'middecember', 'middle', 'midnight', 'midst', 'miffed', 'might', 'mighta', 'mightn', 'mightve', 'miles', 'milk', 'milkman', 'millicent', 'mimblewimble', 'mimsy', 'mimsyporpington', 'mind', 'minded', 'minds', 'mine', 'minerva', 'mines', 'mingled', 'minister', 'ministry', 'minuscule', 'minute', 'minutes', 'miranda', 'mirror', 'mirrors', 'miserable', 'miserably', 'misery', 'miss', 'missed', 'misses', 'missing', 'mist', 'mistake', 'mistaken', 'mistakes', 'mistaking', 'misters', 'mistletoe', 'misty', 'mixed', 'mixing', 'mixture', 'mm', 'mmm', 'mmyself', 'moan', 'moaned', 'moaning', 'moans', 'model', 'modern', 'moldy', 'moleskin', 'mom', 'moment', 'moments', 'mommy', 'moms', 'monday', 'money', 'moneys', 'monk', 'monkshood', 'monster', 'monstrous', 'month', 'monthold', 'months', 'mood', 'moon', 'moonlight', 'moons', 'morag', 'more', 'moren', 'morgana', 'morning', 'mortis', 'mossy', 'most', 'mostly', 'motheaten', 'mother', 'mothers', 'motion', 'motionless', 'motorcycle', 'motorcycles', 'mounds', 'mount', 'mountain', 'mountains', 'mounted', 'mounting', 'mouse', 'mouth', 'mouthed', 'mouthful', 'mouths', 'move', 'moved', 'movement', 'movements', 'movies', 'moving', 'mr', 'mrs', 'much', 'mud', 'muddy', 'muffins', 'muffled', 'muggle', 'muggles', 'mugs', 'mugwump', 'mule', 'multilevel', 'mum', 'mumbled', 'mumbling', 'mummy', 'murmur', 'murmured', 'muscle', 'muscular', 'music', 'must', 'mustache', 'mustached', 'mustnt', 'mustve', 'musty', 'mutely', 'mutter', 'muttered', 'muttering', 'my', 'myseff', 'myself', 'mysterious', 'mysteriously', 'mystery', 'mystified', 'mystry', 'nag', 'nagging', 'nah', 'nail', 'nailed', 'nails', 'name', 'names', 'narrow', 'narrowed', 'narrowly', 'nastier', 'nastily', 'nasty', 'nations', 'natural', 'naturally', 'naughty', 'near', 'nearby', 'nearer', 'nearest', 'nearly', 'nearsighted', 'neat', 'neatly', 'necessary', 'neck', 'necks', 'need', 'needed', 'needin', 'needle', 'needles', 'needlesharp', 'neednt', 'needs', 'neighbors', 'neither', 'nephew', 'nerve', 'nerves', 'nervous', 'nervously', 'net', 'nettle', 'nettles', 'never', 'nevertheless', 'neville', 'nevilles', 'new', 'news', 'newscaster', 'newspaper', 'newspapers', 'newt', 'next', 'nibble', 'nice', 'nicer', 'nicholas', 'nick', 'nicolas', 'night', 'nightfall', 'nightmare', 'nightmares', 'nights', 'nighttime', 'nimbus', 'nine', 'ninth', 'nitwit', 'nmat', 'nneed', 'nnot', 'nnothing', 'no', 'noble', 'nobody', 'nodded', 'nodding', 'nof', 'noise', 'noiselessly', 'noises', 'noisy', 'none', 'nonexplodable', 'nonmagic', 'nonsense', 'nonstop', 'nope', 'nor', 'norbert', 'norberts', 'normal', 'normally', 'norris', 'norriss', 'norwegian', 'nose', 'nosebleed', 'noses', 'nosie', 'nostrils', 'nosy', 'not', 'notable', 'note', 'noted', 'notes', 'nothin', 'nothing', 'notice', 'noticed', 'notices', 'noticing', 'nott', 'november', 'now', 'nowhere', 'nudged', 'number', 'numbers', 'numbly', 'nurse', 'nursed', 'nuts', 'o', 'oaf', 'oak', 'object', 'objects', 'observed', 'obvious', 'obviously', 'occasions', 'occurred', 'oclock', 'odd', 'oddball', 'oddly', 'oddment', 'of', 'off', 'offended', 'offered', 'offhand', 'office', 'often', 'oh', 'oiled', 'okay', 'old', 'older', 'oldest', 'oldfashioned', 'oliver', 'olivers', 'ollivander', 'ollivanders', 'omen', 'on', 'once', 'one', 'ones', 'only', 'onto', 'onward', 'ooh', 'oooooh', 'oooooooh', 'open', 'opened', 'opening', 'opera', 'opinion', 'opposite', 'or', 'orange', 'order', 'ordered', 'orders', 'ordinary', 'ornate', 'other', 'others', 'otherwise', 'ouch', 'ought', 'oughta', 'ounce', 'our', 'ours', 'ourselves', 'out', 'outlawed', 'outlines', 'outofbounds', 'outrage', 'outside', 'outskirts', 'outstanding', 'outstretched', 'outta', 'over', 'overcoat', 'overgrown', 'overhead', 'overheard', 'overhearing', 'overshadowed', 'overtake', 'overtaking', 'overtook', 'owe', 'owl', 'owlery', 'owlfree', 'owls', 'own', 'owned', 'owner', 'owners', 'oy', 'oyt', 'p', 'paced', 'paces', 'pacing', 'pack', 'package', 'packages', 'packed', 'packing', 'paddington', 'page', 'pages', 'paid', 'pain', 'painful', 'painfully', 'pains', 'paint', 'painted', 'painting', 'pair', 'pairs', 'paisley', 'pajamas', 'palace', 'pale', 'paler', 'palms', 'palomino', 'pan', 'panels', 'panic', 'panicked', 'panicking', 'pansy', 'panted', 'panting', 'paper', 'papers', 'paracelsus', 'paraded', 'parcel', 'parchment', 'parents', 'parked', 'parking', 'parkinson', 'parks', 'parrot', 'part', 'parted', 'particularly', 'parties', 'partner', 'parts', 'party', 'parvati', 'pass', 'passage', 'passages', 'passageway', 'passageways', 'passed', 'passersby', 'passes', 'passing', 'password', 'passwords', 'past', 'pasties', 'pasty', 'patch', 'patched', 'patchwork', 'pate', 'path', 'patient', 'patil', 'patrolled', 'patted', 'pattern', 'patting', 'pause', 'paused', 'pavement', 'paving', 'pawed', 'pawn', 'paws', 'pay', 'payin', 'paying', 'peabrain', 'peace', 'peaceful', 'pearlywhite', 'peas', 'pebbles', 'pecked', 'peculiar', 'peeling', 'peered', 'peering', 'peeves', 'peevess', 'peevsie', 'pellets', 'pelt', 'pelted', 'pelting', 'pelts', 'penalty', 'pence', 'people', 'peoples', 'pep', 'pepper', 'peppermint', 'peppermints', 'percent', 'perched', 'percy', 'percyd', 'percys', 'perenelle', 'perfect', 'perfectly', 'perform', 'performed', 'perhaps', 'perks', 'person', 'personal', 'personally', 'persuade', 'petrificus', 'petrified', 'petunia', 'pewter', 'pheasants', 'phials', 'phoenix', 'phoenixes', 'phone', 'phoning', 'photographs', 'photos', 'phyllida', 'pick', 'picked', 'picking', 'pickled', 'pickmeup', 'picture', 'pictures', 'pie', 'piece', 'pieces', 'pier', 'pierced', 'piercing', 'piers', 'pies', 'pig', 'pigs', 'pigtails', 'pile', 'piled', 'piles', 'pillow', 'pin', 'pince', 'pinched', 'pineapple', 'ping', 'pink', 'pinkfaced', 'pinned', 'pinning', 'pinpricks', 'pipe', 'piped', 'pitch', 'pitchblack', 'pity', 'place', 'placed', 'places', 'plain', 'plainly', 'plan', 'planets', 'planned', 'plant', 'plants', 'plastic', 'plate', 'plates', 'platform', 'platforms', 'platters', 'play', 'played', 'player', 'players', 'playfully', 'playin', 'playing', 'plays', 'pleaded', 'please', 'pleased', 'pleasure', 'plenty', 'pliable', 'plotting', 'plowed', 'plump', 'plunged', 'pocket', 'pocketed', 'pockets', 'pocuss', 'point', 'pointed', 'pointing', 'points', 'pointy', 'poison', 'poisonous', 'poisons', 'poke', 'poked', 'poker', 'poking', 'poles', 'polite', 'politely', 'politer', 'polkiss', 'poltergeist', 'pomfrey', 'pomfreys', 'pomftey', 'pompously', 'poor', 'poorer', 'pop', 'popkin', 'popped', 'popular', 'porcupine', 'pork', 'porridge', 'portrait', 'portraits', 'positions', 'positive', 'positively', 'possession', 'possible', 'possibly', 'post', 'postage', 'postcard', 'poster', 'postman', 'posts', 'potato', 'potatoes', 'potion', 'potionmaking', 'potions', 'potter', 'potters', 'pouch', 'pounced', 'pound', 'pounding', 'poured', 'pouring', 'powdered', 'powders', 'power', 'powerful', 'powers', 'ppick', 'pplaces', 'pppetunia', 'pppoor', 'pppotter', 'pprofessor', 'practical', 'practice', 'practicing', 'praying', 'precious', 'precisely', 'prefect', 'prefects', 'prefer', 'prepared', 'present', 'presenting', 'presents', 'president', 'press', 'pressed', 'pressure', 'pretend', 'pretended', 'pretending', 'pretty', 'prevent', 'prewetts', 'price', 'prickle', 'prickled', 'prince', 'private', 'privately', 'privet', 'probably', 'problem', 'problems', 'processor', 'prodded', 'prodding', 'produced', 'produces', 'professor', 'profit', 'program', 'programs', 'promise', 'promised', 'promisin', 'promptly', 'proof', 'proper', 'properly', 'prophet', 'propped', 'protect', 'protected', 'protecting', 'protection', 'protective', 'proud', 'proudest', 'proudly', 'prove', 'proving', 'provoked', 'prowling', 'prune', 'ptolemy', 'pub', 'public', 'pucey', 'puddin', 'pudding', 'puddings', 'puff', 'puffed', 'puffing', 'pull', 'pulled', 'pulling', 'pumpkin', 'pumpkins', 'punch', 'punched', 'punching', 'puncture', 'punctures', 'punished', 'punishing', 'punishment', 'punishments', 'pupils', 'puppet', 'pure', 'purple', 'purplefaced', 'purpose', 'pursed', 'push', 'pushed', 'pushing', 'put', 'putouter', 'puts', 'putted', 'putting', 'puzzle', 'puzzlement', 'pythons', 'quaffle', 'quailed', 'quarter', 'quaver', 'queasy', 'queen', 'quentin', 'question', 'questions', 'quick', 'quicker', 'quickly', 'quickwitted', 'quidditch', 'quiet', 'quietly', 'quill', 'quills', 'quilt', 'quirrell', 'quirrells', 'quirtell', 'quite', 'quiver', 'quivered', 'quivering', 'quiz', 'rabbit', 'rabbitin', 'racing', 'racket', 'radish', 'rage', 'raged', 'ragged', 'rags', 'railview', 'railway', 'rain', 'rainbow', 'raise', 'raised', 'raising', 'raisins', 'rammed', 'ran', 'random', 'rang', 'ranting', 'rapidly', 'rapped', 'rapping', 'rare', 'rarely', 'raspberry', 'rasping', 'rat', 'rather', 'rations', 'rats', 'rattle', 'rattled', 'rattling', 'ravenclaw', 'ravenclaws', 'ravine', 'raw', 'ray', 're', 'reach', 'reached', 'reaching', 'read', 'readin', 'reading', 'ready', 'real', 'realize', 'realized', 'realizing', 'really', 'rear', 'reared', 'reason', 'reasonably', 'reasons', 'rebellions', 'receive', 'received', 'receiver', 'recent', 'recited', 'reciting', 'reckon', 'reckons', 'recognize', 'recognized', 'record', 'recorded', 'red', 'redder', 'reddish', 'redhaired', 'redheaded', 'reeled', 'ref', 'referee', 'refereed', 'refereeing', 'referees', 'reflected', 'reflection', 'reflections', 'refuse', 'refused', 'refusing', 'rejoice', 'related', 'relation', 'relatives', 'relax', 'relaxed', 'relief', 'relieved', 'reliving', 'remains', 'remarkably', 'remember', 'remembered', 'remembering', 'remembers', 'remembrall', 'remind', 'reminded', 'reminding', 'reminds', 'remorse', 'remote', 'removed', 'repair', 'repaired', 'repeated', 'replaced', 'replacing', 'replied', 'reply', 'report', 'reported', 'reports', 'reptile', 'require', 'rescued', 'reserve', 'resident', 'resign', 'resist', 'resolution', 'respect', 'responsible', 'rest', 'restaurant', 'restaurants', 'rested', 'resting', 'restless', 'restricted', 'results', 'retracing', 'return', 'returned', 'reveal', 'revenge', 'revenges', 'revolting', 'reward', 'ribbon', 'ribs', 'rice', 'rich', 'rickety', 'rid', 'ride', 'riders', 'ridgeback', 'ridgebacks', 'ridiculous', 'riding', 'riffraff', 'rifle', 'rigged', 'right', 'righthand', 'righthanded', 'rigid', 'ring', 'ringing', 'rip', 'ripped', 'ripping', 'rippled', 'rise', 'rising', 'risk', 'risks', 'risky', 'rivers', 'road', 'roaming', 'roar', 'roared', 'roaring', 'roars', 'roast', 'rob', 'robe', 'robes', 'rock', 'rocker', 'rocket', 'rocketed', 'rocks', 'roll', 'rolled', 'rolling', 'rolls', 'romania', 'ron', 'ronald', 'ronan', 'ronnie', 'ronniekins', 'rons', 'roof', 'room', 'rooms', 'root', 'rooted', 'rooting', 'roots', 'rope', 'ropes', 'rose', 'rot', 'rotted', 'roughly', 'round', 'rounded', 'roundfaced', 'route', 'row', 'rowboat', 'rows', 'rub', 'rubbed', 'rubber', 'rubbing', 'rubbish', 'rubeus', 'rubies', 'ruddy', 'rude', 'ruefully', 'ruff', 'ruffled', 'ruffledlooking', 'rugs', 'ruined', 'ruins', 'rule', 'rulebreaking', 'rules', 'rumbled', 'rumbling', 'rummaged', 'rummaging', 'rumor', 'rumors', 'run', 'runnin', 'running', 'rush', 'rushed', 'rustling', 's', 'sacked', 'sacrifices', 'sad', 'sadly', 'sadness', 'safe', 'safely', 'safest', 'safety', 'sagged', 'sahara', 'said', 'sailed', 'saintly', 'saints', 'saliva', 'sallow', 'sallyanne', 'same', 'sandwich', 'sandwiches', 'sandy', 'sandyhaired', 'sank', 'sapphires', 'sardine', 'sat', 'saturday', 'sauce', 'sausage', 'sausages', 'savage', 'savaging', 'save', 'saved', 'saving', 'saw', 'say', 'sayin', 'saying', 'says', 'sc', 'scabbers', 'scabbets', 'scabby', 'scales', 'scamander', 'scandal', 'scar', 'scared', 'scaredlooking', 'scarlet', 'scars', 'scattering', 'scene', 'scented', 'schedules', 'school', 'schooland', 'schools', 'science', 'scissors', 'scoop', 'scooping', 'scooted', 'score', 'scored', 'scoring', 'scotch', 'scowl', 'scowling', 'scrabbling', 'scrambled', 'scrambling', 'scraped', 'scraping', 'scratch', 'scratching', 'scratchy', 'scrawl', 'scrawled', 'scrawny', 'scream', 'screamed', 'screaming', 'screams', 'screech', 'screeched', 'screwed', 'scribbled', 'scribbling', 'scroll', 'scruff', 'scruffs', 'scudding', 'scuffles', 'scurried', 'scurrying', 'scuse', 'scuttled', 'sea', 'seal', 'seamus', 'seamuss', 'search', 'searched', 'searching', 'seared', 'season', 'seat', 'seating', 'seats', 'seaweed', 'sec', 'second', 'secondary', 'seconds', 'secret', 'secretary', 'secretly', 'secrets', 'section', 'security', 'see', 'seeing', 'seek', 'seeker', 'seekers', 'seem', 'seemed', 'seeming', 'seems', 'seen', 'seeping', 'sees', 'seize', 'seized', 'seizing', 'selfish', 'selfprotection', 'selfstirring', 'sell', 'selling', 'send', 'sending', 'sense', 'senses', 'sensible', 'sent', 'separated', 'separately', 'separating', 'september', 'serious', 'seriously', 'serpent', 'servant', 'served', 'service', 'session', 'set', 'sets', 'setting', 'settled', 'settling', 'seven', 'seventeen', 'seventh', 'seventy', 'seventytwo', 'several', 'severelooking', 'severus', 'shabby', 'shack', 'shade', 'shadow', 'shadows', 'shadowy', 'shaggy', 'shake', 'shakeem', 'shaken', 'shakily', 'shaking', 'shall', 'shallows', 'shame', 'shant', 'shape', 'shaped', 'shapeless', 'shapes', 'share', 'shared', 'sharing', 'sharp', 'sharper', 'sharply', 'shaves', 'she', 'sheared', 'shed', 'sheep', 'sheer', 'sheet', 'sheets', 'shelf', 'shell', 'shelling', 'shelves', 'sherry', 'shes', 'shhh', 'shhhh', 'shields', 'shifty', 'shimmering', 'shinin', 'shining', 'shiny', 'shivered', 'shivering', 'shock', 'shocked', 'shoes', 'shone', 'shoo', 'shook', 'shoot', 'shooting', 'shop', 'shopping', 'shops', 'shore', 'short', 'shortcut', 'shortcuts', 'shorter', 'shortly', 'shot', 'should', 'shoulda', 'shoulder', 'shoulders', 'shouldn', 'shouldnt', 'shouldnta', 'shouldve', 'shout', 'shouted', 'shoutin', 'shouting', 'shouts', 'shove', 'shoved', 'shoveling', 'show', 'showed', 'showers', 'showing', 'shown', 'shows', 'shrank', 'shredded', 'shriek', 'shrieked', 'shrieking', 'shrieks', 'shrill', 'shrilly', 'shrink', 'shrinking', 'shriveled', 'shrunk', 'shuddered', 'shuffled', 'shuffling', 'shut', 'shutting', 'sick', 'sickening', 'sickle', 'sickles', 'side', 'sides', 'sideways', 'sidled', 'sigh', 'sighed', 'sight', 'sightings', 'sign', 'signature', 'signed', 'signs', 'silence', 'silent', 'silently', 'silk', 'silkily', 'silly', 'silver', 'silverblue', 'silvery', 'similar', 'simmering', 'simple', 'simply', 'sin', 'since', 'sincerely', 'sing', 'singing', 'single', 'singled', 'singlehanded', 'singsong', 'sinister', 'sink', 'sinking', 'sinks', 'sipped', 'sir', 'sirius', 'sister', 'sit', 'sitting', 'six', 'sixteen', 'sixth', 'sixty', 'sixtyfifth', 'sixtyfive', 'size', 'sizes', 'sizing', 'sizzling', 'skidding', 'skies', 'skimming', 'skin', 'skinnier', 'skinny', 'skip', 'skipped', 'skipping', 'skulking', 'sky', 'skyward', 'slain', 'slam', 'slammed', 'slamming', 'slapping', 'slay', 'sleek', 'sleep', 'sleepily', 'sleepiness', 'sleeping', 'sleepless', 'sleeps', 'sleepy', 'sleeve', 'sleeves', 'slender', 'slept', 'slice', 'slid', 'sliding', 'slight', 'slightest', 'slightly', 'slimy', 'slinking', 'slip', 'slipped', 'slippers', 'slippery', 'slipping', 'slithering', 'slits', 'slope', 'sloped', 'sloping', 'slot', 'slotted', 'slouched', 'slow', 'slowed', 'slowing', 'slowly', 'slug', 'slugs', 'slumped', 'slyly', 'slytherin', 'slytherin\\twould', 'slytherins', 'small', 'smaller', 'smallest', 'smarmy', 'smarten', 'smarter', 'smartly', 'smash', 'smashed', 'smatter', 'smell', 'smelled', 'smelly', 'smelting', 'smeltings', 'smile', 'smiled', 'smiles', 'smiling', 'smirking', 'smoke', 'smoked', 'smoking', 'smooth', 'smoother', 'smoothly', 'smothering', 'smudged', 'smuggle', 'sn', 'snake', 'snakelike', 'snakes', 'snap', 'snape', 'snapes', 'snapped', 'snare', 'snarled', 'snatch', 'snatched', 'snatching', 'sneak', 'sneaked', 'sneakers', 'sneaking', 'sneer', 'sneered', 'sneering', 'sneeze', 'sneezed', 'sniff', 'sniffed', 'sniffing', 'sniffling', 'sniffy', 'sniggered', 'snigget', 'snitch', 'sniveled', 'snoozed', 'snoozing', 'snored', 'snores', 'snoring', 'snorted', 'snot', 'snout', 'snow', 'snowball', 'snowballs', 'snowy', 'snuffbox', 'snuffling', 'so', 'soared', 'soaring', 'sob', 'sobbed', 'sobbing', 'sobs', 'soccer', 'socks', 'sofa', 'soft', 'softest', 'softly', 'sold', 'solid', 'solutions', 'some', 'somebody', 'somebodys', 'somefink', 'somehow', 'someone', 'someones', 'somersault', 'somethin', 'something', 'somethings', 'sometime', 'sometimes', 'somewhere', 'son', 'song', 'sons', 'sony', 'soon', 'sooner', 'soothe', 'sorc', 'sorcerer', 'sorcerers', 'sore', 'sorrowful', 'sorry', 'sort', 'sorta', 'sorted', 'sorting', 'sorts', 'soul', 'sound', 'sounded', 'sounding', 'sounds', 'sp', 'space', 'spaces', 'sparkling', 'sparks', 'spasm', 'spat', 'spawn', 'speak', 'speaker', 'speakin', 'speaking', 'spear', 'speared', 'special', 'specially', 'species', 'specimen', 'speck', 'spectacles', 'spectacular', 'spectacularly', 'spectators', 'sped', 'speech', 'speechless', 'speed', 'speeding', 'speeds', 'speedy', 'spell', 'spelled', 'spells', 'spend', 'spending', 'spent', 'spider', 'spiders', 'spilled', 'spilling', 'spinach', 'spindly', 'spine', 'spinner', 'spinnet', 'spinning', 'spiny', 'spiral', 'spirits', 'spite', 'splashes', 'splattered', 'spleens', 'splendid', 'split', 'spluttered', 'spluttering', 'spoil', 'spoils', 'spoke', 'spoken', 'spokesgoblin', 'spore', 'sport', 'sports', 'spose', 'spot', 'spots', 'spotted', 'spotting', 'sppose', 'spposed', 'sprang', 'sprawled', 'spray', 'spread', 'spreading', 'spring', 'springy', 'sprinted', 'sprinting', 'sprout', 'sprouts', 'spun', 'spurt', 'spying', 'square', 'squares', 'squashed', 'squashy', 'squat', 'squawked', 'squeak', 'squeaked', 'squeaky', 'squeal', 'squealed', 'squeeze', 'squeezed', 'squid', 'squinted', 'squinting', 'sssorry', 'st', 'stabbing', 'stack', 'stacked', 'stacks', 'stadium', 'staff', 'staffroom', 'stage', 'staggered', 'staggerin', 'stain', 'stained', 'staircase', 'staircases', 'stairs', 'stalactite', 'stalactites', 'stalagmite', 'stalagmites', 'stale', 'stalking', 'stammered', 'stammering', 'stamp', 'stamping', 'stamps', 'stand', 'standard', 'standing', 'stands', 'stare', 'stared', 'stargazers', 'staring', 'starry', 'stars', 'start', 'started', 'starting', 'startled', 'startofterm', 'starts', 'starved', 'starving', 'state', 'station', 'statue', 'statues', 'stay', 'stayed', 'staying', 'steadied', 'steadily', 'steady', 'steak', 'steal', 'steam', 'steamrollered', 'steel', 'steeling', 'steep', 'steeply', 'steered', 'steering', 'stench', 'step', 'stepped', 'steps', 'stern', 'sternly', 'stewed', 'stick', 'sticking', 'sticks', 'sticky', 'stiff', 'stiffily', 'stiffly', 'stifling', 'still', 'stinking', 'stitch', 'stitches', 'stoat', 'stoked', 'stole', 'stolen', 'stomach', 'stomping', 'stone', 'stones', 'stonewall', 'stood', 'stool', 'stools', 'stooping', 'stop', 'stopped', 'stopper', 'stopping', 'stops', 'stored', 'stores', 'stories', 'storm', 'stormed', 'stormy', 'story', 'stove', 'stra', 'straight', 'straightened', 'straightening', 'strained', 'straining', 'stranded', 'strange', 'strangelooking', 'strangely', 'stranger', 'strangers', 'strangled', 'strapping', 'straps', 'straw', 'strawberries', 'strawberry', 'stray', 'strayed', 'straying', 'streak', 'streaked', 'stream', 'streamed', 'streaming', 'street', 'streets', 'strength', 'strengthened', 'stretch', 'stretched', 'stretching', 'strict', 'strictly', 'striding', 'string', 'strings', 'striped', 'strode', 'stroke', 'stroked', 'strong', 'stronger', 'strongly', 'struck', 'struggle', 'struggled', 'struggling', 'ststuttering', 'stubs', 'stuck', 'student', 'students', 'study', 'studyin', 'studying', 'stuff', 'stuffed', 'stuffing', 'stumbled', 'stumbling', 'stump', 'stumped', 'stung', 'stunned', 'stunt', 'stupid', 'stupidest', 'stupidly', 'stutter', 'stuttering', 'subject', 'subjects', 'substance', 'substitutes', 'subtle', 'such', 'sucked', 'sudden', 'suddenly', 'suffering', 'sugar', 'suggest', 'suggested', 'suit', 'suits', 'summat', 'summer', 'sun', 'sunburn', 'sunday', 'sundays', 'sunk', 'sunlight', 'sunny', 'sunrise', 'sunshine', 'supple', 'supply', 'supporting', 'suppose', 'supposed', 'supreme', 'sure', 'surely', 'surged', 'surname', 'surprise', 'surprised', 'surprises', 'surprising', 'surrey', 'surrounded', 'surrounding', 'survive', 'susan', 'suspect', 'suspected', 'suspend', 'suspended', 'suspension', 'suspicion', 'suspicious', 'swaggered', 'swallow', 'swallowed', 'swam', 'swap', 'swapped', 'swapping', 'swarmin', 'swarming', 'swarthy', 'swayed', 'swaying', 'swear', 'swearing', 'sweat', 'sweater', 'sweaters', 'sweating', 'sweaty', 'sweeping', 'sweet', 'sweets', 'sweetums', 'swelled', 'swelling', 'sweltering', 'swept', 'swift', 'swiftly', 'swig', 'swimming', 'swipe', 'swish', 'swished', 'swishing', 'swishy', 'switch', 'switching', 'swollen', 'swoop', 'swooped', 'swooping', 'sword', 'swore', 'sworn', 'swung', 'syllable', 'symbols', 't', 'tabby', 'table', 'tables', 'tackled', 'tackling', 'tags', 'tail', 'tailcoats', 'take', 'taken', 'takes', 'takin', 'taking', 'talent', 'talk', 'talked', 'talking', 'talkingto', 'tall', 'taller', 'tallest', 'tame', 'tangled', 'tangles', 'tank', 'tantrum', 'tap', 'tapdance', 'tape', 'taped', 'tapestries', 'tapestry', 'tapped', 'tapping', 'tarantula', 'tart', 'tartan', 'tarts', 'taste', 'tasted', 'tasty', 'taught', 'taunting', 'tawny', 'tea', 'teabags', 'teach', 'teacher', 'teachers', 'teaches', 'teaching', 'teacups', 'team', 'teams', 'teapot', 'tearful', 'tearing', 'tears', 'tearstreaked', 'ted', 'teddy', 'teeth', 'teh', 'telephone', 'telescope', 'telescopes', 'television', 'tell', 'tellin', 'telling', 'tells', 'temper', 'ten', 'tend', 'tendrils', 'tennis', 'tenpin', 'tens', 'tent', 'tentacles', 'ter', 'terence', 'term', 'terms', 'terrible', 'terrified', 'terror', 'terry', 'test', 'testing', 'th', 'than', 'thank', 'thanked', 'thankful', 'thanks', 'thanksss', 'thankyou', 'that', 'thatll', 'thats', 'thatthat', 'the', 'their', 'them', 'themselves', 'then', 'theory', 'there', 'thered', 'therefore', 'theres', 'thern', 'these', 'they', 'theyd', 'theyll', 'theyre', 'theyve', 'thick', 'thicker', 'thickly', 'thickset', 'thief', 'thieves', 'thin', 'thing', 'things', 'think', 'thinking', 'thinks', 'thinner', 'thinnest', 'third', 'thirdfloor', 'thirst', 'thirteen', 'thirteenandahalf', 'thirty', 'thirtynine', 'thirtyseven', 'thirtysix', 'this', 'thomas', 'those', 'though', 'thought', 'thoughtfully', 'thoughts', 'thousand', 'thousands', 'thrashing', 'threatening', 'three', 'threeheaded', 'threequarters', 'threes', 'threethirty', 'threshold', 'threw', 'throat', 'throats', 'thronging', 'through', 'throughout', 'throw', 'throwing', 'thrown', 'thud', 'thumbs', 'thump', 'thumpin', 'thumping', 'thunder', 'thundered', 'thunderous', 'thursday', 'thus', 'tibbles', 'tick', 'ticked', 'ticket', 'tickets', 'tickled', 'tickling', 'tidier', 'tidy', 'tie', 'tied', 'tight', 'tightened', 'tighter', 'tightlipped', 'tightly', 'tights', 'til', 'time', 'timeout', 'times', 'timidly', 'tin', 'tinge', 'tingle', 'tinkling', 'tinned', 'tiny', 'tipped', 'tips', 'tiptoe', 'tiptoed', 'tired', 'title', 'titles', 'to', 'toad', 'toadless', 'toads', 'toast', 'toasting', 'today', 'toe', 'toffee', 'together', 'toil', 'toilet', 'toilets', 'tokens', 'told', 'tom', 'tomatoes', 'tomorrow', 'tone', 'tongue', 'tonight', 'too', 'took', 'toothless', 'top', 'topmost', 'toppled', 'torches', 'tore', 'torn', 'tortoise', 'torture', 'tosh', 'totalus', 'tottered', 'tottering', 'touch', 'touched', 'touches', 'touching', 'tourists', 'toward', 'tower', 'towered', 'towering', 'towers', 'town', 'towns', 'toys', 'track', 'tracks', 'traffic', 'trail', 'trailed', 'trailing', 'train', 'trained', 'training', 'trains', 'trances', 'transfer', 'transfiguration', 'transfigured', 'transfixed', 'transform', 'transparent', 'transport', 'trapdoor', 'trapped', 'trash', 'traveled', 'treacle', 'treasure', 'treat', 'treated', 'treating', 'treble', 'tree', 'trees', 'tremble', 'trembled', 'tremblin', 'trembling', 'trevor', 'trials', 'trick', 'tricked', 'trickling', 'tricks', 'tricky', 'tried', 'tries', 'trifle', 'trimble', 'trip', 'tripe', 'tripped', 'tripping', 'triumph', 'triumphant', 'triumphs', 'trodden', 'troduced', 'troll', 'trolley', 'trolls', 'troops', 'trophy', 'trot', 'trotting', 'trouble', 'troublesome', 'trousers', 'trowels', 'trudged', 'true', 'truly', 'trunk', 'trunks', 'trust', 'trusted', 'trusting', 'truth', 'truthful', 'try', 'tryin', 'trying', 'ttell', 'ttto', 'tub', 'tuck', 'tucked', 'tuesday', 'tuft', 'tufts', 'tufty', 'tugged', 'tugging', 'tulips', 'tumbled', 'tumbling', 'tune', 'tunnel', 'tunnels', 'turban', 'tureens', 'turkey', 'turkeys', 'turn', 'turned', 'turnin', 'turning', 'turnips', 'turns', 'turpin', 'turrets', 'tut', 'twanging', 'tweak', 'twelve', 'twelvefoot', 'twentieth', 'twenty', 'twentyfour', 'twentynine', 'twentyone', 'twentysix', 'twice', 'twig', 'twigs', 'twin', 'twinkled', 'twinkling', 'twins', 'twist', 'twisted', 'twisting', 'twitched', 'twitching', 'two', 'twos', 'tying', 'tyke', 'type', 'types', 'typical', 'ube', 'ugly', 'um', 'umbrella', 'unable', 'unafraid', 'unbearable', 'unbelievable', 'unblinkingly', 'unbroken', 'uncertainly', 'uncle', 'uncles', 'uncoiling', 'uncomfortable', 'under', 'underground', 'undergrowth', 'underneath', 'understand', 'understood', 'undred', 'undursleyish', 'uneasy', 'unexpected', 'unfair', 'unfolded', 'unfolding', 'unfortunate', 'unfortunately', 'unicorn', 'unicorns', 'uniform', 'unknown', 'unless', 'unlike', 'unlocked', 'unluckily', 'unpleasant', 'unpopular', 'unraveled', 'unseated', 'unseen', 'unsettled', 'unsticking', 'untidy', 'until', 'untouched', 'unused', 'unusual', 'unusually', 'unwelcome', 'unwrap', 'unwrapped', 'unwrapping', 'up', 'upf', 'upon', 'upper', 'upright', 'uprising', 'uproar', 'upset', 'upside', 'upstairs', 'upturned', 'upward', 'urged', 'urgent', 'urgently', 'urgh', 'uric', 'us', 'use', 'used', 'useful', 'useless', 'uses', 'ushered', 'using', 'usual', 'usually', 'utter', 'vacation', 'vacationing', 'vacuum', 'vain', 'valuable', 'value', 'vampire', 'vampires', 'van', 'vanish', 'vanished', 'vanishing', 'vapor', 'vast', 'vault', 'vaults', 'vcr', 've', 'veins', 'velvet', 'velvety', 'vernon', 'vernons', 'versus', 'very', 'vibrate', 'vibrating', 'vicious', 'victims', 'victory', 'video', 'view', 'viewers', 'vigorously', 'village', 'vindictus', 'violent', 'violently', 'violet', 'viridian', 'visible', 'vision', 'visit', 'visited', 'visiting', 'visitor', 'visitors', 'voice', 'voices', 'voicing', 'vol', 'voldemort', 'voldemorts', 'volume', 'vomitflavored', 'waddling', 'waffle', 'waffling', 'wafting', 'waggled', 'wailed', 'waist', 'wait', 'waited', 'waitin', 'waiting', 'wake', 'wakes', 'waking', 'walk', 'walked', 'walking', 'wall', 'walled', 'walls', 'walnut', 'wand', 'wander', 'wandered', 'wandering', 'wanderings', 'wands', 'wandwaving', 'want', 'wanted', 'wantin', 'wanting', 'wants', 'ward', 'wardrobes', 'warlock', 'warlocks', 'warm', 'warmer', 'warmth', 'warn', 'warned', 'warning', 'warty', 'was', 'wash', 'wasn', 'wasnt', 'waste', 'wasted', 'wastepaper', 'wasters', 'watch', 'watched', 'watchin', 'watching', 'water', 'watered', 'watering', 'watery', 'wave', 'waved', 'waves', 'waving', 'wax', 'way', 'ways', 'we', 'weak', 'weakly', 'weapon', 'wear', 'wearing', 'wears', 'weasley', 'weasleys', 'weather', 'weatherman', 'weathers', 'weave', 'weaving', 'wed', 'wednesday', 'wee', 'weeds', 'week', 'weekly', 'weeks', 'weigh', 'weighed', 'weighing', 'weight', 'weird', 'weirdest', 'weirdos', 'welcome', 'well', 'wellknown', 'wellorganized', 'welsh', 'went', 'were', 'werent', 'werewolf', 'werewolves', 'west', 'wet', 'weve', 'whacked', 'wham', 'whap', 'what', 'whatever', 'whatre', 'whats', 'whatshername', 'whatve', 'wheedled', 'wheel', 'wheeled', 'wheeling', 'wheezed', 'wheezing', 'whelk', 'when', 'whenever', 'whens', 'where', 'wherere', 'wheres', 'wherever', 'whether', 'which', 'whichever', 'while', 'whimper', 'whimpered', 'whimpering', 'whined', 'whinging', 'whipped', 'whippy', 'whirl', 'whirled', 'whisk', 'whisked', 'whiskers', 'whiskery', 'whisper', 'whispered', 'whisperers', 'whispering', 'whispers', 'whistle', 'whistled', 'whistling', 'white', 'whiteblond', 'whitefaced', 'whittled', 'whizzing', 'who', 'whod', 'whoever', 'whole', 'whom', 'whomustnotbenamed', 'whoop', 'whooped', 'whooshing', 'whos', 'whose', 'whove', 'why', 'whyd', 'whys', 'wicked', 'wickedly', 'wide', 'wideawake', 'wideeyed', 'widely', 'widemouthed', 'wider', 'wife', 'wig', 'wight', 'wild', 'wilder', 'wilderlooking', 'wildlooking', 'wildly', 'will', 'willing', 'willow', 'win', 'wind', 'winding', 'windmill', 'window', 'windows', 'windowsill', 'winds', 'wine', 'wines', 'wing', 'wingardium', 'winged', 'winggardium', 'wings', 'winked', 'winning', 'wins', 'winter', 'wipe', 'wiped', 'wiping', 'wise', 'wish', 'wished', 'wishing', 'wit', 'witch', 'witchcraft', 'witches', 'with', 'within', 'without', 'wizard', 'wizardin', 'wizarding', 'wizardry', 'wizards', 'wizened', 'wohsi', 'woke', 'woken', 'wolfing', 'wolfsbane', 'woman', 'women', 'won', 'wonder', 'wondered', 'wonderful', 'wondering', 'wont', 'wood', 'woodcroft', 'wooden', 'woods', 'woolen', 'word', 'words', 'wore', 'work', 'worked', 'working', 'works', 'world', 'worlds', 'wormwood', 'worried', 'worry', 'worrying', 'worse', 'worst', 'worth', 'would', 'wouldn', 'wouldnt', 'woulnt', 'wound', 'wounded', 'woven', 'wow', 'wrapped', 'wrenched', 'wrestle', 'wrestled', 'wrestling', 'wriggled', 'wriggles', 'wriggling', 'wringing', 'wrinkled', 'wrist', 'wrists', 'wristwatch', 'wristwatches', 'write', 'writer', 'writing', 'written', 'wrong', 'wrongly', 'wrote', 'wroughtiron', 'y', 'yard', 'yawned', 'yawning', 'ye', 'yeah', 'year', 'years', 'yeh', 'yehd', 'yehll', 'yehve', 'yell', 'yelled', 'yelling', 'yellow', 'yellowish', 'yells', 'yelp', 'yelps', 'yer', 'yerself', 'yerselves', 'yes', 'yesterday', 'yet', 'yew', 'yorkshire', 'you', 'youd', 'youknow', 'youknowwhat', 'youknowwho', 'youknowwhos', 'youll', 'young', 'younger', 'youngest', 'youngsters', 'your', 'youre', 'yours', 'yourself', 'yourselves', 'youth', 'youve', 'yvonne', 'zabini', 'zigzagging', 'zombie', 'zoo', 'zoom', 'zoomed', 'zooming']\n"
          ]
        }
      ],
      "source": [
        "# this will make error\n",
        "# vocab_set[0] # set is not subscriptable because it has no order\n",
        "\n",
        "vocab = list(vocab_set) # converting set into list, so that we can order the items\n",
        "# sort the liset\n",
        "vocab = sorted(vocab)\n",
        "# vocab.sort()\n",
        "print(vocab)\n"
      ]
    },
    {
      "cell_type": "code",
      "execution_count": 12,
      "metadata": {
        "colab": {
          "base_uri": "https://localhost:8080/"
        },
        "id": "wOkBSjrkmNE4",
        "outputId": "a225ace4-33a9-4f25-c0f1-a1b3f7269bd3"
      },
      "outputs": [
        {
          "output_type": "stream",
          "name": "stdout",
          "text": [
            "1701\n"
          ]
        }
      ],
      "source": [
        "# how can we filter the vocab by its frequency?\n",
        "from collections import Counter\n",
        "word_counter = Counter(total_words)\n",
        "# word_counter['hundreds']\n",
        "len(word_counter)\n",
        "\n",
        "# you can use word counter as dictionary\n",
        "# In python dictionary, dict.keys() gives keys, and dict.values() give values,\n",
        "# dict.items() give (key, value)\n",
        "filtered_vocab = []\n",
        "minimum_occur = 5\n",
        "for key, value in word_counter.items():\n",
        "  if value >= minimum_occur:\n",
        "    filtered_vocab.append(key)\n",
        "print(len(filtered_vocab))\n",
        "filtered_vocab.sort() # you must not declare filtered_vocab = filtered_vocab.sort()"
      ]
    },
    {
      "cell_type": "code",
      "execution_count": 13,
      "metadata": {
        "id": "_OQ3xsHFoheU",
        "outputId": "8b8b96a2-d01d-432f-fc0d-c896cd8b8219",
        "colab": {
          "base_uri": "https://localhost:8080/"
        }
      },
      "outputs": [
        {
          "output_type": "stream",
          "name": "stdout",
          "text": [
            "['a', 'able', 'abou', 'about', 'above', 'across', 'added', 'adventure', 'afford', 'afraid', 'after', 'afternoon', 'again', 'against', 'age', 'ages', 'ago', 'agreed', 'ah', 'ahead', 'air', 'albus', 'alive', 'all', 'alley', 'allowed', 'almost', 'alone', 'along', 'already', 'also', 'although', 'always', 'am', 'an', 'and', 'angrily', 'angry', 'animals', 'another', 'answer', 'anxiously', 'any', 'anymore', 'anyone', 'anythin', 'anything', 'anyway', 'anywhere', 'apart', 'appeared', 'archway', 'are', 'arent', 'arm', 'armor', 'arms', 'around', 'arrived', 'arts', 'as', 'ask', 'asked', 'asking', 'asleep', 'at', 'attention', 'aunt', 'awake', 'away', 'baby', 'back', 'backward', 'bacon', 'bad', 'badly', 'bag', 'bald', 'ball', 'balls', 'bane', 'barely', 'barked', 'baron', 'barrier', 'bathroom', 'be', 'beaming', 'beans', 'bear', 'beard', 'became', 'because', 'become', 'becoming', 'bed', 'bedroom', 'been', 'before', 'began', 'behind', 'being', 'believe', 'believed', 'bell', 'bellowed', 'below', 'beneath', 'bent', 'best', 'bet', 'better', 'between', 'bewitched', 'big', 'bike', 'bill', 'bin', 'binoculars', 'birds', 'birthday', 'bit', 'bits', 'black', 'blankets', 'blew', 'blimey', 'blinked', 'blood', 'bloody', 'blown', 'bludger', 'bludgers', 'blue', 'boa', 'board', 'boat', 'boats', 'body', 'book', 'books', 'boots', 'both', 'bottle', 'bottles', 'bottom', 'bought', 'bowed', 'box', 'boy', 'boys', 'branches', 'brass', 'brave', 'break', 'breakfast', 'breaking', 'breath', 'breathe', 'breathing', 'bright', 'brilliant', 'bring', 'bringing', 'broke', 'broken', 'bronze', 'broom', 'brooms', 'broomstick', 'broomsticks', 'brother', 'brothers', 'brought', 'brown', 'bundle', 'burst', 'business', 'busy', 'but', 'buy', 'by', 'cake', 'cakes', 'call', 'called', 'calm', 'came', 'can', 'cant', 'captain', 'car', 'card', 'cards', 'care', 'careful', 'carefully', 'carried', 'carry', 'carrying', 'cart', 'case', 'castle', 'cat', 'catch', 'cats', 'caught', 'cauldron', 'cause', 'ceiling', 'celebrating', 'centaur', 'centaurs', 'certainly', 'chair', 'chamber', 'chance', 'change', 'changed', 'chapter', 'charlie', 'charlies', 'charms', 'chaser', 'chasers', 'cheer', 'cheering', 'cheers', 'chess', 'chessmen', 'chest', 'chocolate', 'christmas', 'chuckled', 'clambered', 'clapped', 'clapping', 'class', 'classes', 'classroom', 'clean', 'clear', 'cleared', 'clearing', 'clearly', 'clicked', 'climbed', 'cloak', 'cloaks', 'close', 'closed', 'closer', 'clothes', 'club', 'clutching', 'coat', 'coins', 'cold', 'collapsed', 'come', 'coming', 'common', 'compartment', 'complain', 'complained', 'completely', 'computer', 'contact', 'control', 'corner', 'corridor', 'corridors', 'could', 'couldnt', 'couple', 'courage', 'course', 'covered', 'crabbe', 'crack', 'crash', 'crate', 'crept', 'cried', 'cross', 'crossbow', 'crossed', 'crowd', 'cry', 'crying', 'cup', 'cupboard', 'curious', 'curiously', 'curse', 'cut', 'dad', 'damp', 'dangerous', 'dare', 'dark', 'darkly', 'darkness', 'day', 'daylight', 'days', 'dead', 'dean', 'dear', 'death', 'decided', 'deep', 'delighted', 'desk', 'desperate', 'detention', 'devils', 'diagon', 'did', 'didnt', 'die', 'died', 'difference', 'different', 'difficult', 'dinner', 'direction', 'disappeared', 'dive', 'dived', 'do', 'does', 'doesnt', 'dog', 'dogs', 'doing', 'don', 'done', 'dont', 'door', 'doors', 'doorway', 'dormitory', 'down', 'draco', 'dragged', 'dragon', 'dragons', 'dream', 'dressed', 'drew', 'drills', 'drink', 'drive', 'drop', 'dropped', 'drove', 'dudley', 'dudleys', 'dumbledore', 'dumbledores', 'dungeons', 'dunno', 'during', 'dursley', 'dursleys', 'dyou', 'each', 'eagerly', 'ear', 'ears', 'earth', 'easily', 'easy', 'eat', 'eating', 'edge', 'egg', 'eggs', 'eh', 'eight', 'either', 'eleven', 'elixir', 'else', 'em', 'empty', 'enchantments', 'end', 'enormous', 'enough', 'entered', 'entrance', 'envelope', 'er', 'erised', 'even', 'evening', 'ever', 'every', 'everybody', 'everyone', 'everything', 'everywhere', 'evil', 'exactly', 'exam', 'exams', 'excellent', 'except', 'excitedly', 'excitement', 'excuse', 'expect', 'expected', 'expelled', 'explain', 'explained', 'exploded', 'extra', 'eye', 'eyes', 'face', 'faces', 'facing', 'fact', 'faded', 'faint', 'fall', 'fallen', 'families', 'family', 'famous', 'fang', 'fangs', 'far', 'fast', 'faster', 'fat', 'father', 'fathers', 'favorite', 'fear', 'feast', 'feather', 'feathers', 'feel', 'feeling', 'feet', 'fell', 'felt', 'fer', 'few', 'field', 'fifty', 'figg', 'fight', 'fighting', 'figure', 'filch', 'filchs', 'filled', 'finally', 'find', 'finding', 'fine', 'fingers', 'finished', 'finnigan', 'fire', 'firenze', 'firs', 'first', 'five', 'fixed', 'flamel', 'flames', 'flash', 'flat', 'flavor', 'flew', 'flint', 'flitwick', 'floating', 'floor', 'fluffy', 'flute', 'fly', 'flying', 'follow', 'followed', 'following', 'food', 'fool', 'foot', 'footsteps', 'for', 'forbidden', 'force', 'forced', 'forehead', 'forest', 'forever', 'forget', 'forgive', 'forgotten', 'forward', 'found', 'four', 'fred', 'free', 'friend', 'friendly', 'friends', 'frightened', 'frog', 'frogs', 'from', 'front', 'full', 'fun', 'funny', 'furious', 'furiously', 'game', 'gamekeeper', 'gang', 'garden', 'gasped', 'gave', 'gently', 'george', 'get', 'gets', 'gettin', 'getting', 'ghost', 'ghosts', 'giant', 'ginny', 'girl', 'girls', 'give', 'given', 'giving', 'glad', 'glass', 'glasses', 'glittering', 'go', 'goal', 'goblin', 'goblins', 'goes', 'going', 'gold', 'golden', 'gone', 'good', 'goodbye', 'got', 'gotta', 'gotten', 'goyle', 'grab', 'grabbed', 'gran', 'granger', 'grass', 'gray', 'great', 'greatest', 'green', 'grew', 'grin', 'gringotts', 'grinned', 'griphook', 'groaned', 'ground', 'grounds', 'growled', 'grunted', 'gryffindor', 'gryffindors', 'guard', 'guarding', 'h', 'had', 'hadnt', 'hagrid', 'hagrids', 'hair', 'half', 'halfway', 'hall', 'halloween', 'halt', 'hand', 'handed', 'handkerchief', 'handle', 'hands', 'hang', 'hanging', 'happen', 'happened', 'happens', 'happily', 'happy', 'hard', 'harder', 'hardly', 'harry', 'harrys', 'has', 'hasnt', 'hat', 'hate', 'hated', 'have', 'havent', 'having', 'he', 'head', 'headless', 'heads', 'hear', 'heard', 'heart', 'heavy', 'hed', 'hedwig', 'held', 'hell', 'help', 'helped', 'her', 'herbology', 'here', 'hermione', 'hermiones', 'herself', 'hes', 'hey', 'hidden', 'hide', 'hiding', 'high', 'higher', 'him', 'himself', 'his', 'hissed', 'history', 'hit', 'hogwarts', 'hold', 'holding', 'hole', 'holidays', 'home', 'homework', 'honestly', 'hooch', 'hoops', 'hope', 'hoping', 'horrible', 'horror', 'hospital', 'hot', 'hour', 'hours', 'house', 'houses', 'how', 'however', 'howling', 'hufflepuff', 'huge', 'human', 'hundred', 'hundreds', 'hung', 'hungry', 'hurried', 'hurry', 'hurrying', 'hurt', 'hurtled', 'hut', 'i', 'ice', 'ickle', 'id', 'idea', 'if', 'ignored', 'ill', 'im', 'imagine', 'imagining', 'important', 'impressed', 'in', 'inches', 'indeed', 'inside', 'instead', 'interested', 'interesting', 'into', 'invisibility', 'invisible', 'involved', 'is', 'isnt', 'it', 'itll', 'its', 'itself', 'ive', 'james', 'jerked', 'job', 'join', 'joined', 'joke', 'joking', 'jordan', 'jump', 'jumped', 'jus', 'just', 'keep', 'keeper', 'keeping', 'kept', 'key', 'keys', 'kicked', 'kid', 'kill', 'killed', 'kind', 'kings', 'kitchen', 'knees', 'knew', 'knight', 'knock', 'knocked', 'knocking', 'know', 'knowing', 'known', 'knows', 'knuts', 'lady', 'lake', 'lamp', 'landed', 'large', 'last', 'late', 'later', 'laugh', 'laughed', 'laughing', 'laughter', 'lay', 'lead', 'leading', 'leaky', 'leaned', 'leaning', 'leapt', 'learn', 'learned', 'least', 'leave', 'leaves', 'leaving', 'led', 'lee', 'left', 'leg', 'legs', 'lemon', 'less', 'lesson', 'lessons', 'let', 'lets', 'letter', 'letters', 'library', 'lie', 'lies', 'life', 'light', 'lightning', 'lights', 'like', 'liked', 'lily', 'line', 'lines', 'lips', 'list', 'listen', 'listening', 'lit', 'little', 'live', 'lived', 'living', 'loads', 'lock', 'locked', 'locker', 'london', 'long', 'longbottom', 'look', 'looked', 'looking', 'looks', 'lose', 'losing', 'lost', 'lot', 'lots', 'loud', 'loudly', 'low', 'lower', 'luck', 'lucky', 'lumpy', 'lurking', 'lying', 'mad', 'madam', 'made', 'magic', 'magical', 'mail', 'make', 'making', 'malfoy', 'malfoys', 'man', 'managed', 'many', 'marble', 'marched', 'marcus', 'mark', 'mars', 'master', 'match', 'matter', 'may', 'maybe', 'mcgonagall', 'mcgonagalls', 'me', 'mean', 'means', 'meant', 'meanwhile', 'meet', 'meeting', 'mention', 'met', 'midair', 'middle', 'midnight', 'might', 'miles', 'mind', 'minds', 'mine', 'ministry', 'minute', 'minutes', 'mirror', 'miserably', 'miss', 'mistake', 'moaned', 'mom', 'moment', 'money', 'mood', 'moon', 'moonlight', 'more', 'morning', 'most', 'mother', 'mothers', 'motorcycle', 'mountain', 'mouth', 'move', 'moved', 'moving', 'mr', 'mrs', 'much', 'muggle', 'muggles', 'mum', 'mumbled', 'murmured', 'music', 'must', 'mustache', 'mustve', 'muttered', 'muttering', 'my', 'myself', 'mysterious', 'nah', 'name', 'names', 'narrow', 'nasty', 'near', 'nearer', 'nearest', 'nearly', 'neat', 'neck', 'need', 'needed', 'needs', 'neither', 'nerve', 'nervous', 'nervously', 'never', 'neville', 'nevilles', 'new', 'news', 'newspaper', 'next', 'nice', 'nicolas', 'night', 'nimbus', 'nine', 'no', 'nobody', 'nodded', 'noise', 'none', 'nor', 'norbert', 'normal', 'norris', 'nose', 'noses', 'nostrils', 'not', 'note', 'notes', 'nothin', 'nothing', 'notice', 'noticed', 'noticing', 'now', 'number', 'o', 'oak', 'obviously', 'oclock', 'odd', 'of', 'off', 'office', 'often', 'oh', 'okay', 'old', 'older', 'ollivander', 'on', 'once', 'one', 'ones', 'only', 'onto', 'open', 'opened', 'opinion', 'opposite', 'or', 'ordinary', 'other', 'others', 'our', 'out', 'outside', 'outta', 'over', 'overhead', 'owl', 'owls', 'own', 'pack', 'package', 'packed', 'pain', 'pair', 'pale', 'panic', 'panted', 'paper', 'parcel', 'parchment', 'parents', 'particularly', 'passageway', 'passed', 'passing', 'past', 'path', 'patil', 'pay', 'peered', 'peering', 'peeves', 'people', 'peoples', 'percy', 'perfect', 'perfectly', 'perhaps', 'person', 'petunia', 'photographs', 'picked', 'piece', 'pieces', 'piers', 'pig', 'pile', 'piled', 'pink', 'pinned', 'place', 'planets', 'plant', 'plastic', 'plates', 'platform', 'platforms', 'play', 'players', 'playing', 'please', 'pleased', 'pocket', 'pockets', 'point', 'pointed', 'pointing', 'points', 'pomfrey', 'poor', 'pop', 'portrait', 'possession', 'possible', 'possibly', 'posts', 'potion', 'potions', 'potter', 'potters', 'power', 'powerful', 'practice', 'prefect', 'prefects', 'present', 'presents', 'pressed', 'pretending', 'pretty', 'privet', 'probably', 'professor', 'proper', 'properly', 'proud', 'pull', 'pulled', 'pulling', 'purple', 'purpose', 'pushed', 'put', 'putting', 'quaffle', 'question', 'questions', 'quick', 'quickly', 'quidditch', 'quiet', 'quietly', 'quills', 'quirrell', 'quirrells', 'quite', 'racing', 'raised', 'ran', 'rang', 'rat', 'rather', 'ravenclaw', 'reached', 'read', 'reading', 'ready', 'real', 'realize', 'realized', 'really', 'reason', 'reckon', 'red', 'reflection', 'relief', 'relieved', 'remember', 'remembered', 'remembrall', 'reminded', 'repeated', 'rest', 'restricted', 'return', 'rid', 'right', 'road', 'roast', 'rob', 'robes', 'rock', 'roll', 'rolled', 'romania', 'ron', 'ronan', 'rons', 'room', 'ropes', 'rose', 'round', 'row', 'rubbish', 'rule', 'rules', 'run', 'running', 'rushed', 'safe', 'safely', 'said', 'same', 'sandwiches', 'sank', 'sat', 'saturday', 'sausages', 'save', 'saved', 'saw', 'say', 'saying', 'says', 'scabbers', 'scar', 'scared', 'scarlet', 'school', 'score', 'scrambled', 'screamed', 'sea', 'seamus', 'seat', 'seats', 'second', 'seconds', 'secret', 'section', 'see', 'seeker', 'seem', 'seemed', 'seems', 'seen', 'seized', 'send', 'sent', 'set', 'seven', 'several', 'severus', 'shadows', 'shake', 'shaking', 'shall', 'share', 'sharp', 'sharply', 'she', 'shed', 'sheets', 'shelves', 'shes', 'shivered', 'shock', 'shocked', 'shook', 'shooting', 'shop', 'shops', 'short', 'shot', 'should', 'shoulder', 'shoulders', 'shouldnt', 'shouted', 'show', 'showed', 'showing', 'shows', 'shrieked', 'shut', 'sick', 'side', 'sighed', 'sight', 'sign', 'silence', 'silent', 'silently', 'silver', 'simply', 'since', 'single', 'sir', 'sister', 'sit', 'sitting', 'six', 'size', 'skin', 'sky', 'slammed', 'sleep', 'slid', 'slightly', 'slipped', 'slithering', 'slowly', 'slytherin', 'slytherins', 'small', 'smell', 'smelting', 'smile', 'smiled', 'smiling', 'smoke', 'snake', 'snape', 'snapes', 'snapped', 'snare', 'snarled', 'snitch', 'snout', 'snowy', 'so', 'soccer', 'socks', 'sofa', 'soft', 'solid', 'some', 'somehow', 'someone', 'somethin', 'something', 'sometimes', 'somewhere', 'son', 'soon', 'sorcerers', 'sorry', 'sort', 'sorting', 'sound', 'sounded', 'sounding', 'sparks', 'speak', 'speaking', 'special', 'sped', 'speed', 'speeding', 'spell', 'spells', 'spent', 'split', 'spoke', 'spot', 'spotted', 'sprang', 'sprinted', 'squinting', 'staircase', 'stairs', 'stand', 'standing', 'stands', 'stare', 'stared', 'staring', 'stars', 'start', 'started', 'starting', 'station', 'stay', 'stayed', 'steal', 'step', 'stepped', 'steps', 'stick', 'sticks', 'still', 'stomach', 'stone', 'stones', 'stood', 'stool', 'stop', 'stopped', 'storm', 'story', 'straight', 'strange', 'strangely', 'stranger', 'street', 'stretched', 'strode', 'struck', 'stuck', 'students', 'study', 'studying', 'stuff', 'stunned', 'stupid', 'such', 'sudden', 'suddenly', 'suggested', 'summat', 'summer', 'sun', 'suppose', 'supposed', 'sure', 'surprise', 'surprised', 'swallowed', 'sweater', 'sweets', 'swooped', 'swung', 'table', 'tables', 'tail', 'take', 'taken', 'taking', 'talk', 'talking', 'tall', 'tap', 'tapped', 'tea', 'teach', 'teacher', 'teachers', 'team', 'teams', 'tears', 'teeth', 'telephone', 'television', 'tell', 'telling', 'ten', 'ter', 'term', 'terrible', 'terrified', 'than', 'thank', 'thanks', 'that', 'thats', 'the', 'their', 'them', 'themselves', 'then', 'there', 'theres', 'these', 'they', 'theyd', 'theyll', 'theyre', 'theyve', 'thick', 'thin', 'thing', 'things', 'think', 'thinking', 'thinks', 'third', 'thirteen', 'thirty', 'this', 'those', 'though', 'thought', 'thousand', 'thousands', 'three', 'threeheaded', 'threequarters', 'threw', 'throat', 'through', 'throw', 'throwing', 'thrown', 'ticket', 'tight', 'tightly', 'time', 'times', 'tiny', 'tired', 'to', 'toad', 'today', 'together', 'toilet', 'told', 'tomorrow', 'tonight', 'too', 'took', 'top', 'touch', 'touched', 'toward', 'tower', 'towering', 'town', 'train', 'training', 'transfiguration', 'trapdoor', 'trash', 'tree', 'trees', 'trembling', 'tried', 'troll', 'trolls', 'trophy', 'trouble', 'true', 'trunk', 'trust', 'truth', 'try', 'trying', 'turban', 'turn', 'turned', 'turning', 'tut', 'twelve', 'twenty', 'twice', 'twin', 'twins', 'twisted', 'twitched', 'two', 'umbrella', 'uncle', 'under', 'underground', 'underneath', 'understand', 'unicorn', 'uniform', 'unless', 'until', 'unusual', 'unwrapped', 'up', 'upset', 'upstairs', 'us', 'use', 'used', 'useful', 'usual', 'usually', 'vanished', 'vault', 'vernon', 'vernons', 'very', 'view', 'visit', 'voice', 'voices', 'vol', 'voldemort', 'voldemorts', 'wait', 'waited', 'waiting', 'wake', 'walk', 'walked', 'walking', 'wall', 'walls', 'wand', 'wandering', 'wands', 'want', 'wanted', 'wanting', 'wants', 'warm', 'warmth', 'warned', 'warning', 'was', 'wasnt', 'watch', 'watched', 'watching', 'water', 'waved', 'waving', 'way', 'ways', 'we', 'weak', 'wearing', 'weasley', 'weasleys', 'wed', 'week', 'weeks', 'welcome', 'well', 'went', 'were', 'werent', 'werewolf', 'weve', 'what', 'whatever', 'whats', 'when', 'where', 'wheres', 'wherever', 'whether', 'which', 'while', 'whisper', 'whispered', 'whistle', 'white', 'who', 'whod', 'whole', 'whos', 'why', 'wide', 'wild', 'will', 'win', 'wind', 'window', 'windows', 'wing', 'wings', 'winked', 'winning', 'wiping', 'wish', 'wished', 'witch', 'witchcraft', 'witches', 'with', 'without', 'wizard', 'wizarding', 'wizardry', 'wizards', 'woke', 'woman', 'won', 'wonder', 'wondered', 'wonderful', 'wondering', 'wont', 'wood', 'wooden', 'woods', 'word', 'words', 'wore', 'work', 'worked', 'working', 'world', 'worried', 'worry', 'worse', 'worst', 'worth', 'would', 'wouldnt', 'wrapped', 'wrist', 'written', 'wrong', 'yeah', 'year', 'years', 'yeh', 'yehll', 'yehve', 'yell', 'yelled', 'yellow', 'yer', 'yes', 'yesterday', 'yet', 'you', 'youd', 'youknowwho', 'youll', 'young', 'youngest', 'your', 'youre', 'yours', 'yourself', 'yourselves', 'youve', 'zoo']\n"
          ]
        }
      ],
      "source": [
        "print(filtered_vocab)"
      ]
    },
    {
      "cell_type": "code",
      "execution_count": 14,
      "metadata": {
        "colab": {
          "base_uri": "https://localhost:8080/"
        },
        "id": "XUS6U7y7opUp",
        "outputId": "4bfb38da-c8ee-442d-d0bc-0948f3c25b69"
      },
      "outputs": [
        {
          "output_type": "stream",
          "name": "stderr",
          "text": [
            "100%|██████████| 282372/282372 [00:09<00:00, 28612.01it/s]\n"
          ]
        }
      ],
      "source": [
        "# Filter the word_pairs using the vocab\n",
        "# word_pairs, filtered_vocab\n",
        "# word_pairs is a list of [word_a, word_b]\n",
        "\n",
        "filtered_pairs = []\n",
        "for pair in tqdm(word_pairs):\n",
        "  word_a, word_b = pair\n",
        "  # word_a = pair[0]\n",
        "  # word_b = pair[1]\n",
        "  # we will include this pair only if both words are in the vocab\n",
        "  if word_a in filtered_vocab and word_b in filtered_vocab:\n",
        "    filtered_pairs.append(pair)\n",
        "\n"
      ]
    },
    {
      "cell_type": "code",
      "execution_count": 15,
      "metadata": {
        "id": "U-o4UucOrcem"
      },
      "outputs": [],
      "source": [
        "# implement same algorithm with list comprehension\n",
        "filtered_pairs = [pair for pair in word_pairs\n",
        "                  if pair[0] in filtered_vocab and pair[1] in filtered_vocab]"
      ]
    },
    {
      "cell_type": "code",
      "execution_count": 16,
      "metadata": {
        "colab": {
          "base_uri": "https://localhost:8080/"
        },
        "id": "Uz_8ch59ps_P",
        "outputId": "243b6ea4-ed8a-4bdb-c22f-7851b9d3592f"
      },
      "outputs": [
        {
          "output_type": "execute_result",
          "data": {
            "text/plain": [
              "(233046, 282372)"
            ]
          },
          "metadata": {},
          "execution_count": 16
        }
      ],
      "source": [
        "len(filtered_pairs), len(word_pairs)"
      ]
    },
    {
      "cell_type": "code",
      "execution_count": 17,
      "metadata": {
        "colab": {
          "base_uri": "https://localhost:8080/"
        },
        "id": "rmTMaftiqnsA",
        "outputId": "134a1fa0-74d8-4b44-a1c3-ffc0dc7777bf"
      },
      "outputs": [
        {
          "output_type": "execute_result",
          "data": {
            "text/plain": [
              "['happily', 'she']"
            ]
          },
          "metadata": {},
          "execution_count": 17
        }
      ],
      "source": [
        "filtered_pairs[1000]"
      ]
    },
    {
      "cell_type": "code",
      "execution_count": 18,
      "metadata": {
        "colab": {
          "base_uri": "https://localhost:8080/"
        },
        "id": "VFJfhOznqyi-",
        "outputId": "cd522499-8e53-4d2e-e2f1-9243329fdf2e"
      },
      "outputs": [
        {
          "output_type": "stream",
          "name": "stderr",
          "text": [
            "100%|██████████| 233046/233046 [00:07<00:00, 32927.68it/s]\n"
          ]
        },
        {
          "output_type": "execute_result",
          "data": {
            "text/plain": [
              "233046"
            ]
          },
          "metadata": {},
          "execution_count": 18
        }
      ],
      "source": [
        "# convert word into index of vocab\n",
        "filtered_vocab.index('happily')\n",
        "\n",
        "index_pairs = []\n",
        "for word_a, word_b in tqdm(filtered_pairs):\n",
        "  word_a_idx = filtered_vocab.index(word_a)\n",
        "  word_b_idx = filtered_vocab.index(word_b)\n",
        "  index_pairs.append([word_a_idx, word_b_idx])\n",
        "len(index_pairs)"
      ]
    },
    {
      "cell_type": "code",
      "execution_count": 19,
      "metadata": {
        "colab": {
          "base_uri": "https://localhost:8080/",
          "height": 36
        },
        "id": "xDCmtRjgtXAc",
        "outputId": "d6b4caad-6a21-4331-f0f2-fb6a611d882d"
      },
      "outputs": [
        {
          "output_type": "execute_result",
          "data": {
            "text/plain": [
              "'behind'"
            ],
            "application/vnd.google.colaboratory.intrinsic+json": {
              "type": "string"
            }
          },
          "metadata": {},
          "execution_count": 19
        }
      ],
      "source": [
        "filtered_vocab[100]"
      ]
    },
    {
      "cell_type": "code",
      "execution_count": 20,
      "metadata": {
        "colab": {
          "base_uri": "https://localhost:8080/"
        },
        "id": "2D8n16VitIHP",
        "outputId": "a7a9e5f2-78b0-417c-c498-896da2ca315c"
      },
      "outputs": [
        {
          "output_type": "execute_result",
          "data": {
            "text/plain": [
              "613"
            ]
          },
          "metadata": {},
          "execution_count": 20
        }
      ],
      "source": [
        "# we can make it faster\n",
        "# use dictionary to find the index of string\n",
        "\n",
        "# adict['behind'] = 100\n",
        "# tok2idx = {}\n",
        "# for idx, word in enumerate(filtered_vocab):\n",
        "#   tok2idx[word] = idx # word becomes key, idx becomes value\n",
        "\n",
        "tok2idx = {word: idx for idx, word in enumerate(filtered_vocab)}\n",
        "\n",
        "tok2idx['harry']"
      ]
    },
    {
      "cell_type": "code",
      "execution_count": 21,
      "metadata": {
        "colab": {
          "base_uri": "https://localhost:8080/"
        },
        "id": "utXemuOgt8-o",
        "outputId": "36b06d82-c57f-435b-c868-9c23f090aee9"
      },
      "outputs": [
        {
          "output_type": "stream",
          "name": "stderr",
          "text": [
            "100%|██████████| 233046/233046 [00:00<00:00, 534948.12it/s]\n"
          ]
        }
      ],
      "source": [
        "index_pairs = []\n",
        "for word_a, word_b in tqdm(filtered_pairs):\n",
        "  word_a_idx = tok2idx[word_a]\n",
        "  word_b_idx = tok2idx[word_b]\n",
        "  index_pairs.append([word_a_idx, word_b_idx])\n"
      ]
    },
    {
      "cell_type": "code",
      "execution_count": 22,
      "metadata": {
        "colab": {
          "base_uri": "https://localhost:8080/"
        },
        "id": "KgQ_oSNGuZAd",
        "outputId": "afcaa35c-253a-4422-8185-e65c1df9fea3"
      },
      "outputs": [
        {
          "output_type": "execute_result",
          "data": {
            "text/plain": [
              "('harry', 'potter')"
            ]
          },
          "metadata": {},
          "execution_count": 22
        }
      ],
      "source": [
        "# Why we don't need idx2tok?\n",
        "\n",
        "def convert_idx_pairs_to_string(pair):\n",
        "  # pair: [int, int]\n",
        "  idxa, idxb= pair\n",
        "  return filtered_vocab[idxa], filtered_vocab[idxb]\n",
        "convert_idx_pairs_to_string(index_pairs[0])"
      ]
    },
    {
      "cell_type": "code",
      "execution_count": 23,
      "metadata": {
        "colab": {
          "base_uri": "https://localhost:8080/"
        },
        "id": "ygV93qzDu4Ls",
        "outputId": "a234185b-80af-4a37-c982-8c6b9c82862b"
      },
      "outputs": [
        {
          "output_type": "execute_result",
          "data": {
            "text/plain": [
              "(tensor([[-0.0906, -0.2238, -0.0839,  ..., -0.0267, -0.2409,  0.1863],\n",
              "         [ 0.0709, -0.3797, -0.0561,  ..., -0.3091,  0.3991,  0.4211],\n",
              "         [ 0.2563,  0.1895, -0.2895,  ..., -0.0754, -0.1098, -0.0347],\n",
              "         ...,\n",
              "         [-0.1012, -0.0911,  0.7485,  ..., -0.1317, -0.0680,  0.0335],\n",
              "         [ 0.1589,  0.2556, -0.0191,  ..., -0.0985,  0.0516, -0.0026],\n",
              "         [-0.0092,  0.1469,  0.3178,  ...,  0.3866, -0.5609, -0.1784]]),\n",
              " torch.Size([1701, 8]))"
            ]
          },
          "metadata": {},
          "execution_count": 23
        }
      ],
      "source": [
        "# we have to make random vectors for each word in the vocab\n",
        "# we also have to decide the dimension of the vector\n",
        "\n",
        "dim = 8\n",
        "vocab_size = len(filtered_vocab)\n",
        "\n",
        "word_vectors = torch.randn(vocab_size, dim) / 4\n",
        "word_vectors, word_vectors.shape"
      ]
    },
    {
      "cell_type": "code",
      "execution_count": 24,
      "metadata": {
        "colab": {
          "base_uri": "https://localhost:8080/"
        },
        "id": "vmZcT53rvwW2",
        "outputId": "03bb829c-7e97-4eae-9bee-b6462d9993aa"
      },
      "outputs": [
        {
          "output_type": "stream",
          "name": "stdout",
          "text": [
            "613\n"
          ]
        },
        {
          "output_type": "execute_result",
          "data": {
            "text/plain": [
              "tensor([ 0.5985,  0.1720, -0.1254,  0.1329,  0.2198, -0.1788, -0.2152, -0.4198])"
            ]
          },
          "metadata": {},
          "execution_count": 24
        }
      ],
      "source": [
        "# what is the vector for harry?\n",
        "idx_of_harry = tok2idx['harry']\n",
        "print(idx_of_harry)\n",
        "vector_of_harry = word_vectors[idx_of_harry]\n",
        "vector_of_harry"
      ]
    },
    {
      "cell_type": "code",
      "execution_count": 25,
      "metadata": {
        "colab": {
          "base_uri": "https://localhost:8080/"
        },
        "id": "i1qznszMwyTg",
        "outputId": "511e10f5-6a98-46b7-ac2a-52499d79d618"
      },
      "outputs": [
        {
          "output_type": "execute_result",
          "data": {
            "text/plain": [
              "(['harry', 'potter'], [613, 1085])"
            ]
          },
          "metadata": {},
          "execution_count": 25
        }
      ],
      "source": [
        "filtered_pairs[0], index_pairs[0]"
      ]
    },
    {
      "cell_type": "code",
      "execution_count": 26,
      "metadata": {
        "colab": {
          "base_uri": "https://localhost:8080/"
        },
        "id": "J4bEKFvUxbVv",
        "outputId": "7076875e-3bae-4fe2-c025-e925d327caa1"
      },
      "outputs": [
        {
          "output_type": "stream",
          "name": "stdout",
          "text": [
            "tensor([ 0.5985,  0.1720, -0.1254,  0.1329,  0.2198, -0.1788, -0.2152, -0.4198])\n",
            "tensor([-0.1530,  0.1913,  0.1130,  0.3143, -0.1625, -0.2138, -0.2011,  0.4236])\n",
            "tensor([-0.0916,  0.0329, -0.0142,  0.0418, -0.0357,  0.0382,  0.0433, -0.1778])\n",
            "tensor(-0.1631)\n"
          ]
        }
      ],
      "source": [
        "torch.set_printoptions(sci_mode=False)\n",
        "vector_of_potter = word_vectors[tok2idx['potter']]\n",
        "\n",
        "print(vector_of_harry)\n",
        "print(vector_of_potter)\n",
        "print(vector_of_harry * vector_of_potter)\n",
        "print(sum(vector_of_harry * vector_of_potter))"
      ]
    },
    {
      "cell_type": "markdown",
      "metadata": {
        "id": "VaCMWmD6Suhy"
      },
      "source": [
        "## Dot Product\n",
        "- Assume we have two vectors $a$ and $b$.\n",
        "  - $a = [a_1, a_2, a_3, a_4, ..., a_n]$\n",
        "  - $b = [b_1, b_2, b_3, b_4, ..., b_n]$\n",
        "- $a \\cdot b$ = $\\sum _{i=1}^n a_ib_i$  = $a_1b_1 + a_2b_2 + a_3b_3 + a_4b_4 + ... + a_nb_n$\n"
      ]
    },
    {
      "cell_type": "code",
      "execution_count": 27,
      "metadata": {
        "colab": {
          "base_uri": "https://localhost:8080/"
        },
        "id": "gsse-jUrw6c2",
        "outputId": "f7ae7281-9bca-42cb-84fc-966550e55dcd"
      },
      "outputs": [
        {
          "output_type": "execute_result",
          "data": {
            "text/plain": [
              "tensor(-0.1631)"
            ]
          },
          "metadata": {},
          "execution_count": 27
        }
      ],
      "source": [
        "# calculate P(potter|harry)\n",
        "\n",
        "vector_of_potter = word_vectors[tok2idx['potter']]\n",
        "vector_of_harry, vector_of_potter\n",
        "\n",
        "dot_product_value_between_potter_harry = torch.dot(vector_of_harry, vector_of_potter)\n",
        "dot_product_value_between_potter_harry"
      ]
    },
    {
      "cell_type": "code",
      "execution_count": 28,
      "metadata": {
        "id": "wZrLEY36yBNZ",
        "outputId": "cacfa311-5ae9-4028-f7dc-bfde22b1f406",
        "colab": {
          "base_uri": "https://localhost:8080/"
        }
      },
      "outputs": [
        {
          "output_type": "execute_result",
          "data": {
            "text/plain": [
              "{'a': -0.24207717180252075,\n",
              " 'able': -0.18632148206233978,\n",
              " 'abou': 0.2558615803718567,\n",
              " 'about': 0.28629082441329956,\n",
              " 'above': 0.16446271538734436,\n",
              " 'across': -0.13690152764320374,\n",
              " 'added': -0.13706232607364655,\n",
              " 'adventure': 0.050604138523340225,\n",
              " 'afford': -0.11171397566795349,\n",
              " 'afraid': 0.18854795396327972,\n",
              " 'after': -0.0340675413608551,\n",
              " 'afternoon': 0.09040982276201248,\n",
              " 'again': 0.1323578953742981,\n",
              " 'against': 0.21582363545894623,\n",
              " 'age': -0.23241974413394928,\n",
              " 'ages': -0.47512272000312805,\n",
              " 'ago': -0.19268126785755157,\n",
              " 'agreed': 0.10191365331411362,\n",
              " 'ah': -0.07317717373371124,\n",
              " 'ahead': -0.04304295778274536,\n",
              " 'air': -0.2504482865333557,\n",
              " 'albus': 0.13118821382522583,\n",
              " 'alive': 0.30798667669296265,\n",
              " 'all': -0.09576854109764099,\n",
              " 'alley': -0.23909136652946472,\n",
              " 'allowed': -0.13903012871742249,\n",
              " 'almost': -0.029642552137374878,\n",
              " 'alone': -0.281911164522171,\n",
              " 'along': 0.09853286296129227,\n",
              " 'already': -0.005838505923748016,\n",
              " 'also': 0.12318174540996552,\n",
              " 'although': 0.0761205330491066,\n",
              " 'always': 0.31189870834350586,\n",
              " 'am': -0.13953377306461334,\n",
              " 'an': -0.08166621625423431,\n",
              " 'and': -0.03538540005683899,\n",
              " 'angrily': -0.1877720206975937,\n",
              " 'angry': 0.06111928075551987,\n",
              " 'animals': 0.15430893003940582,\n",
              " 'another': 0.43699103593826294,\n",
              " 'answer': 0.11126894503831863,\n",
              " 'anxiously': -0.33504486083984375,\n",
              " 'any': 0.10119961202144623,\n",
              " 'anymore': 0.11232061684131622,\n",
              " 'anyone': 0.3906204402446747,\n",
              " 'anythin': -0.05208299309015274,\n",
              " 'anything': -0.3416743576526642,\n",
              " 'anyway': 0.30983686447143555,\n",
              " 'anywhere': -0.25638455152511597,\n",
              " 'apart': 0.0651334822177887,\n",
              " 'appeared': -0.07104736566543579,\n",
              " 'archway': 0.36536145210266113,\n",
              " 'are': -0.49590492248535156,\n",
              " 'arent': -0.18226054310798645,\n",
              " 'arm': 0.0015821382403373718,\n",
              " 'armor': -0.12358402460813522,\n",
              " 'arms': -0.1955627202987671,\n",
              " 'around': 0.024349920451641083,\n",
              " 'arrived': 0.1733465939760208,\n",
              " 'arts': 0.07815716415643692,\n",
              " 'as': -0.30680975317955017,\n",
              " 'ask': -0.06994105875492096,\n",
              " 'asked': 0.08478489518165588,\n",
              " 'asking': -0.0971260517835617,\n",
              " 'asleep': 0.11588772386312485,\n",
              " 'at': 0.08017709106206894,\n",
              " 'attention': -0.15423531830310822,\n",
              " 'aunt': 0.2088995724916458,\n",
              " 'awake': 0.053521089255809784,\n",
              " 'away': 0.07431508600711823,\n",
              " 'baby': 0.3786872625350952,\n",
              " 'back': -0.09458670020103455,\n",
              " 'backward': 0.102106973528862,\n",
              " 'bacon': 0.474891722202301,\n",
              " 'bad': -0.04249286279082298,\n",
              " 'badly': -0.05794524773955345,\n",
              " 'bag': 0.2956111431121826,\n",
              " 'bald': -0.048511356115341187,\n",
              " 'ball': -0.03565506637096405,\n",
              " 'balls': -0.17856046557426453,\n",
              " 'bane': -0.047257259488105774,\n",
              " 'barely': 0.562092661857605,\n",
              " 'barked': 0.264186829328537,\n",
              " 'baron': -0.26113152503967285,\n",
              " 'barrier': -0.30058103799819946,\n",
              " 'bathroom': -0.20281732082366943,\n",
              " 'be': -0.3628290295600891,\n",
              " 'beaming': -0.10713420808315277,\n",
              " 'beans': -0.1574428379535675,\n",
              " 'bear': -0.044262971729040146,\n",
              " 'beard': -0.0271860733628273,\n",
              " 'became': -0.16357137262821198,\n",
              " 'because': 0.29200077056884766,\n",
              " 'become': -0.3077402710914612,\n",
              " 'becoming': 0.22541165351867676,\n",
              " 'bed': 0.05942723900079727,\n",
              " 'bedroom': -0.09402768313884735,\n",
              " 'been': -0.3450816571712494,\n",
              " 'before': 0.11798981577157974,\n",
              " 'began': -0.08675580471754074,\n",
              " 'behind': -0.015628494322299957,\n",
              " 'being': 0.30588144063949585,\n",
              " 'believe': 0.09877488017082214,\n",
              " 'believed': 0.357435017824173,\n",
              " 'bell': 0.08895009011030197,\n",
              " 'bellowed': 0.11084358394145966,\n",
              " 'below': 0.3127041459083557,\n",
              " 'beneath': 0.07073291391134262,\n",
              " 'bent': -0.25868356227874756,\n",
              " 'best': 0.14228759706020355,\n",
              " 'bet': 0.1753700226545334,\n",
              " 'better': 0.16562190651893616,\n",
              " 'between': -0.027877960354089737,\n",
              " 'bewitched': -0.03500019758939743,\n",
              " 'big': 0.1249256432056427,\n",
              " 'bike': 0.04727084934711456,\n",
              " 'bill': -0.1201242133975029,\n",
              " 'bin': 0.4751424789428711,\n",
              " 'binoculars': -0.33115363121032715,\n",
              " 'birds': -0.029592186212539673,\n",
              " 'birthday': -0.10226504504680634,\n",
              " 'bit': 0.06167970225214958,\n",
              " 'bits': -0.10068409889936447,\n",
              " 'black': -0.20531007647514343,\n",
              " 'blankets': -0.32990169525146484,\n",
              " 'blew': 0.18712441623210907,\n",
              " 'blimey': 0.33581340312957764,\n",
              " 'blinked': -0.01843104511499405,\n",
              " 'blood': -0.40758195519447327,\n",
              " 'bloody': -0.018329251557588577,\n",
              " 'blown': 0.1750240921974182,\n",
              " 'bludger': 0.10585333406925201,\n",
              " 'bludgers': -0.07442022114992142,\n",
              " 'blue': -0.39249151945114136,\n",
              " 'boa': 0.43562084436416626,\n",
              " 'board': -0.08038682490587234,\n",
              " 'boat': -0.29656580090522766,\n",
              " 'boats': 0.08465594798326492,\n",
              " 'body': -0.023612208664417267,\n",
              " 'book': 0.012714162468910217,\n",
              " 'books': -0.0669763833284378,\n",
              " 'boots': 0.11932195723056793,\n",
              " 'both': -0.06372514367103577,\n",
              " 'bottle': -0.4408586323261261,\n",
              " 'bottles': 0.2187155932188034,\n",
              " 'bottom': -0.09470765292644501,\n",
              " 'bought': -0.19051498174667358,\n",
              " 'bowed': 0.07776805758476257,\n",
              " 'box': -0.14885517954826355,\n",
              " 'boy': -0.2015133500099182,\n",
              " 'boys': 0.2456088662147522,\n",
              " 'branches': 0.08578988909721375,\n",
              " 'brass': 0.13314035534858704,\n",
              " 'brave': -0.16533097624778748,\n",
              " 'break': -0.1407337784767151,\n",
              " 'breakfast': -0.06722287088632584,\n",
              " 'breaking': 0.11328478157520294,\n",
              " 'breath': -0.20300254225730896,\n",
              " 'breathe': 0.31637248396873474,\n",
              " 'breathing': 0.22421804070472717,\n",
              " 'bright': -0.012988891452550888,\n",
              " 'brilliant': -0.17400969564914703,\n",
              " 'bring': 0.35400718450546265,\n",
              " 'bringing': 0.2585688531398773,\n",
              " 'broke': 0.0006259102374315262,\n",
              " 'broken': -0.13623690605163574,\n",
              " 'bronze': 0.09660430252552032,\n",
              " 'broom': 0.3809782564640045,\n",
              " 'brooms': -0.0964227020740509,\n",
              " 'broomstick': -0.008978128433227539,\n",
              " 'broomsticks': -0.23255552351474762,\n",
              " 'brother': 0.02097293734550476,\n",
              " 'brothers': 0.45765820145606995,\n",
              " 'brought': -0.5277088284492493,\n",
              " 'brown': 0.2424190193414688,\n",
              " 'bundle': 0.0652151107788086,\n",
              " 'burst': 0.3844008445739746,\n",
              " 'business': -0.14123894274234772,\n",
              " 'busy': 0.32608461380004883,\n",
              " 'but': -0.04409044235944748,\n",
              " 'buy': 0.20586438477039337,\n",
              " 'by': -0.030557781457901,\n",
              " 'cake': -0.04629241302609444,\n",
              " 'cakes': 0.5054248571395874,\n",
              " 'call': 0.12064024806022644,\n",
              " 'called': 0.34157034754753113,\n",
              " 'calm': -0.08461034297943115,\n",
              " 'came': 0.292656272649765,\n",
              " 'can': -0.052097469568252563,\n",
              " 'cant': -0.2597442865371704,\n",
              " 'captain': -0.07544911652803421,\n",
              " 'car': -0.4741511642932892,\n",
              " 'card': -0.12922950088977814,\n",
              " 'cards': -0.21747612953186035,\n",
              " 'care': -0.22821666300296783,\n",
              " 'careful': 0.036417193710803986,\n",
              " 'carefully': 0.18085168302059174,\n",
              " 'carried': 0.13983027637004852,\n",
              " 'carry': 0.15595164895057678,\n",
              " 'carrying': 0.0028860047459602356,\n",
              " 'cart': 0.12252458930015564,\n",
              " 'case': 0.004870302975177765,\n",
              " 'castle': 0.06833434104919434,\n",
              " 'cat': 0.008522946387529373,\n",
              " 'catch': 0.008227899670600891,\n",
              " 'cats': -0.11068751662969589,\n",
              " 'caught': -0.3565971851348877,\n",
              " 'cauldron': 0.4071280360221863,\n",
              " 'cause': 0.14307884871959686,\n",
              " 'ceiling': 0.013143330812454224,\n",
              " 'celebrating': -0.41430842876434326,\n",
              " 'centaur': -0.06944833695888519,\n",
              " 'centaurs': -0.15430475771427155,\n",
              " 'certainly': 0.04925314709544182,\n",
              " 'chair': 0.451750785112381,\n",
              " 'chamber': -0.056764695793390274,\n",
              " 'chance': -0.37903955578804016,\n",
              " 'change': 0.4870690107345581,\n",
              " 'changed': 0.23782174289226532,\n",
              " 'chapter': 0.08254773914813995,\n",
              " 'charlie': 0.0014104247093200684,\n",
              " 'charlies': 0.2718952000141144,\n",
              " 'charms': -0.11941306293010712,\n",
              " 'chaser': 0.12151028215885162,\n",
              " 'chasers': 0.1630803495645523,\n",
              " 'cheer': -0.16463133692741394,\n",
              " 'cheering': -0.6757886409759521,\n",
              " 'cheers': 0.1895238757133484,\n",
              " 'chess': 0.1453598141670227,\n",
              " 'chessmen': -0.0573284812271595,\n",
              " 'chest': 0.1684279441833496,\n",
              " 'chocolate': 0.42209339141845703,\n",
              " 'christmas': -0.27855145931243896,\n",
              " 'chuckled': -0.015548188239336014,\n",
              " 'clambered': -0.1432732492685318,\n",
              " 'clapped': -0.046757832169532776,\n",
              " 'clapping': -0.19999603927135468,\n",
              " 'class': -0.07548613846302032,\n",
              " 'classes': -0.29984554648399353,\n",
              " 'classroom': -0.2695499658584595,\n",
              " 'clean': -0.05225276201963425,\n",
              " 'clear': -0.23003344237804413,\n",
              " 'cleared': 0.22166234254837036,\n",
              " 'clearing': -0.32678115367889404,\n",
              " 'clearly': 0.09769807010889053,\n",
              " 'clicked': 0.42347902059555054,\n",
              " 'climbed': -0.16752742230892181,\n",
              " 'cloak': 0.3356185853481293,\n",
              " 'cloaks': -0.3428821563720703,\n",
              " 'close': -0.15919770300388336,\n",
              " 'closed': 0.42848771810531616,\n",
              " 'closer': -0.18927757441997528,\n",
              " 'clothes': -0.26000744104385376,\n",
              " 'club': -0.1618884950876236,\n",
              " 'clutching': -0.22011834383010864,\n",
              " 'coat': 0.1355065107345581,\n",
              " 'coins': 0.14533863961696625,\n",
              " 'cold': -0.23246268928050995,\n",
              " 'collapsed': -0.35930347442626953,\n",
              " 'come': 0.25460219383239746,\n",
              " 'coming': -0.1311109960079193,\n",
              " 'common': -0.25193947553634644,\n",
              " 'compartment': 0.371930330991745,\n",
              " 'complain': 0.3332724869251251,\n",
              " 'complained': -0.013282764703035355,\n",
              " 'completely': -0.12788227200508118,\n",
              " 'computer': -0.13730642199516296,\n",
              " 'contact': 0.03118760883808136,\n",
              " 'control': 0.07476728409528732,\n",
              " 'corner': -0.07882100343704224,\n",
              " 'corridor': -0.08712749183177948,\n",
              " 'corridors': -0.012587245553731918,\n",
              " 'could': -0.6595941781997681,\n",
              " 'couldnt': -0.275190532207489,\n",
              " 'couple': 0.15873223543167114,\n",
              " 'courage': 0.06385772675275803,\n",
              " 'course': -0.25520020723342896,\n",
              " 'covered': -0.2561289370059967,\n",
              " 'crabbe': 0.3118426501750946,\n",
              " 'crack': 0.04042607545852661,\n",
              " 'crash': 0.0009763464331626892,\n",
              " 'crate': -0.41164523363113403,\n",
              " 'crept': 0.027622796595096588,\n",
              " 'cried': 0.19416815042495728,\n",
              " 'cross': -0.08194780349731445,\n",
              " 'crossbow': 0.1525084376335144,\n",
              " 'crossed': 0.2812660038471222,\n",
              " 'crowd': -0.38840252161026,\n",
              " 'cry': 0.28221261501312256,\n",
              " 'crying': -0.15180954337120056,\n",
              " 'cup': -0.11366795003414154,\n",
              " 'cupboard': 0.3102148771286011,\n",
              " 'curious': 0.12261487543582916,\n",
              " 'curiously': 0.41767194867134094,\n",
              " 'curse': 0.11027634888887405,\n",
              " 'cut': 0.08130178600549698,\n",
              " 'dad': -0.23511159420013428,\n",
              " 'damp': 0.053925614804029465,\n",
              " 'dangerous': -0.13380900025367737,\n",
              " 'dare': 0.09945113956928253,\n",
              " 'dark': 0.316471666097641,\n",
              " 'darkly': -0.12454914301633835,\n",
              " 'darkness': -0.4202500879764557,\n",
              " 'day': 0.004105783998966217,\n",
              " 'daylight': -0.08701002597808838,\n",
              " 'days': -0.006557568907737732,\n",
              " 'dead': -0.2352304309606552,\n",
              " 'dean': 0.2472705990076065,\n",
              " 'dear': -0.14758363366127014,\n",
              " 'death': 0.05953485891222954,\n",
              " 'decided': -0.39813023805618286,\n",
              " 'deep': -0.2879825830459595,\n",
              " 'delighted': 0.08313683420419693,\n",
              " 'desk': 0.11382703483104706,\n",
              " 'desperate': -0.038126520812511444,\n",
              " 'detention': -0.13613255321979523,\n",
              " 'devils': -0.4146867096424103,\n",
              " 'diagon': -0.45912808179855347,\n",
              " 'did': 0.05263998359441757,\n",
              " 'didnt': 0.10498857498168945,\n",
              " 'die': -0.1317569762468338,\n",
              " 'died': 0.22458209097385406,\n",
              " 'difference': 0.24728791415691376,\n",
              " 'different': -0.11730106174945831,\n",
              " 'difficult': -0.1465291976928711,\n",
              " 'dinner': -0.08090285956859589,\n",
              " 'direction': -0.3719094693660736,\n",
              " 'disappeared': -0.02610374242067337,\n",
              " 'dive': 0.09299919009208679,\n",
              " 'dived': 0.18421967327594757,\n",
              " 'do': -0.12667694687843323,\n",
              " 'does': 0.18122228980064392,\n",
              " 'doesnt': 0.037861838936805725,\n",
              " 'dog': 0.2083701640367508,\n",
              " 'dogs': 0.0604744553565979,\n",
              " 'doing': 0.5720516443252563,\n",
              " 'don': 0.075651615858078,\n",
              " 'done': 0.06520891189575195,\n",
              " 'dont': 0.0697653517127037,\n",
              " 'door': -0.2787150740623474,\n",
              " 'doors': 0.03033362329006195,\n",
              " 'doorway': -0.33444976806640625,\n",
              " 'dormitory': 0.18342559039592743,\n",
              " 'down': 0.012653641402721405,\n",
              " 'draco': 0.1753193587064743,\n",
              " 'dragged': -0.25333449244499207,\n",
              " 'dragon': -0.08634118735790253,\n",
              " 'dragons': -0.1470179706811905,\n",
              " 'dream': -0.07896353304386139,\n",
              " 'dressed': -0.12108604609966278,\n",
              " 'drew': -0.14776286482810974,\n",
              " 'drills': -0.24991938471794128,\n",
              " 'drink': -0.6082378625869751,\n",
              " 'drive': -0.4035325050354004,\n",
              " 'drop': -0.11211429536342621,\n",
              " 'dropped': -0.08566907048225403,\n",
              " 'drove': -0.07718372344970703,\n",
              " 'dudley': -0.24671410024166107,\n",
              " 'dudleys': 0.15433254837989807,\n",
              " 'dumbledore': -0.09671466052532196,\n",
              " 'dumbledores': -0.11261401325464249,\n",
              " 'dungeons': 0.20330941677093506,\n",
              " 'dunno': 0.2837126553058624,\n",
              " 'during': 0.31346070766448975,\n",
              " 'dursley': -0.27455663681030273,\n",
              " 'dursleys': 0.03880448639392853,\n",
              " 'dyou': -0.18896839022636414,\n",
              " 'each': -0.12290842831134796,\n",
              " 'eagerly': -0.009638205170631409,\n",
              " 'ear': -0.1266501545906067,\n",
              " 'ears': 0.021256253123283386,\n",
              " 'earth': -0.04078228771686554,\n",
              " 'easily': 0.12375740706920624,\n",
              " 'easy': 0.4082985520362854,\n",
              " 'eat': 0.03478912264108658,\n",
              " 'eating': 0.46679991483688354,\n",
              " 'edge': 0.21152235567569733,\n",
              " 'egg': 0.2236860990524292,\n",
              " 'eggs': 0.09655114263296127,\n",
              " 'eh': -0.19341333210468292,\n",
              " 'eight': 0.3793799877166748,\n",
              " 'either': 0.1397213190793991,\n",
              " 'eleven': -0.11432170867919922,\n",
              " 'elixir': 0.33133450150489807,\n",
              " 'else': -0.09566464275121689,\n",
              " 'em': -0.047583602368831635,\n",
              " 'empty': -0.011651928536593914,\n",
              " 'enchantments': 0.25845569372177124,\n",
              " 'end': -0.1449323296546936,\n",
              " 'enormous': -0.16615447402000427,\n",
              " 'enough': 0.27220970392227173,\n",
              " 'entered': 0.07978372275829315,\n",
              " 'entrance': -0.05399303138256073,\n",
              " 'envelope': -0.06487433612346649,\n",
              " 'er': -0.1345554143190384,\n",
              " 'erised': -0.18761935830116272,\n",
              " 'even': -0.12364131957292557,\n",
              " 'evening': -0.12019666284322739,\n",
              " 'ever': -0.10898049920797348,\n",
              " 'every': -0.2960650324821472,\n",
              " 'everybody': 0.1413908302783966,\n",
              " 'everyone': 0.3550553023815155,\n",
              " 'everything': -0.0559406541287899,\n",
              " 'everywhere': 0.27399539947509766,\n",
              " 'evil': -0.041956353932619095,\n",
              " 'exactly': 0.2906751334667206,\n",
              " 'exam': 0.06938615441322327,\n",
              " 'exams': 0.18813928961753845,\n",
              " 'excellent': -0.2172565907239914,\n",
              " 'except': -0.0661177784204483,\n",
              " 'excitedly': -0.1635759174823761,\n",
              " 'excitement': -0.16038067638874054,\n",
              " 'excuse': -0.14105592668056488,\n",
              " 'expect': -0.002184629440307617,\n",
              " 'expected': 0.18405386805534363,\n",
              " 'expelled': 0.19466263055801392,\n",
              " 'explain': -0.05572734773159027,\n",
              " 'explained': 0.1181967705488205,\n",
              " 'exploded': -0.0985533595085144,\n",
              " 'extra': 0.02326904609799385,\n",
              " 'eye': -0.15016646683216095,\n",
              " 'eyes': -0.2440321445465088,\n",
              " 'face': 0.08830185234546661,\n",
              " 'faces': -0.2244139164686203,\n",
              " 'facing': 0.24768322706222534,\n",
              " 'fact': 0.16131463646888733,\n",
              " 'faded': -0.17199869453907013,\n",
              " 'faint': -0.013245150446891785,\n",
              " 'fall': -0.11863445490598679,\n",
              " 'fallen': -0.20677591860294342,\n",
              " 'families': -0.37558305263519287,\n",
              " 'family': 0.0023370981216430664,\n",
              " 'famous': -0.0072137415409088135,\n",
              " 'fang': -0.1360771656036377,\n",
              " 'fangs': 0.04372204840183258,\n",
              " 'far': 0.3463813066482544,\n",
              " 'fast': -0.028938818722963333,\n",
              " 'faster': -0.19695037603378296,\n",
              " 'fat': 0.033710502088069916,\n",
              " 'father': -0.16503620147705078,\n",
              " 'fathers': -0.29163965582847595,\n",
              " 'favorite': -0.036562711000442505,\n",
              " 'fear': -0.08366036415100098,\n",
              " 'feast': 0.31582847237586975,\n",
              " 'feather': 0.26598888635635376,\n",
              " 'feathers': -0.1174168512225151,\n",
              " 'feel': -0.18354764580726624,\n",
              " 'feeling': 0.06949009001255035,\n",
              " 'feet': -0.027160942554473877,\n",
              " 'fell': 0.18288224935531616,\n",
              " 'felt': 0.14643263816833496,\n",
              " 'fer': 0.3629821240901947,\n",
              " 'few': -0.06244786083698273,\n",
              " 'field': 0.1695585548877716,\n",
              " 'fifty': -0.06271032243967056,\n",
              " 'figg': -0.0961667150259018,\n",
              " 'fight': -0.19816873967647552,\n",
              " 'fighting': 0.27324095368385315,\n",
              " 'figure': -0.08191454410552979,\n",
              " 'filch': -0.25863200426101685,\n",
              " 'filchs': -0.0722377598285675,\n",
              " 'filled': 0.16850361227989197,\n",
              " 'finally': 0.3473420739173889,\n",
              " 'find': -0.11159570515155792,\n",
              " 'finding': -0.22935083508491516,\n",
              " 'fine': 0.15436749160289764,\n",
              " 'fingers': 0.2317739576101303,\n",
              " 'finished': -0.2757361829280853,\n",
              " 'finnigan': 0.016484349966049194,\n",
              " 'fire': -0.23755769431591034,\n",
              " 'firenze': 0.11363080888986588,\n",
              " 'firs': 0.21650809049606323,\n",
              " 'first': -0.13548338413238525,\n",
              " 'five': 0.25340402126312256,\n",
              " 'fixed': -0.2714388370513916,\n",
              " 'flamel': 0.22141847014427185,\n",
              " 'flames': -0.18086665868759155,\n",
              " 'flash': -0.15562619268894196,\n",
              " 'flat': 0.006505914032459259,\n",
              " 'flavor': -0.10700024664402008,\n",
              " 'flew': -0.328568696975708,\n",
              " 'flint': -0.3215441107749939,\n",
              " 'flitwick': -0.07547780871391296,\n",
              " 'floating': -0.2759005129337311,\n",
              " 'floor': 0.13231724500656128,\n",
              " 'fluffy': 0.1955937296152115,\n",
              " 'flute': 0.18996772170066833,\n",
              " 'fly': -0.10313811898231506,\n",
              " 'flying': -0.12152654677629471,\n",
              " 'follow': 0.31750255823135376,\n",
              " 'followed': 0.0830492377281189,\n",
              " 'following': -0.01241474598646164,\n",
              " 'food': 0.3689444661140442,\n",
              " 'fool': -0.11598271876573563,\n",
              " 'foot': -0.12587082386016846,\n",
              " 'footsteps': 0.028404168784618378,\n",
              " 'for': 0.23740920424461365,\n",
              " 'forbidden': 0.38778769969940186,\n",
              " 'force': 0.022180942818522453,\n",
              " 'forced': 0.07185319066047668,\n",
              " 'forehead': -0.3362099528312683,\n",
              " 'forest': 0.1069534569978714,\n",
              " 'forever': -0.012999169528484344,\n",
              " 'forget': 0.11861209571361542,\n",
              " 'forgive': -0.20880228281021118,\n",
              " 'forgotten': 0.008155295625329018,\n",
              " 'forward': 0.04869315028190613,\n",
              " 'found': -0.11594560742378235,\n",
              " 'four': 0.012451410293579102,\n",
              " 'fred': 0.0759396106004715,\n",
              " 'free': 0.030027732253074646,\n",
              " 'friend': 0.03196265548467636,\n",
              " 'friendly': -0.00011546909809112549,\n",
              " 'friends': 0.2976219356060028,\n",
              " 'frightened': 0.12858356535434723,\n",
              " 'frog': -0.3329445421695709,\n",
              " 'frogs': 0.1971837729215622,\n",
              " 'from': 0.014089144766330719,\n",
              " 'front': -0.29536139965057373,\n",
              " 'full': 0.19504153728485107,\n",
              " 'fun': 0.10765277594327927,\n",
              " 'funny': -0.12701533734798431,\n",
              " 'furious': 0.08573783189058304,\n",
              " 'furiously': 0.08772973716259003,\n",
              " 'game': -0.05608837306499481,\n",
              " 'gamekeeper': -0.18204475939273834,\n",
              " 'gang': 0.22139762341976166,\n",
              " 'garden': -0.29112255573272705,\n",
              " 'gasped': 0.08239258825778961,\n",
              " 'gave': -0.25801101326942444,\n",
              " 'gently': -0.07303029298782349,\n",
              " 'george': -0.37480413913726807,\n",
              " 'get': -0.21939772367477417,\n",
              " 'gets': -0.20844465494155884,\n",
              " 'gettin': -0.26162391901016235,\n",
              " 'getting': -0.04257482662796974,\n",
              " 'ghost': 0.1953507512807846,\n",
              " 'ghosts': -0.28489696979522705,\n",
              " 'giant': 0.10471358895301819,\n",
              " 'ginny': 0.0005184188485145569,\n",
              " 'girl': 0.08070952445268631,\n",
              " 'girls': 0.29159238934516907,\n",
              " 'give': 0.27601078152656555,\n",
              " 'given': -0.04816543310880661,\n",
              " 'giving': 0.07929284870624542,\n",
              " 'glad': 0.259677529335022,\n",
              " 'glass': -0.3082072138786316,\n",
              " 'glasses': 0.15849024057388306,\n",
              " 'glittering': 0.4786437153816223,\n",
              " 'go': 0.06301850080490112,\n",
              " 'goal': -0.34511569142341614,\n",
              " 'goblin': 0.27917277812957764,\n",
              " 'goblins': 0.19898410141468048,\n",
              " 'goes': 0.18031147122383118,\n",
              " 'going': 0.0818980261683464,\n",
              " 'gold': -0.36473536491394043,\n",
              " 'golden': -0.2973842918872833,\n",
              " 'gone': 0.35815122723579407,\n",
              " 'good': -0.030853629112243652,\n",
              " 'goodbye': -0.1863713264465332,\n",
              " 'got': -0.18958747386932373,\n",
              " 'gotta': 0.15225902199745178,\n",
              " 'gotten': -0.26055413484573364,\n",
              " 'goyle': 0.11702907085418701,\n",
              " 'grab': 0.04607169330120087,\n",
              " 'grabbed': 0.15683889389038086,\n",
              " 'gran': 0.05481356754899025,\n",
              " 'granger': 0.35911479592323303,\n",
              " 'grass': -0.03228145092725754,\n",
              " 'gray': -0.16298428177833557,\n",
              " 'great': 0.09615641832351685,\n",
              " 'greatest': -0.06116937845945358,\n",
              " 'green': 0.13740487396717072,\n",
              " 'grew': -0.3956491947174072,\n",
              " 'grin': 0.23267728090286255,\n",
              " 'gringotts': -0.1339796483516693,\n",
              " 'grinned': -0.22797957062721252,\n",
              " 'griphook': 0.12157273292541504,\n",
              " 'groaned': 0.1619478166103363,\n",
              " 'ground': -0.16701571643352509,\n",
              " 'grounds': 0.1858844757080078,\n",
              " 'growled': -0.19564415514469147,\n",
              " 'grunted': 0.13347464799880981,\n",
              " 'gryffindor': -0.26154083013534546,\n",
              " 'gryffindors': -0.0011705197393894196,\n",
              " 'guard': 0.22831377387046814,\n",
              " 'guarding': 0.007495194673538208,\n",
              " 'h': -0.05111575871706009,\n",
              " 'had': 0.46525007486343384,\n",
              " 'hadnt': 0.24221862852573395,\n",
              " 'hagrid': -0.4001157581806183,\n",
              " 'hagrids': -0.012041833251714706,\n",
              " 'hair': 0.15582218766212463,\n",
              " 'half': -0.19831793010234833,\n",
              " 'halfway': 0.2772377133369446,\n",
              " 'hall': 0.20507074892520905,\n",
              " 'halloween': 0.03235604986548424,\n",
              " 'halt': -0.2625924348831177,\n",
              " 'hand': -0.0403432697057724,\n",
              " 'handed': 0.13219301402568817,\n",
              " 'handkerchief': 0.21544474363327026,\n",
              " 'handle': 0.20676735043525696,\n",
              " 'hands': -0.11966219544410706,\n",
              " 'hang': -0.08354108035564423,\n",
              " 'hanging': 0.08603537082672119,\n",
              " 'happen': 0.37829649448394775,\n",
              " 'happened': 0.09339432418346405,\n",
              " 'happens': 0.030787255614995956,\n",
              " 'happily': -0.10936937481164932,\n",
              " 'happy': 0.26809224486351013,\n",
              " 'hard': -0.3001120984554291,\n",
              " 'harder': 0.1893048882484436,\n",
              " 'hardly': -0.26573646068573,\n",
              " 'harry': 0.7239072322845459,\n",
              " 'harrys': 0.5279099941253662,\n",
              " 'has': 0.15196937322616577,\n",
              " 'hasnt': -0.21372950077056885,\n",
              " 'hat': -0.405778706073761,\n",
              " 'hate': 0.09483039379119873,\n",
              " 'hated': 0.15148517489433289,\n",
              " 'have': -0.03139229491353035,\n",
              " 'havent': -0.14012527465820312,\n",
              " 'having': 0.11981455981731415,\n",
              " 'he': -0.22392290830612183,\n",
              " 'head': -0.165523499250412,\n",
              " 'headless': -0.13209004700183868,\n",
              " 'heads': 0.23712310194969177,\n",
              " 'hear': -0.07179322838783264,\n",
              " 'heard': -0.22380807995796204,\n",
              " 'heart': 0.06475386023521423,\n",
              " 'heavy': -0.2800271809101105,\n",
              " 'hed': -0.08325465768575668,\n",
              " 'hedwig': 0.1496647745370865,\n",
              " 'held': 0.10205727070569992,\n",
              " 'hell': -0.34927037358283997,\n",
              " 'help': 0.26316696405410767,\n",
              " 'helped': 0.3094572424888611,\n",
              " 'her': -0.002967134118080139,\n",
              " 'herbology': -0.41826701164245605,\n",
              " 'here': 0.09670482575893402,\n",
              " 'hermione': 0.08508088439702988,\n",
              " 'hermiones': 0.07240363955497742,\n",
              " 'herself': 0.20447835326194763,\n",
              " 'hes': -0.1499422788619995,\n",
              " 'hey': 0.023277897387742996,\n",
              " 'hidden': 0.2732234001159668,\n",
              " 'hide': 0.19383880496025085,\n",
              " 'hiding': -0.029855549335479736,\n",
              " 'high': -0.2600649297237396,\n",
              " 'higher': -0.08190321177244186,\n",
              " 'him': 0.24004246294498444,\n",
              " 'himself': -0.262565940618515,\n",
              " 'his': 0.029870465397834778,\n",
              " 'hissed': -0.39405739307403564,\n",
              " 'history': 0.19921356439590454,\n",
              " 'hit': 0.07655659317970276,\n",
              " 'hogwarts': 0.05316070467233658,\n",
              " 'hold': -0.09871372580528259,\n",
              " 'holding': 0.29689306020736694,\n",
              " 'hole': -0.043944548815488815,\n",
              " 'holidays': 0.051510173827409744,\n",
              " 'home': 0.3133709728717804,\n",
              " 'homework': 0.00039100274443626404,\n",
              " 'honestly': -0.09035076200962067,\n",
              " 'hooch': 0.1568201184272766,\n",
              " 'hoops': -0.25153520703315735,\n",
              " 'hope': 0.15502670407295227,\n",
              " 'hoping': -0.014386788010597229,\n",
              " 'horrible': -0.05442916974425316,\n",
              " 'horror': 0.010555997490882874,\n",
              " 'hospital': -0.37862229347229004,\n",
              " 'hot': 0.10149447619915009,\n",
              " 'hour': 0.20954501628875732,\n",
              " 'hours': -0.2743052542209625,\n",
              " 'house': -0.13493409752845764,\n",
              " 'houses': 0.06327109783887863,\n",
              " 'how': -0.19804345071315765,\n",
              " 'however': 0.23897013068199158,\n",
              " 'howling': -0.46946024894714355,\n",
              " 'hufflepuff': -0.15674911439418793,\n",
              " 'huge': 0.23838554322719574,\n",
              " 'human': 0.04799552261829376,\n",
              " 'hundred': -0.3401060700416565,\n",
              " 'hundreds': 0.048976048827171326,\n",
              " 'hung': -0.20076704025268555,\n",
              " 'hungry': 0.3560961186885834,\n",
              " 'hurried': -0.1583119034767151,\n",
              " 'hurry': -0.11429063230752945,\n",
              " 'hurrying': -0.29421892762184143,\n",
              " 'hurt': -0.0013852566480636597,\n",
              " 'hurtled': -0.14587461948394775,\n",
              " 'hut': -0.3345371186733246,\n",
              " 'i': -0.040330156683921814,\n",
              " 'ice': 0.14843043684959412,\n",
              " 'ickle': 0.24213667213916779,\n",
              " 'id': 0.015283852815628052,\n",
              " 'idea': 0.3492621183395386,\n",
              " 'if': -0.09657929837703705,\n",
              " 'ignored': 0.3025345802307129,\n",
              " 'ill': -0.06219090521335602,\n",
              " 'im': -0.2108881175518036,\n",
              " 'imagine': -0.06319233030080795,\n",
              " 'imagining': 0.0624813511967659,\n",
              " 'important': 0.22753553092479706,\n",
              " 'impressed': -0.02202659845352173,\n",
              " 'in': 0.324699342250824,\n",
              " 'inches': -0.33015376329421997,\n",
              " 'indeed': 0.013301223516464233,\n",
              " 'inside': -0.13858826458454132,\n",
              " 'instead': -0.0933334082365036,\n",
              " 'interested': -0.45865756273269653,\n",
              " 'interesting': 0.23933809995651245,\n",
              " 'into': -0.18153876066207886,\n",
              " 'invisibility': -0.1993594765663147,\n",
              " 'invisible': -0.17160716652870178,\n",
              " 'involved': 0.11928185820579529,\n",
              " 'is': 0.059666793793439865,\n",
              " 'isnt': 0.16417673230171204,\n",
              " 'it': -0.3505629599094391,\n",
              " 'itll': -0.10478229075670242,\n",
              " 'its': 0.08972163498401642,\n",
              " 'itself': 0.02163603901863098,\n",
              " 'ive': -0.12565962970256805,\n",
              " 'james': -0.024896204471588135,\n",
              " 'jerked': 0.009174209088087082,\n",
              " 'job': -0.23636454343795776,\n",
              " 'join': 0.2539438009262085,\n",
              " 'joined': 0.11117921769618988,\n",
              " 'joke': -0.02535036951303482,\n",
              " 'joking': 0.12798507511615753,\n",
              " 'jordan': -0.42482247948646545,\n",
              " 'jump': 0.04224609211087227,\n",
              " 'jumped': 0.020715931430459023,\n",
              " 'jus': 0.2785588502883911,\n",
              " 'just': 0.25001591444015503,\n",
              " 'keep': -0.014057010412216187,\n",
              " 'keeper': -0.4568975269794464,\n",
              " 'keeping': -0.22638623416423798,\n",
              " 'kept': -0.09377257525920868,\n",
              " 'key': 0.11643260717391968,\n",
              " 'keys': 0.06074901670217514,\n",
              " 'kicked': 0.05524856597185135,\n",
              " 'kid': 0.3969718813896179,\n",
              " 'kill': 0.19606593251228333,\n",
              " 'killed': -0.11600169539451599,\n",
              " 'kind': 0.07365573942661285,\n",
              " 'kings': 0.32721763849258423,\n",
              " 'kitchen': -0.1348484605550766,\n",
              " 'knees': -0.2846168875694275,\n",
              " 'knew': -0.13518212735652924,\n",
              " 'knight': -0.07077911496162415,\n",
              " 'knock': 0.5349596738815308,\n",
              " 'knocked': -0.09539204835891724,\n",
              " 'knocking': -0.49188488721847534,\n",
              " 'know': 0.1723615825176239,\n",
              " 'knowing': -0.10925430804491043,\n",
              " 'known': -0.3878704011440277,\n",
              " 'knows': -0.2481229454278946,\n",
              " 'knuts': 0.25531190633773804,\n",
              " 'lady': 0.01074681431055069,\n",
              " 'lake': 0.3606155216693878,\n",
              " 'lamp': 0.03788180649280548,\n",
              " 'landed': -0.12762096524238586,\n",
              " 'large': -0.08062702417373657,\n",
              " 'last': 0.03822201490402222,\n",
              " 'late': -0.13029946386814117,\n",
              " 'later': -0.0125340037047863,\n",
              " 'laugh': 0.283644437789917,\n",
              " 'laughed': 0.040720947086811066,\n",
              " 'laughing': 0.16191089153289795,\n",
              " 'laughter': 0.11872268468141556,\n",
              " 'lay': -0.1327563226222992,\n",
              " 'lead': -0.007184751331806183,\n",
              " 'leading': 0.022597473114728928,\n",
              " 'leaky': -0.0430678129196167,\n",
              " 'leaned': 0.07768190652132034,\n",
              " 'leaning': 0.1701863706111908,\n",
              " 'leapt': 0.30708909034729004,\n",
              " 'learn': 0.07675302028656006,\n",
              " 'learned': 0.014479875564575195,\n",
              " 'least': -0.13228875398635864,\n",
              " 'leave': -0.18163734674453735,\n",
              " 'leaves': -0.2031330019235611,\n",
              " 'leaving': 0.14036224782466888,\n",
              " 'led': 0.1330794394016266,\n",
              " 'lee': 0.4017208218574524,\n",
              " 'left': -0.19925054907798767,\n",
              " 'leg': 0.0018373653292655945,\n",
              " 'legs': -0.09577536582946777,\n",
              " 'lemon': 0.11530540883541107,\n",
              " 'less': -0.06819532811641693,\n",
              " 'lesson': -0.17859959602355957,\n",
              " 'lessons': 0.03062063455581665,\n",
              " 'let': 0.07723212242126465,\n",
              " 'lets': -0.3088473677635193,\n",
              " 'letter': -0.15096022188663483,\n",
              " 'letters': 0.03351924568414688,\n",
              " 'library': 0.1793432980775833,\n",
              " 'lie': -0.15729381144046783,\n",
              " 'lies': 0.43800222873687744,\n",
              " 'life': -0.0470401905477047,\n",
              " 'light': -0.19943177700042725,\n",
              " 'lightning': -0.025630325078964233,\n",
              " 'lights': 0.12836825847625732,\n",
              " 'like': -0.21275445818901062,\n",
              " 'liked': 0.08680205792188644,\n",
              " 'lily': -0.12156512588262558,\n",
              " 'line': -0.3629881739616394,\n",
              " 'lines': 0.12610657513141632,\n",
              " 'lips': 0.17119869589805603,\n",
              " 'list': -0.17714539170265198,\n",
              " 'listen': 0.37163883447647095,\n",
              " 'listening': 0.07876156270503998,\n",
              " 'lit': 0.23288077116012573,\n",
              " 'little': -0.05325021594762802,\n",
              " 'live': -0.44066983461380005,\n",
              " 'lived': -0.29366204142570496,\n",
              " 'living': 0.03108581155538559,\n",
              " 'loads': 0.09793592244386673,\n",
              " 'lock': -0.017959587275981903,\n",
              " 'locked': 0.1325312852859497,\n",
              " 'locker': -0.11682483553886414,\n",
              " 'london': -0.004252314567565918,\n",
              " 'long': -0.10195266455411911,\n",
              " 'longbottom': -0.11658498644828796,\n",
              " 'look': 0.06962427496910095,\n",
              " 'looked': -0.03255867585539818,\n",
              " 'looking': 0.08711571991443634,\n",
              " 'looks': 0.22220143675804138,\n",
              " 'lose': -0.45844152569770813,\n",
              " 'losing': 0.14797043800354004,\n",
              " 'lost': 0.11885291337966919,\n",
              " 'lot': -0.031572796404361725,\n",
              " 'lots': -0.5548009872436523,\n",
              " 'loud': 0.16739405691623688,\n",
              " 'loudly': -0.16938704252243042,\n",
              " 'low': -0.10009592771530151,\n",
              " 'lower': -0.16381675004959106,\n",
              " 'luck': 0.06278864294290543,\n",
              " 'lucky': -0.02939431369304657,\n",
              " 'lumpy': 0.38910430669784546,\n",
              " 'lurking': 0.10930126160383224,\n",
              " 'lying': -0.004425056278705597,\n",
              " 'mad': 0.12348008900880814,\n",
              " 'madam': 0.3127824664115906,\n",
              " 'made': -0.0873389020562172,\n",
              " 'magic': 0.25160491466522217,\n",
              " 'magical': 0.07954530417919159,\n",
              " 'mail': -0.27451613545417786,\n",
              " 'make': -0.06516608595848083,\n",
              " 'making': 0.14586235582828522,\n",
              " 'malfoy': 0.1380610167980194,\n",
              " 'malfoys': 0.09907351434230804,\n",
              " 'man': -0.07415767014026642,\n",
              " 'managed': -0.2752668857574463,\n",
              " 'many': 0.06448832154273987,\n",
              " 'marble': 0.16712473332881927,\n",
              " 'marched': 0.19814348220825195,\n",
              " 'marcus': -0.28336936235427856,\n",
              " 'mark': -0.03133685141801834,\n",
              " 'mars': -0.09067344665527344,\n",
              " 'master': 0.2714598774909973,\n",
              " 'match': 0.189383864402771,\n",
              " 'matter': 0.06012465059757233,\n",
              " 'may': 0.0042952075600624084,\n",
              " 'maybe': -0.14341166615486145,\n",
              " 'mcgonagall': -0.07371072471141815,\n",
              " 'mcgonagalls': -0.05273717641830444,\n",
              " 'me': -0.6063476800918579,\n",
              " 'mean': 0.23149451613426208,\n",
              " 'means': -0.06795939058065414,\n",
              " 'meant': -0.3129355311393738,\n",
              " 'meanwhile': 0.19739927351474762,\n",
              " 'meet': 0.059038445353507996,\n",
              " 'meeting': -0.32993993163108826,\n",
              " 'mention': 0.2878703474998474,\n",
              " 'met': -0.16165681183338165,\n",
              " 'midair': 0.1007128581404686,\n",
              " 'middle': 0.3126679062843323,\n",
              " 'midnight': 0.11308340728282928,\n",
              " 'might': 0.14573168754577637,\n",
              " 'miles': -0.20742826163768768,\n",
              " 'mind': -0.1508437693119049,\n",
              " 'minds': 0.08211573958396912,\n",
              " 'mine': 0.19957098364830017,\n",
              " 'ministry': 0.32310986518859863,\n",
              " 'minute': 0.10767877101898193,\n",
              " 'minutes': 0.1519874930381775,\n",
              " 'mirror': -0.16824083030223846,\n",
              " 'miserably': -0.20282159745693207,\n",
              " 'miss': -0.04335471987724304,\n",
              " 'mistake': -0.09294110536575317,\n",
              " 'moaned': -0.011813104152679443,\n",
              " 'mom': -0.2115243673324585,\n",
              " 'moment': 0.41293466091156006,\n",
              " 'money': 0.2575845718383789,\n",
              " 'mood': 0.21082237362861633,\n",
              " 'moon': -0.19047382473945618,\n",
              " 'moonlight': -0.26513707637786865,\n",
              " 'more': 0.10263553261756897,\n",
              " 'morning': -0.0671863704919815,\n",
              " 'most': 0.26378196477890015,\n",
              " 'mother': -0.1500099003314972,\n",
              " 'mothers': -0.12148116528987885,\n",
              " 'motorcycle': 0.24827097356319427,\n",
              " 'mountain': 0.09765385836362839,\n",
              " 'mouth': 0.11979465931653976,\n",
              " 'move': 0.00471013318747282,\n",
              " 'moved': -0.04859209060668945,\n",
              " 'moving': 0.20658183097839355,\n",
              " 'mr': 0.26735979318618774,\n",
              " 'mrs': 0.045183856040239334,\n",
              " 'much': 0.1748015284538269,\n",
              " 'muggle': 0.08536068350076675,\n",
              " 'muggles': 0.2453274130821228,\n",
              " 'mum': 0.06400324404239655,\n",
              " 'mumbled': -0.2329021692276001,\n",
              " 'murmured': 0.16046476364135742,\n",
              " 'music': -0.08825667202472687,\n",
              " 'must': -0.4225580096244812,\n",
              " 'mustache': -0.07034280151128769,\n",
              " 'mustve': 0.5400256514549255,\n",
              " 'muttered': -0.12367362529039383,\n",
              " 'muttering': -0.2633078992366791,\n",
              " 'my': 0.13051441311836243,\n",
              " 'myself': -0.4321077764034271,\n",
              " 'mysterious': -0.20557519793510437,\n",
              " 'nah': 0.14211666584014893,\n",
              " 'name': -0.17303146421909332,\n",
              " 'names': -0.2901718020439148,\n",
              " 'narrow': -0.24627283215522766,\n",
              " 'nasty': -0.08332059532403946,\n",
              " 'near': -0.0826105996966362,\n",
              " 'nearer': 0.3506735563278198,\n",
              " 'nearest': -0.07168260216712952,\n",
              " 'nearly': 0.11320184916257858,\n",
              " 'neat': -0.2617999315261841,\n",
              " 'neck': 0.052428871393203735,\n",
              " 'need': 0.0009281323291361332,\n",
              " 'needed': -0.09018299728631973,\n",
              " 'needs': -0.3067462146282196,\n",
              " 'neither': -0.07933855056762695,\n",
              " 'nerve': 0.49829280376434326,\n",
              " 'nervous': -0.11035539954900742,\n",
              " 'nervously': -0.15953421592712402,\n",
              " 'never': 0.18566003441810608,\n",
              " 'neville': 0.31828340888023376,\n",
              " 'nevilles': -0.4121062159538269,\n",
              " 'new': -0.2706621289253235,\n",
              " 'news': -0.31175386905670166,\n",
              " 'newspaper': -0.15783941745758057,\n",
              " 'next': 0.11404275894165039,\n",
              " 'nice': -0.0795845240354538,\n",
              " 'nicolas': 0.22527086734771729,\n",
              " 'night': 0.1844874918460846,\n",
              " 'nimbus': 0.0476461797952652,\n",
              " 'nine': 0.07350393384695053,\n",
              " 'no': -0.05950729921460152,\n",
              " 'nobody': -0.34180140495300293,\n",
              " 'nodded': -0.06755359470844269,\n",
              " 'noise': -0.3330881595611572,\n",
              " 'none': 0.0664406418800354,\n",
              " 'nor': 0.03224354237318039,\n",
              " 'norbert': 0.2873068153858185,\n",
              " 'normal': 0.41213172674179077,\n",
              " 'norris': -0.20675614476203918,\n",
              " 'nose': 0.5719727277755737,\n",
              " 'noses': -0.000925842672586441,\n",
              " 'nostrils': 0.05354227125644684,\n",
              " 'not': -0.36280322074890137,\n",
              " 'note': -0.1559571623802185,\n",
              " 'notes': 0.15344278514385223,\n",
              " 'nothin': -0.1147117093205452,\n",
              " 'nothing': -0.00947338342666626,\n",
              " 'notice': -0.11454781144857407,\n",
              " 'noticed': 0.11615248024463654,\n",
              " 'noticing': -0.18000245094299316,\n",
              " 'now': -0.49744993448257446,\n",
              " 'number': -0.09803065657615662,\n",
              " 'o': -0.05329461395740509,\n",
              " 'oak': 0.08869481086730957,\n",
              " 'obviously': -0.07673629373311996,\n",
              " 'oclock': 0.10609308630228043,\n",
              " 'odd': -0.09504681825637817,\n",
              " 'of': 0.6100764274597168,\n",
              " 'off': -0.06226719915866852,\n",
              " 'office': -0.2093852460384369,\n",
              " 'often': 0.02753223478794098,\n",
              " 'oh': 0.27341723442077637,\n",
              " 'okay': -0.06794534623622894,\n",
              " 'old': -0.3551529347896576,\n",
              " 'older': 0.20615190267562866,\n",
              " 'ollivander': 0.19001108407974243,\n",
              " 'on': 0.3158256411552429,\n",
              " 'once': -0.2195647954940796,\n",
              " 'one': 0.0005813911557197571,\n",
              " 'ones': 0.10819464921951294,\n",
              " 'only': 0.0043304190039634705,\n",
              " 'onto': 0.13771569728851318,\n",
              " 'open': -0.20002631843090057,\n",
              " ...}"
            ]
          },
          "metadata": {},
          "execution_count": 28
        }
      ],
      "source": [
        "# we can get the dot product value for every other words in the vocab\n",
        "# to get  P(word | harry)\n",
        "word_dot_dict = {}\n",
        "for word in filtered_vocab:\n",
        "  word_vector = word_vectors[tok2idx[word]]\n",
        "  dot_product_value = torch.dot(vector_of_harry, word_vector)\n",
        "  word_dot_dict[word] = dot_product_value.item()\n",
        "\n",
        "word_dot_dict"
      ]
    },
    {
      "cell_type": "code",
      "execution_count": null,
      "metadata": {
        "id": "DQ1PUvuLyv6r"
      },
      "outputs": [],
      "source": [
        "from math import exp\n",
        "# we have to convert our prediction into probability distribution\n",
        "# P(word|harry)\n",
        "# sum of [P(a|harry), ..., P(potter|harry), ... P(ron|harry), ... ] = 1\n",
        "# current dot product value is any real number, sometimes called as logit\n",
        "# logit from logistic regression. Some values that are not yet converted to 0~1\n",
        "# or value before sigmoid function\n",
        "\n",
        "# every probability should be in range (0, 1) (greater than 0, smaller than 1)\n",
        "# this can be handled by taking exponential of dot product values, divided by total sum\n",
        "# This function is called Softmax\n",
        "\n",
        "# Why we use exponential?\n",
        "# Because we want to make every probability in positive range\n",
        "# while preserving the order\n",
        "\n",
        "word_exp_dict = {}\n",
        "sum_exp_value = 0\n",
        "for key, value in word_dot_dict.items(): # item is (key, value)\n",
        "  exp_value = exp(value)\n",
        "  word_exp_dict[key] = exp_value\n",
        "  sum_exp_value += exp_value\n",
        "\n",
        "word_prob_dict = {}\n",
        "for key, value in word_exp_dict.items(): # item is (key, value)\n",
        "  word_prob_dict[key] = value / sum_exp_value\n",
        "\n",
        "word_exp_dict,\n",
        "# print(sum_exp_value)\n",
        "word_prob_dict"
      ]
    },
    {
      "cell_type": "code",
      "source": [
        "word_prob_dict['potter'] #P(potter|harry)"
      ],
      "metadata": {
        "id": "SpXH7RxSbwUO",
        "outputId": "cd81564d-ac78-420a-9abd-ea70cc5fb51d",
        "colab": {
          "base_uri": "https://localhost:8080/"
        }
      },
      "execution_count": 30,
      "outputs": [
        {
          "output_type": "execute_result",
          "data": {
            "text/plain": [
              "0.0004888724600192055"
            ]
          },
          "metadata": {},
          "execution_count": 30
        }
      ]
    },
    {
      "cell_type": "markdown",
      "metadata": {
        "id": "kKxz9SJhSuhy"
      },
      "source": [
        "## Matrix Multiplication as Dot Product\n",
        "![img](https://mkang32.github.io/images/python/khan_academy_matrix_product.png)"
      ]
    },
    {
      "cell_type": "code",
      "source": [
        "# get dot product result for every word in the vocabulary\n",
        "print(vector_of_harry.shape, word_vectors.shape)\n",
        "\n",
        "# first, make vector_of_harry into matrix format\n",
        "mat_of_harry = vector_of_harry.unsqueeze(0)\n",
        "print(vector_of_harry.shape, mat_of_harry.shape, vector_of_harry, mat_of_harry, )\n",
        "print(word_vectors.T.shape)\n",
        "\n",
        "# do matrix multiplication\n",
        "mm_result = torch.mm(mat_of_harry, word_vectors.T) #mm means matrix multiplication\n",
        "mm_result.shape # (1 x 8) x (8 x 1701) = (1 x 1701)\n"
      ],
      "metadata": {
        "id": "HCFajiDkb44W",
        "outputId": "7176e981-50b3-4b31-f998-feaa0335222a",
        "colab": {
          "base_uri": "https://localhost:8080/"
        }
      },
      "execution_count": 31,
      "outputs": [
        {
          "output_type": "stream",
          "name": "stdout",
          "text": [
            "torch.Size([8]) torch.Size([1701, 8])\n",
            "torch.Size([8]) torch.Size([1, 8]) tensor([ 0.5985,  0.1720, -0.1254,  0.1329,  0.2198, -0.1788, -0.2152, -0.4198]) tensor([[ 0.5985,  0.1720, -0.1254,  0.1329,  0.2198, -0.1788, -0.2152, -0.4198]])\n",
            "torch.Size([8, 1701])\n"
          ]
        },
        {
          "output_type": "execute_result",
          "data": {
            "text/plain": [
              "torch.Size([1, 1701])"
            ]
          },
          "metadata": {},
          "execution_count": 31
        }
      ]
    },
    {
      "cell_type": "code",
      "source": [
        "word_dot_dict['potter'], mm_result[0, tok2idx['potter']].item()\n"
      ],
      "metadata": {
        "id": "S0fiPAGUeijZ",
        "outputId": "a388f971-c33a-4a8f-ddc1-7aedfaeae0ad",
        "colab": {
          "base_uri": "https://localhost:8080/"
        }
      },
      "execution_count": 32,
      "outputs": [
        {
          "output_type": "execute_result",
          "data": {
            "text/plain": [
              "(-0.16310632228851318, -0.16310632228851318)"
            ]
          },
          "metadata": {},
          "execution_count": 32
        }
      ]
    },
    {
      "cell_type": "code",
      "source": [
        "# convert dot product result into exponential\n",
        "exp_mm_result = torch.exp(mm_result)\n",
        "word_exp_dict['potter'], exp_mm_result[0, tok2idx['potter']].item()\n"
      ],
      "metadata": {
        "id": "5USdps5CfKzq",
        "outputId": "af744cf1-6ce0-41c3-bbb2-24276559ee46",
        "colab": {
          "base_uri": "https://localhost:8080/"
        }
      },
      "execution_count": 33,
      "outputs": [
        {
          "output_type": "execute_result",
          "data": {
            "text/plain": [
              "(0.8495008627370388, 0.849500834941864)"
            ]
          },
          "metadata": {},
          "execution_count": 33
        }
      ]
    },
    {
      "cell_type": "code",
      "source": [
        "# get the sum of exponential\n",
        "print(exp_mm_result.shape)\n",
        "sum_exp_mm = torch.sum(exp_mm_result, dim=1)\n",
        "sum_exp_mm"
      ],
      "metadata": {
        "id": "WNq0gqz0fntB",
        "outputId": "f63b4923-f845-462d-bf7f-93a282cf5603",
        "colab": {
          "base_uri": "https://localhost:8080/"
        }
      },
      "execution_count": 34,
      "outputs": [
        {
          "output_type": "stream",
          "name": "stdout",
          "text": [
            "torch.Size([1, 1701])\n"
          ]
        },
        {
          "output_type": "execute_result",
          "data": {
            "text/plain": [
              "tensor([1737.6738])"
            ]
          },
          "metadata": {},
          "execution_count": 34
        }
      ]
    },
    {
      "cell_type": "code",
      "source": [
        "# divide exponential value with sum\n",
        "prob_mm = exp_mm_result / sum_exp_mm\n",
        "\n",
        "word_prob_dict['potter'], prob_mm[0, tok2idx['potter']].item()"
      ],
      "metadata": {
        "id": "ruV4_myDgLvG",
        "outputId": "ad9cacde-3778-4df7-9bac-9cc3fb569c1c",
        "colab": {
          "base_uri": "https://localhost:8080/"
        }
      },
      "execution_count": 35,
      "outputs": [
        {
          "output_type": "execute_result",
          "data": {
            "text/plain": [
              "(0.0004888724600192055, 0.0004888724070042372)"
            ]
          },
          "metadata": {},
          "execution_count": 35
        }
      ]
    },
    {
      "cell_type": "code",
      "source": [
        "def get_probs(query_vectors, entire_vectors):\n",
        "  assert query_vectors.ndim == 2\n",
        "  assert entire_vectors.ndim == 2\n",
        "  assert query_vectors.shape[1] == entire_vectors.shape[1], 'each vector size has to match'\n",
        "\n",
        "  mm_result = torch.mm(query_vectors, entire_vectors.T)\n",
        "  exp_value = torch.exp(mm_result)\n",
        "  sum_value = torch.sum(exp_value, dim=1, keepdim=True)\n",
        "  # print(exp_value.shape, sum_value.shape)\n",
        "  # print(sum_value)\n",
        "  prob = exp_value / sum_value\n",
        "  return prob\n",
        "\n",
        "# get_probs(mat_of_harry, word_vectors)\n",
        "mat_of_harry_potter = torch.stack([vector_of_harry, vector_of_potter], dim=0)\n",
        "print(mat_of_harry_potter.shape)\n",
        "probs = get_probs(mat_of_harry_potter, word_vectors)\n",
        "\n",
        "torch.sum(probs[1, : ]), torch.sum(probs[0, : ])"
      ],
      "metadata": {
        "id": "EF4gutuEgntj",
        "outputId": "f9842a18-80d3-4fdf-a308-9a081dad077a",
        "colab": {
          "base_uri": "https://localhost:8080/"
        }
      },
      "execution_count": 64,
      "outputs": [
        {
          "output_type": "stream",
          "name": "stdout",
          "text": [
            "torch.Size([2, 8])\n"
          ]
        },
        {
          "output_type": "execute_result",
          "data": {
            "text/plain": [
              "(tensor(1.0000), tensor(1.))"
            ]
          },
          "metadata": {},
          "execution_count": 64
        }
      ]
    },
    {
      "cell_type": "code",
      "source": [
        "# Now we can train the word2vec\n",
        "\n",
        "# Let's think about training pairs\n",
        "index_pairs # this is our dataset. It's list of list of two integer\n",
        "# two integer means a pair of neighboring words\n",
        "\n",
        "# Training set and Test set\n",
        "# To validate that our model can solve 'unseen' problems\n",
        "# So we have to split the dataset before training.\n",
        "\n",
        "# To randomly split the dataset, we will first shuffle the dataset\n",
        "print(index_pairs[:10])\n",
        "import random\n",
        "# random.shuffle(index_pairs) # this will shuffle the list items\n",
        "print(index_pairs[:10])\n",
        "print(len(index_pairs))\n",
        "\n",
        "train_set = index_pairs[:200000]\n",
        "test_set = index_pairs[200000:]"
      ],
      "metadata": {
        "id": "3gjCSY3DoaFg",
        "outputId": "c4fd08f9-302b-416e-bbb2-023378e728f3",
        "colab": {
          "base_uri": "https://localhost:8080/"
        }
      },
      "execution_count": 43,
      "outputs": [
        {
          "output_type": "stream",
          "name": "stdout",
          "text": [
            "[[602, 705], [214, 712], [1604, 841], [35, 870], [1688, 919], [588, 1162], [1676, 1414], [1579, 624], [276, 692], [995, 1669]]\n",
            "[[602, 705], [214, 712], [1604, 841], [35, 870], [1688, 919], [588, 1162], [1676, 1414], [1579, 624], [276, 692], [995, 1669]]\n",
            "233046\n"
          ]
        }
      ]
    },
    {
      "cell_type": "code",
      "source": [
        "len(train_set), len(test_set)"
      ],
      "metadata": {
        "id": "TC0QF3NZp9Rh",
        "outputId": "406890fe-24d3-4ba5-f185-a51470d0cca6",
        "colab": {
          "base_uri": "https://localhost:8080/"
        }
      },
      "execution_count": 44,
      "outputs": [
        {
          "output_type": "execute_result",
          "data": {
            "text/plain": [
              "(200000, 33046)"
            ]
          },
          "metadata": {},
          "execution_count": 44
        }
      ]
    },
    {
      "cell_type": "code",
      "source": [
        "# making batch from train_set\n",
        "# Batch is a set of training samples, that are calculated together\n",
        "# And also we update the model after one single batch\n",
        "\n",
        "batch_size = 128 # we will calculate 64 samples in a single time\n",
        "current_sample_idx = 0\n",
        "dim = 32\n",
        "word_vectors = torch.randn(vocab_size, dim) / 4\n",
        "word_vectors.requires_grad = True\n",
        "lr = 0.01\n",
        "loss_record = []\n",
        "num_epochs = 10\n",
        "\n",
        "for epoch in tqdm(range(num_epochs)):\n",
        "  for current_sample_idx in tqdm(range(0, len(train_set), batch_size), leave=False):\n",
        "    train_batch = train_set[current_sample_idx:current_sample_idx + batch_size]\n",
        "    query_word_ids = [pair[0] for pair in train_batch]\n",
        "    query_vectors = word_vectors[query_word_ids]\n",
        "\n",
        "    probs = get_probs(query_vectors, word_vectors) # shape 64, 1701\n",
        "    # probs[31, 1507] means probability of 1507th words appearing for given 31st query word\n",
        "    # which is actually query_word_ids[31]-th word in the vocabulary\n",
        "\n",
        "    # Then, we have to select the probabilities that we have to maximize\n",
        "    target_word_ids = [pair[1] for pair in train_batch]\n",
        "    # print(train_batch)\n",
        "    # print(target_word_ids)\n",
        "    target_probs = probs[torch.arange(len(target_word_ids)), len(target_word_ids)]\n",
        "\n",
        "    target_loss = -torch.log(target_probs + 1e-8) # negative log-likelihood\n",
        "    loss = target_loss.mean()\n",
        "    loss.backward() # do backpropagation and calculate gradient\n",
        "\n",
        "    word_vectors.data -= word_vectors.grad * lr # update the parameters\n",
        "    word_vectors.grad = None # reset the gradient\n",
        "    loss_record.append(loss.item())\n",
        "    # print(train_batch, len(train_batch))\n",
        "    # print(query_word_ids)\n",
        "    # print(query_vectors)"
      ],
      "metadata": {
        "id": "JpUM3aiiqG8e",
        "outputId": "dd0f5178-8bef-4385-9900-f0159023ba2b",
        "colab": {
          "base_uri": "https://localhost:8080/"
        }
      },
      "execution_count": 84,
      "outputs": [
        {
          "output_type": "stream",
          "name": "stderr",
          "text": [
            "  0%|          | 0/10 [00:00<?, ?it/s]\n",
            "  0%|          | 0/1563 [00:00<?, ?it/s]\u001b[A\n",
            "  2%|▏         | 25/1563 [00:00<00:06, 245.48it/s]\u001b[A\n",
            "  4%|▍         | 59/1563 [00:00<00:05, 298.12it/s]\u001b[A\n",
            "  6%|▌         | 89/1563 [00:00<00:04, 295.63it/s]\u001b[A\n",
            "  8%|▊         | 124/1563 [00:00<00:04, 314.52it/s]\u001b[A\n",
            " 10%|█         | 158/1563 [00:00<00:04, 321.47it/s]\u001b[A\n",
            " 12%|█▏        | 191/1563 [00:00<00:04, 313.37it/s]\u001b[A\n",
            " 14%|█▍        | 224/1563 [00:00<00:04, 316.53it/s]\u001b[A\n",
            " 17%|█▋        | 259/1563 [00:00<00:03, 326.61it/s]\u001b[A\n",
            " 19%|█▊        | 292/1563 [00:00<00:04, 295.69it/s]\u001b[A\n",
            " 21%|██        | 323/1563 [00:01<00:04, 265.61it/s]\u001b[A\n",
            " 22%|██▏       | 351/1563 [00:01<00:04, 258.93it/s]\u001b[A\n",
            " 24%|██▍       | 378/1563 [00:01<00:04, 253.14it/s]\u001b[A\n",
            " 26%|██▌       | 405/1563 [00:01<00:04, 256.71it/s]\u001b[A\n",
            " 28%|██▊       | 431/1563 [00:01<00:04, 252.81it/s]\u001b[A\n",
            " 29%|██▉       | 457/1563 [00:01<00:04, 248.49it/s]\u001b[A\n",
            " 31%|███       | 482/1563 [00:01<00:04, 247.15it/s]\u001b[A\n",
            " 32%|███▏      | 507/1563 [00:01<00:04, 239.19it/s]\u001b[A\n",
            " 34%|███▍      | 532/1563 [00:01<00:04, 241.73it/s]\u001b[A\n",
            " 36%|███▌      | 558/1563 [00:02<00:04, 245.87it/s]\u001b[A\n",
            " 37%|███▋      | 584/1563 [00:02<00:03, 247.76it/s]\u001b[A\n",
            " 39%|███▉      | 610/1563 [00:02<00:03, 249.82it/s]\u001b[A\n",
            " 41%|████      | 636/1563 [00:02<00:03, 246.25it/s]\u001b[A\n",
            " 42%|████▏     | 661/1563 [00:02<00:03, 236.18it/s]\u001b[A\n",
            " 44%|████▍     | 685/1563 [00:02<00:03, 232.86it/s]\u001b[A\n",
            " 45%|████▌     | 709/1563 [00:02<00:03, 229.21it/s]\u001b[A\n",
            " 47%|████▋     | 735/1563 [00:02<00:03, 235.71it/s]\u001b[A\n",
            " 49%|████▊     | 759/1563 [00:02<00:03, 230.55it/s]\u001b[A\n",
            " 50%|█████     | 783/1563 [00:03<00:03, 231.69it/s]\u001b[A\n",
            " 52%|█████▏    | 807/1563 [00:03<00:03, 225.59it/s]\u001b[A\n",
            " 53%|█████▎    | 830/1563 [00:03<00:03, 219.13it/s]\u001b[A\n",
            " 55%|█████▍    | 852/1563 [00:03<00:03, 216.39it/s]\u001b[A\n",
            " 56%|█████▌    | 874/1563 [00:03<00:03, 212.97it/s]\u001b[A\n",
            " 58%|█████▊    | 906/1563 [00:03<00:02, 241.70it/s]\u001b[A\n",
            " 60%|██████    | 938/1563 [00:03<00:02, 261.11it/s]\u001b[A\n",
            " 62%|██████▏   | 971/1563 [00:03<00:02, 279.88it/s]\u001b[A\n",
            " 64%|██████▍   | 1002/1563 [00:03<00:01, 287.19it/s]\u001b[A\n",
            " 66%|██████▋   | 1036/1563 [00:03<00:01, 300.25it/s]\u001b[A\n",
            " 68%|██████▊   | 1068/1563 [00:04<00:01, 305.66it/s]\u001b[A\n",
            " 70%|███████   | 1101/1563 [00:04<00:01, 311.25it/s]\u001b[A\n",
            " 72%|███████▏  | 1133/1563 [00:04<00:01, 299.14it/s]\u001b[A\n",
            " 75%|███████▍  | 1168/1563 [00:04<00:01, 311.57it/s]\u001b[A\n",
            " 77%|███████▋  | 1202/1563 [00:04<00:01, 318.02it/s]\u001b[A\n",
            " 79%|███████▉  | 1236/1563 [00:04<00:01, 322.29it/s]\u001b[A\n",
            " 81%|████████  | 1269/1563 [00:04<00:00, 315.17it/s]\u001b[A\n",
            " 83%|████████▎ | 1301/1563 [00:04<00:00, 314.49it/s]\u001b[A\n",
            " 85%|████████▌ | 1333/1563 [00:04<00:00, 314.52it/s]\u001b[A\n",
            " 87%|████████▋ | 1367/1563 [00:05<00:00, 320.79it/s]\u001b[A\n",
            " 90%|████████▉ | 1400/1563 [00:05<00:00, 322.75it/s]\u001b[A\n",
            " 92%|█████████▏| 1435/1563 [00:05<00:00, 328.24it/s]\u001b[A\n",
            " 94%|█████████▍| 1468/1563 [00:05<00:00, 320.89it/s]\u001b[A\n",
            " 96%|█████████▌| 1504/1563 [00:05<00:00, 330.28it/s]\u001b[A\n",
            " 98%|█████████▊| 1539/1563 [00:05<00:00, 334.59it/s]\u001b[A\n",
            " 10%|█         | 1/10 [00:05<00:50,  5.62s/it]\n",
            "  0%|          | 0/1563 [00:00<?, ?it/s]\u001b[A\n",
            "  2%|▏         | 32/1563 [00:00<00:04, 317.20it/s]\u001b[A\n",
            "  4%|▍         | 68/1563 [00:00<00:04, 337.48it/s]\u001b[A\n",
            "  7%|▋         | 102/1563 [00:00<00:04, 328.67it/s]\u001b[A\n",
            "  9%|▊         | 135/1563 [00:00<00:04, 317.45it/s]\u001b[A\n",
            " 11%|█         | 167/1563 [00:00<00:04, 317.85it/s]\u001b[A\n",
            " 13%|█▎        | 202/1563 [00:00<00:04, 327.31it/s]\u001b[A\n",
            " 15%|█▌        | 235/1563 [00:00<00:04, 315.90it/s]\u001b[A\n",
            " 17%|█▋        | 267/1563 [00:00<00:04, 313.73it/s]\u001b[A\n",
            " 19%|█▉        | 299/1563 [00:00<00:04, 309.72it/s]\u001b[A\n",
            " 21%|██▏       | 333/1563 [00:01<00:03, 317.55it/s]\u001b[A\n",
            " 23%|██▎       | 366/1563 [00:01<00:03, 318.90it/s]\u001b[A\n",
            " 26%|██▌       | 399/1563 [00:01<00:03, 320.16it/s]\u001b[A\n",
            " 28%|██▊       | 434/1563 [00:01<00:03, 327.30it/s]\u001b[A\n",
            " 30%|██▉       | 468/1563 [00:01<00:03, 329.16it/s]\u001b[A\n",
            " 32%|███▏      | 502/1563 [00:01<00:03, 329.78it/s]\u001b[A\n",
            " 34%|███▍      | 535/1563 [00:01<00:03, 323.86it/s]\u001b[A\n",
            " 36%|███▋      | 568/1563 [00:01<00:03, 322.28it/s]\u001b[A\n",
            " 39%|███▊      | 602/1563 [00:01<00:02, 325.07it/s]\u001b[A\n",
            " 41%|████      | 638/1563 [00:01<00:02, 333.86it/s]\u001b[A\n",
            " 43%|████▎     | 673/1563 [00:02<00:02, 337.02it/s]\u001b[A\n",
            " 45%|████▌     | 708/1563 [00:02<00:02, 340.30it/s]\u001b[A\n",
            " 48%|████▊     | 743/1563 [00:02<00:02, 335.37it/s]\u001b[A\n",
            " 50%|████▉     | 777/1563 [00:02<00:02, 332.61it/s]\u001b[A\n",
            " 52%|█████▏    | 811/1563 [00:02<00:02, 320.79it/s]\u001b[A\n",
            " 54%|█████▍    | 844/1563 [00:02<00:02, 315.26it/s]\u001b[A\n",
            " 56%|█████▌    | 876/1563 [00:02<00:02, 312.83it/s]\u001b[A\n",
            " 58%|█████▊    | 908/1563 [00:02<00:02, 313.54it/s]\u001b[A\n",
            " 60%|██████    | 940/1563 [00:02<00:02, 307.37it/s]\u001b[A\n",
            " 62%|██████▏   | 971/1563 [00:03<00:01, 305.06it/s]\u001b[A\n",
            " 64%|██████▍   | 1002/1563 [00:03<00:01, 297.96it/s]\u001b[A\n",
            " 66%|██████▌   | 1032/1563 [00:03<00:01, 290.48it/s]\u001b[A\n",
            " 68%|██████▊   | 1062/1563 [00:03<00:01, 290.45it/s]\u001b[A\n",
            " 70%|██████▉   | 1092/1563 [00:03<00:01, 289.91it/s]\u001b[A\n",
            " 72%|███████▏  | 1122/1563 [00:03<00:01, 292.04it/s]\u001b[A\n",
            " 74%|███████▍  | 1154/1563 [00:03<00:01, 297.25it/s]\u001b[A\n",
            " 76%|███████▌  | 1184/1563 [00:03<00:01, 296.60it/s]\u001b[A\n",
            " 78%|███████▊  | 1214/1563 [00:03<00:01, 293.44it/s]\u001b[A\n",
            " 80%|███████▉  | 1248/1563 [00:03<00:01, 305.23it/s]\u001b[A\n",
            " 82%|████████▏ | 1281/1563 [00:04<00:00, 311.20it/s]\u001b[A\n",
            " 84%|████████▍ | 1313/1563 [00:04<00:00, 308.91it/s]\u001b[A\n",
            " 86%|████████▌ | 1346/1563 [00:04<00:00, 314.17it/s]\u001b[A\n",
            " 88%|████████▊ | 1381/1563 [00:04<00:00, 323.50it/s]\u001b[A\n",
            " 90%|█████████ | 1414/1563 [00:04<00:00, 324.95it/s]\u001b[A\n",
            " 93%|█████████▎| 1448/1563 [00:04<00:00, 328.10it/s]\u001b[A\n",
            " 95%|█████████▍| 1483/1563 [00:04<00:00, 331.60it/s]\u001b[A\n",
            " 97%|█████████▋| 1517/1563 [00:04<00:00, 329.13it/s]\u001b[A\n",
            " 99%|█████████▉| 1550/1563 [00:04<00:00, 319.17it/s]\u001b[A\n",
            " 20%|██        | 2/10 [00:10<00:41,  5.23s/it]\n",
            "  0%|          | 0/1563 [00:00<?, ?it/s]\u001b[A\n",
            "  2%|▏         | 31/1563 [00:00<00:04, 308.95it/s]\u001b[A\n",
            "  4%|▍         | 64/1563 [00:00<00:04, 319.55it/s]\u001b[A\n",
            "  6%|▋         | 99/1563 [00:00<00:04, 331.97it/s]\u001b[A\n",
            "  9%|▊         | 134/1563 [00:00<00:04, 336.31it/s]\u001b[A\n",
            " 11%|█         | 168/1563 [00:00<00:04, 328.12it/s]\u001b[A\n",
            " 13%|█▎        | 202/1563 [00:00<00:04, 330.41it/s]\u001b[A\n",
            " 15%|█▌        | 236/1563 [00:00<00:04, 330.40it/s]\u001b[A\n",
            " 17%|█▋        | 270/1563 [00:00<00:03, 329.11it/s]\u001b[A\n",
            " 19%|█▉        | 303/1563 [00:00<00:04, 314.41it/s]\u001b[A\n",
            " 22%|██▏       | 337/1563 [00:01<00:03, 320.52it/s]\u001b[A\n",
            " 24%|██▍       | 372/1563 [00:01<00:03, 327.28it/s]\u001b[A\n",
            " 26%|██▌       | 406/1563 [00:01<00:03, 330.76it/s]\u001b[A\n",
            " 28%|██▊       | 440/1563 [00:01<00:03, 324.18it/s]\u001b[A\n",
            " 30%|███       | 473/1563 [00:01<00:03, 321.34it/s]\u001b[A\n",
            " 32%|███▏      | 506/1563 [00:01<00:03, 319.28it/s]\u001b[A\n",
            " 34%|███▍      | 539/1563 [00:01<00:03, 321.20it/s]\u001b[A\n",
            " 37%|███▋      | 572/1563 [00:01<00:03, 313.11it/s]\u001b[A\n",
            " 39%|███▊      | 605/1563 [00:01<00:03, 316.90it/s]\u001b[A\n",
            " 41%|████      | 637/1563 [00:01<00:02, 311.31it/s]\u001b[A\n",
            " 43%|████▎     | 670/1563 [00:02<00:02, 315.95it/s]\u001b[A\n",
            " 45%|████▌     | 704/1563 [00:02<00:02, 320.88it/s]\u001b[A\n",
            " 47%|████▋     | 738/1563 [00:02<00:02, 324.56it/s]\u001b[A\n",
            " 49%|████▉     | 772/1563 [00:02<00:02, 327.06it/s]\u001b[A\n",
            " 52%|█████▏    | 805/1563 [00:02<00:02, 322.75it/s]\u001b[A\n",
            " 54%|█████▎    | 838/1563 [00:02<00:02, 315.70it/s]\u001b[A\n",
            " 56%|█████▌    | 870/1563 [00:02<00:02, 306.02it/s]\u001b[A\n",
            " 58%|█████▊    | 901/1563 [00:02<00:02, 306.30it/s]\u001b[A\n",
            " 60%|█████▉    | 932/1563 [00:02<00:02, 292.10it/s]\u001b[A\n",
            " 62%|██████▏   | 962/1563 [00:03<00:02, 266.03it/s]\u001b[A\n",
            " 63%|██████▎   | 990/1563 [00:03<00:02, 258.06it/s]\u001b[A\n",
            " 65%|██████▌   | 1017/1563 [00:03<00:02, 240.61it/s]\u001b[A\n",
            " 67%|██████▋   | 1042/1563 [00:03<00:02, 236.21it/s]\u001b[A\n",
            " 68%|██████▊   | 1066/1563 [00:03<00:02, 228.13it/s]\u001b[A\n",
            " 70%|██████▉   | 1089/1563 [00:03<00:02, 211.48it/s]\u001b[A\n",
            " 71%|███████   | 1111/1563 [00:03<00:02, 189.59it/s]\u001b[A\n",
            " 72%|███████▏  | 1131/1563 [00:03<00:02, 177.42it/s]\u001b[A\n",
            " 74%|███████▎  | 1150/1563 [00:04<00:02, 165.61it/s]\u001b[A\n",
            " 75%|███████▍  | 1167/1563 [00:04<00:02, 156.61it/s]\u001b[A\n",
            " 76%|███████▌  | 1183/1563 [00:04<00:02, 151.55it/s]\u001b[A\n",
            " 77%|███████▋  | 1199/1563 [00:04<00:02, 146.78it/s]\u001b[A\n",
            " 78%|███████▊  | 1214/1563 [00:04<00:02, 143.66it/s]\u001b[A\n",
            " 79%|███████▊  | 1229/1563 [00:04<00:02, 138.60it/s]\u001b[A\n",
            " 80%|███████▉  | 1243/1563 [00:04<00:02, 138.38it/s]\u001b[A\n",
            " 80%|████████  | 1257/1563 [00:04<00:02, 137.76it/s]\u001b[A\n",
            " 81%|████████▏ | 1272/1563 [00:04<00:02, 141.04it/s]\u001b[A\n",
            " 82%|████████▏ | 1287/1563 [00:05<00:02, 135.33it/s]\u001b[A\n",
            " 83%|████████▎ | 1301/1563 [00:05<00:01, 135.16it/s]\u001b[A\n",
            " 84%|████████▍ | 1315/1563 [00:05<00:01, 134.45it/s]\u001b[A\n",
            " 85%|████████▌ | 1329/1563 [00:05<00:01, 133.42it/s]\u001b[A\n",
            " 86%|████████▋ | 1351/1563 [00:05<00:01, 156.81it/s]\u001b[A\n",
            " 88%|████████▊ | 1373/1563 [00:05<00:01, 174.61it/s]\u001b[A\n",
            " 89%|████████▉ | 1395/1563 [00:05<00:00, 186.33it/s]\u001b[A\n",
            " 91%|█████████ | 1417/1563 [00:05<00:00, 195.35it/s]\u001b[A\n",
            " 92%|█████████▏| 1440/1563 [00:05<00:00, 203.13it/s]\u001b[A\n",
            " 94%|█████████▎| 1463/1563 [00:06<00:00, 210.01it/s]\u001b[A\n",
            " 95%|█████████▌| 1485/1563 [00:06<00:00, 204.76it/s]\u001b[A\n",
            " 96%|█████████▋| 1506/1563 [00:06<00:00, 204.49it/s]\u001b[A\n",
            " 98%|█████████▊| 1529/1563 [00:06<00:00, 210.44it/s]\u001b[A\n",
            " 99%|█████████▉| 1553/1563 [00:06<00:00, 216.81it/s]\u001b[A\n",
            " 30%|███       | 3/10 [00:17<00:40,  5.82s/it]\n",
            "  0%|          | 0/1563 [00:00<?, ?it/s]\u001b[A\n",
            "  1%|▏         | 23/1563 [00:00<00:06, 224.65it/s]\u001b[A\n",
            "  3%|▎         | 46/1563 [00:00<00:06, 222.05it/s]\u001b[A\n",
            "  4%|▍         | 69/1563 [00:00<00:06, 221.73it/s]\u001b[A\n",
            "  6%|▌         | 92/1563 [00:00<00:06, 223.81it/s]\u001b[A\n",
            "  7%|▋         | 115/1563 [00:00<00:06, 223.26it/s]\u001b[A\n",
            "  9%|▉         | 138/1563 [00:00<00:06, 218.00it/s]\u001b[A\n",
            " 10%|█         | 162/1563 [00:00<00:06, 223.76it/s]\u001b[A\n",
            " 12%|█▏        | 185/1563 [00:00<00:06, 222.21it/s]\u001b[A\n",
            " 13%|█▎        | 208/1563 [00:00<00:06, 222.45it/s]\u001b[A\n",
            " 15%|█▍        | 231/1563 [00:01<00:06, 218.31it/s]\u001b[A\n",
            " 16%|█▌        | 253/1563 [00:01<00:06, 215.91it/s]\u001b[A\n",
            " 18%|█▊        | 275/1563 [00:01<00:05, 214.79it/s]\u001b[A\n",
            " 19%|█▉        | 298/1563 [00:01<00:05, 216.94it/s]\u001b[A\n",
            " 21%|██        | 321/1563 [00:01<00:05, 219.97it/s]\u001b[A\n",
            " 22%|██▏       | 344/1563 [00:01<00:05, 217.82it/s]\u001b[A\n",
            " 23%|██▎       | 366/1563 [00:01<00:05, 211.22it/s]\u001b[A\n",
            " 25%|██▍       | 389/1563 [00:01<00:05, 215.17it/s]\u001b[A\n",
            " 26%|██▋       | 411/1563 [00:01<00:05, 210.54it/s]\u001b[A\n",
            " 28%|██▊       | 433/1563 [00:01<00:05, 212.52it/s]\u001b[A\n",
            " 29%|██▉       | 456/1563 [00:02<00:05, 216.63it/s]\u001b[A\n",
            " 31%|███       | 478/1563 [00:02<00:04, 217.58it/s]\u001b[A\n",
            " 32%|███▏      | 502/1563 [00:02<00:04, 221.50it/s]\u001b[A\n",
            " 34%|███▎      | 525/1563 [00:02<00:04, 219.60it/s]\u001b[A\n",
            " 35%|███▍      | 547/1563 [00:02<00:04, 219.40it/s]\u001b[A\n",
            " 36%|███▋      | 569/1563 [00:02<00:04, 218.62it/s]\u001b[A\n",
            " 38%|███▊      | 591/1563 [00:02<00:04, 213.19it/s]\u001b[A\n",
            " 39%|███▉      | 613/1563 [00:02<00:04, 212.21it/s]\u001b[A\n",
            " 41%|████      | 636/1563 [00:02<00:04, 215.39it/s]\u001b[A\n",
            " 42%|████▏     | 658/1563 [00:03<00:04, 216.58it/s]\u001b[A\n",
            " 44%|████▎     | 680/1563 [00:03<00:04, 217.20it/s]\u001b[A\n",
            " 45%|████▍     | 702/1563 [00:03<00:03, 215.63it/s]\u001b[A\n",
            " 46%|████▋     | 725/1563 [00:03<00:03, 217.87it/s]\u001b[A\n",
            " 48%|████▊     | 748/1563 [00:03<00:03, 220.00it/s]\u001b[A\n",
            " 49%|████▉     | 771/1563 [00:03<00:03, 218.27it/s]\u001b[A\n",
            " 51%|█████     | 793/1563 [00:03<00:03, 218.68it/s]\u001b[A\n",
            " 52%|█████▏    | 815/1563 [00:03<00:03, 215.06it/s]\u001b[A\n",
            " 54%|█████▎    | 838/1563 [00:03<00:03, 217.12it/s]\u001b[A\n",
            " 55%|█████▌    | 862/1563 [00:03<00:03, 222.79it/s]\u001b[A\n",
            " 57%|█████▋    | 885/1563 [00:04<00:03, 221.74it/s]\u001b[A\n",
            " 58%|█████▊    | 909/1563 [00:04<00:02, 225.13it/s]\u001b[A\n",
            " 60%|█████▉    | 933/1563 [00:04<00:02, 227.37it/s]\u001b[A\n",
            " 61%|██████    | 957/1563 [00:04<00:02, 229.80it/s]\u001b[A\n",
            " 63%|██████▎   | 980/1563 [00:04<00:02, 228.47it/s]\u001b[A\n",
            " 64%|██████▍   | 1003/1563 [00:04<00:02, 227.20it/s]\u001b[A\n",
            " 66%|██████▌   | 1026/1563 [00:04<00:02, 227.09it/s]\u001b[A\n",
            " 67%|██████▋   | 1049/1563 [00:04<00:02, 217.88it/s]\u001b[A\n",
            " 69%|██████▊   | 1071/1563 [00:04<00:02, 214.36it/s]\u001b[A\n",
            " 70%|██████▉   | 1093/1563 [00:04<00:02, 213.40it/s]\u001b[A\n",
            " 71%|███████▏  | 1116/1563 [00:05<00:02, 218.08it/s]\u001b[A\n",
            " 73%|███████▎  | 1139/1563 [00:05<00:01, 218.86it/s]\u001b[A\n",
            " 74%|███████▍  | 1162/1563 [00:05<00:01, 221.36it/s]\u001b[A\n",
            " 76%|███████▌  | 1185/1563 [00:05<00:01, 219.92it/s]\u001b[A\n",
            " 77%|███████▋  | 1208/1563 [00:05<00:01, 216.24it/s]\u001b[A\n",
            " 79%|███████▊  | 1230/1563 [00:05<00:01, 216.96it/s]\u001b[A\n",
            " 80%|████████  | 1252/1563 [00:05<00:01, 212.24it/s]\u001b[A\n",
            " 82%|████████▏ | 1274/1563 [00:05<00:01, 206.93it/s]\u001b[A\n",
            " 83%|████████▎ | 1297/1563 [00:05<00:01, 213.37it/s]\u001b[A\n",
            " 84%|████████▍ | 1320/1563 [00:06<00:01, 216.94it/s]\u001b[A\n",
            " 86%|████████▌ | 1344/1563 [00:06<00:00, 221.98it/s]\u001b[A\n",
            " 87%|████████▋ | 1367/1563 [00:06<00:00, 220.88it/s]\u001b[A\n",
            " 89%|████████▉ | 1390/1563 [00:06<00:00, 220.91it/s]\u001b[A\n",
            " 90%|█████████ | 1413/1563 [00:06<00:00, 221.49it/s]\u001b[A\n",
            " 92%|█████████▏| 1436/1563 [00:06<00:00, 219.07it/s]\u001b[A\n",
            " 93%|█████████▎| 1458/1563 [00:06<00:00, 213.02it/s]\u001b[A\n",
            " 95%|█████████▍| 1480/1563 [00:06<00:00, 207.42it/s]\u001b[A\n",
            " 96%|█████████▌| 1502/1563 [00:06<00:00, 209.39it/s]\u001b[A\n",
            " 98%|█████████▊| 1525/1563 [00:06<00:00, 212.68it/s]\u001b[A\n",
            " 99%|█████████▉| 1547/1563 [00:07<00:00, 213.44it/s]\u001b[A\n",
            " 40%|████      | 4/10 [00:24<00:38,  6.36s/it]\n",
            "  0%|          | 0/1563 [00:00<?, ?it/s]\u001b[A\n",
            "  1%|          | 18/1563 [00:00<00:08, 176.81it/s]\u001b[A\n",
            "  2%|▏         | 37/1563 [00:00<00:08, 182.31it/s]\u001b[A\n",
            "  4%|▍         | 59/1563 [00:00<00:07, 195.84it/s]\u001b[A\n",
            "  5%|▌         | 81/1563 [00:00<00:07, 204.53it/s]\u001b[A\n",
            "  7%|▋         | 104/1563 [00:00<00:06, 211.19it/s]\u001b[A\n",
            "  8%|▊         | 126/1563 [00:00<00:06, 210.34it/s]\u001b[A\n",
            "  9%|▉         | 148/1563 [00:00<00:06, 207.04it/s]\u001b[A\n",
            " 11%|█         | 170/1563 [00:00<00:06, 209.97it/s]\u001b[A\n",
            " 12%|█▏        | 194/1563 [00:00<00:06, 216.82it/s]\u001b[A\n",
            " 14%|█▍        | 216/1563 [00:01<00:06, 216.63it/s]\u001b[A\n",
            " 15%|█▌        | 239/1563 [00:01<00:06, 219.18it/s]\u001b[A\n",
            " 17%|█▋        | 262/1563 [00:01<00:05, 220.00it/s]\u001b[A\n",
            " 18%|█▊        | 285/1563 [00:01<00:05, 218.53it/s]\u001b[A\n",
            " 20%|█▉        | 307/1563 [00:01<00:05, 218.50it/s]\u001b[A\n",
            " 21%|██        | 329/1563 [00:01<00:05, 215.23it/s]\u001b[A\n",
            " 22%|██▏       | 351/1563 [00:01<00:05, 209.36it/s]\u001b[A\n",
            " 24%|██▍       | 372/1563 [00:01<00:06, 191.80it/s]\u001b[A\n",
            " 25%|██▌       | 392/1563 [00:01<00:06, 173.43it/s]\u001b[A\n",
            " 26%|██▌       | 410/1563 [00:02<00:07, 159.47it/s]\u001b[A\n",
            " 27%|██▋       | 427/1563 [00:02<00:07, 155.07it/s]\u001b[A\n",
            " 28%|██▊       | 443/1563 [00:02<00:07, 149.88it/s]\u001b[A\n",
            " 29%|██▉       | 459/1563 [00:02<00:07, 148.21it/s]\u001b[A\n",
            " 30%|███       | 474/1563 [00:02<00:07, 146.04it/s]\u001b[A\n",
            " 31%|███▏      | 489/1563 [00:02<00:07, 145.58it/s]\u001b[A\n",
            " 32%|███▏      | 504/1563 [00:02<00:07, 142.57it/s]\u001b[A\n",
            " 33%|███▎      | 519/1563 [00:02<00:07, 143.77it/s]\u001b[A\n",
            " 34%|███▍      | 535/1563 [00:02<00:06, 147.16it/s]\u001b[A\n",
            " 35%|███▌      | 551/1563 [00:03<00:06, 148.10it/s]\u001b[A\n",
            " 36%|███▋      | 567/1563 [00:03<00:06, 150.69it/s]\u001b[A\n",
            " 37%|███▋      | 583/1563 [00:03<00:06, 150.70it/s]\u001b[A\n",
            " 38%|███▊      | 599/1563 [00:03<00:06, 145.75it/s]\u001b[A\n",
            " 39%|███▉      | 614/1563 [00:03<00:06, 145.60it/s]\u001b[A\n",
            " 40%|████      | 630/1563 [00:03<00:06, 147.58it/s]\u001b[A\n",
            " 41%|████▏     | 645/1563 [00:03<00:06, 148.25it/s]\u001b[A\n",
            " 42%|████▏     | 660/1563 [00:03<00:06, 142.22it/s]\u001b[A\n",
            " 43%|████▎     | 675/1563 [00:03<00:06, 140.86it/s]\u001b[A\n",
            " 44%|████▍     | 690/1563 [00:04<00:06, 139.78it/s]\u001b[A\n",
            " 45%|████▌     | 705/1563 [00:04<00:06, 139.84it/s]\u001b[A\n",
            " 46%|████▌     | 720/1563 [00:04<00:06, 139.34it/s]\u001b[A\n",
            " 47%|████▋     | 734/1563 [00:04<00:06, 137.07it/s]\u001b[A\n",
            " 48%|████▊     | 755/1563 [00:04<00:05, 156.83it/s]\u001b[A\n",
            " 50%|████▉     | 776/1563 [00:04<00:04, 172.03it/s]\u001b[A\n",
            " 51%|█████     | 796/1563 [00:04<00:04, 180.16it/s]\u001b[A\n",
            " 52%|█████▏    | 817/1563 [00:04<00:03, 188.76it/s]\u001b[A\n",
            " 54%|█████▎    | 837/1563 [00:04<00:03, 190.19it/s]\u001b[A\n",
            " 55%|█████▍    | 859/1563 [00:04<00:03, 196.66it/s]\u001b[A\n",
            " 56%|█████▋    | 880/1563 [00:05<00:03, 198.77it/s]\u001b[A\n",
            " 58%|█████▊    | 901/1563 [00:05<00:03, 200.06it/s]\u001b[A\n",
            " 59%|█████▉    | 922/1563 [00:05<00:03, 202.53it/s]\u001b[A\n",
            " 60%|██████    | 943/1563 [00:05<00:03, 200.60it/s]\u001b[A\n",
            " 62%|██████▏   | 964/1563 [00:05<00:03, 197.12it/s]\u001b[A\n",
            " 63%|██████▎   | 984/1563 [00:05<00:02, 195.83it/s]\u001b[A\n",
            " 64%|██████▍   | 1005/1563 [00:05<00:02, 197.92it/s]\u001b[A\n",
            " 66%|██████▌   | 1026/1563 [00:05<00:02, 200.88it/s]\u001b[A\n",
            " 67%|██████▋   | 1047/1563 [00:05<00:02, 196.83it/s]\u001b[A\n",
            " 68%|██████▊   | 1067/1563 [00:06<00:02, 197.31it/s]\u001b[A\n",
            " 70%|██████▉   | 1087/1563 [00:06<00:02, 197.76it/s]\u001b[A\n",
            " 71%|███████   | 1108/1563 [00:06<00:02, 198.82it/s]\u001b[A\n",
            " 72%|███████▏  | 1129/1563 [00:06<00:02, 200.39it/s]\u001b[A\n",
            " 74%|███████▎  | 1150/1563 [00:06<00:02, 201.49it/s]\u001b[A\n",
            " 75%|███████▍  | 1171/1563 [00:06<00:01, 203.67it/s]\u001b[A\n",
            " 76%|███████▋  | 1194/1563 [00:06<00:01, 210.05it/s]\u001b[A\n",
            " 78%|███████▊  | 1216/1563 [00:06<00:01, 209.58it/s]\u001b[A\n",
            " 79%|███████▉  | 1237/1563 [00:06<00:01, 207.71it/s]\u001b[A\n",
            " 80%|████████  | 1258/1563 [00:06<00:01, 201.89it/s]\u001b[A\n",
            " 82%|████████▏ | 1279/1563 [00:07<00:01, 202.15it/s]\u001b[A\n",
            " 83%|████████▎ | 1300/1563 [00:07<00:01, 201.65it/s]\u001b[A\n",
            " 85%|████████▍ | 1321/1563 [00:07<00:01, 200.29it/s]\u001b[A\n",
            " 86%|████████▌ | 1342/1563 [00:07<00:01, 201.47it/s]\u001b[A\n",
            " 87%|████████▋ | 1363/1563 [00:07<00:00, 203.93it/s]\u001b[A\n",
            " 89%|████████▊ | 1384/1563 [00:07<00:00, 202.96it/s]\u001b[A\n",
            " 90%|████████▉ | 1405/1563 [00:07<00:00, 203.46it/s]\u001b[A\n",
            " 91%|█████████ | 1426/1563 [00:07<00:00, 204.87it/s]\u001b[A\n",
            " 93%|█████████▎| 1448/1563 [00:07<00:00, 205.44it/s]\u001b[A\n",
            " 94%|█████████▍| 1469/1563 [00:07<00:00, 202.01it/s]\u001b[A\n",
            " 95%|█████████▌| 1490/1563 [00:08<00:00, 203.43it/s]\u001b[A\n",
            " 97%|█████████▋| 1511/1563 [00:08<00:00, 163.49it/s]\u001b[A\n",
            " 98%|█████████▊| 1529/1563 [00:08<00:00, 100.50it/s]\u001b[A\n",
            " 99%|█████████▊| 1543/1563 [00:08<00:00, 104.81it/s]\u001b[A\n",
            "100%|█████████▉| 1557/1563 [00:08<00:00, 105.79it/s]\u001b[A\n",
            " 50%|█████     | 5/10 [00:33<00:36,  7.29s/it]\n",
            "  0%|          | 0/1563 [00:00<?, ?it/s]\u001b[A\n",
            "  1%|▏         | 20/1563 [00:00<00:07, 194.83it/s]\u001b[A\n",
            "  3%|▎         | 42/1563 [00:00<00:07, 206.51it/s]\u001b[A\n",
            "  4%|▍         | 64/1563 [00:00<00:07, 208.10it/s]\u001b[A\n",
            "  6%|▌         | 86/1563 [00:00<00:07, 210.44it/s]\u001b[A\n",
            "  7%|▋         | 108/1563 [00:00<00:07, 206.58it/s]\u001b[A\n",
            "  8%|▊         | 129/1563 [00:00<00:06, 207.29it/s]\u001b[A\n",
            " 10%|▉         | 151/1563 [00:00<00:06, 210.73it/s]\u001b[A\n",
            " 11%|█         | 173/1563 [00:00<00:06, 210.15it/s]\u001b[A\n",
            " 12%|█▏        | 195/1563 [00:00<00:06, 212.76it/s]\u001b[A\n",
            " 14%|█▍        | 217/1563 [00:01<00:06, 208.36it/s]\u001b[A\n",
            " 15%|█▌        | 238/1563 [00:01<00:06, 207.37it/s]\u001b[A\n",
            " 17%|█▋        | 260/1563 [00:01<00:06, 209.49it/s]\u001b[A\n",
            " 18%|█▊        | 283/1563 [00:01<00:06, 213.33it/s]\u001b[A\n",
            " 20%|█▉        | 305/1563 [00:01<00:05, 212.30it/s]\u001b[A\n",
            " 21%|██        | 327/1563 [00:01<00:05, 212.45it/s]\u001b[A\n",
            " 22%|██▏       | 349/1563 [00:01<00:05, 209.28it/s]\u001b[A\n",
            " 24%|██▎       | 371/1563 [00:01<00:05, 210.96it/s]\u001b[A\n",
            " 25%|██▌       | 393/1563 [00:01<00:05, 212.72it/s]\u001b[A\n",
            " 27%|██▋       | 416/1563 [00:01<00:05, 216.09it/s]\u001b[A\n",
            " 28%|██▊       | 438/1563 [00:02<00:05, 208.99it/s]\u001b[A\n",
            " 29%|██▉       | 460/1563 [00:02<00:05, 210.72it/s]\u001b[A\n",
            " 31%|███       | 483/1563 [00:02<00:05, 214.65it/s]\u001b[A\n",
            " 32%|███▏      | 505/1563 [00:02<00:04, 211.85it/s]\u001b[A\n",
            " 34%|███▎      | 527/1563 [00:02<00:04, 209.88it/s]\u001b[A\n",
            " 35%|███▌      | 549/1563 [00:02<00:04, 209.24it/s]\u001b[A\n",
            " 36%|███▋      | 570/1563 [00:02<00:04, 206.81it/s]\u001b[A\n",
            " 38%|███▊      | 591/1563 [00:02<00:04, 206.60it/s]\u001b[A\n",
            " 39%|███▉      | 613/1563 [00:02<00:04, 210.10it/s]\u001b[A\n",
            " 41%|████      | 635/1563 [00:03<00:04, 207.00it/s]\u001b[A\n",
            " 42%|████▏     | 656/1563 [00:03<00:04, 201.35it/s]\u001b[A\n",
            " 43%|████▎     | 677/1563 [00:03<00:04, 203.26it/s]\u001b[A\n",
            " 45%|████▍     | 698/1563 [00:03<00:04, 203.68it/s]\u001b[A\n",
            " 46%|████▌     | 719/1563 [00:03<00:04, 200.68it/s]\u001b[A\n",
            " 47%|████▋     | 740/1563 [00:03<00:04, 201.68it/s]\u001b[A\n",
            " 49%|████▊     | 761/1563 [00:03<00:03, 203.04it/s]\u001b[A\n",
            " 50%|█████     | 782/1563 [00:03<00:03, 203.03it/s]\u001b[A\n",
            " 51%|█████▏    | 803/1563 [00:03<00:03, 202.80it/s]\u001b[A\n",
            " 53%|█████▎    | 824/1563 [00:03<00:03, 201.26it/s]\u001b[A\n",
            " 54%|█████▍    | 845/1563 [00:04<00:03, 196.98it/s]\u001b[A\n",
            " 55%|█████▌    | 865/1563 [00:04<00:03, 190.56it/s]\u001b[A\n",
            " 57%|█████▋    | 887/1563 [00:04<00:03, 198.25it/s]\u001b[A\n",
            " 58%|█████▊    | 909/1563 [00:04<00:03, 203.96it/s]\u001b[A\n",
            " 60%|█████▉    | 932/1563 [00:04<00:02, 210.54it/s]\u001b[A\n",
            " 61%|██████    | 955/1563 [00:04<00:02, 214.97it/s]\u001b[A\n",
            " 63%|██████▎   | 977/1563 [00:04<00:02, 215.21it/s]\u001b[A\n",
            " 64%|██████▍   | 999/1563 [00:04<00:02, 216.33it/s]\u001b[A\n",
            " 65%|██████▌   | 1021/1563 [00:04<00:02, 216.59it/s]\u001b[A\n",
            " 67%|██████▋   | 1043/1563 [00:05<00:02, 217.32it/s]\u001b[A\n",
            " 68%|██████▊   | 1065/1563 [00:05<00:02, 217.03it/s]\u001b[A\n",
            " 70%|██████▉   | 1087/1563 [00:05<00:02, 210.23it/s]\u001b[A\n",
            " 71%|███████   | 1109/1563 [00:05<00:02, 211.77it/s]\u001b[A\n",
            " 72%|███████▏  | 1131/1563 [00:05<00:02, 210.21it/s]\u001b[A\n",
            " 74%|███████▍  | 1153/1563 [00:05<00:02, 183.71it/s]\u001b[A\n",
            " 75%|███████▍  | 1172/1563 [00:05<00:02, 173.13it/s]\u001b[A\n",
            " 76%|███████▌  | 1190/1563 [00:05<00:02, 163.33it/s]\u001b[A\n",
            " 77%|███████▋  | 1207/1563 [00:05<00:02, 155.37it/s]\u001b[A\n",
            " 78%|███████▊  | 1223/1563 [00:06<00:02, 153.59it/s]\u001b[A\n",
            " 79%|███████▉  | 1239/1563 [00:06<00:02, 150.25it/s]\u001b[A\n",
            " 80%|████████  | 1255/1563 [00:06<00:02, 147.87it/s]\u001b[A\n",
            " 81%|████████▏ | 1270/1563 [00:06<00:01, 147.68it/s]\u001b[A\n",
            " 82%|████████▏ | 1285/1563 [00:06<00:01, 147.47it/s]\u001b[A\n",
            " 83%|████████▎ | 1300/1563 [00:06<00:01, 147.91it/s]\u001b[A\n",
            " 84%|████████▍ | 1316/1563 [00:06<00:01, 149.41it/s]\u001b[A\n",
            " 85%|████████▌ | 1331/1563 [00:06<00:01, 146.26it/s]\u001b[A\n",
            " 86%|████████▌ | 1346/1563 [00:06<00:01, 143.20it/s]\u001b[A\n",
            " 87%|████████▋ | 1361/1563 [00:07<00:01, 143.36it/s]\u001b[A\n",
            " 88%|████████▊ | 1376/1563 [00:07<00:01, 139.92it/s]\u001b[A\n",
            " 89%|████████▉ | 1391/1563 [00:07<00:01, 140.11it/s]\u001b[A\n",
            " 90%|████████▉ | 1406/1563 [00:07<00:01, 136.20it/s]\u001b[A\n",
            " 91%|█████████ | 1421/1563 [00:07<00:01, 138.25it/s]\u001b[A\n",
            " 92%|█████████▏| 1436/1563 [00:07<00:00, 139.53it/s]\u001b[A\n",
            " 93%|█████████▎| 1451/1563 [00:07<00:00, 142.36it/s]\u001b[A\n",
            " 94%|█████████▍| 1466/1563 [00:07<00:00, 141.61it/s]\u001b[A\n",
            " 95%|█████████▍| 1481/1563 [00:07<00:00, 140.99it/s]\u001b[A\n",
            " 96%|█████████▌| 1496/1563 [00:07<00:00, 140.61it/s]\u001b[A\n",
            " 97%|█████████▋| 1511/1563 [00:08<00:00, 139.73it/s]\u001b[A\n",
            " 98%|█████████▊| 1532/1563 [00:08<00:00, 158.65it/s]\u001b[A\n",
            " 99%|█████████▉| 1554/1563 [00:08<00:00, 175.01it/s]\u001b[A\n",
            " 60%|██████    | 6/10 [00:41<00:30,  7.66s/it]\n",
            "  0%|          | 0/1563 [00:00<?, ?it/s]\u001b[A\n",
            "  1%|▏         | 23/1563 [00:00<00:06, 224.15it/s]\u001b[A\n",
            "  3%|▎         | 46/1563 [00:00<00:07, 215.53it/s]\u001b[A\n",
            "  4%|▍         | 68/1563 [00:00<00:06, 216.34it/s]\u001b[A\n",
            "  6%|▌         | 90/1563 [00:00<00:06, 213.35it/s]\u001b[A\n",
            "  7%|▋         | 112/1563 [00:00<00:06, 211.42it/s]\u001b[A\n",
            "  9%|▊         | 134/1563 [00:00<00:06, 211.84it/s]\u001b[A\n",
            " 10%|▉         | 156/1563 [00:00<00:06, 210.78it/s]\u001b[A\n",
            " 11%|█▏        | 178/1563 [00:00<00:06, 209.62it/s]\u001b[A\n",
            " 13%|█▎        | 199/1563 [00:00<00:06, 209.66it/s]\u001b[A\n",
            " 14%|█▍        | 220/1563 [00:01<00:06, 203.92it/s]\u001b[A\n",
            " 15%|█▌        | 241/1563 [00:01<00:06, 203.03it/s]\u001b[A\n",
            " 17%|█▋        | 264/1563 [00:01<00:06, 208.56it/s]\u001b[A\n",
            " 18%|█▊        | 287/1563 [00:01<00:06, 212.35it/s]\u001b[A\n",
            " 20%|█▉        | 310/1563 [00:01<00:05, 214.12it/s]\u001b[A\n",
            " 21%|██        | 332/1563 [00:01<00:05, 212.24it/s]\u001b[A\n",
            " 23%|██▎       | 354/1563 [00:01<00:05, 209.09it/s]\u001b[A\n",
            " 24%|██▍       | 375/1563 [00:01<00:05, 208.91it/s]\u001b[A\n",
            " 25%|██▌       | 396/1563 [00:01<00:05, 208.88it/s]\u001b[A\n",
            " 27%|██▋       | 419/1563 [00:01<00:05, 214.07it/s]\u001b[A\n",
            " 28%|██▊       | 441/1563 [00:02<00:05, 209.86it/s]\u001b[A\n",
            " 30%|██▉       | 464/1563 [00:02<00:05, 214.74it/s]\u001b[A\n",
            " 31%|███       | 487/1563 [00:02<00:04, 216.40it/s]\u001b[A\n",
            " 33%|███▎      | 509/1563 [00:02<00:04, 216.66it/s]\u001b[A\n",
            " 34%|███▍      | 531/1563 [00:02<00:04, 214.74it/s]\u001b[A\n",
            " 35%|███▌      | 553/1563 [00:02<00:04, 215.21it/s]\u001b[A\n",
            " 37%|███▋      | 575/1563 [00:02<00:04, 216.15it/s]\u001b[A\n",
            " 38%|███▊      | 597/1563 [00:02<00:04, 215.09it/s]\u001b[A\n",
            " 40%|███▉      | 619/1563 [00:02<00:04, 213.58it/s]\u001b[A\n",
            " 41%|████      | 641/1563 [00:03<00:04, 208.55it/s]\u001b[A\n",
            " 42%|████▏     | 662/1563 [00:03<00:04, 202.06it/s]\u001b[A\n",
            " 44%|████▎     | 683/1563 [00:03<00:04, 198.76it/s]\u001b[A\n",
            " 45%|████▍     | 703/1563 [00:03<00:04, 196.56it/s]\u001b[A\n",
            " 46%|████▋     | 724/1563 [00:03<00:04, 198.92it/s]\u001b[A\n",
            " 48%|████▊     | 746/1563 [00:03<00:04, 203.99it/s]\u001b[A\n",
            " 49%|████▉     | 769/1563 [00:03<00:03, 209.41it/s]\u001b[A\n",
            " 51%|█████     | 791/1563 [00:03<00:03, 211.54it/s]\u001b[A\n",
            " 52%|█████▏    | 814/1563 [00:03<00:03, 215.34it/s]\u001b[A\n",
            " 54%|█████▎    | 837/1563 [00:03<00:03, 217.86it/s]\u001b[A\n",
            " 55%|█████▌    | 860/1563 [00:04<00:03, 217.23it/s]\u001b[A\n",
            " 56%|█████▋    | 882/1563 [00:04<00:03, 216.33it/s]\u001b[A\n",
            " 58%|█████▊    | 905/1563 [00:04<00:03, 219.11it/s]\u001b[A\n",
            " 59%|█████▉    | 928/1563 [00:04<00:02, 219.83it/s]\u001b[A\n",
            " 61%|██████    | 950/1563 [00:04<00:02, 219.02it/s]\u001b[A\n",
            " 62%|██████▏   | 973/1563 [00:04<00:02, 220.01it/s]\u001b[A\n",
            " 64%|██████▎   | 996/1563 [00:04<00:02, 219.46it/s]\u001b[A\n",
            " 65%|██████▌   | 1019/1563 [00:04<00:02, 220.81it/s]\u001b[A\n",
            " 67%|██████▋   | 1042/1563 [00:04<00:02, 220.95it/s]\u001b[A\n",
            " 68%|██████▊   | 1065/1563 [00:05<00:02, 218.56it/s]\u001b[A\n",
            " 70%|██████▉   | 1087/1563 [00:05<00:02, 215.91it/s]\u001b[A\n",
            " 71%|███████   | 1109/1563 [00:05<00:02, 205.86it/s]\u001b[A\n",
            " 72%|███████▏  | 1132/1563 [00:05<00:02, 211.30it/s]\u001b[A\n",
            " 74%|███████▍  | 1155/1563 [00:05<00:01, 214.24it/s]\u001b[A\n",
            " 75%|███████▌  | 1177/1563 [00:05<00:01, 215.72it/s]\u001b[A\n",
            " 77%|███████▋  | 1200/1563 [00:05<00:01, 216.17it/s]\u001b[A\n",
            " 78%|███████▊  | 1222/1563 [00:05<00:01, 211.69it/s]\u001b[A\n",
            " 80%|███████▉  | 1244/1563 [00:05<00:01, 208.46it/s]\u001b[A\n",
            " 81%|████████  | 1266/1563 [00:05<00:01, 210.13it/s]\u001b[A\n",
            " 82%|████████▏ | 1289/1563 [00:06<00:01, 213.72it/s]\u001b[A\n",
            " 84%|████████▍ | 1311/1563 [00:06<00:01, 211.77it/s]\u001b[A\n",
            " 85%|████████▌ | 1333/1563 [00:06<00:01, 209.18it/s]\u001b[A\n",
            " 87%|████████▋ | 1354/1563 [00:06<00:01, 208.22it/s]\u001b[A\n",
            " 88%|████████▊ | 1376/1563 [00:06<00:00, 209.65it/s]\u001b[A\n",
            " 89%|████████▉ | 1397/1563 [00:06<00:00, 209.36it/s]\u001b[A\n",
            " 91%|█████████ | 1419/1563 [00:06<00:00, 210.95it/s]\u001b[A\n",
            " 92%|█████████▏| 1441/1563 [00:06<00:00, 209.39it/s]\u001b[A\n",
            " 94%|█████████▎| 1463/1563 [00:06<00:00, 211.38it/s]\u001b[A\n",
            " 95%|█████████▌| 1485/1563 [00:07<00:00, 210.00it/s]\u001b[A\n",
            " 96%|█████████▋| 1507/1563 [00:07<00:00, 211.93it/s]\u001b[A\n",
            " 98%|█████████▊| 1529/1563 [00:07<00:00, 207.67it/s]\u001b[A\n",
            " 99%|█████████▉| 1551/1563 [00:07<00:00, 209.93it/s]\u001b[A\n",
            " 70%|███████   | 7/10 [00:48<00:22,  7.57s/it]\n",
            "  0%|          | 0/1563 [00:00<?, ?it/s]\u001b[A\n",
            "  1%|▏         | 21/1563 [00:00<00:07, 203.32it/s]\u001b[A\n",
            "  3%|▎         | 42/1563 [00:00<00:07, 201.08it/s]\u001b[A\n",
            "  4%|▍         | 63/1563 [00:00<00:07, 200.66it/s]\u001b[A\n",
            "  5%|▌         | 84/1563 [00:00<00:07, 203.54it/s]\u001b[A\n",
            "  7%|▋         | 105/1563 [00:00<00:07, 204.78it/s]\u001b[A\n",
            "  8%|▊         | 126/1563 [00:00<00:11, 125.03it/s]\u001b[A\n",
            "  9%|▉         | 142/1563 [00:00<00:12, 117.51it/s]\u001b[A\n",
            " 10%|█         | 157/1563 [00:01<00:12, 115.23it/s]\u001b[A\n",
            " 12%|█▏        | 180/1563 [00:01<00:09, 140.26it/s]\u001b[A\n",
            " 13%|█▎        | 203/1563 [00:01<00:08, 161.02it/s]\u001b[A\n",
            " 14%|█▍        | 226/1563 [00:01<00:07, 178.01it/s]\u001b[A\n",
            " 16%|█▌        | 247/1563 [00:01<00:07, 186.43it/s]\u001b[A\n",
            " 17%|█▋        | 268/1563 [00:01<00:06, 192.93it/s]\u001b[A\n",
            " 19%|█▊        | 291/1563 [00:01<00:06, 202.31it/s]\u001b[A\n",
            " 20%|█▉        | 312/1563 [00:01<00:06, 203.97it/s]\u001b[A\n",
            " 21%|██▏       | 333/1563 [00:01<00:06, 198.27it/s]\u001b[A\n",
            " 23%|██▎       | 357/1563 [00:02<00:05, 207.99it/s]\u001b[A\n",
            " 24%|██▍       | 379/1563 [00:02<00:05, 202.32it/s]\u001b[A\n",
            " 26%|██▌       | 402/1563 [00:02<00:05, 209.52it/s]\u001b[A\n",
            " 27%|██▋       | 424/1563 [00:02<00:05, 202.59it/s]\u001b[A\n",
            " 28%|██▊       | 445/1563 [00:02<00:06, 181.61it/s]\u001b[A\n",
            " 30%|██▉       | 464/1563 [00:02<00:06, 169.33it/s]\u001b[A\n",
            " 31%|███       | 482/1563 [00:02<00:06, 165.15it/s]\u001b[A\n",
            " 32%|███▏      | 499/1563 [00:02<00:06, 163.10it/s]\u001b[A\n",
            " 33%|███▎      | 516/1563 [00:02<00:06, 154.94it/s]\u001b[A\n",
            " 34%|███▍      | 532/1563 [00:03<00:06, 148.83it/s]\u001b[A\n",
            " 35%|███▍      | 547/1563 [00:03<00:07, 143.93it/s]\u001b[A\n",
            " 36%|███▌      | 562/1563 [00:03<00:07, 141.94it/s]\u001b[A\n",
            " 37%|███▋      | 578/1563 [00:03<00:06, 145.99it/s]\u001b[A\n",
            " 38%|███▊      | 594/1563 [00:03<00:06, 149.54it/s]\u001b[A\n",
            " 39%|███▉      | 610/1563 [00:03<00:06, 148.22it/s]\u001b[A\n",
            " 40%|███▉      | 625/1563 [00:03<00:06, 147.32it/s]\u001b[A\n",
            " 41%|████      | 640/1563 [00:03<00:06, 145.09it/s]\u001b[A\n",
            " 42%|████▏     | 655/1563 [00:03<00:06, 139.65it/s]\u001b[A\n",
            " 43%|████▎     | 670/1563 [00:04<00:06, 136.42it/s]\u001b[A\n",
            " 44%|████▍     | 684/1563 [00:04<00:06, 134.92it/s]\u001b[A\n",
            " 45%|████▍     | 698/1563 [00:04<00:06, 135.44it/s]\u001b[A\n",
            " 46%|████▌     | 712/1563 [00:04<00:06, 136.04it/s]\u001b[A\n",
            " 46%|████▋     | 726/1563 [00:04<00:06, 136.20it/s]\u001b[A\n",
            " 47%|████▋     | 740/1563 [00:04<00:05, 137.23it/s]\u001b[A\n",
            " 48%|████▊     | 755/1563 [00:04<00:05, 139.07it/s]\u001b[A\n",
            " 49%|████▉     | 769/1563 [00:04<00:05, 134.28it/s]\u001b[A\n",
            " 50%|█████     | 783/1563 [00:04<00:05, 133.41it/s]\u001b[A\n",
            " 51%|█████     | 800/1563 [00:05<00:05, 143.80it/s]\u001b[A\n",
            " 53%|█████▎    | 822/1563 [00:05<00:04, 163.94it/s]\u001b[A\n",
            " 54%|█████▍    | 845/1563 [00:05<00:03, 181.45it/s]\u001b[A\n",
            " 55%|█████▌    | 867/1563 [00:05<00:03, 191.83it/s]\u001b[A\n",
            " 57%|█████▋    | 887/1563 [00:05<00:03, 189.72it/s]\u001b[A\n",
            " 58%|█████▊    | 908/1563 [00:05<00:03, 195.35it/s]\u001b[A\n",
            " 60%|█████▉    | 930/1563 [00:05<00:03, 201.70it/s]\u001b[A\n",
            " 61%|██████    | 951/1563 [00:05<00:03, 203.36it/s]\u001b[A\n",
            " 62%|██████▏   | 972/1563 [00:05<00:02, 201.12it/s]\u001b[A\n",
            " 64%|██████▎   | 993/1563 [00:05<00:02, 198.38it/s]\u001b[A\n",
            " 65%|██████▍   | 1013/1563 [00:06<00:02, 196.94it/s]\u001b[A\n",
            " 66%|██████▋   | 1036/1563 [00:06<00:02, 204.41it/s]\u001b[A\n",
            " 68%|██████▊   | 1058/1563 [00:06<00:02, 206.78it/s]\u001b[A\n",
            " 69%|██████▉   | 1079/1563 [00:06<00:02, 204.16it/s]\u001b[A\n",
            " 70%|███████   | 1100/1563 [00:06<00:02, 204.15it/s]\u001b[A\n",
            " 72%|███████▏  | 1121/1563 [00:06<00:02, 203.71it/s]\u001b[A\n",
            " 73%|███████▎  | 1142/1563 [00:06<00:02, 204.14it/s]\u001b[A\n",
            " 74%|███████▍  | 1164/1563 [00:06<00:01, 207.57it/s]\u001b[A\n",
            " 76%|███████▌  | 1186/1563 [00:06<00:01, 210.98it/s]\u001b[A\n",
            " 77%|███████▋  | 1208/1563 [00:06<00:01, 212.34it/s]\u001b[A\n",
            " 79%|███████▊  | 1230/1563 [00:07<00:01, 204.65it/s]\u001b[A\n",
            " 80%|████████  | 1251/1563 [00:07<00:01, 205.01it/s]\u001b[A\n",
            " 82%|████████▏ | 1274/1563 [00:07<00:01, 210.34it/s]\u001b[A\n",
            " 83%|████████▎ | 1296/1563 [00:07<00:01, 207.95it/s]\u001b[A\n",
            " 84%|████████▍ | 1317/1563 [00:07<00:01, 206.02it/s]\u001b[A\n",
            " 86%|████████▌ | 1338/1563 [00:07<00:01, 203.78it/s]\u001b[A\n",
            " 87%|████████▋ | 1361/1563 [00:07<00:00, 209.08it/s]\u001b[A\n",
            " 88%|████████▊ | 1383/1563 [00:07<00:00, 210.56it/s]\u001b[A\n",
            " 90%|████████▉ | 1405/1563 [00:07<00:00, 208.96it/s]\u001b[A\n",
            " 91%|█████████▏| 1427/1563 [00:08<00:00, 211.22it/s]\u001b[A\n",
            " 93%|█████████▎| 1449/1563 [00:08<00:00, 204.95it/s]\u001b[A\n",
            " 94%|█████████▍| 1470/1563 [00:08<00:00, 204.42it/s]\u001b[A\n",
            " 96%|█████████▌| 1493/1563 [00:08<00:00, 209.60it/s]\u001b[A\n",
            " 97%|█████████▋| 1514/1563 [00:08<00:00, 208.46it/s]\u001b[A\n",
            " 98%|█████████▊| 1535/1563 [00:08<00:00, 205.78it/s]\u001b[A\n",
            "100%|█████████▉| 1558/1563 [00:08<00:00, 212.80it/s]\u001b[A\n",
            " 80%|████████  | 8/10 [00:57<00:15,  7.94s/it]\n",
            "  0%|          | 0/1563 [00:00<?, ?it/s]\u001b[A\n",
            "  1%|▏         | 23/1563 [00:00<00:06, 222.80it/s]\u001b[A\n",
            "  3%|▎         | 46/1563 [00:00<00:07, 215.31it/s]\u001b[A\n",
            "  4%|▍         | 69/1563 [00:00<00:06, 218.56it/s]\u001b[A\n",
            "  6%|▌         | 91/1563 [00:00<00:06, 211.45it/s]\u001b[A\n",
            "  7%|▋         | 113/1563 [00:00<00:06, 213.86it/s]\u001b[A\n",
            "  9%|▊         | 136/1563 [00:00<00:06, 216.57it/s]\u001b[A\n",
            " 10%|█         | 158/1563 [00:00<00:06, 214.11it/s]\u001b[A\n",
            " 12%|█▏        | 180/1563 [00:00<00:06, 214.39it/s]\u001b[A\n",
            " 13%|█▎        | 202/1563 [00:00<00:06, 210.66it/s]\u001b[A\n",
            " 14%|█▍        | 224/1563 [00:01<00:06, 210.18it/s]\u001b[A\n",
            " 16%|█▌        | 246/1563 [00:01<00:06, 207.33it/s]\u001b[A\n",
            " 17%|█▋        | 268/1563 [00:01<00:06, 208.79it/s]\u001b[A\n",
            " 18%|█▊        | 289/1563 [00:01<00:06, 208.54it/s]\u001b[A\n",
            " 20%|█▉        | 310/1563 [00:01<00:06, 201.80it/s]\u001b[A\n",
            " 21%|██        | 332/1563 [00:01<00:05, 205.61it/s]\u001b[A\n",
            " 23%|██▎       | 354/1563 [00:01<00:05, 207.86it/s]\u001b[A\n",
            " 24%|██▍       | 376/1563 [00:01<00:05, 209.64it/s]\u001b[A\n",
            " 25%|██▌       | 397/1563 [00:01<00:05, 208.24it/s]\u001b[A\n",
            " 27%|██▋       | 418/1563 [00:01<00:05, 206.72it/s]\u001b[A\n",
            " 28%|██▊       | 439/1563 [00:02<00:05, 207.02it/s]\u001b[A\n",
            " 29%|██▉       | 460/1563 [00:02<00:05, 205.41it/s]\u001b[A\n",
            " 31%|███       | 481/1563 [00:02<00:05, 205.29it/s]\u001b[A\n",
            " 32%|███▏      | 503/1563 [00:02<00:05, 208.31it/s]\u001b[A\n",
            " 34%|███▎      | 524/1563 [00:02<00:05, 201.45it/s]\u001b[A\n",
            " 35%|███▍      | 546/1563 [00:02<00:04, 206.30it/s]\u001b[A\n",
            " 36%|███▋      | 567/1563 [00:02<00:04, 206.97it/s]\u001b[A\n",
            " 38%|███▊      | 588/1563 [00:02<00:04, 206.77it/s]\u001b[A\n",
            " 39%|███▉      | 610/1563 [00:02<00:04, 208.94it/s]\u001b[A\n",
            " 40%|████      | 633/1563 [00:03<00:04, 213.13it/s]\u001b[A\n",
            " 42%|████▏     | 655/1563 [00:03<00:04, 214.66it/s]\u001b[A\n",
            " 43%|████▎     | 678/1563 [00:03<00:04, 216.31it/s]\u001b[A\n",
            " 45%|████▍     | 701/1563 [00:03<00:03, 218.21it/s]\u001b[A\n",
            " 46%|████▋     | 725/1563 [00:03<00:03, 222.53it/s]\u001b[A\n",
            " 48%|████▊     | 748/1563 [00:03<00:03, 215.80it/s]\u001b[A\n",
            " 49%|████▉     | 770/1563 [00:03<00:03, 214.68it/s]\u001b[A\n",
            " 51%|█████     | 792/1563 [00:03<00:03, 215.94it/s]\u001b[A\n",
            " 52%|█████▏    | 815/1563 [00:03<00:03, 219.87it/s]\u001b[A\n",
            " 54%|█████▎    | 838/1563 [00:03<00:03, 217.28it/s]\u001b[A\n",
            " 55%|█████▌    | 862/1563 [00:04<00:03, 221.92it/s]\u001b[A\n",
            " 57%|█████▋    | 885/1563 [00:04<00:03, 217.84it/s]\u001b[A\n",
            " 58%|█████▊    | 907/1563 [00:04<00:03, 214.57it/s]\u001b[A\n",
            " 59%|█████▉    | 929/1563 [00:04<00:03, 210.71it/s]\u001b[A\n",
            " 61%|██████    | 951/1563 [00:04<00:02, 206.38it/s]\u001b[A\n",
            " 62%|██████▏   | 972/1563 [00:04<00:02, 203.06it/s]\u001b[A\n",
            " 64%|██████▎   | 993/1563 [00:04<00:02, 203.23it/s]\u001b[A\n",
            " 65%|██████▍   | 1014/1563 [00:04<00:02, 202.97it/s]\u001b[A\n",
            " 66%|██████▌   | 1035/1563 [00:04<00:02, 200.43it/s]\u001b[A\n",
            " 68%|██████▊   | 1057/1563 [00:05<00:02, 205.20it/s]\u001b[A\n",
            " 69%|██████▉   | 1078/1563 [00:05<00:02, 204.02it/s]\u001b[A\n",
            " 70%|███████   | 1099/1563 [00:05<00:02, 202.39it/s]\u001b[A\n",
            " 72%|███████▏  | 1120/1563 [00:05<00:02, 203.83it/s]\u001b[A\n",
            " 73%|███████▎  | 1141/1563 [00:05<00:02, 202.03it/s]\u001b[A\n",
            " 74%|███████▍  | 1162/1563 [00:05<00:02, 192.64it/s]\u001b[A\n",
            " 76%|███████▌  | 1183/1563 [00:05<00:01, 196.20it/s]\u001b[A\n",
            " 77%|███████▋  | 1205/1563 [00:05<00:01, 200.95it/s]\u001b[A\n",
            " 79%|███████▊  | 1227/1563 [00:05<00:01, 206.09it/s]\u001b[A\n",
            " 80%|███████▉  | 1249/1563 [00:05<00:01, 209.75it/s]\u001b[A\n",
            " 81%|████████▏ | 1271/1563 [00:06<00:01, 211.00it/s]\u001b[A\n",
            " 83%|████████▎ | 1294/1563 [00:06<00:01, 214.15it/s]\u001b[A\n",
            " 84%|████████▍ | 1316/1563 [00:06<00:01, 198.57it/s]\u001b[A\n",
            " 86%|████████▌ | 1337/1563 [00:06<00:01, 177.54it/s]\u001b[A\n",
            " 87%|████████▋ | 1356/1563 [00:06<00:01, 161.94it/s]\u001b[A\n",
            " 88%|████████▊ | 1373/1563 [00:06<00:01, 155.32it/s]\u001b[A\n",
            " 89%|████████▉ | 1389/1563 [00:06<00:01, 151.00it/s]\u001b[A\n",
            " 90%|████████▉ | 1405/1563 [00:06<00:01, 145.44it/s]\u001b[A\n",
            " 91%|█████████ | 1420/1563 [00:07<00:01, 139.73it/s]\u001b[A\n",
            " 92%|█████████▏| 1435/1563 [00:07<00:00, 138.39it/s]\u001b[A\n",
            " 93%|█████████▎| 1449/1563 [00:07<00:00, 136.52it/s]\u001b[A\n",
            " 94%|█████████▎| 1463/1563 [00:07<00:00, 137.13it/s]\u001b[A\n",
            " 95%|█████████▍| 1479/1563 [00:07<00:00, 141.20it/s]\u001b[A\n",
            " 96%|█████████▌| 1494/1563 [00:07<00:00, 134.99it/s]\u001b[A\n",
            " 96%|█████████▋| 1508/1563 [00:07<00:00, 133.80it/s]\u001b[A\n",
            " 97%|█████████▋| 1523/1563 [00:07<00:00, 135.64it/s]\u001b[A\n",
            " 98%|█████████▊| 1537/1563 [00:07<00:00, 135.51it/s]\u001b[A\n",
            " 99%|█████████▉| 1552/1563 [00:08<00:00, 138.35it/s]\u001b[A\n",
            " 90%|█████████ | 9/10 [01:05<00:08,  8.00s/it]\n",
            "  0%|          | 0/1563 [00:00<?, ?it/s]\u001b[A\n",
            "  1%|          | 14/1563 [00:00<00:11, 134.05it/s]\u001b[A\n",
            "  2%|▏         | 28/1563 [00:00<00:11, 131.32it/s]\u001b[A\n",
            "  3%|▎         | 43/1563 [00:00<00:11, 136.13it/s]\u001b[A\n",
            "  4%|▎         | 58/1563 [00:00<00:10, 140.73it/s]\u001b[A\n",
            "  5%|▍         | 73/1563 [00:00<00:10, 136.13it/s]\u001b[A\n",
            "  6%|▌         | 87/1563 [00:00<00:11, 131.99it/s]\u001b[A\n",
            "  6%|▋         | 101/1563 [00:00<00:11, 128.22it/s]\u001b[A\n",
            "  8%|▊         | 119/1563 [00:00<00:10, 143.22it/s]\u001b[A\n",
            "  9%|▉         | 138/1563 [00:00<00:09, 156.79it/s]\u001b[A\n",
            " 10%|█         | 160/1563 [00:01<00:08, 173.20it/s]\u001b[A\n",
            " 12%|█▏        | 182/1563 [00:01<00:07, 184.71it/s]\u001b[A\n",
            " 13%|█▎        | 203/1563 [00:01<00:07, 191.33it/s]\u001b[A\n",
            " 14%|█▍        | 224/1563 [00:01<00:06, 196.55it/s]\u001b[A\n",
            " 16%|█▌        | 245/1563 [00:01<00:06, 199.94it/s]\u001b[A\n",
            " 17%|█▋        | 266/1563 [00:01<00:06, 199.60it/s]\u001b[A\n",
            " 18%|█▊        | 288/1563 [00:01<00:06, 203.94it/s]\u001b[A\n",
            " 20%|█▉        | 310/1563 [00:01<00:06, 207.72it/s]\u001b[A\n",
            " 21%|██        | 331/1563 [00:01<00:05, 206.82it/s]\u001b[A\n",
            " 23%|██▎       | 354/1563 [00:01<00:05, 211.17it/s]\u001b[A\n",
            " 24%|██▍       | 376/1563 [00:02<00:05, 209.27it/s]\u001b[A\n",
            " 25%|██▌       | 398/1563 [00:02<00:05, 210.71it/s]\u001b[A\n",
            " 27%|██▋       | 420/1563 [00:02<00:05, 209.99it/s]\u001b[A\n",
            " 28%|██▊       | 442/1563 [00:02<00:05, 208.07it/s]\u001b[A\n",
            " 30%|██▉       | 464/1563 [00:02<00:05, 210.25it/s]\u001b[A\n",
            " 31%|███       | 486/1563 [00:02<00:05, 197.47it/s]\u001b[A\n",
            " 32%|███▏      | 507/1563 [00:02<00:05, 199.89it/s]\u001b[A\n",
            " 34%|███▍      | 529/1563 [00:02<00:05, 204.44it/s]\u001b[A\n",
            " 35%|███▌      | 552/1563 [00:02<00:04, 209.55it/s]\u001b[A\n",
            " 37%|███▋      | 574/1563 [00:03<00:04, 209.06it/s]\u001b[A\n",
            " 38%|███▊      | 596/1563 [00:03<00:04, 211.90it/s]\u001b[A\n",
            " 40%|███▉      | 618/1563 [00:03<00:04, 209.92it/s]\u001b[A\n",
            " 41%|████      | 640/1563 [00:03<00:04, 212.62it/s]\u001b[A\n",
            " 42%|████▏     | 662/1563 [00:03<00:04, 211.20it/s]\u001b[A\n",
            " 44%|████▍     | 684/1563 [00:03<00:04, 211.39it/s]\u001b[A\n",
            " 45%|████▌     | 706/1563 [00:03<00:04, 206.39it/s]\u001b[A\n",
            " 47%|████▋     | 728/1563 [00:03<00:04, 208.20it/s]\u001b[A\n",
            " 48%|████▊     | 750/1563 [00:03<00:03, 209.24it/s]\u001b[A\n",
            " 49%|████▉     | 771/1563 [00:04<00:03, 207.15it/s]\u001b[A\n",
            " 51%|█████     | 792/1563 [00:04<00:03, 207.47it/s]\u001b[A\n",
            " 52%|█████▏    | 813/1563 [00:04<00:03, 207.83it/s]\u001b[A\n",
            " 53%|█████▎    | 834/1563 [00:04<00:03, 207.95it/s]\u001b[A\n",
            " 55%|█████▍    | 856/1563 [00:04<00:03, 211.22it/s]\u001b[A\n",
            " 56%|█████▌    | 878/1563 [00:04<00:03, 212.46it/s]\u001b[A\n",
            " 58%|█████▊    | 900/1563 [00:04<00:03, 214.28it/s]\u001b[A\n",
            " 59%|█████▉    | 922/1563 [00:04<00:03, 207.49it/s]\u001b[A\n",
            " 60%|██████    | 943/1563 [00:04<00:03, 205.20it/s]\u001b[A\n",
            " 62%|██████▏   | 965/1563 [00:04<00:02, 208.18it/s]\u001b[A\n",
            " 63%|██████▎   | 986/1563 [00:05<00:02, 207.45it/s]\u001b[A\n",
            " 64%|██████▍   | 1007/1563 [00:05<00:02, 204.61it/s]\u001b[A\n",
            " 66%|██████▌   | 1028/1563 [00:05<00:02, 205.06it/s]\u001b[A\n",
            " 67%|██████▋   | 1049/1563 [00:05<00:02, 204.20it/s]\u001b[A\n",
            " 68%|██████▊   | 1070/1563 [00:05<00:02, 203.64it/s]\u001b[A\n",
            " 70%|██████▉   | 1091/1563 [00:05<00:02, 203.29it/s]\u001b[A\n",
            " 71%|███████   | 1113/1563 [00:05<00:02, 206.22it/s]\u001b[A\n",
            " 73%|███████▎  | 1134/1563 [00:05<00:02, 203.10it/s]\u001b[A\n",
            " 74%|███████▍  | 1155/1563 [00:05<00:02, 202.69it/s]\u001b[A\n",
            " 75%|███████▌  | 1176/1563 [00:05<00:01, 203.54it/s]\u001b[A\n",
            " 77%|███████▋  | 1197/1563 [00:06<00:01, 204.51it/s]\u001b[A\n",
            " 78%|███████▊  | 1218/1563 [00:06<00:01, 203.13it/s]\u001b[A\n",
            " 79%|███████▉  | 1240/1563 [00:06<00:01, 206.29it/s]\u001b[A\n",
            " 81%|████████  | 1264/1563 [00:06<00:01, 215.08it/s]\u001b[A\n",
            " 82%|████████▏ | 1286/1563 [00:06<00:01, 213.80it/s]\u001b[A\n",
            " 84%|████████▎ | 1309/1563 [00:06<00:01, 217.18it/s]\u001b[A\n",
            " 85%|████████▌ | 1331/1563 [00:06<00:01, 215.08it/s]\u001b[A\n",
            " 87%|████████▋ | 1353/1563 [00:06<00:01, 203.71it/s]\u001b[A\n",
            " 88%|████████▊ | 1376/1563 [00:06<00:00, 209.13it/s]\u001b[A\n",
            " 90%|████████▉ | 1399/1563 [00:07<00:00, 213.11it/s]\u001b[A\n",
            " 91%|█████████ | 1421/1563 [00:07<00:00, 214.64it/s]\u001b[A\n",
            " 92%|█████████▏| 1443/1563 [00:07<00:00, 210.87it/s]\u001b[A\n",
            " 94%|█████████▍| 1466/1563 [00:07<00:00, 215.45it/s]\u001b[A\n",
            " 95%|█████████▌| 1488/1563 [00:07<00:00, 213.17it/s]\u001b[A\n",
            " 97%|█████████▋| 1510/1563 [00:07<00:00, 214.04it/s]\u001b[A\n",
            " 98%|█████████▊| 1532/1563 [00:07<00:00, 212.24it/s]\u001b[A\n",
            " 99%|█████████▉| 1554/1563 [00:07<00:00, 205.83it/s]\u001b[A\n",
            "100%|██████████| 10/10 [01:13<00:00,  7.37s/it]\n"
          ]
        }
      ]
    },
    {
      "cell_type": "code",
      "source": [
        "import matplotlib.pyplot as plt\n",
        "plt.plot(loss_record)"
      ],
      "metadata": {
        "id": "FJHSV8zbyLYu",
        "outputId": "052d697b-89f1-4a37-93da-bacb095bd1bb",
        "colab": {
          "base_uri": "https://localhost:8080/",
          "height": 448
        }
      },
      "execution_count": 83,
      "outputs": [
        {
          "output_type": "execute_result",
          "data": {
            "text/plain": [
              "[<matplotlib.lines.Line2D at 0x79b70883e0e0>]"
            ]
          },
          "metadata": {},
          "execution_count": 83
        },
        {
          "output_type": "display_data",
          "data": {
            "text/plain": [
              "<Figure size 640x480 with 1 Axes>"
            ],
            "image/png": "[encoded data removed]"
          },
          "metadata": {}
        }
      ]
    },
    {
      "cell_type": "code",
      "source": [
        "word_vectors.grad"
      ],
      "metadata": {
        "id": "y3nCMq8Lxc0l",
        "outputId": "293d0452-e388-445e-ca9a-8dcc23deed4e",
        "colab": {
          "base_uri": "https://localhost:8080/"
        }
      },
      "execution_count": 79,
      "outputs": [
        {
          "output_type": "execute_result",
          "data": {
            "text/plain": [
              "tensor([[    -0.0000,     -0.0000,      0.0000,  ...,      0.0000,\n",
              "              0.0000,      0.0000],\n",
              "        [    -0.0000,     -0.0000,      0.0000,  ...,      0.0000,\n",
              "              0.0001,     -0.0000],\n",
              "        [    -0.0000,     -0.0000,      0.0000,  ...,      0.0000,\n",
              "              0.0001,      0.0000],\n",
              "        ...,\n",
              "        [    -0.0000,     -0.0000,      0.0000,  ...,      0.0000,\n",
              "              0.0000,      0.0000],\n",
              "        [    -0.0000,     -0.0000,      0.0000,  ...,      0.0000,\n",
              "              0.0000,     -0.0000],\n",
              "        [    -0.0000,     -0.0000,      0.0000,  ...,      0.0000,\n",
              "              0.0000,     -0.0000]])"
            ]
          },
          "metadata": {},
          "execution_count": 79
        }
      ]
    },
    {
      "cell_type": "code",
      "source": [
        "-torch.log(target_probs + 1e-8)"
      ],
      "metadata": {
        "id": "HZS16olKvgAZ",
        "outputId": "4cc7b1fe-24bb-4b2e-e94b-da6f39b29c4c",
        "colab": {
          "base_uri": "https://localhost:8080/"
        }
      },
      "execution_count": 75,
      "outputs": [
        {
          "output_type": "execute_result",
          "data": {
            "text/plain": [
              "tensor([7.3258, 7.4563, 7.4379, 7.3447, 7.6860, 7.4062, 7.5989, 7.3350, 7.5699,\n",
              "        7.4700, 7.5151, 7.4063, 7.3397, 7.5448, 7.4350, 7.3172, 7.2921, 7.3444,\n",
              "        7.6182, 7.2178, 7.5712, 7.3219, 7.4003, 7.1655, 7.4350, 7.4285, 7.6903,\n",
              "        7.2831, 7.2227, 7.5023, 7.4321, 7.3219, 7.8333, 7.3779, 7.6608, 7.1878,\n",
              "        7.7082, 7.0525, 7.3557, 7.3728, 7.4285, 7.4998, 7.4285, 7.4329, 7.3795,\n",
              "        7.3172, 7.1593, 7.4343, 7.6860, 7.5311, 7.3483, 7.4596, 7.4575, 7.7399,\n",
              "        7.4285, 7.1878, 7.6402, 7.4779, 7.7254, 7.4062, 7.3382, 7.4249, 7.3219,\n",
              "        7.3172])"
            ]
          },
          "metadata": {},
          "execution_count": 75
        }
      ]
    },
    {
      "cell_type": "code",
      "source": [
        "probs[torch.arange(len(target_word_ids)), target_word_ids].shape"
      ],
      "metadata": {
        "id": "yhCgurRguGy4",
        "outputId": "679a9f7f-8108-4fc4-f236-ef9bbdeeb098",
        "colab": {
          "base_uri": "https://localhost:8080/"
        }
      },
      "execution_count": 70,
      "outputs": [
        {
          "output_type": "execute_result",
          "data": {
            "text/plain": [
              "torch.Size([64, 64])"
            ]
          },
          "metadata": {},
          "execution_count": 70
        }
      ]
    },
    {
      "cell_type": "code",
      "source": [
        "torch.arange(len(target_word_ids))"
      ],
      "metadata": {
        "id": "6BG6oR9avNwO",
        "outputId": "f1ae37d4-f1db-480c-ecdc-2edd88d6f7a5",
        "colab": {
          "base_uri": "https://localhost:8080/"
        }
      },
      "execution_count": 72,
      "outputs": [
        {
          "output_type": "execute_result",
          "data": {
            "text/plain": [
              "tensor([ 0,  1,  2,  3,  4,  5,  6,  7,  8,  9, 10, 11, 12, 13, 14, 15, 16, 17,\n",
              "        18, 19, 20, 21, 22, 23, 24, 25, 26, 27, 28, 29, 30, 31, 32, 33, 34, 35,\n",
              "        36, 37, 38, 39, 40, 41, 42, 43, 44, 45, 46, 47, 48, 49, 50, 51, 52, 53,\n",
              "        54, 55, 56, 57, 58, 59, 60, 61, 62, 63])"
            ]
          },
          "metadata": {},
          "execution_count": 72
        }
      ]
    },
    {
      "cell_type": "code",
      "source": [
        "# you can slice or index tensors by giving pair of index in each dimension\n",
        "probs[[0, 1, 2, 3, 4], [705, 712, 841, 870, 919]]"
      ],
      "metadata": {
        "id": "VYaYzT93u6KG",
        "outputId": "3317ab3b-7bed-436c-a4eb-1a308e19df6c",
        "colab": {
          "base_uri": "https://localhost:8080/"
        }
      },
      "execution_count": 71,
      "outputs": [
        {
          "output_type": "execute_result",
          "data": {
            "text/plain": [
              "tensor([0.0005, 0.0004, 0.0005, 0.0007, 0.0006])"
            ]
          },
          "metadata": {},
          "execution_count": 71
        }
      ]
    },
    {
      "cell_type": "code",
      "source": [
        "probs"
      ],
      "metadata": {
        "id": "fJ-GbI-psiLa",
        "outputId": "00e53c23-6a6e-40b5-88a1-a6de1c8a1ff1",
        "colab": {
          "base_uri": "https://localhost:8080/"
        }
      },
      "execution_count": 60,
      "outputs": [
        {
          "output_type": "execute_result",
          "data": {
            "text/plain": [
              "tensor([[0.0007, 0.0006, 0.0005,  ..., 0.0005, 0.0005, 0.0006],\n",
              "        [0.0005, 0.0005, 0.0007,  ..., 0.0006, 0.0007, 0.0006],\n",
              "        [0.0006, 0.0008, 0.0006,  ..., 0.0006, 0.0005, 0.0005],\n",
              "        ...,\n",
              "        [0.0005, 0.0006, 0.0005,  ..., 0.0006, 0.0005, 0.0006],\n",
              "        [0.0005, 0.0006, 0.0004,  ..., 0.0008, 0.0005, 0.0007],\n",
              "        [0.0006, 0.0008, 0.0005,  ..., 0.0005, 0.0005, 0.0006]])"
            ]
          },
          "metadata": {},
          "execution_count": 60
        }
      ]
    },
    {
      "cell_type": "code",
      "source": [
        "query_word_ids[:10]\n",
        "# query_vectors[3] == word_vectors[35] # == word_vectors[query_word_ids[3]]\n",
        "test_idx = 35\n",
        "(query_vectors[test_idx] == word_vectors[query_word_ids[test_idx]]).all()"
      ],
      "metadata": {
        "id": "mtBiMpWnr8jr",
        "outputId": "94f07f2e-934f-475c-c062-9ad71fa6b108",
        "colab": {
          "base_uri": "https://localhost:8080/"
        }
      },
      "execution_count": 55,
      "outputs": [
        {
          "output_type": "execute_result",
          "data": {
            "text/plain": [
              "tensor(True)"
            ]
          },
          "metadata": {},
          "execution_count": 55
        }
      ]
    },
    {
      "cell_type": "code",
      "source": [
        "word_vectors.shape, word_vectors\n",
        ""
      ],
      "metadata": {
        "id": "1Vi040a_rl5y",
        "outputId": "df252400-2ae8-4eb4-e6f5-1ac6a167baa8",
        "colab": {
          "base_uri": "https://localhost:8080/"
        }
      },
      "execution_count": 49,
      "outputs": [
        {
          "output_type": "execute_result",
          "data": {
            "text/plain": [
              "(torch.Size([1701, 8]),\n",
              " tensor([[-0.0906, -0.2238, -0.0839,  ..., -0.0267, -0.2409,  0.1863],\n",
              "         [ 0.0709, -0.3797, -0.0561,  ..., -0.3091,  0.3991,  0.4211],\n",
              "         [ 0.2563,  0.1895, -0.2895,  ..., -0.0754, -0.1098, -0.0347],\n",
              "         ...,\n",
              "         [-0.1012, -0.0911,  0.7485,  ..., -0.1317, -0.0680,  0.0335],\n",
              "         [ 0.1589,  0.2556, -0.0191,  ..., -0.0985,  0.0516, -0.0026],\n",
              "         [-0.0092,  0.1469,  0.3178,  ...,  0.3866, -0.5609, -0.1784]]))"
            ]
          },
          "metadata": {},
          "execution_count": 49
        }
      ]
    },
    {
      "cell_type": "markdown",
      "source": [],
      "metadata": {
        "id": "D5s-1VFRrlwJ"
      }
    },
    {
      "cell_type": "code",
      "execution_count": 37,
      "metadata": {
        "id": "jK--Pbqge6Tf",
        "outputId": "196c6922-f28f-41ad-8850-8bdd8516074a",
        "colab": {
          "base_uri": "https://localhost:8080/"
        }
      },
      "outputs": [
        {
          "output_type": "execute_result",
          "data": {
            "text/plain": [
              "(13, 15, 14)"
            ]
          },
          "metadata": {},
          "execution_count": 37
        }
      ],
      "source": [
        "word_idx, context_word_idx, len(sample_sentence)"
      ]
    }
  ],
  "metadata": {
    "colab": {
      "provenance": [],
      "include_colab_link": true
    },
    "kernelspec": {
      "display_name": "Python 3",
      "name": "python3"
    },
    "language_info": {
      "name": "python"
    }
  },
  "nbformat": 4,
  "nbformat_minor": 0
}